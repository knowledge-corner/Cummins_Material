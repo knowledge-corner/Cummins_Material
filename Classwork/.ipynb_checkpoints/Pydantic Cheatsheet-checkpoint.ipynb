{
 "cells": [
  {
   "cell_type": "markdown",
   "id": "a8730267-4f6a-4fac-bbc1-3b7cc65e3ee2",
   "metadata": {},
   "source": [
    "# Introduction to Pydantic"
   ]
  },
  {
   "cell_type": "markdown",
   "id": "ef9100cd-039a-4528-91ff-ba1cf2642da9",
   "metadata": {},
   "source": [
    "- Pydantic is a Python library used for data validation and settings management using Python type annotations. It’s especially popular in frameworks like FastAPI, where it helps ensure that incoming data (like JSON from an API request) matches the expected format and types.\n",
    "- Fast and extensible, Pydantic plays nicely with your linters/IDE/brain. Define how data should be in pure, canonical Python 3.9+; validate it with Pydantic.\n",
    "- Key Features of Pydantic:\n",
    "    - Type enforcement: Automatically checks and converts data to the correct types.\n",
    "    - Validation: Ensures data meets constraints (e.g., string length, number ranges).\n",
    "    - Error reporting: Provides clear error messages when validation fails.\n",
    "    - Data parsing: Converts raw data (like strings or JSON) into Python objects.\n",
    "    - Model inheritance: Supports reusable and extendable data models.\n",
    "- Documentation - https://docs.pydantic.dev/latest/\n",
    "- Installation - pip install pydantic"
   ]
  },
  {
   "cell_type": "markdown",
   "id": "8ae01f85-1210-4ce7-ad1d-de858ba993cc",
   "metadata": {},
   "source": [
    "### Pydantic Examples"
   ]
  },
  {
   "cell_type": "code",
   "execution_count": 2,
   "id": "db8beaa8-d2c6-403c-bde2-665a02af5e3e",
   "metadata": {},
   "outputs": [],
   "source": [
    "from pydantic import BaseModel"
   ]
  },
  {
   "cell_type": "markdown",
   "id": "46404d17-1126-471b-a11b-21a4cffa5966",
   "metadata": {},
   "source": [
    "#### Basic Model"
   ]
  },
  {
   "cell_type": "code",
   "execution_count": 3,
   "id": "36b18320-2960-4e22-9b4a-d02cfbdf326f",
   "metadata": {},
   "outputs": [],
   "source": [
    "class User(BaseModel):\n",
    "    id: int\n",
    "    name: str\n",
    "    email: str\n",
    "\n",
    "user = User(id=1, name=\"Jane\", email=\"jane@example.com\")"
   ]
  },
  {
   "cell_type": "markdown",
   "id": "7ac2acd1-ff26-4ab5-acfc-43634579f291",
   "metadata": {},
   "source": [
    "#### Validation Errors"
   ]
  },
  {
   "cell_type": "code",
   "execution_count": null,
   "id": "3d0b0d4e-7ea6-4a0c-b500-4689e4f6571d",
   "metadata": {},
   "outputs": [],
   "source": [
    "User(id='abc', name=\"Jane\", email=\"jane@example.com\")\n",
    "# Raises ValidationError"
   ]
  },
  {
   "cell_type": "markdown",
   "id": "0a53acee-4a0e-4b34-a116-0424106b097d",
   "metadata": {},
   "source": [
    "#### Validation & Type Conversion"
   ]
  },
  {
   "cell_type": "code",
   "execution_count": 5,
   "id": "7594d329-db05-4726-833b-ba4ee69962f8",
   "metadata": {},
   "outputs": [
    {
     "name": "stdout",
     "output_type": "stream",
     "text": [
      "1\n"
     ]
    }
   ],
   "source": [
    "user = User(id='1', name=\"Jane\", email=\"jane@example.com\")\n",
    "print(user.id)  # 1 (converted from str to int\n"
   ]
  },
  {
   "cell_type": "markdown",
   "id": "69e1527c-118c-4a86-8050-83a51262a43e",
   "metadata": {},
   "source": [
    "#### Field Validation"
   ]
  },
  {
   "cell_type": "code",
   "execution_count": 12,
   "id": "edd3aa52-8441-4aa5-bfd3-b2a26db01ac0",
   "metadata": {},
   "outputs": [
    {
     "data": {
      "text/plain": [
       "Product(name='Pen', price=10.5)"
      ]
     },
     "execution_count": 12,
     "metadata": {},
     "output_type": "execute_result"
    }
   ],
   "source": [
    "from pydantic import Field\n",
    "\n",
    "class Product(BaseModel):\n",
    "    name: str = Field(..., min_length=3)\n",
    "    price: float = Field(..., gt=0)\n",
    "\n",
    "Product(name=\"Pen\", price=10.5)"
   ]
  },
  {
   "cell_type": "markdown",
   "id": "e8ea8ba9-cd37-41fa-b417-e318d07ee273",
   "metadata": {},
   "source": [
    "#### Custom Validators"
   ]
  },
  {
   "cell_type": "code",
   "execution_count": 16,
   "id": "5062af2a-56d4-48bc-97bb-abd4da9f543c",
   "metadata": {},
   "outputs": [
    {
     "ename": "ValidationError",
     "evalue": "1 validation error for User\nemail\n  Value error, Invalid email [type=value_error, input_value='abcd', input_type=str]\n    For further information visit https://errors.pydantic.dev/2.11/v/value_error",
     "output_type": "error",
     "traceback": [
      "\u001b[31m---------------------------------------------------------------------------\u001b[39m",
      "\u001b[31mValidationError\u001b[39m                           Traceback (most recent call last)",
      "\u001b[36mCell\u001b[39m\u001b[36m \u001b[39m\u001b[32mIn[16]\u001b[39m\u001b[32m, line 13\u001b[39m\n\u001b[32m     11\u001b[39m         \u001b[38;5;28;01mreturn\u001b[39;00m v\n\u001b[32m     12\u001b[39m user = User(name = \u001b[33m\"\u001b[39m\u001b[33mJane\u001b[39m\u001b[33m\"\u001b[39m, email = \u001b[33m\"\u001b[39m\u001b[33mabcd@example.com\u001b[39m\u001b[33m\"\u001b[39m)\n\u001b[32m---> \u001b[39m\u001b[32m13\u001b[39m user = \u001b[43mUser\u001b[49m\u001b[43m(\u001b[49m\u001b[43mname\u001b[49m\u001b[43m \u001b[49m\u001b[43m=\u001b[49m\u001b[43m \u001b[49m\u001b[33;43m\"\u001b[39;49m\u001b[33;43mJane\u001b[39;49m\u001b[33;43m\"\u001b[39;49m\u001b[43m,\u001b[49m\u001b[43m \u001b[49m\u001b[43memail\u001b[49m\u001b[43m \u001b[49m\u001b[43m=\u001b[49m\u001b[43m \u001b[49m\u001b[33;43m\"\u001b[39;49m\u001b[33;43mabcd\u001b[39;49m\u001b[33;43m\"\u001b[39;49m\u001b[43m)\u001b[49m\n",
      "\u001b[36mFile \u001b[39m\u001b[32m~\\AppData\\Local\\Programs\\Python\\Python312\\Lib\\site-packages\\pydantic\\main.py:253\u001b[39m, in \u001b[36mBaseModel.__init__\u001b[39m\u001b[34m(self, **data)\u001b[39m\n\u001b[32m    251\u001b[39m \u001b[38;5;66;03m# `__tracebackhide__` tells pytest and some other tools to omit this function from tracebacks\u001b[39;00m\n\u001b[32m    252\u001b[39m __tracebackhide__ = \u001b[38;5;28;01mTrue\u001b[39;00m\n\u001b[32m--> \u001b[39m\u001b[32m253\u001b[39m validated_self = \u001b[38;5;28;43mself\u001b[39;49m\u001b[43m.\u001b[49m\u001b[43m__pydantic_validator__\u001b[49m\u001b[43m.\u001b[49m\u001b[43mvalidate_python\u001b[49m\u001b[43m(\u001b[49m\u001b[43mdata\u001b[49m\u001b[43m,\u001b[49m\u001b[43m \u001b[49m\u001b[43mself_instance\u001b[49m\u001b[43m=\u001b[49m\u001b[38;5;28;43mself\u001b[39;49m\u001b[43m)\u001b[49m\n\u001b[32m    254\u001b[39m \u001b[38;5;28;01mif\u001b[39;00m \u001b[38;5;28mself\u001b[39m \u001b[38;5;129;01mis\u001b[39;00m \u001b[38;5;129;01mnot\u001b[39;00m validated_self:\n\u001b[32m    255\u001b[39m     warnings.warn(\n\u001b[32m    256\u001b[39m         \u001b[33m'\u001b[39m\u001b[33mA custom validator is returning a value other than `self`.\u001b[39m\u001b[38;5;130;01m\\n\u001b[39;00m\u001b[33m'\u001b[39m\n\u001b[32m    257\u001b[39m         \u001b[33m\"\u001b[39m\u001b[33mReturning anything other than `self` from a top level model validator isn\u001b[39m\u001b[33m'\u001b[39m\u001b[33mt supported when validating via `__init__`.\u001b[39m\u001b[38;5;130;01m\\n\u001b[39;00m\u001b[33m\"\u001b[39m\n\u001b[32m    258\u001b[39m         \u001b[33m'\u001b[39m\u001b[33mSee the `model_validator` docs (https://docs.pydantic.dev/latest/concepts/validators/#model-validators) for more details.\u001b[39m\u001b[33m'\u001b[39m,\n\u001b[32m    259\u001b[39m         stacklevel=\u001b[32m2\u001b[39m,\n\u001b[32m    260\u001b[39m     )\n",
      "\u001b[31mValidationError\u001b[39m: 1 validation error for User\nemail\n  Value error, Invalid email [type=value_error, input_value='abcd', input_type=str]\n    For further information visit https://errors.pydantic.dev/2.11/v/value_error"
     ]
    }
   ],
   "source": [
    "from pydantic import field_validator\n",
    "\n",
    "class User(BaseModel):\n",
    "    name: str\n",
    "    email: str\n",
    "\n",
    "    @field_validator('email')\n",
    "    def email_must_contain_at(cls, v):\n",
    "        if '@' not in v:\n",
    "            raise ValueError('Invalid email')\n",
    "        return v\n",
    "user = User(name = \"Jane\", email = \"abcd@example.com\")\n",
    "user = User(name = \"Jane\", email = \"abcd\")"
   ]
  },
  {
   "cell_type": "markdown",
   "id": "7e6ad351-8ccd-4f09-876d-f77708592646",
   "metadata": {},
   "source": [
    "#### Model Inheritance"
   ]
  },
  {
   "cell_type": "code",
   "execution_count": 22,
   "id": "ec3ad532-4e75-480f-9611-06be840bd5f0",
   "metadata": {},
   "outputs": [],
   "source": [
    "class BaseUser(BaseModel):\n",
    "    id: int\n",
    "    name: str\n",
    "\n",
    "class AdminUser(BaseUser):\n",
    "    admin_level: int\n",
    "\n",
    "user = AdminUser(name = \"Jane\", id = 5, admin_level = 2)"
   ]
  },
  {
   "cell_type": "markdown",
   "id": "3f19b282-a675-410d-b2ff-52cbbb8b81bb",
   "metadata": {},
   "source": [
    "#### Nested Models"
   ]
  },
  {
   "cell_type": "code",
   "execution_count": 23,
   "id": "20ef0413-518d-49bb-9261-a8a8e08644a4",
   "metadata": {},
   "outputs": [],
   "source": [
    "class Address(BaseModel):\n",
    "    city: str\n",
    "    zip: str\n",
    "\n",
    "class User(BaseModel):\n",
    "    name: str\n",
    "    address: Address\n",
    "\n",
    "user = User(name=\"Jane\", address={\"city\": \"Mumbai\", \"zip\": \"400000\"})"
   ]
  },
  {
   "cell_type": "markdown",
   "id": "e97641e5-8f81-41a5-88e1-c9a320498ba8",
   "metadata": {},
   "source": [
    "#### Model Methods"
   ]
  },
  {
   "cell_type": "code",
   "execution_count": null,
   "id": "76c5ac1e-f6cf-4236-961d-bd6e5bd326c4",
   "metadata": {},
   "outputs": [],
   "source": [
    "user.dict()       # Convert to dict\n",
    "user.json()       # Convert to JSON\n",
    "user.copy()       # Shallow copy\n",
    "user.schema()     # JSON Schema"
   ]
  },
  {
   "cell_type": "markdown",
   "id": "6649a8af-4b64-42d7-b834-75b634259c40",
   "metadata": {},
   "source": [
    "#### Optional & Default Values"
   ]
  },
  {
   "cell_type": "code",
   "execution_count": 26,
   "id": "542a3661-7a3b-4c00-9e5d-9a63bd6efad7",
   "metadata": {},
   "outputs": [],
   "source": [
    "from typing import Optional\n",
    "\n",
    "class User(BaseModel):\n",
    "    name: str\n",
    "    age: Optional[int] = None\n",
    "\n",
    "user = User(name = \"Jane\", age = 20)\n",
    "user = User(name = \"Jane\")"
   ]
  },
  {
   "cell_type": "markdown",
   "id": "cbbbb19a-1b56-463a-8eeb-d21221ecf27a",
   "metadata": {},
   "source": [
    "#### List, Dict, Union Types"
   ]
  },
  {
   "cell_type": "code",
   "execution_count": 34,
   "id": "c22d08e8-91d0-49ea-b07f-40d7bfb9f9d9",
   "metadata": {},
   "outputs": [],
   "source": [
    "from typing import List, Dict, Union\n",
    "\n",
    "class Data(BaseModel):\n",
    "    tags: List[str]\n",
    "    scores: Dict[str, float]\n",
    "    value: Union[int, str]\n",
    "\n",
    "\n",
    "data = Data(tags = [\"A\", \"B\", \"C\"], scores = {\"A\" : 10, \"B\" : 40}, value = 10)\n",
    "data = Data(tags = [\"A\", \"B\", \"C\"], scores = {\"A\" : 10, \"B\" : 40}, value = \"A\")"
   ]
  },
  {
   "cell_type": "code",
   "execution_count": null,
   "id": "29b5b10d-7014-4b8a-a198-5cc49cba2ea8",
   "metadata": {},
   "outputs": [],
   "source": []
  },
  {
   "cell_type": "code",
   "execution_count": null,
   "id": "7915a61c-77b2-4f6b-8896-ba2d086af4ba",
   "metadata": {},
   "outputs": [],
   "source": []
  },
  {
   "cell_type": "code",
   "execution_count": null,
   "id": "90c7ed41-0180-4116-b888-ae5f96fd7cb9",
   "metadata": {},
   "outputs": [],
   "source": []
  },
  {
   "cell_type": "code",
   "execution_count": null,
   "id": "56c450ce-e298-47bb-bec8-08c7fa55e75f",
   "metadata": {},
   "outputs": [],
   "source": []
  },
  {
   "cell_type": "code",
   "execution_count": null,
   "id": "0ee655a1-81f4-40a8-8957-f763e11b6c76",
   "metadata": {},
   "outputs": [],
   "source": []
  },
  {
   "cell_type": "code",
   "execution_count": null,
   "id": "285068d6-ed4a-4a5b-b2b9-f886b4f8773c",
   "metadata": {},
   "outputs": [],
   "source": []
  },
  {
   "cell_type": "code",
   "execution_count": null,
   "id": "f45dc184-e9b6-4d61-b10d-dbe399a9c422",
   "metadata": {},
   "outputs": [],
   "source": []
  },
  {
   "cell_type": "code",
   "execution_count": null,
   "id": "46720c24-7df9-4d1a-9533-df7f5ec39da6",
   "metadata": {},
   "outputs": [],
   "source": []
  },
  {
   "cell_type": "code",
   "execution_count": null,
   "id": "9eab3355-c215-4de3-a3fa-95e8bdd0dac7",
   "metadata": {},
   "outputs": [],
   "source": []
  },
  {
   "cell_type": "code",
   "execution_count": null,
   "id": "c648538e-1a83-4c7f-8354-3eda98b90da9",
   "metadata": {},
   "outputs": [],
   "source": []
  },
  {
   "cell_type": "code",
   "execution_count": null,
   "id": "9aae8141-9b19-47a2-9d41-77277e499915",
   "metadata": {},
   "outputs": [],
   "source": []
  },
  {
   "cell_type": "code",
   "execution_count": null,
   "id": "b343e79d-a836-4355-a823-15f8edc9fedf",
   "metadata": {},
   "outputs": [],
   "source": []
  },
  {
   "cell_type": "code",
   "execution_count": null,
   "id": "41c1b283-4a41-4b3f-b1f7-48f54ae6c215",
   "metadata": {},
   "outputs": [],
   "source": []
  },
  {
   "cell_type": "code",
   "execution_count": null,
   "id": "6105ecfb-5ce5-4724-a3b5-375651fc2dcd",
   "metadata": {},
   "outputs": [],
   "source": []
  },
  {
   "cell_type": "code",
   "execution_count": null,
   "id": "9b123b19-d45f-45f9-ad55-dc847dfb2f8c",
   "metadata": {},
   "outputs": [],
   "source": []
  },
  {
   "cell_type": "code",
   "execution_count": null,
   "id": "83e2ac17-dae2-48f8-b3f3-76451d4713c4",
   "metadata": {},
   "outputs": [],
   "source": []
  },
  {
   "cell_type": "code",
   "execution_count": null,
   "id": "b7dc2e94-858b-42a9-a271-b4114a106621",
   "metadata": {},
   "outputs": [],
   "source": []
  },
  {
   "cell_type": "code",
   "execution_count": null,
   "id": "ab0cafa4-e239-4584-b2fe-4ab434df1491",
   "metadata": {},
   "outputs": [],
   "source": []
  },
  {
   "cell_type": "code",
   "execution_count": null,
   "id": "6f699075-9b51-4db8-9cbd-748a914237b9",
   "metadata": {},
   "outputs": [],
   "source": []
  },
  {
   "cell_type": "code",
   "execution_count": null,
   "id": "54236911-de87-4532-9dbe-92dc2c17893a",
   "metadata": {},
   "outputs": [],
   "source": []
  },
  {
   "cell_type": "code",
   "execution_count": null,
   "id": "452edbd1-2cdc-451b-8bf2-b5eab4b5668e",
   "metadata": {},
   "outputs": [],
   "source": []
  }
 ],
 "metadata": {
  "kernelspec": {
   "display_name": "Python 3 (ipykernel)",
   "language": "python",
   "name": "python3"
  },
  "language_info": {
   "codemirror_mode": {
    "name": "ipython",
    "version": 3
   },
   "file_extension": ".py",
   "mimetype": "text/x-python",
   "name": "python",
   "nbconvert_exporter": "python",
   "pygments_lexer": "ipython3",
   "version": "3.12.0"
  }
 },
 "nbformat": 4,
 "nbformat_minor": 5
}
