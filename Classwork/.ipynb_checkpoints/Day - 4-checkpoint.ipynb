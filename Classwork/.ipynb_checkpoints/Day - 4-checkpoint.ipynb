{
 "cells": [
  {
   "cell_type": "markdown",
   "metadata": {
    "jp-MarkdownHeadingCollapsed": true
   },
   "source": [
    "## Regular Expressions\n",
    "\n",
    "Regular expressions are used for matching text patterns for searching, replacing and parsing text \n",
    "with complex patterns of characters.\n",
    "\n",
    "Regexes are used for four main purposes - \n",
    "- To validate if a text meets some criteria; Ex. a zip code with 6 numeric digits \n",
    "- Search substrings. Ex. finding texts that ends with abc and does not contain any digits \n",
    "- Search & replace everywhere the match is found within a string; Ex. search \"fixed deposit\" and replace with \"term deposit\" \n",
    "- Split a string at each place the regex matches; Ex. split everywhere a @ is encountered"
   ]
  },
  {
   "cell_type": "markdown",
   "metadata": {},
   "source": [
    "#### Raw python string\n",
    "\n",
    "It is recommended that you use raw strings instead of regular Python strings. Raw strings begin with a prefix, r, placed before the quotes"
   ]
  },
  {
   "cell_type": "code",
   "execution_count": null,
   "metadata": {},
   "outputs": [],
   "source": [
    "print(\"ABC \\n PQR\")"
   ]
  },
  {
   "cell_type": "code",
   "execution_count": null,
   "metadata": {},
   "outputs": [],
   "source": [
    "print(r\"ABC \\n PQR\")"
   ]
  },
  {
   "cell_type": "code",
   "execution_count": null,
   "metadata": {},
   "outputs": [],
   "source": [
    "open(r\"C:\\users\\newfolder\\file.txt\")"
   ]
  },
  {
   "cell_type": "markdown",
   "metadata": {},
   "source": [
    "#### Importing re module"
   ]
  },
  {
   "cell_type": "code",
   "execution_count": null,
   "metadata": {},
   "outputs": [],
   "source": [
    "import re"
   ]
  },
  {
   "cell_type": "markdown",
   "metadata": {},
   "source": [
    "#### Functions in re Module\n",
    "The \"re\" module offers functionalities that allow us to match/search/replace a string \n",
    "\n",
    "- `re.match()` - The match only if it occurs at the beginning of the string \n",
    "- `re.search()` - First occurrence of the match if there is a match anywhere in the string  \n",
    "- `re.findall()` - Returns a list containing all matches in the string \n",
    "- `re.split()` - Returns a list where the string has been split at each match \n",
    "- `re.sub()` - Replaces one or many matches with a string \n",
    "- `re.finditer()` - Returns a collectable iterator yielding all non-overlapping matches "
   ]
  },
  {
   "cell_type": "code",
   "execution_count": null,
   "metadata": {},
   "outputs": [],
   "source": [
    "text = \"India celebrates its independence day on 15th August\"\n",
    "re.match(r\"[A-z]+\\b\", text)  # returns a match object"
   ]
  },
  {
   "cell_type": "code",
   "execution_count": null,
   "metadata": {},
   "outputs": [],
   "source": [
    "text = \"India celebrates its independence day on 15th August\"\n",
    "re.search(r\"[0-9]+\", text)  # returns a match object"
   ]
  },
  {
   "cell_type": "markdown",
   "metadata": {},
   "source": [
    "<table style=\"width: 80%; border-collapse: collapse; border: 1px solid #ccc; margin-left: 0;\">\n",
    "  <thead>\n",
    "    <tr style=\"text-align: center; background-color: #050A30; color: white;\">\n",
    "      <th style=\"width: 15%; border: 1px solid #000; text-align: center;\">Category</th>\n",
    "      <th style=\"width: 15%; border: 1px solid #000; text-align: center;\">Regex</th>\n",
    "      <th style=\"width: 60%; border: 1px solid #000; text-align: left;\">Description</th>\n",
    "    </tr>\n",
    "  </thead>\n",
    "  <tbody>\n",
    "    <tr>\n",
    "      <td style=\"border: 1px solid #000;\">Basic Characters</td>\n",
    "      <td style=\"border: 1px solid #000; text-align: center;\">^</td>\n",
    "      <td style=\"border: 1px solid #000; text-align: left;\">Matches expression to its right at start of string; matches before each line break</td>\n",
    "    </tr>\n",
    "    <tr>\n",
    "      <td style=\"border: 1px solid #000;\"></td>\n",
    "      <td style=\"border: 1px solid #000; text-align: center;\">$</td>\n",
    "      <td style=\"border: 1px solid #000; text-align: left;\">Matches expression to its left at end of string; matches before each line break</td>\n",
    "    </tr>\n",
    "    <tr>\n",
    "      <td style=\"border: 1px solid #000;\"></td>\n",
    "      <td style=\"border: 1px solid #000; text-align: center;\">p|q</td>\n",
    "      <td style=\"border: 1px solid #000; text-align: left;\">Matches expression p or q</td>\n",
    "    </tr>\n",
    "    <tr>\n",
    "      <td style=\"border: 1px solid #000;\">Character Classes</td>\n",
    "      <td style=\"border: 1px solid #000; text-align: center;\">\\w</td>\n",
    "      <td style=\"border: 1px solid #000; text-align: left;\">Matches alphanumeric characters: a-z, A-Z, 0-9, and _</td>\n",
    "    </tr>\n",
    "    <tr>\n",
    "      <td style=\"border: 1px solid #000;\"></td>\n",
    "      <td style=\"border: 1px solid #000; text-align: center;\">\\W</td>\n",
    "      <td style=\"border: 1px solid #000; text-align: left;\">Matches non-alphanumeric characters; excludes a-z, A-Z, 0-9, and _</td>\n",
    "    </tr>\n",
    "    <tr>\n",
    "      <td style=\"border: 1px solid #000;\"></td>\n",
    "      <td style=\"border: 1px solid #000; text-align: center;\">\\d</td>\n",
    "      <td style=\"border: 1px solid #000; text-align: left;\">Matches digits: 0-9</td>\n",
    "    </tr>\n",
    "    <tr>\n",
    "      <td style=\"border: 1px solid #000;\"></td>\n",
    "      <td style=\"border: 1px solid #000; text-align: center;\">\\D</td>\n",
    "      <td style=\"border: 1px solid #000; text-align: left;\">Matches non-digit characters</td>\n",
    "    </tr>\n",
    "    <tr>\n",
    "      <td style=\"border: 1px solid #000;\"></td>\n",
    "      <td style=\"border: 1px solid #000; text-align: center;\">\\s</td>\n",
    "      <td style=\"border: 1px solid #000; text-align: left;\">Matches whitespace characters (space, tab, newline, carriage return)</td>\n",
    "    </tr>\n",
    "    <tr>\n",
    "      <td style=\"border: 1px solid #000;\"></td>\n",
    "      <td style=\"border: 1px solid #000; text-align: center;\">\\S</td>\n",
    "      <td style=\"border: 1px solid #000; text-align: left;\">Matches non-whitespace characters</td>\n",
    "    </tr>\n",
    "    <tr>\n",
    "      <td style=\"border: 1px solid #000;\"></td>\n",
    "      <td style=\"border: 1px solid #000; text-align: center;\">\\A</td>\n",
    "      <td style=\"border: 1px solid #000; text-align: left;\">Matches expression at absolute start of string</td>\n",
    "    </tr>\n",
    "    <tr>\n",
    "      <td style=\"border: 1px solid #000;\"></td>\n",
    "      <td style=\"border: 1px solid #000; text-align: center;\">\\t</td>\n",
    "      <td style=\"border: 1px solid #000; text-align: left;\">Matches tab character</td>\n",
    "    </tr>\n",
    "    <tr>\n",
    "      <td style=\"border: 1px solid #000;\"></td>\n",
    "      <td style=\"border: 1px solid #000; text-align: center;\">\\Z</td>\n",
    "      <td style=\"border: 1px solid #000; text-align: left;\">Matches expression at absolute end of string</td>\n",
    "    </tr>\n",
    "    <tr>\n",
    "      <td style=\"border: 1px solid #000;\"></td>\n",
    "      <td style=\"border: 1px solid #000; text-align: center;\">\\n</td>\n",
    "      <td style=\"border: 1px solid #000; text-align: left;\">Matches newline character</td>\n",
    "    </tr>\n",
    "    <tr>\n",
    "      <td style=\"border: 1px solid #000;\"></td>\n",
    "      <td style=\"border: 1px solid #000; text-align: center;\">\\b</td>\n",
    "      <td style=\"border: 1px solid #000; text-align: left;\">Matches word boundary at start/end of a word</td>\n",
    "    </tr>\n",
    "    <tr>\n",
    "      <td style=\"border: 1px solid #000;\"></td>\n",
    "      <td style=\"border: 1px solid #000; text-align: center;\">\\B</td>\n",
    "      <td style=\"border: 1px solid #000; text-align: left;\">Matches non-word boundary</td>\n",
    "    </tr>\n",
    "    <tr>\n",
    "      <td style=\"border: 1px solid #000;\">Groups and Sets</td>\n",
    "      <td style=\"border: 1px solid #000; text-align: center;\">[abc]</td>\n",
    "      <td style=\"border: 1px solid #000; text-align: left;\">Matches either a, b, or c (not the sequence \"abc\")</td>\n",
    "    </tr>\n",
    "    <tr>\n",
    "      <td style=\"border: 1px solid #000;\"></td>\n",
    "      <td style=\"border: 1px solid #000; text-align: center;\">[a\\-z]</td>\n",
    "      <td style=\"border: 1px solid #000; text-align: left;\">Matches a, -, or z (dash escaped literally)</td>\n",
    "    </tr>\n",
    "    <tr>\n",
    "      <td style=\"border: 1px solid #000;\"></td>\n",
    "      <td style=\"border: 1px solid #000; text-align: center;\">[^abc]</td>\n",
    "      <td style=\"border: 1px solid #000; text-align: left;\">Matches any character NOT a, b, or c</td>\n",
    "    </tr>\n",
    "    <tr>\n",
    "      <td style=\"border: 1px solid #000;\"></td>\n",
    "      <td style=\"border: 1px solid #000; text-align: center;\">()</td>\n",
    "      <td style=\"border: 1px solid #000; text-align: left;\">Groups the expression inside parentheses</td>\n",
    "    </tr>\n",
    "    <tr>\n",
    "      <td style=\"border: 1px solid #000;\"></td>\n",
    "      <td style=\"border: 1px solid #000; text-align: center;\">[a-z]</td>\n",
    "      <td style=\"border: 1px solid #000; text-align: left;\">Matches any alphabet character from a to z</td>\n",
    "    </tr>\n",
    "    <tr>\n",
    "      <td style=\"border: 1px solid #000;\"></td>\n",
    "      <td style=\"border: 1px solid #000; text-align: center;\">[a-z0-9]</td>\n",
    "      <td style=\"border: 1px solid #000; text-align: left;\">Matches characters from a to z and digits 0 to 9</td>\n",
    "    </tr>\n",
    "    <tr>\n",
    "      <td style=\"border: 1px solid #000;\"></td>\n",
    "      <td style=\"border: 1px solid #000; text-align: center;\">[(+*)]</td>\n",
    "      <td style=\"border: 1px solid #000; text-align: left;\">Special characters become literal inside a set: matches (, +, *, and )</td>\n",
    "    </tr>\n",
    "    <tr>\n",
    "      <td style=\"border: 1px solid #000;\"></td>\n",
    "      <td style=\"border: 1px solid #000; text-align: center;\">(?P=name)</td>\n",
    "      <td style=\"border: 1px solid #000; text-align: left;\">Matches the expression matched earlier by named group \"name\"</td>\n",
    "    </tr>\n",
    "    <tr>\n",
    "      <td style=\"border: 1px solid #000;\">Quantifiers</td>\n",
    "      <td style=\"border: 1px solid #000; text-align: center;\">.</td>\n",
    "      <td style=\"border: 1px solid #000; text-align: left;\">Matches any character except newline</td>\n",
    "    </tr>\n",
    "    <tr>\n",
    "      <td style=\"border: 1px solid #000;\"></td>\n",
    "      <td style=\"border: 1px solid #000; text-align: center;\">?</td>\n",
    "      <td style=\"border: 1px solid #000; text-align: left;\">Matches preceding expression 0 or 1 times</td>\n",
    "    </tr>\n",
    "    <tr>\n",
    "      <td style=\"border: 1px solid #000;\"></td>\n",
    "      <td style=\"border: 1px solid #000; text-align: center;\">{n}</td>\n",
    "      <td style=\"border: 1px solid #000; text-align: left;\">Matches preceding expression exactly n times</td>\n",
    "    </tr>\n",
    "    <tr>\n",
    "      <td style=\"border: 1px solid #000;\"></td>\n",
    "      <td style=\"border: 1px solid #000; text-align: center;\">{,m}</td>\n",
    "      <td style=\"border: 1px solid #000; text-align: left;\">Matches preceding expression up to m times</td>\n",
    "    </tr>\n",
    "    <tr>\n",
    "      <td style=\"border: 1px solid #000;\"></td>\n",
    "      <td style=\"border: 1px solid #000; text-align: center;\">*</td>\n",
    "      <td style=\"border: 1px solid #000; text-align: left;\">Matches preceding expression 0 or more times</td>\n",
    "    </tr>\n",
    "    <tr>\n",
    "      <td style=\"border: 1px solid #000;\"></td>\n",
    "      <td style=\"border: 1px solid #000; text-align: center;\">+</td>\n",
    "      <td style=\"border: 1px solid #000; text-align: left;\">Matches preceding expression 1 or more times</td>\n",
    "    </tr>\n",
    "    <tr>\n",
    "      <td style=\"border: 1px solid #000;\"></td>\n",
    "      <td style=\"border: 1px solid #000; text-align: center;\">{n,m}</td>\n",
    "      <td style=\"border: 1px solid #000; text-align: left;\">Matches preceding expression between n and m times</td>\n",
    "    </tr>\n",
    "    <tr>\n",
    "      <td style=\"border: 1px solid #000;\"></td>\n",
    "      <td style=\"border: 1px solid #000; text-align: center;\">{n, }</td>\n",
    "      <td style=\"border: 1px solid #000; text-align: left;\">Matches preceding expression n or more times</td>\n",
    "    </tr>\n",
    "  </tbody>\n",
    "</table>\n"
   ]
  },
  {
   "cell_type": "markdown",
   "metadata": {},
   "source": [
    "#### Examples - "
   ]
  },
  {
   "cell_type": "markdown",
   "metadata": {},
   "source": [
    "###### Ex. Extract all digits from the text"
   ]
  },
  {
   "cell_type": "code",
   "execution_count": null,
   "metadata": {},
   "outputs": [],
   "source": [
    "text = \"The stock price was 456 yesterday. Today, it rose to 564\"\n"
   ]
  },
  {
   "cell_type": "markdown",
   "metadata": {},
   "source": [
    "###### Ex. Extract all numbers from the text"
   ]
  },
  {
   "cell_type": "code",
   "execution_count": null,
   "metadata": {},
   "outputs": [],
   "source": [
    "text = \"The stock price was 456 yesterday. Today, it rose to 564\"\n"
   ]
  },
  {
   "cell_type": "markdown",
   "metadata": {},
   "source": [
    "###### Ex. Retrive the dividend from the text"
   ]
  },
  {
   "cell_type": "code",
   "execution_count": null,
   "metadata": {},
   "outputs": [],
   "source": [
    "text = \"On 25th March, the company declared 17% dividend.\"\n"
   ]
  },
  {
   "cell_type": "markdown",
   "metadata": {},
   "source": [
    "###### Ex. Retrive all stock names"
   ]
  },
  {
   "cell_type": "code",
   "execution_count": null,
   "metadata": {},
   "outputs": [],
   "source": [
    "text = \"Stocks like AAPL GOOGL BMW are the preferred ones\"\n"
   ]
  },
  {
   "cell_type": "markdown",
   "metadata": {},
   "source": [
    "###### Ex. Retrieve the phone numbers without country code"
   ]
  },
  {
   "cell_type": "code",
   "execution_count": null,
   "metadata": {},
   "outputs": [],
   "source": [
    "text = \"My number is 65-11223344 and 65-91919191. My other number is 44332211\"\n"
   ]
  },
  {
   "cell_type": "markdown",
   "metadata": {},
   "source": [
    "###### Ex. Replace values as given in the dict"
   ]
  },
  {
   "cell_type": "code",
   "execution_count": null,
   "metadata": {},
   "outputs": [],
   "source": [
    "text = \"Stocks like AAPL GOOGL BMW are the preferred ones\"\n",
    "repl_dict = {\"AAPL\": \"APPLE\", \"GOOGL\": \"GOOGLE\"}\n"
   ]
  },
  {
   "cell_type": "markdown",
   "metadata": {},
   "source": [
    "<hr><hr>"
   ]
  },
  {
   "cell_type": "markdown",
   "metadata": {
    "jp-MarkdownHeadingCollapsed": true
   },
   "source": [
    "## Object Oriented Programing"
   ]
  },
  {
   "cell_type": "markdown",
   "metadata": {},
   "source": [
    "**1. Classes**: Blueprints for creating objects that encapsulate data and behavior.\n",
    "\n",
    "**2. Objects**: Instances of classes representing real-world entities with attributes and methods.\n",
    "\n",
    "**3. Attributes**: Variables associated with an object or class that store data/state.\n",
    "\n",
    "**4. Methods**: Functions defined inside a class that describe behaviors or actions of an object.\n",
    "\n",
    "**5. The `__init__` method**: Special constructor method used to initialize new objects with specific values.\n",
    "\n",
    "**6. Encapsulation**: Mechanism to restrict direct access to some attributes/methods using access modifiers (public, protected, private).\n",
    "\n",
    "**7. Inheritance**: Ability of a class (child) to inherit attributes and methods from another class (parent), promoting code reuse.\n",
    "\n",
    "**8. Polymorphism**: Concept where different classes can have methods with the same name but different implementations.\n",
    "\n",
    "**9. Abstraction**: Hiding complex implementation details and showing only essential features through interfaces.\n",
    "\n",
    "**10. Self parameter**: Refers to the instance calling the method, allowing access to instance attributes and other methods within the class."
   ]
  },
  {
   "cell_type": "markdown",
   "metadata": {},
   "source": [
    "#### HTTPS Requests"
   ]
  },
  {
   "cell_type": "code",
   "execution_count": null,
   "metadata": {},
   "outputs": [],
   "source": [
    "!pip install requests"
   ]
  },
  {
   "cell_type": "code",
   "execution_count": null,
   "metadata": {},
   "outputs": [],
   "source": [
    "import requests\n"
   ]
  },
  {
   "cell_type": "markdown",
   "metadata": {},
   "source": [
    "###### Ex. Read file `customers.txt` from github"
   ]
  },
  {
   "cell_type": "code",
   "execution_count": null,
   "metadata": {},
   "outputs": [],
   "source": []
  },
  {
   "cell_type": "markdown",
   "metadata": {},
   "source": [
    "###### Ex. Print numbers of lines in the file"
   ]
  },
  {
   "cell_type": "code",
   "execution_count": null,
   "metadata": {},
   "outputs": [],
   "source": []
  },
  {
   "cell_type": "markdown",
   "metadata": {},
   "source": [
    "###### Ex. Clean data read from the file and extract information about all `Pilots`."
   ]
  },
  {
   "cell_type": "code",
   "execution_count": null,
   "metadata": {},
   "outputs": [],
   "source": []
  },
  {
   "cell_type": "markdown",
   "metadata": {},
   "source": [
    "###### Ex. Create a list of Pilots"
   ]
  },
  {
   "cell_type": "code",
   "execution_count": null,
   "metadata": {},
   "outputs": [],
   "source": []
  },
  {
   "cell_type": "markdown",
   "metadata": {},
   "source": [
    "<hr><hr>"
   ]
  }
 ],
 "metadata": {
  "kernelspec": {
   "display_name": "Python 3 (ipykernel)",
   "language": "python",
   "name": "python3"
  },
  "language_info": {
   "codemirror_mode": {
    "name": "ipython",
    "version": 3
   },
   "file_extension": ".py",
   "mimetype": "text/x-python",
   "name": "python",
   "nbconvert_exporter": "python",
   "pygments_lexer": "ipython3",
   "version": "3.12.0"
  }
 },
 "nbformat": 4,
 "nbformat_minor": 4
}
