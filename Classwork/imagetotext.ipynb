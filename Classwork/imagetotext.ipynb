{
 "cells": [
  {
   "cell_type": "markdown",
   "id": "f1c7e899",
   "metadata": {},
   "source": [
    "## Image to Text\n",
    "\n",
    "**Popular free tools**\n",
    "- Teserract\n",
    "- Easy-OCR\n",
    "- Keras-OCR\n"
   ]
  },
  {
   "cell_type": "code",
   "execution_count": null,
   "id": "7abc9b24",
   "metadata": {},
   "outputs": [],
   "source": [
    "# Using Teserract\n",
    "from pytesseract import image_to_string\n",
    "import numpy as np\n",
    "import pandas as pd\n",
    "import re\n",
    "\n",
    "text = image_to_string(\"data.png\", lang=\"eng\", config = r'--oem 3 --psm 6')\n",
    "lines = text.split(\"\\n\")\n",
    "\n",
    "header = lines[0].split()\n",
    "data = [line for line in lines[1:] if re.match(r\"\\d{5}\", line.strip())]\n",
    "\n",
    "def clean_data(string) :\n",
    "    pattern = r'^(\\d+)\\s+(.+?)\\s+([A-Za-z]+)\\s+(Q\\d\\d{2}|FY\\s+\\d{2})\\s+(\\d{2}-\\d{2}-\\d{4})\\s+(\\d{2}-\\d{2}-\\d{4})\\s+(\\d{2}-\\d{2}-\\d{4})$'\n",
    "    result = re.match(pattern, string)\n",
    "    return result.groups() if result else [np.nan] * 7\n",
    "\n",
    "df = pd.DataFrame(map(clean_data, data), columns = header).dropna()\n",
    "df.head()"
   ]
  },
  {
   "cell_type": "code",
   "execution_count": null,
   "id": "c052e457-a4cc-467e-accb-0ff5e1192208",
   "metadata": {
    "jupyter": {
     "source_hidden": true
    }
   },
   "outputs": [],
   "source": [
    "text = image_to_string(\"data5.png\", lang=\"eng\", config = r'--oem 3 --psm 6')\n",
    "lines = text.split(\"\\n\")\n",
    "lines"
   ]
  },
  {
   "cell_type": "code",
   "execution_count": null,
   "id": "4b53cfde",
   "metadata": {},
   "outputs": [],
   "source": [
    "# Using easy-ocr\n",
    "from easyocr import Reader\n",
    "import pandas as pd\n",
    "import numpy as np\n",
    "\n",
    "reader = Reader(['en'])\n",
    "text = reader.readtext(\"data.png\", detail=0)\n",
    "\n",
    "data = np.append(text[3:], np.ones(5))\n",
    "df = pd.DataFrame(np.reshape(data, (24, 6)), columns=['A', 'Ticker', \"PeriodName\", \"PeriodEndDate\", \"FirstFillingDate\", 'LatestFillingDate'])\n",
    "df = df.iloc[:-2]\n",
    "df.loc[len(df)] = ['10688 Meta Platforms, Inc.', 'META', '03 11', '30-09-2011', '15-10-2011', '15-10-2011']\n",
    "df[['COID', 'CoName']] = df['A'].str.split(r'\\d\\s', regex=True, expand=True)\n",
    "df = df[['COID', 'CoName', 'Ticker', 'PeriodName', 'PeriodEndDate', 'FirstFillingDate', 'LatestFillingDate']]\n",
    "df.head(2)"
   ]
  },
  {
   "cell_type": "code",
   "execution_count": null,
   "id": "a48b30bd-cf41-4900-b4b0-3efb4425124d",
   "metadata": {},
   "outputs": [],
   "source": [
    "import cv2\n",
    "import numpy as np\n",
    "from easyocr import Reader\n",
    "from PIL import Image\n",
    "\n",
    "# Step 1: Load and preprocess image\n",
    "img = cv2.imread(\"data5.png\")\n",
    "\n",
    "# Convert to grayscale\n",
    "gray = cv2.cvtColor(img, cv2.COLOR_BGR2GRAY)\n",
    "\n",
    "# Resize image (improves OCR for small text)\n",
    "scale_percent = 150  # scale by 150%\n",
    "width = int(gray.shape[1] * scale_percent / 100)\n",
    "height = int(gray.shape[0] * scale_percent / 100)\n",
    "resized = cv2.resize(gray, (width, height), interpolation=cv2.INTER_LINEAR)\n",
    "\n",
    "# Apply thresholding (binarization)\n",
    "_, thresh = cv2.threshold(resized, 0, 255, cv2.THRESH_BINARY + cv2.THRESH_OTSU)\n",
    "\n",
    "# Optional: Denoising\n",
    "denoised = cv2.fastNlMeansDenoising(thresh, h=30)\n",
    "\n",
    "# Save temporary preprocessed image\n",
    "temp_path = \"preprocessed.png\"\n",
    "cv2.imwrite(temp_path, denoised)\n",
    "\n",
    "# Step 2: OCR using EasyOCR\n",
    "reader = Reader(['en'], gpu=False)  # set gpu=True if supported\n",
    "results = reader.readtext(temp_path, detail=0)\n",
    "\n",
    "results"
   ]
  },
  {
   "cell_type": "code",
   "execution_count": null,
   "id": "1b979dda-2758-4888-9faa-748de8db9f37",
   "metadata": {},
   "outputs": [],
   "source": [
    "# keras_ocr\n",
    "import keras_ocr\n",
    "import numpy as np\n",
    "import pandas as pd\n",
    "print(1)\n",
    "# Pipeline\n",
    "pipeline = keras_ocr.pipeline.Pipeline()\n",
    "print(2)\n",
    "\n",
    "# Read image\n",
    "image = keras_ocr.tools.read(\"data.png\")\n",
    "prediction_groups = pipeline.recognize([image])\n",
    "\n",
    "data = prediction_groups[0]\n",
    "\n",
    "sorted(data, key = lambda val : list(val[1][[0, 3]].flatten()))\n",
    "\n",
    "# Extract text only\n",
    "text = [text[0] for text in sorted(data, key = lambda val : list(val[1][[0, 3]].flatten()))]\n",
    "print(\"-\".join(text))"
   ]
  },
  {
   "cell_type": "code",
   "execution_count": null,
   "id": "71dc140b-19d1-4f60-8420-85a2e613095c",
   "metadata": {
    "jupyter": {
     "source_hidden": true
    }
   },
   "outputs": [],
   "source": []
  },
  {
   "cell_type": "code",
   "execution_count": null,
   "id": "494053fc-d9a1-46b3-b48f-93b8bdcc03b6",
   "metadata": {
    "jupyter": {
     "source_hidden": true
    }
   },
   "outputs": [],
   "source": []
  },
  {
   "cell_type": "code",
   "execution_count": null,
   "id": "d64fc9ac-90ec-4ddb-89da-ce41366b3372",
   "metadata": {
    "jupyter": {
     "source_hidden": true
    }
   },
   "outputs": [],
   "source": []
  }
 ],
 "metadata": {
  "kernelspec": {
   "display_name": "Python 3 (ipykernel)",
   "language": "python",
   "name": "python3"
  },
  "language_info": {
   "codemirror_mode": {
    "name": "ipython",
    "version": 3
   },
   "file_extension": ".py",
   "mimetype": "text/x-python",
   "name": "python",
   "nbconvert_exporter": "python",
   "pygments_lexer": "ipython3",
   "version": "3.12.0"
  }
 },
 "nbformat": 4,
 "nbformat_minor": 5
}
