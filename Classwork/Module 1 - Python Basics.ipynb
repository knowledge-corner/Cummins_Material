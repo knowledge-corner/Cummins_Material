{
 "cells": [
  {
   "cell_type": "markdown",
   "metadata": {},
   "source": [
    "# Module 1 - Python Programming Basics"
   ]
  },
  {
   "cell_type": "markdown",
   "metadata": {
    "jp-MarkdownHeadingCollapsed": true
   },
   "source": [
    "### Course Agenda"
   ]
  },
  {
   "cell_type": "markdown",
   "metadata": {},
   "source": [
    "**1. Programming Basics**\n",
    "- **Variables**: Declaration, initialization, and usage.\n",
    "- **Operators**: Arithmetic, comparison, logical, assignment, and bitwise operators.\n",
    "- **Decision Making**: `if`, `elif`, `else` statements for conditional execution.\n",
    "- **Iteration**: `for` and `while` loops for repetitive tasks.\n",
    "- **Sequences**: String manipulation and basic operations with lists.\n",
    "\n",
    "---\n",
    "\n",
    "**2. Data Structures in Python**\n",
    "- **List**: Creation, indexing, slicing, and operations.\n",
    "- **Tuple**: Immutable sequences, creation, and usage.\n",
    "- **Set**: Unique elements, set operations like union, intersection, and difference.\n",
    "- **Dictionary**: Key-value pairs, dictionary methods, and usage.\n",
    "\n",
    "---\n",
    "\n",
    "**3. Functions**\n",
    "- **Function Arguments**: Positional, keyword, default arguments, and variable-length arguments.\n",
    "- **Lambda Functions**: Anonymous functions, use cases, and syntax.\n",
    "- **Function Objects**: Passing functions as arguments, returning functions from other functions.\n",
    "- **Map, Filter, Reduce**: Functional programming tools for processing collections.\n",
    "\n",
    "---\n",
    "\n",
    "**4. Exception Handling**\n",
    "- **Handling Exceptions**: `try`, `except`, `finally`, and `else` clauses.\n",
    "- **Raising Exceptions**: Custom exceptions and usage.\n",
    "\n",
    "---\n",
    "\n",
    "**5. Object Oriented Programming (OOP)**\n",
    "- **Classes and Objects**: Defining classes, creating objects, and understanding `self`.\n",
    "- **Attributes and Methods**: Instance variables, class variables, and methods.\n",
    "- **Inheritance**: Single and multiple inheritance, method overriding.\n",
    "- **Polymorphism**: Method overloading and operator overloading.\n",
    "- **Encapsulation**: Private variables and methods, using getters and setters.\n",
    "\n",
    "---\n",
    "\n",
    "**6. Regular Expressions**\n",
    "- **Introduction to Regex**: Basic syntax and usage in Python.\n",
    "- **Regex Functions**: `re.match()`, `re.search()`, `re.findall()`, `re.sub()`.\n",
    "- **Common Patterns**: Character classes, quantifiers, groups, and anchors.\n",
    "\n",
    "---\n",
    "\n",
    "**8. Requests Library**\n",
    "- **Introduction to HTTP Requests**: GET, POST, PUT, DELETE methods.\n",
    "- **Making Requests**: Using `requests` to send HTTP requests and handle responses.\n",
    "- **Handling JSON Data**: Parsing and processing JSON responses."
   ]
  },
  {
   "cell_type": "markdown",
   "metadata": {
    "jp-MarkdownHeadingCollapsed": true
   },
   "source": [
    "### Python Interface"
   ]
  },
  {
   "cell_type": "markdown",
   "metadata": {
    "jp-MarkdownHeadingCollapsed": true
   },
   "source": [
    "A Python interface refers to the means through which you can interact with Python programs, libraries, or external systems. Here are a few different ways you can interface with Python:\n",
    "\n",
    "**1. Interactive Python Shell (REPL)**\n",
    "- **Description**: The Python Shell, also known as the Read-Eval-Print Loop (REPL), is an interactive command-line interface where you can type and execute Python commands one at a time. This is useful for quick experiments and debugging.\n",
    "- **Example**: You can start the Python Shell by simply typing `python` or `python3` in your terminal or command prompt.\n",
    "\n",
    "**2. Integrated Development Environments (IDEs)**\n",
    "- **Popular IDEs**: PyCharm, Visual Studio Code, Spyder, Jupyter Notebook.\n",
    "- **Description**: IDEs provide a comprehensive environment for writing, testing, and debugging Python code. They come with features like syntax highlighting, code completion, version control integration, and more.\n",
    "- **Example**: PyCharm offers an advanced interface with debugging tools, refactoring support, and integration with version control systems like Git.\n",
    "\n",
    "**3. Jupyter Notebooks**\n",
    "- **Description**: Jupyter Notebooks are an interactive web-based environment where you can combine code execution, text, and visualizations in a single document. This is particularly useful for data analysis, machine learning, and teaching.\n",
    "- **Example**: You can run Jupyter Notebooks by installing the Jupyter package and starting a notebook server with the command `jupyter notebook`.\n",
    "\n",
    "**4. Command-Line Interface (CLI)**\n",
    "- **Description**: Python scripts can be executed directly from the command line. You can write Python programs that take command-line arguments and perform tasks based on those arguments.\n",
    "- **Example**: A Python script named `myscript.py` can be run using `python myscript.py` in the terminal.\n",
    "\n",
    "**5. Google Colab Notebook**\n",
    "- Can be access using - https://colab.research.google.com/\n",
    "- Requires google sign-in\n",
    "\n",
    "Each of these interfaces serves different purposes and can be chosen based on the specific requirements of your project or task.\n",
    "\n",
    "<hr><hr>"
   ]
  },
  {
   "cell_type": "markdown",
   "metadata": {},
   "source": [
    "#### Step-by-step guide to install Python and Visual Studio Code (VS Code) on Windows 11\n",
    "\n",
    "**Step 1: Install Python**\n",
    "\n",
    "1. Download Python:\n",
    "\n",
    "   * Go to the official Python website: [https://www.python.org/downloads/](https://www.python.org/downloads/)\n",
    "   * Click on the \"Download Python\" button to get the latest version.\n",
    "\n",
    "2. Run the Installer:\n",
    "\n",
    "   * Open the downloaded installer.\n",
    "   * Check the box that says **\"Add Python to PATH\"**.\n",
    "   * Click on **\"Install Now\"**.\n",
    "\n",
    "3. Verify Installation:\n",
    "\n",
    "   * Open Command Prompt.\n",
    "   * Type `python --version` and press Enter.\n",
    "   * You should see the installed Python version displayed.\n",
    "\n",
    "---\n",
    "\n",
    "**Step 2: Install Visual Studio Code (VS Code)**\n",
    "\n",
    "1. Download VS Code:\n",
    "\n",
    "   * Visit the official VS Code website: [https://code.visualstudio.com/download](https://code.visualstudio.com/download)\n",
    "   * Click on the \"Download for Windows\" button.\n",
    "\n",
    "2. Install VS Code:\n",
    "\n",
    "   * Run the downloaded installer.\n",
    "   * Follow the setup wizard:\n",
    "\n",
    "     * Accept the license agreement.\n",
    "     * Choose the installation location.\n",
    "     * Select additional tasks (e.g., create a desktop icon, add to PATH).\n",
    "   * Click **\"Install\"** to begin the installation.\n",
    "\n",
    "3. Launch VS Code:\n",
    "\n",
    "   * After installation, open VS Code from the Start menu or desktop shortcut.\n",
    "\n",
    "---\n",
    "\n",
    "**Step 3: Install Python Extension in VS Code**\n",
    "\n",
    "1. Open Extensions View:\n",
    "\n",
    "   * In VS Code, click on the Extensions icon on the left sidebar (or press `Ctrl+Shift+X`).\n",
    "\n",
    "2. Search and Install Python Extension:\n",
    "\n",
    "   * Type `Python` in the search bar.\n",
    "   * Locate the extension named **\"Python\"** by Microsoft.\n",
    "   * Click **\"Install\"**.\n",
    "\n",
    "   This extension provides features like IntelliSense, linting, debugging, and more.&#x20;\n",
    "\n",
    "---\n",
    "\n",
    "**Step 4: Install Jupyter Extension in VS Code**\n",
    "\n",
    "1. Search and Install Jupyter Extension:\n",
    "\n",
    "   * In the Extensions view (`Ctrl+Shift+X`), type `Jupyter` in the search bar.\n",
    "   * Find the extension named **\"Jupyter\"** by Microsoft.\n",
    "   * Click **\"Install\"**.\n",
    "\n",
    "   This extension allows you to work with Jupyter Notebooks directly within VS Code.&#x20;\n",
    "\n",
    "---\n",
    "\n",
    "**Step 5: Configure Python Interpreter in VS Code**\n",
    "\n",
    "1. Open Command Palette:\n",
    "\n",
    "   * Press `Ctrl+Shift+P` to open the Command Palette.\n",
    "\n",
    "2. Select Python Interpreter:\n",
    "\n",
    "   * Type `Python: Select Interpreter` and select it.\n",
    "   * Choose the Python interpreter you installed earlier (e.g., Python 3.x.x).\n",
    "\n",
    "   This ensures that VS Code uses the correct Python version for your projects.&#x20;\n",
    "\n",
    "---\n",
    "\n",
    "**Step 6: Create and Run a Jupyter Notebook**\n",
    "\n",
    "1. Create a New Notebook:\n",
    "\n",
    "   * In VS Code, press `Ctrl+Shift+P` to open the Command Palette.\n",
    "   * Type `Jupyter: Create New Jupyter Notebook` and select it.\n",
    "\n",
    "2. Write and Execute Code:\n",
    "\n",
    "   * In the new notebook, you can add code cells and write Python code.\n",
    "   * Click the play icon next to each cell to execute it.\n",
    "\n",
    "   Ensure that the correct Python interpreter is selected for the notebook.&#x20;\n",
    "\n",
    "---"
   ]
  },
  {
   "cell_type": "markdown",
   "metadata": {
    "jp-MarkdownHeadingCollapsed": true
   },
   "source": [
    "## **Programming Basics**"
   ]
  },
  {
   "cell_type": "markdown",
   "metadata": {},
   "source": [
    "- **Variables**: Declaration, initialization, and usage.\n",
    "- **Operators**: Arithmetic, comparison, logical, assignment, and bitwise operators.\n",
    "- **Decision Making**: `if`, `elif`, `else` statements for conditional execution.\n",
    "- **Iteration**: `for` and `while` loops for repetitive tasks.\n",
    "- **Sequences**: String manipulation and basic operations with lists."
   ]
  },
  {
   "cell_type": "markdown",
   "metadata": {},
   "source": [
    "### Python Data Types\n",
    "\n",
    "Python has several built-in data types that allow you to store and manipulate different kinds of data. Here are the primary data types in Python:\n",
    "\n",
    "<table style=\"width: 60%; border-collapse: collapse; border: 1px solid #ccc; text-align: center;margin-left: 0;\">\n",
    "  <thead>\n",
    "    <tr style=\"background-color: #050A30; color: white;\">\n",
    "      <th>Data Type</th>\n",
    "      <th>Description</th>\n",
    "      <th>Examples</th>\n",
    "    </tr>\n",
    "  </thead>\n",
    "  <tbody>\n",
    "    <tr>\n",
    "      <td>int</td>\n",
    "      <td>Integer numbers</td>\n",
    "      <td>42, -7</td>\n",
    "    </tr>\n",
    "    <tr>\n",
    "      <td>float</td>\n",
    "      <td>Floating-point numbers (decimal)</td>\n",
    "      <td>3.14, -0.001</td>\n",
    "    </tr>\n",
    "    <tr>\n",
    "      <td>complex</td>\n",
    "      <td>Complex numbers</td>\n",
    "      <td>1+2j, -3+4j</td>\n",
    "    </tr>\n",
    "    <tr>\n",
    "      <td>bool</td>\n",
    "      <td>Boolean values</td>\n",
    "      <td>True, False</td>\n",
    "    </tr>\n",
    "    <tr>\n",
    "      <td>str</td>\n",
    "      <td>String, a sequence of characters</td>\n",
    "      <td>\"hello\", 'world'</td>\n",
    "    </tr>\n",
    "    <tr>\n",
    "      <td>bytes</td>\n",
    "      <td>Immutable sequence of bytes</td>\n",
    "      <td>b'hello'</td>\n",
    "    </tr>\n",
    "  </tbody>\n",
    "</table>\n",
    "\n",
    "<br>"
   ]
  },
  {
   "cell_type": "markdown",
   "metadata": {},
   "source": [
    "### Python Containers or Data structures\n",
    "\n",
    "In Python, containers refer to data structures that hold multiple elements together. They provide a way to manage and organize collections of data. Here are some common types of containers in Python:\n",
    "\n",
    "<table style=\"width: 60%; border-collapse: collapse; border: 1px solid #ccc; text-align: left; margin-left: 0;\">\n",
    "  <thead>\n",
    "    <tr style=\"background-color: #050A30; color: white;\">\n",
    "      <th style=\"text-align: left;\">Data Structure</th>\n",
    "      <th style=\"text-align: left;\">Definition</th>\n",
    "      <th style=\"text-align: left;\">Syntax</th>\n",
    "      <th style=\"text-align: left;\">Example</th>\n",
    "    </tr>\n",
    "  </thead>\n",
    "  <tbody>\n",
    "    <tr>\n",
    "      <td style=\"text-align: left;\">List</td>\n",
    "      <td style=\"text-align: left;\">An ordered, mutable (changeable) collection of items.</td>\n",
    "      <td style=\"text-align: left;\">Created using square brackets []</td>\n",
    "      <td style=\"text-align: left;\">`[1, 2, 3, 4]`</td>\n",
    "    </tr>\n",
    "    <tr>\n",
    "      <td style=\"text-align: left;\">Tuple</td>\n",
    "      <td style=\"text-align: left;\">An ordered, immutable (unchangeable) collection of items.</td>\n",
    "      <td style=\"text-align: left;\">Created using parentheses ()</td>\n",
    "      <td style=\"text-align: left;\">`(1, 2, 3, 4)`</td>\n",
    "    </tr>\n",
    "    <tr>\n",
    "      <td style=\"text-align: left;\">Set</td>\n",
    "      <td style=\"text-align: left;\">An unordered collection of unique items.</td>\n",
    "      <td style=\"text-align: left;\">Created using curly braces {} or the set() function.</td>\n",
    "      <td style=\"text-align: left;\">`{1, 2, 3, 4}` or `set([1, 2, 3, 4])`</td>\n",
    "    </tr>\n",
    "    <tr>\n",
    "      <td style=\"text-align: left;\">Dictionary</td>\n",
    "      <td style=\"text-align: left;\">An unordered collection of key-value pairs. Keys must be unique and immutable.</td>\n",
    "      <td style=\"text-align: left;\">Created using curly braces {} with key-value pairs separated by colons :</td>\n",
    "      <td style=\"text-align: left;\">`{'a': 1, 'b': 2, 'c': 3}`</td>\n",
    "    </tr>\n",
    "  </tbody>\n",
    "</table>\n"
   ]
  },
  {
   "attachments": {},
   "cell_type": "markdown",
   "metadata": {
    "scrolled": false
   },
   "source": [
    "### Operators in Python\n",
    "Operators are special symbols in Python that carry out computations. The value that the operator operates on is called as operand.\n",
    "\n",
    "<table style=\"width: 60%; border-collapse: collapse; border: 1px solid #ccc; text-align: left; margin-left: 0;\">\n",
    "  <thead>\n",
    "    <tr style=\"background-color: #050A30; color: white;\">\n",
    "        <th style=\"width: 20%; border: 1px solid #000; text-align: left;\">Operator Type</th>\n",
    "      <th style=\"width: 20%; border: 1px solid #000; text-align: left;\">Operator</th>\n",
    "      <th style=\"width: 60%;border: 1px solid #000; text-align: left;\">Description</th>\n",
    "    </tr>\n",
    "  </thead>\n",
    "  <tbody>\n",
    "    <tr>\n",
    "      <td style=\"border: 1px solid #000; text-align: left;\" rowspan=\"7\">Arithmetic</td>\n",
    "      <td style=\"border: 1px solid #000; text-align: left;\">+</td>\n",
    "      <td style=\"border: 1px solid #000; text-align: left;\">Addition</td>\n",
    "    </tr>\n",
    "    <tr>\n",
    "      <td style=\"border: 1px solid #000; text-align: left;\">-</td>\n",
    "      <td style=\"border: 1px solid #000; text-align: left;\">Subtraction</td>\n",
    "    </tr>\n",
    "    <tr>\n",
    "      <td style=\"border: 1px solid #000; text-align: left;\">*</td>\n",
    "      <td style=\"border: 1px solid #000; text-align: left;\">Multiplication</td>\n",
    "    </tr>\n",
    "    <tr>\n",
    "      <td style=\"border: 1px solid #000; text-align: left;\">/</td>\n",
    "      <td style=\"border: 1px solid #000; text-align: left;\">Division</td>\n",
    "    </tr>\n",
    "    <tr>\n",
    "      <td style=\"border: 1px solid #000; text-align: left;\">%</td>\n",
    "      <td style=\"border: 1px solid #000; text-align: left;\">Modulus (remainder of division)</td>\n",
    "    </tr>\n",
    "    <tr>\n",
    "      <td style=\"border: 1px solid #000; text-align: left;\">**</td>\n",
    "      <td style=\"border: 1px solid #000; text-align: left;\">Exponentiation (power)</td>\n",
    "    </tr>\n",
    "    <tr>\n",
    "      <td style=\"border: 1px solid #000; text-align: left;\">//</td>\n",
    "      <td style=\"border: 1px solid #000; text-align: left;\">Floor division (largest integer less than or equal to quotient)</td>\n",
    "    </tr>\n",
    "    <tr>\n",
    "      <td style=\"border: 1px solid #000; text-align: left;\" rowspan=\"6\">Comparison</td>\n",
    "      <td style=\"border: 1px solid #000; text-align: left;\">==</td>\n",
    "      <td style=\"border: 1px solid #000; text-align: left;\">Equal to</td>\n",
    "    </tr>\n",
    "    <tr>\n",
    "      <td style=\"border: 1px solid #000; text-align: left;\">!=</td>\n",
    "      <td style=\"border: 1px solid #000; text-align: left;\">Not equal to</td>\n",
    "    </tr>\n",
    "    <tr>\n",
    "      <td style=\"border: 1px solid #000; text-align: left;\">&gt;</td>\n",
    "      <td style=\"border: 1px solid #000; text-align: left;\">Greater than</td>\n",
    "    </tr>\n",
    "    <tr>\n",
    "      <td style=\"border: 1px solid #000; text-align: left;\">&lt;</td>\n",
    "      <td style=\"border: 1px solid #000; text-align: left;\">Less than</td>\n",
    "    </tr>\n",
    "    <tr>\n",
    "      <td style=\"border: 1px solid #000; text-align: left;\">&gt;=</td>\n",
    "      <td style=\"border: 1px solid #000; text-align: left;\">Greater than or equal to</td>\n",
    "    </tr>\n",
    "    <tr>\n",
    "      <td style=\"border: 1px solid #000; text-align: left;\">&lt;=</td>\n",
    "      <td style=\"border: 1px solid #000; text-align: left;\">Less than or equal to</td>\n",
    "    </tr>\n",
    "    <tr>\n",
    "      <td style=\"border: 1px solid #000; text-align: left;\" rowspan=\"3\">Logical</td>\n",
    "      <td style=\"border: 1px solid #000; text-align: left;\">and</td>\n",
    "      <td style=\"border: 1px solid #000; text-align: left;\">Returns True if both statements are true</td>\n",
    "    </tr>\n",
    "    <tr>\n",
    "      <td style=\"border: 1px solid #000; text-align: left;\">or</td>\n",
    "      <td style=\"border: 1px solid #000; text-align: left;\">Returns True if at least one statement is true</td>\n",
    "    </tr>\n",
    "    <tr>\n",
    "      <td style=\"border: 1px solid #000; text-align: left;\">not</td>\n",
    "      <td style=\"border: 1px solid #000; text-align: left;\">Reverses the result, returns False if the result is true</td>\n",
    "    </tr>\n",
    "    <tr>\n",
    "      <td style=\"border: 1px solid #000; text-align: left;\">Assignment</td>\n",
    "      <td style=\"border: 1px solid #000; text-align: left;\">=</td>\n",
    "      <td style=\"border: 1px solid #000; text-align: left;\">Assign value on right to variable on left.</td>\n",
    "    </tr>\n",
    "    <tr>\n",
    "      <td style=\"border: 1px solid #000; text-align: left;\" rowspan=\"7\">Compound Assignment</td>\n",
    "      <td style=\"border: 1px solid #000; text-align: left;\">+=</td>\n",
    "      <td style=\"border: 1px solid #000; text-align: left;\">Add right operand to left and assign to left operand.</td>\n",
    "    </tr>\n",
    "    <tr>\n",
    "      <td style=\"border: 1px solid #000; text-align: left;\">-=</td>\n",
    "      <td style=\"border: 1px solid #000; text-align: left;\">Subtract right operand from left and assign to left operand.</td>\n",
    "    </tr>\n",
    "    <tr>\n",
    "      <td style=\"border: 1px solid #000; text-align: left;\">*=</td>\n",
    "      <td style=\"border: 1px solid #000; text-align: left;\">Multiply left operand by right and assign to left operand.</td>\n",
    "    </tr>\n",
    "    <tr>\n",
    "      <td style=\"border: 1px solid #000; text-align: left;\">/=</td>\n",
    "      <td style=\"border: 1px solid #000; text-align: left;\">Divide left operand by right and assign to left operand.</td>\n",
    "    </tr>\n",
    "    <tr>\n",
    "      <td style=\"border: 1px solid #000; text-align: left;\">%=</td>\n",
    "      <td style=\"border: 1px solid #000; text-align: left;\">Modulus of left by right and assign to left operand.</td>\n",
    "    </tr>\n",
    "    <tr>\n",
    "      <td style=\"border: 1px solid #000; text-align: left;\">//=</td>\n",
    "      <td style=\"border: 1px solid #000; text-align: left;\">Floor division of left by right and assign to left operand.</td>\n",
    "    </tr>\n",
    "    <tr>\n",
    "      <td style=\"border: 1px solid #000; text-align: left;\">**=</td>\n",
    "      <td style=\"border: 1px solid #000; text-align: left;\">Raise left operand to the power of right and assign to left operand.</td>\n",
    "    </tr>\n",
    "    <tr>\n",
    "      <td style=\"border: 1px solid #000; text-align: left;\" rowspan=\"2\">Membership</td>\n",
    "      <td style=\"border: 1px solid #000; text-align: left;\">in</td>\n",
    "      <td style=\"border: 1px solid #000; text-align: left;\">Checks if value is present in a sequence</td>\n",
    "    </tr>\n",
    "    <tr>\n",
    "      <td style=\"border: 1px solid #000; text-align: left;\">not in</td>\n",
    "      <td style=\"border: 1px solid #000; text-align: left;\">Checks if value is NOT present in a sequence</td>\n",
    "    </tr>\n",
    "  </tbody>\n",
    "</table>"
   ]
  },
  {
   "cell_type": "markdown",
   "metadata": {},
   "source": [
    "#### Examples - "
   ]
  },
  {
   "cell_type": "markdown",
   "metadata": {},
   "source": [
    "###### Ex. WAP to take 2 numbers as input and print their sum."
   ]
  },
  {
   "cell_type": "code",
   "execution_count": null,
   "metadata": {},
   "outputs": [],
   "source": [
    "num1 = input(\"Enter a number - \")\n",
    "num2 = input(\"Enter a number - \")\n",
    "print(num1 + num2)"
   ]
  },
  {
   "cell_type": "code",
   "execution_count": null,
   "metadata": {},
   "outputs": [],
   "source": [
    "type(num1)"
   ]
  },
  {
   "cell_type": "markdown",
   "metadata": {},
   "source": [
    "##### Note - input() always reads the value in str format"
   ]
  },
  {
   "cell_type": "code",
   "execution_count": null,
   "metadata": {},
   "outputs": [],
   "source": [
    "num1 = int(input(\"Enter a number - \"))\n",
    "num2 = int(input(\"Enter a number - \"))\n",
    "print(num1 + num2)"
   ]
  },
  {
   "cell_type": "markdown",
   "metadata": {},
   "source": [
    "###### Ex. WAP to accept hours and rate per hour from user and compute gross pay."
   ]
  },
  {
   "cell_type": "code",
   "execution_count": null,
   "metadata": {},
   "outputs": [],
   "source": [
    "hrs = int(input(\"Enter number of hours worked - \"))\n",
    "rate = float(input(\"Enter rate per hr - \"))\n",
    "\n",
    "gross_pay = hrs * rate\n",
    "gross_pay  # last line will be displayed as o/p in jupyter notebook"
   ]
  },
  {
   "cell_type": "markdown",
   "metadata": {},
   "source": [
    "###### Ex. Convert the sales value in thousands and concate `k` as suffix"
   ]
  },
  {
   "cell_type": "code",
   "execution_count": null,
   "metadata": {},
   "outputs": [],
   "source": [
    "sales = 58973  # o/p - 53.97k\n",
    "str(round(sales/1000, 2)) + \"k\"  # - concatenation"
   ]
  },
  {
   "cell_type": "code",
   "execution_count": null,
   "metadata": {},
   "outputs": [],
   "source": [
    "sales = 58973  # o/p - 53.97k\n",
    "f\"{round(sales/1000, 2)}k\""
   ]
  },
  {
   "cell_type": "markdown",
   "metadata": {},
   "source": [
    "**Formatted Strings -** Introduced in Python 3.6, f-strings provide a more concise and readable way to format strings. You can include variables or expressions inside curly braces {} prefixed with an f."
   ]
  },
  {
   "cell_type": "code",
   "execution_count": null,
   "metadata": {},
   "outputs": [],
   "source": [
    "import math\n",
    "print(dir(math))"
   ]
  },
  {
   "cell_type": "code",
   "execution_count": null,
   "metadata": {},
   "outputs": [],
   "source": [
    "sales = 58.97\n",
    "math.ceil(sales)"
   ]
  },
  {
   "cell_type": "code",
   "execution_count": null,
   "metadata": {},
   "outputs": [],
   "source": [
    "math.floor(sales)"
   ]
  },
  {
   "cell_type": "markdown",
   "metadata": {},
   "source": [
    "<hr><hr>"
   ]
  },
  {
   "cell_type": "markdown",
   "metadata": {
    "jp-MarkdownHeadingCollapsed": true
   },
   "source": [
    "## Decision Making"
   ]
  },
  {
   "cell_type": "markdown",
   "metadata": {},
   "source": [
    "**Decision-making statements in Python allow you to control the flow of execution based on certain conditions. These statements include if, elif, and else and can be used to execute different blocks of code depending on whether conditions are True or False.**\n",
    "\n",
    "<table style=\"width: 80%; border-collapse: collapse; border: 1px solid #ccc; text-align: left; margin-left: 0;\">\n",
    "  <thead>\n",
    "    <tr style=\"background-color: #050A30; color: white;\">\n",
    "      <th style=\"width: 20%; border: 1px solid #000; text-align: left;\">Type</th>\n",
    "      <th style=\"width: 30%; border: 1px solid #000; text-align: left;\">Description</th>\n",
    "      <th style=\"width: 50%; border: 1px solid #000; text-align: left;\">Syntax</th>\n",
    "    </tr>\n",
    "  </thead>\n",
    "  <tbody>\n",
    "    <tr>\n",
    "      <td style=\"border: 1px solid #000; text-align: left;\">Basic if Statement</td>\n",
    "      <td style=\"border: 1px solid #000; text-align: left;\">\n",
    "        Evaluates a condition and executes a block of code if the condition is True.\n",
    "      </td>\n",
    "      <td style=\"border: 1px solid #000; text-align: left;\">\n",
    "          <code>if condition:\n",
    "    # block if True</code>\n",
    "      </td>\n",
    "    </tr>\n",
    "    <tr>\n",
    "      <td style=\"border: 1px solid #000; text-align: left;\">if-else Statement</td>\n",
    "      <td style=\"border: 1px solid #000; text-align: left;\">\n",
    "        Executes one block if the condition is True, and another block if it is False.\n",
    "      </td>\n",
    "      <td style=\"border: 1px solid #000; text-align: left;\">\n",
    "<code>if condition:\n",
    "    # block if True\n",
    "else:\n",
    "    # block if False</code>\n",
    "      </td>\n",
    "    </tr>\n",
    "    <tr>\n",
    "      <td style=\"border: 1px solid #000; text-align: left;\">if-elif-else Statement</td>\n",
    "      <td style=\"border: 1px solid #000; text-align: left;\">\n",
    "        Allows checking multiple expressions for True; first to evaluate as True gets executed. If none are True, the else block is run.\n",
    "      </td>\n",
    "      <td style=\"border: 1px solid #000; text-align: left;\">\n",
    "<code>if condition1:\n",
    "    # block if condition1 is True\n",
    "elif condition2:\n",
    "    # block if condition2 is True\n",
    "elif condition3:\n",
    "    # block if condition3 is True\n",
    "else:\n",
    "    # block if none are True</code>\n",
    "      </td>\n",
    "    </tr>\n",
    "    <tr>\n",
    "      <td style=\"border: 1px solid #000; text-align: left;\">Nested if Statements</td>\n",
    "      <td style=\"border: 1px solid #000; text-align: left;\">\n",
    "        Allows if statements within if statements, for hierarchical condition checks.\n",
    "      </td>\n",
    "      <td style=\"border: 1px solid #000; text-align: left;\">\n",
    "<code>if condition1:\n",
    "    # block if condition1 is True\n",
    "    if condition2:\n",
    "        # block if condition2 is True\n",
    "    else:\n",
    "        # block if condition2 is False\n",
    "else:\n",
    "    # block if condition1 is False</code>\n",
    "      </td>\n",
    "    </tr>\n",
    "    <tr>\n",
    "      <td style=\"border: 1px solid #000; text-align: left;\">One-Line if-else</td>\n",
    "      <td style=\"border: 1px solid #000; text-align: left;\">\n",
    "        Short-hand way to write an if-else statement in a single line (ternary operator).\n",
    "      </td>\n",
    "      <td style=\"border: 1px solid #000; text-align: left;\">\n",
    "        <code>value_if_true if condition else value_if_false</code>\n",
    "      </td>\n",
    "    </tr>\n",
    "  </tbody>\n",
    "</table>"
   ]
  },
  {
   "cell_type": "markdown",
   "metadata": {},
   "source": [
    "#### Examples -"
   ]
  },
  {
   "cell_type": "markdown",
   "metadata": {},
   "source": [
    "###### Ex. WAP to accept hours and rate per hour from user and compute gross pay.\n",
    "- for 40 hrs pay the standard rate\n",
    "- if overtime then pay 1.5 times of rate for the additional hrs.\n"
   ]
  },
  {
   "cell_type": "code",
   "execution_count": null,
   "metadata": {},
   "outputs": [],
   "source": [
    "hrs = int(input(\"Enter number of hours worked - \"))\n",
    "rate = float(input(\"Enter rate per hr - \"))\n",
    "\n",
    "if hrs <= 40 :\n",
    "    gross_pay = hrs * rate\n",
    "else:\n",
    "    gross_pay = (40 * rate) + ((hrs - 40) * 1.5 * rate)\n",
    "print(gross_pay)"
   ]
  },
  {
   "cell_type": "markdown",
   "metadata": {},
   "source": [
    "###### Ex. 7up and 7down\n",
    "\n",
    "WAP to simulate the below mentioned scenario -\n",
    "\n",
    "1. Player enters the game with initial amount as Rs. 1,000/- \n",
    "2. Generate a random value between 1 to 14 and store it in variable \"outcome\"\n",
    "3. if outcome = 7, player hits a jackpot and wins Rs. 1,00,00,000.\n",
    "4. if outcome < 7, player looses amount by (outcome*100)\n",
    "5. if outcome > 7, player earns amount by (outcome*100)\n",
    "6. Print the final amount with the player."
   ]
  },
  {
   "cell_type": "code",
   "execution_count": null,
   "metadata": {},
   "outputs": [],
   "source": [
    "import random as r \n",
    "\n",
    "amount = 1000\n",
    "# outcome = r.choice\n",
    "outcome = r.randint(1, 14)\n",
    "print(\"Your Score - \", outcome)\n",
    "\n",
    "if outcome < 7 :\n",
    "    amount -= (outcome * 100)\n",
    "elif outcome > 7 :\n",
    "    amount += (outcome * 100)\n",
    "else:\n",
    "    print(\"You have got jackpot!!!\")\n",
    "    amount += 100000\n",
    "    \n",
    "print(\"final balance - \", amount)"
   ]
  },
  {
   "cell_type": "code",
   "execution_count": null,
   "metadata": {},
   "outputs": [],
   "source": [
    "help(r.randint) # help- gives documention of a given function"
   ]
  },
  {
   "cell_type": "markdown",
   "metadata": {},
   "source": [
    "<hr><hr>"
   ]
  },
  {
   "cell_type": "markdown",
   "metadata": {
    "jp-MarkdownHeadingCollapsed": true
   },
   "source": [
    "## Loops/Iteration"
   ]
  },
  {
   "cell_type": "markdown",
   "metadata": {},
   "source": [
    "**Loops are used to execute of a specific block of code in repetitively**\n",
    "\n",
    "<table style=\"width: 80%; border-collapse: collapse; border: 1px solid #ccc; margin-left: 0;\">\n",
    "  <thead>\n",
    "  <tr style=\"text-align: center; background-color: #050A30; color: white;\">\n",
    "    <th style=\"width: 20%; border: 1px solid #000; text-align: center;\">Aspect</th>\n",
    "    <th style=\"width: 40%; border: 1px solid #000; text-align: center;\">For Loop</th>\n",
    "    <th style=\"width: 40%; border: 1px solid #000; text-align: center;\">While Loop</th>\n",
    "  </tr>\n",
    "</thead>\n",
    "  <tbody style = \"text-align: left;\">\n",
    "    <tr>\n",
    "      <td style=\"border: 1px solid #000; text-align: left;\">Definition</td>\n",
    "      <td style=\"border: 1px solid #000; text-align: left;\">Iterates over a sequence or iterable (like list, tuple, range).</td>\n",
    "      <td style=\"border: 1px solid #000; text-align: left;\">Repeats a block of code as long as the condition is true.</td>\n",
    "    </tr>\n",
    "    <tr>\n",
    "      <td style=\"border: 1px solid #000; text-align: left;\">Use Case</td>\n",
    "      <td style=\"border: 1px solid #000; text-align: left;\">Use when number of iterations is known or iterable is fixed.</td>\n",
    "      <td style=\"border: 1px solid #000; text-align: left;\">Use when the number of iterations is not known beforehand.</td>\n",
    "    </tr>\n",
    "    <tr>\n",
    "      <td style=\"border: 1px solid #000; text-align: left;\">Control</td>\n",
    "      <td style=\"border: 1px solid #000; text-align: left;\">Iterates through items automatically.</td>\n",
    "      <td style=\"border: 1px solid #000; text-align: left;\">Condition is evaluated before each iteration; loop runs while condition is true.</td>\n",
    "    </tr>\n",
    "    <tr>\n",
    "      <td style=\"border: 1px solid #000; text-align: left;\">Risk</td>\n",
    "      <td style=\"border: 1px solid #000; text-align: left;\">Less prone to infinite loops.</td>\n",
    "      <td style=\"border: 1px solid #000; text-align: left;\">May cause infinite loops if condition never becomes\n"
   ]
  },
  {
   "cell_type": "markdown",
   "metadata": {},
   "source": [
    "#### Continue vs Break statement"
   ]
  },
  {
   "cell_type": "markdown",
   "metadata": {},
   "source": [
    "<table style=\"width: 80%; border-collapse: collapse; border: 1px solid #ccc; margin-left: 0;\">\n",
    "  <thead>\n",
    "    <tr style=\"text-align: center; background-color: #050A30; color: white;\">\n",
    "      <th style=\"width: 20%; border: 1px solid #000; text-align: center;\">Aspect</th>\n",
    "      <th style=\"width: 40%; border: 1px solid #000; text-align: center;\">Break Statement</th>\n",
    "      <th style=\"width: 40%; border: 1px solid #000; text-align: center;\">Continue Statement</th>\n",
    "    </tr>\n",
    "  </thead>\n",
    "  <tbody>\n",
    "    <tr>\n",
    "      <td style=\"border: 1px solid #000; text-align: left;\">Purpose</td>\n",
    "      <td style=\"border: 1px solid #000; text-align: left;\">Terminates the nearest enclosing loop immediately.</td>\n",
    "      <td style=\"border: 1px solid #000; text-align: left;\">Skips the rest of the current loop iteration and moves to the next iteration.</td>\n",
    "    </tr>\n",
    "    <tr>\n",
    "      <td style=\"border: 1px solid #000; text-align: left;\">Effect on Loop</td>\n",
    "      <td style=\"border: 1px solid #000; text-align: left;\">Exits the loop completely.</td>\n",
    "      <td style=\"border: 1px solid #000; text-align: left;\">Does not exit the loop but skips to the next iteration.</td>\n",
    "    </tr>\n",
    "    <tr>\n",
    "      <td style=\"border: 1px solid #000; text-align: left;\">Usage Context</td>\n",
    "      <td style=\"border: 1px solid #000; text-align: left;\">Used when a condition to stop looping is met early.</td>\n",
    "      <td style=\"border: 1px solid #000; text-align: left;\">Used to skip processing certain iterations based on condition.</td>\n",
    "    </tr>\n",
    "    <tr>\n",
    "      <td style=\"border: 1px solid #000; text-align: left;\">Typical Use Case</td>\n",
    "      <td style=\"border: 1px solid #000; text-align: left;\">Stop searching when item found in a list.</td>\n",
    "      <td style=\"border: 1px solid #000; text-align: left;\">Ignore certain values in loops (e.g., skip even numbers).</td>\n",
    "    </tr>\n",
    "    <tr>\n",
    "      <td style=\"border: 1px solid #000; text-align: left;\">Example</td>\n",
    "      <td style=\"border: 1px solid #000; text-align: left;\">\n",
    "        <pre style=\"margin:0;\">for i in range(1, 6):\n",
    "    if i == 3:\n",
    "        break\n",
    "    print(i)</pre>\n",
    "      </td>\n",
    "      <td style=\"border: 1px solid #000; text-align: left;\">\n",
    "        <pre style=\"margin:0;\">for i in range(1, 6):\n",
    "    if i == 3:\n",
    "        continue\n",
    "    print(i)</pre>\n",
    "      </td>\n",
    "    </tr>\n",
    "  </tbody>\n",
    "</table>\n"
   ]
  },
  {
   "cell_type": "markdown",
   "metadata": {},
   "source": [
    "#### Examples - "
   ]
  },
  {
   "cell_type": "markdown",
   "metadata": {},
   "source": [
    "###### Ex. Modify the 7up 7down program based on following rules - \n",
    "\n",
    "- Ask user his choice to play again as `yes/no`.\n",
    "- First round starts with amount balance as Rs. 1000. However, further rounds will be played on the balance amount generated from previous round. Example - in round 1 user earned Rs. 800. So for his next round amount will be Rs. 1,800 which is balance generated in previous round.\n",
    "- The game will terminate if user -\n",
    "    - choice to play again is `no`\n",
    "    - hits the `jackpot`\n",
    "    - has insufficient funds to play the next round."
   ]
  },
  {
   "cell_type": "code",
   "execution_count": null,
   "metadata": {},
   "outputs": [],
   "source": [
    "import random as r \n",
    "\n",
    "amount = 1000\n",
    "choice = \"yes\"\n",
    "\n",
    "while choice == \"yes\" :\n",
    "    outcome = r.randint(1, 14)\n",
    "    print(\"Your Score - \", outcome)\n",
    "    \n",
    "    if outcome < 7 :\n",
    "        amount -= (outcome * 100)\n",
    "    elif outcome > 7 :\n",
    "        amount += (outcome * 100)\n",
    "    else:\n",
    "        print(\"You have got jackpot!!!\")\n",
    "        amount += 100000\n",
    "        break\n",
    "\n",
    "    print(f\"Your current balance is - {amount}.\")\n",
    "    choice = input(\"Do you wish to continue? yes/no\").lower()\n",
    "    \n",
    "print(\"final balance - \", amount)"
   ]
  },
  {
   "cell_type": "markdown",
   "metadata": {},
   "source": [
    "#### range( `[start], stop, [step]`)\n",
    "\n",
    "- `start` - Optional. An integer number specifying at which position to start. Default is 0\n",
    "- `stop` - Required. An integer number specifying at which position to end.\u000b",
    "\n",
    "\n",
    "\n",
    "\n",
    "\n",
    "- `step` - Optional. An integer number specifying the incrementation. Default is 1"
   ]
  },
  {
   "cell_type": "markdown",
   "metadata": {},
   "source": [
    "###### Ex. WAP to print square of each number in range 1 - 10"
   ]
  },
  {
   "cell_type": "code",
   "execution_count": null,
   "metadata": {},
   "outputs": [],
   "source": [
    "range(1, 11) # generates sequence of numbers from 1 to 10"
   ]
  },
  {
   "cell_type": "code",
   "execution_count": null,
   "metadata": {},
   "outputs": [],
   "source": [
    "list(range(1, 11)) # range sequence object converted to list object"
   ]
  },
  {
   "cell_type": "code",
   "execution_count": null,
   "metadata": {},
   "outputs": [],
   "source": [
    "for i in range(1, 11) :\n",
    "    print(i, \" - \", i**2)"
   ]
  },
  {
   "cell_type": "markdown",
   "metadata": {},
   "source": [
    "###### Ex. WAP to perform summation and product of first 10 natural numbers"
   ]
  },
  {
   "cell_type": "code",
   "execution_count": null,
   "metadata": {},
   "outputs": [],
   "source": [
    "total = 0 \n",
    "for i in range(1, 11) :\n",
    "    total += i\n",
    "total"
   ]
  },
  {
   "cell_type": "code",
   "execution_count": null,
   "metadata": {},
   "outputs": [],
   "source": [
    "sum(range(1, 11))"
   ]
  },
  {
   "cell_type": "code",
   "execution_count": null,
   "metadata": {},
   "outputs": [],
   "source": [
    "import math\n",
    "math.prod(range(1, 11))"
   ]
  },
  {
   "cell_type": "markdown",
   "metadata": {},
   "source": [
    "###### Ex. WAP to calculate total amount credited to the account and total amount debited from account based on following transactions -"
   ]
  },
  {
   "cell_type": "code",
   "execution_count": null,
   "metadata": {},
   "outputs": [],
   "source": [
    "transactions = [2000, -500, 1500, -1200, -100, 3000]\n",
    "amt_c = 0 \n",
    "amt_d = 0\n",
    "\n",
    "for amt in transactions :\n",
    "    if amt > 0 :\n",
    "        amt_c += amt\n",
    "    else:\n",
    "        amt_d += abs(amt)\n",
    "print(f\"Amount Credited - Rs. {amt_c} and Amount debited - Rs. {amt_d}\")"
   ]
  },
  {
   "cell_type": "markdown",
   "metadata": {},
   "source": [
    "###### Ex. WAP to check if Jack is member of the list or not?"
   ]
  },
  {
   "cell_type": "code",
   "execution_count": null,
   "metadata": {},
   "outputs": [],
   "source": [
    "names = [\"Jack\", \"Jane\", \"Rosie\", \"Sam\"]\n",
    "\"Jack\" in names"
   ]
  },
  {
   "cell_type": "code",
   "execution_count": null,
   "metadata": {},
   "outputs": [],
   "source": [
    "\"George\" in names"
   ]
  },
  {
   "cell_type": "markdown",
   "metadata": {},
   "source": [
    "<hr><hr>"
   ]
  },
  {
   "cell_type": "markdown",
   "metadata": {
    "jp-MarkdownHeadingCollapsed": true
   },
   "source": [
    "## Sequence objects or Iterables"
   ]
  },
  {
   "attachments": {},
   "cell_type": "markdown",
   "metadata": {
    "jp-MarkdownHeadingCollapsed": true
   },
   "source": [
    "- collection of elements - str, range(), enumerate(), zip(), map(), filter()\n",
    "- Container sequences/Objects  - list, tuple, dict, set\n",
    "- Note -  range(), enumerate(), zip(), map(), filter() - these are generating non-readable output when printed.\n",
    "- Note - Any sequence can be converted to list/tuple\n",
    " \n",
    "\n",
    "#### `Operations on Generic Sequences`\n",
    "    - Membership - in | not in\n",
    "    - Iteration - for-loop`\n",
    "\n",
    "#### `Operations on Ordered/Indexed Sequences`\n",
    "    - Indexing - obj[index_pos]\n",
    "    - Slicing - obj[start : stop]\n",
    "    - Concatenation - `+` operator\n",
    "    - Repeatition - `*` operator\n",
    "\n",
    "#### `Functions on Generic Sequences`\n",
    "     - len() - gives the number of elements in the sequence\n",
    "     - max() - gives the largest element in the sequence\n",
    "     - min() - gives the smallest element in the sequence\n",
    "     - sum() - applicable to numeric sequences, returns the sum of all elements in the sequence\n",
    "     - math.prod() - applicable to numeric sequences, returns the product of all elements in the sequence\n",
    "     - sorted() - sorts the elements in the sequence in ASC order and returns a list object\n",
    "     "
   ]
  },
  {
   "cell_type": "markdown",
   "metadata": {},
   "source": [
    "### Python Sequences and Containers\n",
    "   "
   ]
  },
  {
   "cell_type": "markdown",
   "metadata": {},
   "source": [
    "<table style=\"width: 100%; border-collapse: collapse; border: 1px solid #ccc; text-align: center;\">\n",
    "  <thead>\n",
    "    <tr style=\"background-color: #050A30; color: white;\">\n",
    "      <th style=\"border: 1px solid #ccc; padding: 8px;\">Object</th>\n",
    "      <th style=\"border: 1px solid #ccc; padding: 8px;\">Container Object</th>\n",
    "      <th style=\"border: 1px solid #ccc; padding: 8px;\">Sequence Type</th>\n",
    "      <th style=\"border: 1px solid #ccc; padding: 8px;\">Element Type</th>\n",
    "      <th style=\"border: 1px solid #ccc; padding: 8px;\">Enclosed in</th>\n",
    "      <th style=\"border: 1px solid #ccc; padding: 8px;\">Immutability</th>\n",
    "      <th style=\"border: 1px solid #ccc; padding: 8px;\">Duplicates</th>\n",
    "    </tr>\n",
    "  </thead>\n",
    "  <tbody>\n",
    "    <tr>\n",
    "      <td style=\"border: 1px solid #ccc; padding: 8px;\">str()</td>\n",
    "      <td style=\"border: 1px solid #ccc; padding: 8px;\">No</td>\n",
    "      <td style=\"border: 1px solid #ccc; padding: 8px;\">ordered/indexed</td>\n",
    "      <td style=\"border: 1px solid #ccc; padding: 8px;\">characters</td>\n",
    "      <td style=\"border: 1px solid #ccc; padding: 8px;\">\"\" or ''</td>\n",
    "      <td style=\"border: 1px solid #ccc; padding: 8px;\">Yes</td>\n",
    "      <td style=\"border: 1px solid #ccc; padding: 8px;\">Yes</td>\n",
    "    </tr>\n",
    "    <tr>\n",
    "      <td style=\"border: 1px solid #ccc; padding: 8px;\">tuple()</td>\n",
    "      <td style=\"border: 1px solid #ccc; padding: 8px;\">Yes</td>\n",
    "      <td style=\"border: 1px solid #ccc; padding: 8px;\">ordered/indexed</td>\n",
    "      <td style=\"border: 1px solid #ccc; padding: 8px;\">mixed data (heterogeneous)</td>\n",
    "      <td style=\"border: 1px solid #ccc; padding: 8px;\">()</td>\n",
    "      <td style=\"border: 1px solid #ccc; padding: 8px;\">Yes</td>\n",
    "      <td style=\"border: 1px solid #ccc; padding: 8px;\">Yes</td>\n",
    "    </tr>\n",
    "    <tr>\n",
    "      <td style=\"border: 1px solid #ccc; padding: 8px;\">list()</td>\n",
    "      <td style=\"border: 1px solid #ccc; padding: 8px;\">Yes</td>\n",
    "      <td style=\"border: 1px solid #ccc; padding: 8px;\">ordered/indexed</td>\n",
    "      <td style=\"border: 1px solid #ccc; padding: 8px;\">mixed data (heterogeneous)</td>\n",
    "      <td style=\"border: 1px solid #ccc; padding: 8px;\">[]</td>\n",
    "      <td style=\"border: 1px solid #ccc; padding: 8px;\">No</td>\n",
    "      <td style=\"border: 1px solid #ccc; padding: 8px;\">Yes</td>\n",
    "    </tr>\n",
    "    <tr>\n",
    "      <td style=\"border: 1px solid #ccc; padding: 8px;\">set()</td>\n",
    "      <td style=\"border: 1px solid #ccc; padding: 8px;\">Yes</td>\n",
    "      <td style=\"border: 1px solid #ccc; padding: 8px;\">unordered</td>\n",
    "      <td style=\"border: 1px solid #ccc; padding: 8px;\">heterogeneous (immutable objects)</td>\n",
    "      <td style=\"border: 1px solid #ccc; padding: 8px;\">{}</td>\n",
    "      <td style=\"border: 1px solid #ccc; padding: 8px;\">No</td>\n",
    "      <td style=\"border: 1px solid #ccc; padding: 8px;\">No</td>\n",
    "    </tr>\n",
    "    <tr>\n",
    "      <td style=\"border: 1px solid #ccc; padding: 8px;\">dict()</td>\n",
    "      <td style=\"border: 1px solid #ccc; padding: 8px;\">Yes</td>\n",
    "      <td style=\"border: 1px solid #ccc; padding: 8px;\">unordered</td>\n",
    "      <td style=\"border: 1px solid #ccc; padding: 8px;\">Key - immutable<br>Value - any type</td>\n",
    "      <td style=\"border: 1px solid #ccc; padding: 8px;\">{}</td>\n",
    "      <td style=\"border: 1px solid #ccc; padding: 8px;\">No</td>\n",
    "      <td style=\"border: 1px solid #ccc; padding: 8px;\">Key - No<br>Value - Yes</td>\n",
    "    </tr>"
   ]
  },
  {
   "cell_type": "markdown",
   "metadata": {
    "jp-MarkdownHeadingCollapsed": true
   },
   "source": [
    "#### Operations on Indexed Sequences - Indexing and Slicing"
   ]
  },
  {
   "cell_type": "markdown",
   "metadata": {},
   "source": [
    "- Each character in a string has a unique index, starting from 0 for the first character up to n-1 for the last character, where n is the length of the string.\n",
    "\n",
    "- **Positive Indexing** - Positive indexing starts from 0 and goes up to n-1.\n",
    "    - Index 0 corresponds to the first character.\n",
    "    - Index 1 corresponds to the second character, and so on.\n",
    "      \n",
    "- **Negative Indexing** - Negative indexing starts from -1 for the last character and goes up to -n for the first character.\n",
    "    - Index -1 corresponds to the last character.\n",
    "    - Index -2 corresponds to the second last character, and so on.\n",
    "      \n",
    "- **Accessing Substrings** - You can also use slicing to access substrings. The syntax for slicing is `string[start:stop:step]` , where:\n",
    "    - start is the starting index (inclusive).\n",
    "    - stop is the ending index (exclusive).\n",
    "    - step is the step size (optional)."
   ]
  },
  {
   "cell_type": "markdown",
   "metadata": {},
   "source": [
    "###### Ex. Get the first 4-letter product category code"
   ]
  },
  {
   "cell_type": "code",
   "execution_count": null,
   "metadata": {},
   "outputs": [],
   "source": [
    "sku = \"ELEC-2025-00123\"\n",
    "sku[0]"
   ]
  },
  {
   "cell_type": "code",
   "execution_count": null,
   "metadata": {},
   "outputs": [],
   "source": [
    "sku[-1]"
   ]
  },
  {
   "cell_type": "code",
   "execution_count": null,
   "metadata": {},
   "outputs": [],
   "source": [
    "sku[0:4]"
   ]
  },
  {
   "cell_type": "code",
   "execution_count": null,
   "metadata": {},
   "outputs": [],
   "source": [
    "sku[5 : ] # position 5 onwards"
   ]
  },
  {
   "cell_type": "code",
   "execution_count": null,
   "metadata": {},
   "outputs": [],
   "source": [
    "sku[-5 : ]"
   ]
  },
  {
   "cell_type": "code",
   "execution_count": null,
   "metadata": {},
   "outputs": [],
   "source": [
    "route = [\"Delhi\", \"Agra\", \"Kanpur\", \"Lucknow\", \"Varanasi\"]\n",
    "route[1]"
   ]
  },
  {
   "cell_type": "code",
   "execution_count": null,
   "metadata": {},
   "outputs": [],
   "source": [
    "\"Agra\" in route"
   ]
  },
  {
   "cell_type": "code",
   "execution_count": null,
   "metadata": {},
   "outputs": [],
   "source": [
    "\"A\" in route"
   ]
  },
  {
   "cell_type": "markdown",
   "metadata": {},
   "source": [
    "###### Ex. Reverse the words in the list"
   ]
  },
  {
   "cell_type": "code",
   "execution_count": null,
   "metadata": {},
   "outputs": [],
   "source": [
    "route = [\"Delhi\", \"Agra\", \"Kanpur\", \"Lucknow\", \"Varanasi\"]\n",
    "route.reverse()\n",
    "route"
   ]
  },
  {
   "cell_type": "code",
   "execution_count": null,
   "metadata": {},
   "outputs": [],
   "source": [
    "route = [\"Delhi\", \"Agra\", \"Kanpur\", \"Lucknow\", \"Varanasi\"]\n",
    "route[::-1] # reverse any ordered sequence"
   ]
  },
  {
   "cell_type": "code",
   "execution_count": null,
   "metadata": {},
   "outputs": [],
   "source": [
    "sorted(route)[::-1]"
   ]
  },
  {
   "cell_type": "code",
   "execution_count": null,
   "metadata": {},
   "outputs": [],
   "source": [
    "sorted(route, reverse=True) # sorts the list in DESC order"
   ]
  },
  {
   "cell_type": "markdown",
   "metadata": {},
   "source": [
    "##### Note - Everything in python is an object"
   ]
  },
  {
   "cell_type": "code",
   "execution_count": null,
   "metadata": {},
   "outputs": [],
   "source": [
    "x = 10\n",
    "print(type(x))"
   ]
  },
  {
   "cell_type": "markdown",
   "metadata": {
    "jp-MarkdownHeadingCollapsed": true
   },
   "source": [
    "#### Methods in Python"
   ]
  },
  {
   "cell_type": "markdown",
   "metadata": {},
   "source": [
    "In Python, **methods** are functions that are associated with objects and can be called on those objects to perform specific operations. When we talk about methods with respect to data types like lists, strings, and dictionaries, these methods allow you to manipulate and interact with the data in those objects in useful ways.\n",
    "\n",
    "- **List Methods:**  \n",
    "  Lists are ordered, mutable sequences. List methods let you modify the list, add or remove elements, or query its contents. For example, methods like `.append()`, `.remove()`, `.extend()`, `.pop()`, `.sort()`, and `.reverse()` allow you to efficiently manage list items.\n",
    "\n",
    "- **String (str) Methods:**  \n",
    "  Strings are immutable sequences of characters. String methods enable you to manipulate text, such as changing case (`.upper()`, `.lower()`), searching and replacing (`.find()`, `.replace()`), splitting and joining (`.split()`, `.join()`), trimming whitespace (`.strip()`), and formatting (`.format()`).\n",
    "\n",
    "- **Dictionary (dict) Methods:**  \n",
    "  Dictionaries are unordered collections of key-value pairs. Dictionary methods allow you to access, update, or modify these pairs. Common methods include `.keys()`, `.values()`, `.items()`, `.get()`, `.pop()`, `.update()`, and `.clear()`.\n",
    "\n",
    "In summary, **methods are built-in functions tailored for the data type that allow you to perform actions and manipulate the data efficiently without needing to write those functions from scratch.**"
   ]
  },
  {
   "cell_type": "code",
   "execution_count": null,
   "metadata": {},
   "outputs": [],
   "source": [
    "print(dir(str))"
   ]
  },
  {
   "cell_type": "markdown",
   "metadata": {
    "jp-MarkdownHeadingCollapsed": true
   },
   "source": [
    "#### Examples - "
   ]
  },
  {
   "cell_type": "markdown",
   "metadata": {},
   "source": [
    "###### Ex. WAP to convert the given sales value to int. profit = ($1,200)"
   ]
  },
  {
   "cell_type": "code",
   "execution_count": null,
   "metadata": {},
   "outputs": [],
   "source": [
    "profit = \"($1,200)\"  # o/p - 1200\n",
    "int(profit.replace(\"(\", \"-\").replace(\"$\", \"\").replace(\",\", \"\").replace(\")\", \"\"))"
   ]
  },
  {
   "cell_type": "code",
   "execution_count": null,
   "metadata": {},
   "outputs": [],
   "source": [
    "profit = \"-$1,200\"\n",
    "trans_obj = str.maketrans(\"(\", \"-\", \"$,)\")\n",
    "int(profit.translate(trans_obj))"
   ]
  },
  {
   "cell_type": "markdown",
   "metadata": {},
   "source": [
    "###### Ex. WAP to replace all the vowels in the string with *"
   ]
  },
  {
   "cell_type": "code",
   "execution_count": null,
   "metadata": {},
   "outputs": [],
   "source": [
    "strg = \"singapore\"\n",
    "trans_obj = str.maketrans(\"aeiou\", \"*****\")\n",
    "strg.translate(trans_obj)"
   ]
  },
  {
   "cell_type": "code",
   "execution_count": null,
   "metadata": {},
   "outputs": [],
   "source": [
    "strg = \"singapore\"\n",
    "for ch in \"aeiou\" :\n",
    "    strg = strg.replace(ch, \"*\")\n",
    "strg"
   ]
  },
  {
   "cell_type": "code",
   "execution_count": null,
   "metadata": {},
   "outputs": [],
   "source": [
    "strg.replace(\"a\", \"*\")"
   ]
  },
  {
   "cell_type": "code",
   "execution_count": null,
   "metadata": {},
   "outputs": [],
   "source": [
    "strg"
   ]
  },
  {
   "cell_type": "markdown",
   "metadata": {},
   "source": [
    "##### Note - str is immutable"
   ]
  },
  {
   "cell_type": "markdown",
   "metadata": {
    "jp-MarkdownHeadingCollapsed": true
   },
   "source": [
    "#### Tuples"
   ]
  },
  {
   "cell_type": "code",
   "execution_count": null,
   "metadata": {},
   "outputs": [],
   "source": [
    "tup = (1, 2, 3, 4)\n",
    "tup"
   ]
  },
  {
   "cell_type": "code",
   "execution_count": null,
   "metadata": {},
   "outputs": [],
   "source": [
    "tup[0]"
   ]
  },
  {
   "cell_type": "markdown",
   "metadata": {
    "jp-MarkdownHeadingCollapsed": true
   },
   "source": [
    "#### Lists"
   ]
  },
  {
   "cell_type": "code",
   "execution_count": null,
   "metadata": {},
   "outputs": [],
   "source": [
    "route = [\"Delhi\", \"Agra\", \"Kanpur\", \"Lucknow\", \"Varanasi\"]"
   ]
  },
  {
   "cell_type": "code",
   "execution_count": null,
   "metadata": {},
   "outputs": [],
   "source": [
    "route[0]"
   ]
  },
  {
   "cell_type": "code",
   "execution_count": null,
   "metadata": {},
   "outputs": [],
   "source": [
    "route.append(\"Mumbai\")\n",
    "route"
   ]
  },
  {
   "cell_type": "code",
   "execution_count": null,
   "metadata": {},
   "outputs": [],
   "source": [
    "route.pop()\n",
    "route"
   ]
  },
  {
   "cell_type": "code",
   "execution_count": null,
   "metadata": {},
   "outputs": [],
   "source": [
    "route.remove(\"Agra\")\n",
    "route"
   ]
  },
  {
   "cell_type": "code",
   "execution_count": null,
   "metadata": {},
   "outputs": [],
   "source": [
    "route.sort() # method - sort the original list\n",
    "route"
   ]
  },
  {
   "cell_type": "code",
   "execution_count": null,
   "metadata": {},
   "outputs": [],
   "source": [
    "sorted(route) # function returns a new list obj"
   ]
  },
  {
   "cell_type": "code",
   "execution_count": null,
   "metadata": {},
   "outputs": [],
   "source": [
    "sorted(\"delhi\")"
   ]
  },
  {
   "cell_type": "markdown",
   "metadata": {
    "jp-MarkdownHeadingCollapsed": true
   },
   "source": [
    "#### Dictionaries"
   ]
  },
  {
   "cell_type": "code",
   "execution_count": null,
   "metadata": {},
   "outputs": [],
   "source": [
    "countries = {\"India\" : \"INR\", \"UK\" : \"GBP\", \"USA\" : \"USD\"}"
   ]
  },
  {
   "cell_type": "code",
   "execution_count": null,
   "metadata": {},
   "outputs": [],
   "source": [
    "countries[\"India\"]"
   ]
  },
  {
   "cell_type": "code",
   "execution_count": null,
   "metadata": {},
   "outputs": [],
   "source": [
    "countries[\"Japan\"]"
   ]
  },
  {
   "cell_type": "code",
   "execution_count": null,
   "metadata": {},
   "outputs": [],
   "source": [
    "countries.get(\"India\")"
   ]
  },
  {
   "cell_type": "code",
   "execution_count": null,
   "metadata": {},
   "outputs": [],
   "source": [
    "print(countries.get(\"Japan\"))"
   ]
  },
  {
   "cell_type": "code",
   "execution_count": null,
   "metadata": {},
   "outputs": [],
   "source": [
    "print(countries.get(\"Japan\", \"country not present\"))"
   ]
  },
  {
   "cell_type": "code",
   "execution_count": null,
   "metadata": {},
   "outputs": [],
   "source": [
    "countries = {\"India\" : \"INR\", \"UK\" : \"GBP\", \"USA\" : \"USD\"}\n",
    "for i in countries :\n",
    "    print(i, \" - \", countries[i])"
   ]
  },
  {
   "cell_type": "code",
   "execution_count": null,
   "metadata": {},
   "outputs": [],
   "source": [
    "countries.items() # generates a sequence of tuples of key value pairs"
   ]
  },
  {
   "cell_type": "code",
   "execution_count": null,
   "metadata": {},
   "outputs": [],
   "source": [
    "for i in countries.items():\n",
    "    print(i[0], \" - \", i[1])"
   ]
  },
  {
   "cell_type": "markdown",
   "metadata": {},
   "source": [
    "### Python `str` methods"
   ]
  },
  {
   "cell_type": "markdown",
   "metadata": {},
   "source": [
    "<table style=\"width: 100%; border-collapse: collapse; border: 1px solid #ccc; text-align: left;\">\n",
    "  <thead>\n",
    "    <tr style=\"background-color: #050A30; color: white;\">\n",
    "      <th style=\"width: 20%\"\">Method</th>\n",
    "      <th>Description</th>\n",
    "      <th>Example</th>\n",
    "    </tr>\n",
    "  </thead>\n",
    "  <tbody>\n",
    "    <tr>\n",
    "      <td><code>lower()</code></td>\n",
    "      <td>Converts string to lowercase.</td>\n",
    "      <td><code>\"Hello\".lower()</code> → <code>\"hello\"</code></td>\n",
    "    </tr>\n",
    "    <tr>\n",
    "      <td><code>upper()</code></td>\n",
    "      <td>Converts string to uppercase.</td>\n",
    "      <td><code>\"Hello\".upper()</code> → <code>\"HELLO\"</code></td>\n",
    "    </tr>\n",
    "    <tr>\n",
    "      <td><code>title()</code></td>\n",
    "      <td>Converts string to title case.</td>\n",
    "      <td><code>\"hello world\".title()</code> → <code>\"Hello World\"</code></td>\n",
    "    </tr>\n",
    "    <tr>\n",
    "      <td><code>capitalize()</code></td>\n",
    "      <td>Capitalizes the first letter.</td>\n",
    "      <td><code>\"python\".capitalize()</code> → <code>\"Python\"</code></td>\n",
    "    </tr>\n",
    "    <tr>\n",
    "      <td><code>strip()</code></td>\n",
    "      <td>Removes leading and trailing spaces.</td>\n",
    "      <td><code>\"  hello  \".strip()</code> → <code>\"hello\"</code></td>\n",
    "    </tr>\n",
    "    <tr>\n",
    "      <td><code>lstrip()</code></td>\n",
    "      <td>Removes leading spaces.</td>\n",
    "      <td><code>\"  hello\".lstrip()</code> → <code>\"hello\"</code></td>\n",
    "    </tr>\n",
    "    <tr>\n",
    "      <td><code>rstrip()</code></td>\n",
    "      <td>Removes trailing spaces.</td>\n",
    "      <td><code>\"hello  \".rstrip()</code> → <code>\"hello\"</code></td>\n",
    "    </tr>\n",
    "    <tr>\n",
    "      <td><code>replace(old, new)</code></td>\n",
    "      <td>Replaces occurrences of a substring.</td>\n",
    "      <td><code>\"hello world\".replace(\"world\", \"Python\")</code> → <code>\"hello Python\"</code></td>\n",
    "    </tr>\n",
    "    <tr>\n",
    "      <td><code>split(sep)</code></td>\n",
    "      <td>Splits string into a list.</td>\n",
    "      <td><code>\"a,b,c\".split(\",\")</code> → <code>['a','b','c']</code></td>\n",
    "    </tr>\n",
    "    <tr>\n",
    "      <td><code>join(iterable)</code></td>\n",
    "      <td>Joins iterable items into a string.</td>\n",
    "      <td><code>\",\".join([\"a\",\"b\",\"c\"])</code> → <code>\"a,b,c\"</code></td>\n",
    "    </tr>\n",
    "    <tr>\n",
    "      <td><code>find(sub)</code></td>\n",
    "      <td>Returns index of first occurrence, or <code>-1</code>.</td>\n",
    "      <td><code>\"hello\".find(\"e\")</code> → <code>1</code></td>\n",
    "    </tr>\n",
    "    <tr>\n",
    "      <td><code>index(sub)</code></td>\n",
    "      <td>Returns index of first occurrence (raises error if not found).</td>\n",
    "      <td><code>\"hello\".index(\"e\")</code> → <code>1</code></td>\n",
    "    </tr>\n",
    "    <tr>\n",
    "      <td><code>count(sub)</code></td>\n",
    "      <td>Counts occurrences of substring.</td>\n",
    "      <td><code>\"banana\".count(\"a\")</code> → <code>3</code></td>\n",
    "    </tr>\n",
    "    <tr>\n",
    "      <td><code>startswith(prefix)</code></td>\n",
    "      <td>Checks if string starts with given prefix.</td>\n",
    "      <td><code>\"hello\".startswith(\"he\")</code> → <code>True</code></td>\n",
    "    </tr>\n",
    "    <tr>\n",
    "      <td><code>endswith(suffix)</code></td>\n",
    "      <td>Checks if string ends with given suffix.</td>\n",
    "      <td><code>\"hello\".endswith(\"lo\")</code> → <code>True</code></td>\n",
    "    </tr>\n",
    "    <tr>\n",
    "      <td><code>isalnum()</code></td>\n",
    "      <td>True if all characters are alphanumeric.</td>\n",
    "      <td><code>\"abc123\".isalnum()</code> → <code>True</code></td>\n",
    "    </tr>\n",
    "    <tr>\n",
    "      <td><code>isalpha()</code></td>\n",
    "      <td>True if all characters are alphabets.</td>\n",
    "      <td><code>\"hello\".isalpha()</code> → <code>True</code></td>\n",
    "    </tr>\n",
    "    <tr>\n",
    "      <td><code>isdigit()</code></td>\n",
    "      <td>True if all characters are digits.</td>\n",
    "      <td><code>\"1234\".isdigit()</code> → <code>True</code></td>\n",
    "    </tr>\n",
    "    <tr>\n",
    "      <td><code>islower()</code></td>\n",
    "      <td>True if all letters are lowercase.</td>\n",
    "      <td><code>\"hello\".islower()</code> → <code>True</code></td>\n",
    "    </tr>\n",
    "    <tr>\n",
    "      <td><code>isupper()</code></td>\n",
    "      <td>True if all letters are uppercase.</td>\n",
    "      <td><code>\"HELLO\".isupper()</code> → <code>True</code></td>\n",
    "    </tr>\n",
    "    <tr>\n",
    "      <td><code>swapcase()</code></td>\n",
    "      <td>Swaps lowercase and uppercase characters.</td>\n",
    "      <td><code>\"Hello\".swapcase()</code> → <code>\"hELLO\"</code></td>\n",
    "    </tr>\n",
    "    <tr>\n",
    "      <td><code>zfill(width)</code></td>\n",
    "      <td>Pads string with leading zeros to given width.</td>\n",
    "      <td><code>\"42\".zfill(5)</code> → <code>\"00042\"</code></td>\n",
    "    </tr>\n",
    "    <tr>\n",
    "      <td><code>center(width, char)</code></td>\n",
    "      <td>Centers string with given width and fill character.</td>\n",
    "      <td><code>\"hi\".center(5, \"*\")</code> → <code>\"**hi*\"</code></td>\n",
    "    </tr>\n",
    "    <tr>\n",
    "      <td><code>format()</code></td>\n",
    "      <td>Formats string using placeholders.</td>\n",
    "      <td><code>\"Hello {}\".format(\"World\")</code> → <code>\"Hello World\"</code></td>\n",
    "    </tr>\n",
    "    <tr>\n",
    "      <td><code>f-strings</code></td>\n",
    "      <td>Inline variable interpolation (Python 3.6+).</td>\n",
    "      <td><code>name=\"John\"; f\"Hello {name}\"</code> → <code>\"Hello John\"</code></td>\n",
    "    </tr>\n",
    "  </tbody>\n",
    "</table>"
   ]
  },
  {
   "cell_type": "markdown",
   "metadata": {},
   "source": [
    "### Python Lists, Tuple, Dict - Cheasheet"
   ]
  },
  {
   "cell_type": "markdown",
   "metadata": {},
   "source": [
    "<table style=\"width: 100%; border-collapse: collapse; border: 1px solid #ccc; text-align: left;\">\n",
    "  <thead>\n",
    "    <tr style=\"background-color: #050A30; color: white;\">\n",
    "      <th class=\"topic\"style=\"width: 10%\"\">Topic</th>\n",
    "      <th>List (<code>list</code>)</th>\n",
    "      <th>Tuple (<code>tuple</code>)</th>\n",
    "      <th>Dictionary (<code>dict</code>)</th>\n",
    "    </tr>\n",
    "  </thead>\n",
    "  <tbody>\n",
    "    <tr>\n",
    "      <td class=\"topic\">Nature</td>\n",
    "      <td>Mutable, ordered, allows duplicates.</td>\n",
    "      <td>Immutable, ordered, allows duplicates. Faster & memory-efficient.</td>\n",
    "      <td>Mutable, key–value mapping. Insertion order preserved (3.7+).</td>\n",
    "    </tr>\n",
    "    <tr>\n",
    "      <td class=\"topic\">Create</td>\n",
    "      <td><pre><code>nums = [1, 2, 3]\n",
    "mixed = [1, \"a\", True, 3.5]\n",
    "empty = list()</code></pre></td>\n",
    "      <td><pre><code>t1 = (1, 2, 3)\n",
    "t2 = tuple([4, 5])\n",
    "single = (10,)</code></pre></td>\n",
    "      <td><pre><code>person = {\"name\": \"John\", \"age\": 30}\n",
    "person2 = dict(name=\"Alice\", age=25)\n",
    "empty = {}</code></pre></td>\n",
    "    </tr>\n",
    "    <tr>\n",
    "      <td class=\"topic\">Add / Remove</td>\n",
    "      <td><pre><code>nums.append(5)\n",
    "nums.insert(2, 10)\n",
    "nums.extend([6, 7])\n",
    "nums.remove(10)\n",
    "nums.pop()      # last\n",
    "nums.pop(1)     # by index\n",
    "nums.clear()</code></pre></td>\n",
    "      <td>N/A (immutable)</td>\n",
    "      <td><pre><code>person[\"age\"] = 31 # add/update\n",
    "del person[\"age\"]\n",
    "person.pop(\"name\")\n",
    "person.clear()</code></pre></td>\n",
    "    </tr>\n",
    "    <tr>\n",
    "      <td class=\"topic\">Access / Slice</td>\n",
    "      <td><pre><code>nums[0], nums[-1]\n",
    "nums[1:3]\n",
    "nums[::-1]</code></pre></td>\n",
    "      <td><pre><code>t1[0], t1[-1]\n",
    "t1[1:3]</code></pre></td>\n",
    "      <td><pre><code>person[\"name\"]\n",
    "person.get(\"email\", \"N/A\")</code></pre></td>\n",
    "    </tr>\n",
    "    <tr>\n",
    "      <td class=\"topic\">Search / Check</td>\n",
    "      <td><pre><code>3 in nums\n",
    "nums.index(3)\n",
    "nums.count(3)</code></pre></td>\n",
    "      <td><pre><code>2 in t1\n",
    "t1.index(3)\n",
    "t1.count(2)</code></pre></td>\n",
    "      <td><pre><code>\"name\" in person\n",
    "\"salary\" not in person</code></pre></td>\n",
    "    </tr>\n",
    "    <tr>\n",
    "      <td class=\"topic\">Sort / Reverse</td>\n",
    "      <td><pre><code>nums.sort()\n",
    "nums.sort(reverse=True)\n",
    "sorted_nums = sorted(nums)\n",
    "nums.reverse()</code></pre></td>\n",
    "      <td>—</td>\n",
    "      <td>—</td>\n",
    "    </tr>\n",
    "    <tr>\n",
    "      <td class=\"topic\">Iterate</td>\n",
    "      <td><pre><code>for x in nums: ...\n",
    "for i, x in enumerate(nums): ...</code></pre></td>\n",
    "      <td><pre><code>for x in t1: ...\n",
    "for i, x in enumerate(t1): ...</code></pre></td>\n",
    "      <td><pre><code>for k in person: ...\n",
    "for v in person.values(): ...\n",
    "for k, v in person.items(): ...</code></pre></td>\n",
    "    </tr>"
   ]
  },
  {
   "cell_type": "markdown",
   "metadata": {},
   "source": [
    "#### Examples - "
   ]
  },
  {
   "cell_type": "markdown",
   "metadata": {},
   "source": [
    "###### Ex. WAP to extract only the error messages from the list. Display only the message removing ERROR keyword from the message"
   ]
  },
  {
   "cell_type": "code",
   "execution_count": null,
   "metadata": {},
   "outputs": [],
   "source": [
    "logs = [\"INFO: Service started\", \"ERROR: Timeout\", \"INFO: Connection established\", \"ERROR: Invalid input\"]\n",
    "for msg in logs :\n",
    "    if \"ERROR\" in msg :\n",
    "        print(msg.removeprefix(\"ERROR: \"))"
   ]
  },
  {
   "cell_type": "markdown",
   "metadata": {},
   "source": [
    "###### Ex. WAP to generate a list of all devices that are currently \"Offline\""
   ]
  },
  {
   "cell_type": "code",
   "execution_count": null,
   "metadata": {},
   "outputs": [],
   "source": [
    "devices = {\"Router\": \"Online\", \"Switch\": \"Offline\", \"Firewall\": \"Online\", \"AccessPoint\": \"Offline\"}\n",
    "offline_devices = []\n",
    "for device in devices :\n",
    "    if devices[device] == \"Offline\":\n",
    "        offline_devices.append(device)\n",
    "print(offline_devices)"
   ]
  },
  {
   "cell_type": "markdown",
   "metadata": {},
   "source": [
    "###### Ex. Remove offline devices from the dict"
   ]
  },
  {
   "cell_type": "code",
   "execution_count": null,
   "metadata": {},
   "outputs": [],
   "source": [
    "for device in devices :\n",
    "    if devices[device] == \"Offline\":\n",
    "        devices.pop(device)\n",
    "devices"
   ]
  },
  {
   "cell_type": "code",
   "execution_count": null,
   "metadata": {},
   "outputs": [],
   "source": [
    "# option 1\n",
    "for off_dev in offline_devices :\n",
    "    devices.pop(off_dev)\n",
    "devices"
   ]
  },
  {
   "cell_type": "code",
   "execution_count": null,
   "metadata": {},
   "outputs": [],
   "source": [
    "# option 2\n",
    "devices = {\"Router\": \"Online\", \"Switch\": \"Offline\", \"Firewall\": \"Online\", \"AccessPoint\": \"Offline\"}\n",
    "online_devices = {}\n",
    "for device in devices :\n",
    "    if devices[device] != \"Offline\":\n",
    "        online_devices[device] = devices[device]\n",
    "online_devices"
   ]
  },
  {
   "cell_type": "code",
   "execution_count": null,
   "metadata": {},
   "outputs": [],
   "source": [
    "devices.keys()"
   ]
  },
  {
   "cell_type": "code",
   "execution_count": null,
   "metadata": {},
   "outputs": [],
   "source": [
    "devices.values()"
   ]
  },
  {
   "cell_type": "code",
   "execution_count": null,
   "metadata": {},
   "outputs": [],
   "source": [
    "devices.items() # tuples of key-values"
   ]
  },
  {
   "cell_type": "code",
   "execution_count": null,
   "metadata": {},
   "outputs": [],
   "source": [
    "devices = {\"Router\": \"Online\", \"Switch\": \"Offline\", \"Firewall\": \"Online\", \"AccessPoint\": \"Offline\"}\n",
    "online_devices = {}\n",
    "for device in devices.items() :\n",
    "    if device[1] != \"Offline\":\n",
    "        online_devices[device[0]] = device[1]\n",
    "online_devices"
   ]
  },
  {
   "cell_type": "markdown",
   "metadata": {},
   "source": [
    "###### Ex. Write a program to combine two lists, one containing product names and the other containing sales figures, to generate a consolidated report."
   ]
  },
  {
   "cell_type": "code",
   "execution_count": null,
   "metadata": {},
   "outputs": [],
   "source": [
    "# Lists containing product names and their corresponding sales figures\n",
    "products = [\"Laptop\", \"Smartphone\", \"Headphones\", \"Keyboard\"]\n",
    "sales = [150, 300, 120, 90]\n",
    "\n",
    "zip(products, sales)"
   ]
  },
  {
   "cell_type": "markdown",
   "metadata": {
    "jp-MarkdownHeadingCollapsed": true
   },
   "source": [
    "**zip(`list1`, `list2`, ...)**\n",
    "- the zip() function is used to combine multiple iterables (such as lists, tuples, or strings) into a single iterable of tuples.\n",
    "- Each tuple contains elements from the input iterables at corresponding positions.\n",
    "- It effectively \"zips\" together the elements from the provided iterables, creating pairs (or n-tuples) of elements."
   ]
  },
  {
   "cell_type": "code",
   "execution_count": null,
   "metadata": {},
   "outputs": [],
   "source": [
    "range(1, 11)"
   ]
  },
  {
   "cell_type": "markdown",
   "metadata": {},
   "source": [
    "##### Note - Any sequence which is generating non-printable output can be viewd by converting it to a list/tuple"
   ]
  },
  {
   "cell_type": "code",
   "execution_count": null,
   "metadata": {},
   "outputs": [],
   "source": [
    "list(zip(products, sales))"
   ]
  },
  {
   "cell_type": "code",
   "execution_count": null,
   "metadata": {},
   "outputs": [],
   "source": [
    "dict(zip(products, sales)) # output of zip() can be converted to a dict when there are only two lists"
   ]
  },
  {
   "cell_type": "markdown",
   "metadata": {
    "jp-MarkdownHeadingCollapsed": true
   },
   "source": [
    "## Packing/Unpacking of Tuples - "
   ]
  },
  {
   "cell_type": "markdown",
   "metadata": {},
   "source": [
    "- In Python, unpacking of tuples refers to the process of assigning the individual elements of a tuple to multiple variables in a single statement.\n",
    "- This feature allows you to extract values from a tuple and assign them to distinct variables in a convenient and readable way."
   ]
  },
  {
   "cell_type": "code",
   "execution_count": null,
   "metadata": {},
   "outputs": [],
   "source": [
    "1,2,3 # when values are placed in comma seperated format it packs it into a tuple"
   ]
  },
  {
   "cell_type": "code",
   "execution_count": null,
   "metadata": {},
   "outputs": [],
   "source": [
    "tup = 1, 2, 3\n",
    "tup"
   ]
  },
  {
   "cell_type": "code",
   "execution_count": null,
   "metadata": {},
   "outputs": [],
   "source": [
    "a, b, c = tup\n",
    "a"
   ]
  },
  {
   "cell_type": "markdown",
   "metadata": {},
   "source": [
    "#### Applications - "
   ]
  },
  {
   "cell_type": "markdown",
   "metadata": {},
   "source": [
    "**1. Defining multiple variables in a single line**"
   ]
  },
  {
   "cell_type": "code",
   "execution_count": null,
   "metadata": {},
   "outputs": [],
   "source": [
    "name, age = \"Jane\", 30\n",
    "print(f\"Name - {name} | Age - {age}\")"
   ]
  },
  {
   "cell_type": "markdown",
   "metadata": {},
   "source": [
    "**2. Function returning multiple values**"
   ]
  },
  {
   "cell_type": "code",
   "execution_count": null,
   "metadata": {},
   "outputs": [],
   "source": [
    "def func(num) :\n",
    "    sq = num**2\n",
    "    cu = num**3\n",
    "    return sq, cu # packing of tuples"
   ]
  },
  {
   "cell_type": "code",
   "execution_count": null,
   "metadata": {},
   "outputs": [],
   "source": [
    "func(5)"
   ]
  },
  {
   "cell_type": "code",
   "execution_count": null,
   "metadata": {},
   "outputs": [],
   "source": [
    "square, cube = func(5) # unpacking of tuple\n",
    "print(square, cube)"
   ]
  },
  {
   "cell_type": "markdown",
   "metadata": {},
   "source": [
    "###### Ex. Create a bar chart showing product wise sales and profit"
   ]
  },
  {
   "cell_type": "code",
   "execution_count": null,
   "metadata": {},
   "outputs": [],
   "source": [
    "import matplotlib.pyplot as plt\n",
    "\n",
    "products = [\"Laptop\", \"Smartphone\", \"Headphones\", \"Keyboard\"]\n",
    "sales = [150, 300, 120, 90]\n",
    "profits = [50, 30, 10, 8]\n",
    "\n",
    "fig, axes = plt.subplots(nrows=2, figsize=(10, 4)) # unpacking of tuples\n",
    "axes[0].bar(products, sales)\n",
    "axes[1].bar(products, profits)"
   ]
  },
  {
   "cell_type": "markdown",
   "metadata": {},
   "source": [
    "**3. for-loop with multiple variables**"
   ]
  },
  {
   "cell_type": "code",
   "execution_count": null,
   "metadata": {},
   "outputs": [],
   "source": [
    "for device, status in devices.items() :\n",
    "    if status == \"Offline\" :\n",
    "        print(device)"
   ]
  },
  {
   "cell_type": "code",
   "execution_count": null,
   "metadata": {},
   "outputs": [],
   "source": [
    "for prod, sal in zip(products, sales):\n",
    "    print(f\"{prod} has generate {sal} sales.\")"
   ]
  },
  {
   "cell_type": "markdown",
   "metadata": {},
   "source": [
    "###### Ex. Each sub-tuple contains defect counts in three categories for a batch of products, with each count representing a different defect type. Calculate and display the total defect percentage for each batch with batch numbers."
   ]
  },
  {
   "cell_type": "code",
   "execution_count": null,
   "metadata": {},
   "outputs": [],
   "source": [
    "# Sample data: each sub-tuple contains defect counts in three categories for a batch of products\n",
    "defect_data = (\n",
    "    (5, 3, 2),  # Batch 1\n",
    "    (1, 4, 0),  # Batch 2\n",
    "    (7, 6, 3),  # Batch 3\n",
    "    (2, 1, 1)   # Batch 4\n",
    ")\n",
    "\n",
    "# Total number of products in each batch\n",
    "total_products_per_batch = 80\n",
    "\n",
    "for counter, data in enumerate(defect_data, start = 1) :\n",
    "    percentage = round(sum(data)/total_products_per_batch * 100, 1)\n",
    "    print(f\"Batch #{counter} has {percentage}% defects.\")"
   ]
  },
  {
   "cell_type": "code",
   "execution_count": null,
   "metadata": {},
   "outputs": [],
   "source": [
    "list(enumerate(products, start = 1))"
   ]
  },
  {
   "cell_type": "markdown",
   "metadata": {},
   "source": [
    "**enumerate(`seq`, `start = 0`)**\n",
    "- The enumerate() function adds a counter to an iterable (such as a list, tuple, or string) and returns it as an enumerate object(sqe object).\n",
    "- Enumerate object - sequence of tuples of size 2; with first element as the counter and second element is the element from iterable.\n",
    "##### Note - enumerate object is not readable when printed. But can be iterated using for-loop or can be converted to a list/tuple"
   ]
  },
  {
   "cell_type": "markdown",
   "metadata": {},
   "source": [
    "###### Ex. Given a tuple ratings containing audience ratings for a training course across various categories, each scored out of 5, write a Python function to calculate the final rating. \n",
    "\n",
    "The final rating should be determined by adding the first value which refers to trainer ratings and the average of the remaining values which refer to platflorm ratings like labs, hardware, duration etc."
   ]
  },
  {
   "cell_type": "code",
   "execution_count": null,
   "metadata": {},
   "outputs": [],
   "source": [
    "ratings = ((4.5, 4.9, 3.4, 4, 4.3), (4.7, 4.3, 3.9, 4, 4.3), (4.8, 4.1, 4, 4, 4.3), (4.7, 4.3, 4.4, 4, 3.3))\n",
    "\n",
    "for i in ratings :\n",
    "    print(sum(i)/len(i))"
   ]
  },
  {
   "cell_type": "code",
   "execution_count": null,
   "metadata": {},
   "outputs": [],
   "source": [
    "ratings = ((4.5, 4.9, 3.4, 4, 4.3), (4.7, 4.3, 3.9, 4, 4.3), (4.8, 4.1, 4, 4, 4.3), (4.7, 4.3, 4.4, 4, 3.3))\n",
    "\n",
    "for a, b, c, d, e in ratings :\n",
    "    print(f\"trainer rating - {a}, | Others - {(b+c+d+e)/4}\")"
   ]
  },
  {
   "cell_type": "code",
   "execution_count": null,
   "metadata": {},
   "outputs": [],
   "source": [
    "trainer_rating, *lab_rating = (4.5, 4.9, 3.4, 4, 4.3) # unpacking of tuple\n",
    "print(trainer_rating)\n",
    "print(lab_rating)"
   ]
  },
  {
   "cell_type": "code",
   "execution_count": null,
   "metadata": {},
   "outputs": [],
   "source": [
    "*lab_rating, trainer_rating = (4.5, 4.9, 3.4, 4, 4.3)\n",
    "print(trainer_rating)\n",
    "print(lab_rating)"
   ]
  },
  {
   "cell_type": "code",
   "execution_count": null,
   "metadata": {},
   "outputs": [],
   "source": [
    "for trainer_rating, *lab_rating in ratings :\n",
    "    print(f\"trainer rating - {trainer_rating}, | Others - {sum(lab_rating)/4}\")"
   ]
  },
  {
   "cell_type": "markdown",
   "metadata": {
    "jp-MarkdownHeadingCollapsed": true
   },
   "source": [
    "## Comprehensions in Python"
   ]
  },
  {
   "cell_type": "code",
   "execution_count": null,
   "metadata": {},
   "outputs": [],
   "source": [
    "# Calculate sum of squares of numbers from 1-5 - reducing the sequnce to a single value(summation)\n",
    "total = 0\n",
    "for i in range(1, 6) :\n",
    "    total += i**2\n",
    "total"
   ]
  },
  {
   "cell_type": "code",
   "execution_count": null,
   "metadata": {},
   "outputs": [],
   "source": [
    "# Generate a list of squares of numbers from 1-5 - comprehension\n",
    "squares = []\n",
    "for i in range(1, 6) :\n",
    "    squares.append(i**2)\n",
    "squares"
   ]
  },
  {
   "cell_type": "markdown",
   "metadata": {},
   "source": [
    "- A **`comprehension`** is a concise and readable way to create and manipulate collections such as lists, dictionaries, and sets.\n",
    "- Comprehensions provide a compact syntax to generate new sequences by applying an expression to each item in an existing sequence or iterable.\n",
    "- Syntax - `[<expression> for <var> in <sequence> if <condition>]`\n",
    "- The steps to work on a comprehension:\n",
    "    1. Identify the iterable or sequence.\n",
    "    2. Determine any conditions or filters.\n",
    "    3. Define the expression or operation to apply.\n",
    "    4. Specify the target mutable data structure.\n",
    "- Note - Does not work with while loop, break and continue statements"
   ]
  },
  {
   "cell_type": "markdown",
   "metadata": {},
   "source": [
    "###### Ex. WAP to generate a list of squares of number in range of 1-10"
   ]
  },
  {
   "cell_type": "code",
   "execution_count": null,
   "metadata": {},
   "outputs": [],
   "source": [
    "[i**2 for i in range(1, 11)]"
   ]
  },
  {
   "cell_type": "markdown",
   "metadata": {},
   "source": [
    "###### Ex. WAP to create a list of squares of even number in range of 1-10"
   ]
  },
  {
   "cell_type": "code",
   "execution_count": null,
   "metadata": {},
   "outputs": [],
   "source": [
    "[i**2 for i in range(1, 11) if i % 2 == 0]"
   ]
  },
  {
   "cell_type": "markdown",
   "metadata": {},
   "source": [
    "###### Ex. WAP to create a dict of number from 1-10 as keys and their squares as values"
   ]
  },
  {
   "cell_type": "code",
   "execution_count": null,
   "metadata": {},
   "outputs": [],
   "source": [
    "{i : i**2 for i in range(1, 11)}"
   ]
  },
  {
   "cell_type": "markdown",
   "metadata": {},
   "source": [
    "###### Ex. WAP to create a dict of number from 1-5 as keys and their type as even/odd as value"
   ]
  },
  {
   "cell_type": "code",
   "execution_count": null,
   "metadata": {},
   "outputs": [],
   "source": [
    "{i : \"even\" if i %2 == 0 else \"odd\" for i in range(1, 6)}"
   ]
  },
  {
   "cell_type": "markdown",
   "metadata": {},
   "source": [
    "###### Ex. WAP to add 7% service tax to all the values in the \"sales\" list"
   ]
  },
  {
   "cell_type": "code",
   "execution_count": null,
   "metadata": {},
   "outputs": [],
   "source": [
    "sales = [290, 500, 800, 650]\n",
    "[value * 1.07 for value in sales]"
   ]
  },
  {
   "cell_type": "markdown",
   "metadata": {},
   "source": [
    "###### Ex. WAP to sum all the values in the \"sales\" tuple"
   ]
  },
  {
   "cell_type": "code",
   "execution_count": null,
   "metadata": {},
   "outputs": [],
   "source": [
    "sales = (\"$290\", \"$500\", \"$800\", \"$650\")\n",
    "sum([int(value.removeprefix(\"$\")) for value in sales])"
   ]
  },
  {
   "cell_type": "markdown",
   "metadata": {},
   "source": [
    "###### Ex. Identify products with low stock levels. (stock level < 20) - list of product names or dict product name and value"
   ]
  },
  {
   "cell_type": "code",
   "execution_count": null,
   "metadata": {},
   "outputs": [],
   "source": [
    "inventory = {\"apple\": 50, \"banana\": 10, \"cherry\": 75, \"date\": 5}\n",
    "{product : stock for product, stock in inventory.items() if stock < 20}"
   ]
  },
  {
   "cell_type": "code",
   "execution_count": null,
   "metadata": {},
   "outputs": [],
   "source": [
    "inventory = {\"apple\": 50, \"banana\": 10, \"cherry\": 75, \"date\": 5}\n",
    "[product for product, stock in inventory.items() if stock < 20]"
   ]
  },
  {
   "cell_type": "markdown",
   "metadata": {},
   "source": [
    "###### Ex. Calculate the average performance score of employees."
   ]
  },
  {
   "cell_type": "code",
   "execution_count": null,
   "metadata": {},
   "outputs": [],
   "source": [
    "performance = { \"John\": [85, 90, 78], \"Jane\": [92, 88, 95], \"Alice\": [80, 85, 87]}\n",
    "{name : round(sum(scores)/len(scores)) for name, scores in performance.items()}"
   ]
  },
  {
   "cell_type": "markdown",
   "metadata": {},
   "source": [
    "###### Ex. Calculate the percentage change in stock prices."
   ]
  },
  {
   "cell_type": "code",
   "execution_count": null,
   "metadata": {},
   "outputs": [],
   "source": [
    "# List of stock prices over time - ((new-old) / old) * 100\n",
    "stock_prices = [95, 105, 118, 112, 120]\n",
    "new_prices = stock_prices[1:]\n",
    "old_prices = stock_prices[:-1]\n",
    "[round(((new-old) / old) * 100, 1) for new, old in zip(new_prices, old_prices)]"
   ]
  },
  {
   "cell_type": "code",
   "execution_count": null,
   "metadata": {},
   "outputs": [],
   "source": [
    "[round((stock_prices[index +1] - stock_prices[index])/stock_prices[index] * 100 , 1) for index in range(len(stock_prices)-1)]"
   ]
  },
  {
   "cell_type": "code",
   "execution_count": null,
   "metadata": {},
   "outputs": [],
   "source": [
    "inventory = {\"Laptop\": 15, \"Smartphone\": 25, \"Tablet\": 10, \"Headphones\": 30, \"Charger\": 50}"
   ]
  },
  {
   "cell_type": "code",
   "execution_count": null,
   "metadata": {},
   "outputs": [],
   "source": [
    "def add_item(item, quantity):\n",
    "    inventory[item] = inventory.get(item, 0) + quantity\n",
    "    print(f\"{item} Added Quantity {quantity}. Current Stock - {inventory[item]}\")\n",
    " \n",
    "def display_inventory():\n",
    "    print(\"\\nInventory:\")\n",
    "    for prod, qty in inventory.items():\n",
    "        print(f\"{prod}: {qty}\")\n",
    "    print(\"-\" * 30)\n",
    " \n",
    "def remove_item(rmv_item):\n",
    "    if rmv_item in inventory:\n",
    "        del inventory[rmv_item]\n",
    "        print(f\"{rmv_item} removed from inventory.\")\n",
    "    else:\n",
    "        print(f\"{rmv_item} not present in inventory.\")\n",
    " \n",
    " \n",
    "display_inventory()\n",
    "add_item(\"Smartphone\", 10)\n",
    "add_item(\"Camera\", 20)\n",
    "remove_item(\"Laptop\")\n",
    "remove_item(\"Charger\")\n",
    "display_inventory()"
   ]
  },
  {
   "cell_type": "markdown",
   "metadata": {},
   "source": [
    "<hr><hr>"
   ]
  },
  {
   "cell_type": "markdown",
   "metadata": {
    "jp-MarkdownHeadingCollapsed": true
   },
   "source": [
    "## Function Arguments"
   ]
  },
  {
   "cell_type": "markdown",
   "metadata": {},
   "source": [
    "**Function arguments in Python are the inputs passed to a function to enable it to perform its intended operation.**\n",
    "\n",
    "### **Types of Function Arguments**\n",
    "\n",
    "1. **Positional Arguments**  \n",
    "   - These are the most common type.\n",
    "   - Passed in order, matching the function's parameters.\n",
    "\n",
    "2. **Default Arguments**  \n",
    "   - Predefined values are set; they are optional while calling the function.\n",
    "\n",
    "3. **Keyword Arguments**  \n",
    "   - Arguments passed with the name of the parameter explicitly.\n",
    "   - Useful for clarity and flexibility in function calls.\n",
    "\n",
    "4. **Variable-Length Arguments**\n",
    "   - **`*args` (Non-Keyword Arguments):** Allows passing a variable number of arguments as a tuple.\n",
    "     ```\n",
    "   - **`**kwargs` (Keyword Arguments):** Allows passing variable keyword arguments as a dictionary.\n",
    "\n",
    "**Key Notes**\n",
    "- **Order Matters:** Positional arguments must precede keyword arguments.\n",
    "- **Packing/Unpacking:** `*` and `**` are used to pack or unpack arguments, making functions more versatile.\n",
    "- **Default vs Non-Default:** Non-default arguments must come first when defining functions."
   ]
  },
  {
   "cell_type": "code",
   "execution_count": null,
   "metadata": {},
   "outputs": [],
   "source": [
    "# Function definition\n",
    "def func(num) :  \n",
    "    return num**2"
   ]
  },
  {
   "cell_type": "code",
   "execution_count": null,
   "metadata": {},
   "outputs": [],
   "source": [
    "# Function call\n",
    "func(5)"
   ]
  },
  {
   "cell_type": "markdown",
   "metadata": {},
   "source": [
    "#### 1. Required Positional Arguments"
   ]
  },
  {
   "cell_type": "code",
   "execution_count": null,
   "metadata": {},
   "outputs": [],
   "source": [
    "def demo(name, age) :\n",
    "    print(f\"Name - {name} | Age - {age}\")\n",
    "\n",
    "demo(\"Jane\", 30)\n",
    "demo(30, \"Jane\")\n",
    "demo(\"Jane\")"
   ]
  },
  {
   "cell_type": "markdown",
   "metadata": {},
   "source": [
    "Examples - "
   ]
  },
  {
   "cell_type": "code",
   "execution_count": null,
   "metadata": {},
   "outputs": [],
   "source": [
    "help(list.insert)"
   ]
  },
  {
   "cell_type": "code",
   "execution_count": null,
   "metadata": {},
   "outputs": [],
   "source": [
    "lst = [10, 20, 30, 40, 50]\n",
    "lst.insert(4, 2) # insert 4 at position 2\n",
    "lst"
   ]
  },
  {
   "cell_type": "code",
   "execution_count": null,
   "metadata": {},
   "outputs": [],
   "source": [
    "lst = [10, 20, 30, 40, 50]\n",
    "lst.insert(\"abcd\", 2) # insert \"abcd\" at position 2\n",
    "lst"
   ]
  },
  {
   "cell_type": "code",
   "execution_count": null,
   "metadata": {},
   "outputs": [],
   "source": [
    "help(str.replace)"
   ]
  },
  {
   "cell_type": "code",
   "execution_count": null,
   "metadata": {},
   "outputs": [],
   "source": [
    "strg = \"mississippi\"\n",
    "strg.replace(\"i\", \"*\")"
   ]
  },
  {
   "cell_type": "markdown",
   "metadata": {},
   "source": [
    "#### 2. Default Arguments"
   ]
  },
  {
   "cell_type": "code",
   "execution_count": null,
   "metadata": {},
   "outputs": [],
   "source": [
    "strg = \"mississippi\"\n",
    "strg.replace(\"i\", \"*\", 2)"
   ]
  },
  {
   "cell_type": "code",
   "execution_count": null,
   "metadata": {},
   "outputs": [],
   "source": [
    "lst = [1, 3, 2, 4]\n",
    "sorted(lst, reverse=True)"
   ]
  },
  {
   "cell_type": "code",
   "execution_count": null,
   "metadata": {},
   "outputs": [],
   "source": [
    "help(range)"
   ]
  },
  {
   "cell_type": "markdown",
   "metadata": {},
   "source": [
    "#### 3. Variable- length Arguments"
   ]
  },
  {
   "cell_type": "code",
   "execution_count": null,
   "metadata": {},
   "outputs": [],
   "source": [
    "def demo(name, *args, age = 30):\n",
    "    print(f\"Name - {name} | Age - {age} | Args - {args}\")\n",
    "\n",
    "demo(\"Jane\", 70, 80, 90, 18)"
   ]
  },
  {
   "cell_type": "markdown",
   "metadata": {},
   "source": [
    "#### 4. Key-word Argument"
   ]
  },
  {
   "cell_type": "code",
   "execution_count": null,
   "metadata": {},
   "outputs": [],
   "source": [
    "demo(\"Jane\", 70, 80, 90, age = 18)"
   ]
  },
  {
   "cell_type": "code",
   "execution_count": null,
   "metadata": {},
   "outputs": [],
   "source": [
    "help(print)"
   ]
  },
  {
   "cell_type": "code",
   "execution_count": null,
   "metadata": {},
   "outputs": [],
   "source": [
    "a, b = 10, 20\n",
    "c = a+b\n",
    "print(\"Addition of\", a, \"and\", b, \"=\", c, sep = \"_\")"
   ]
  },
  {
   "cell_type": "markdown",
   "metadata": {},
   "source": [
    "#### 5. Variable-length key-word Argument"
   ]
  },
  {
   "cell_type": "code",
   "execution_count": null,
   "metadata": {},
   "outputs": [],
   "source": [
    "def demo(name, *args, age = 30, **kwargs):\n",
    "    print(f\"Name - {name} | Age - {age} | Args - {args} | kwargs - {kwargs}\")\n",
    "\n",
    "demo(\"Jane\", 70, 80, 90, age = 18, mob = 9876543, gender = \"F\")"
   ]
  },
  {
   "cell_type": "markdown",
   "metadata": {},
   "source": [
    "### Significance of `/` and `*` in function definition\n",
    "\n",
    "- **`/`** - All the arguments before `/` must be position only\n",
    "- **`*`** - All the arguments after `*` must be key-word only"
   ]
  },
  {
   "cell_type": "code",
   "execution_count": null,
   "metadata": {},
   "outputs": [],
   "source": [
    "strg = \"mississippi\"\n",
    "strg.replace(\"i\", \"*\", 2)"
   ]
  },
  {
   "cell_type": "code",
   "execution_count": null,
   "metadata": {},
   "outputs": [],
   "source": [
    "strg = \"mississippi\"\n",
    "strg.replace(\"i\", \"*\", count = 2) # Error"
   ]
  },
  {
   "cell_type": "code",
   "execution_count": null,
   "metadata": {},
   "outputs": [],
   "source": [
    "lst = [1, 3, 2, 4]\n",
    "sorted(lst, reverse=True)"
   ]
  },
  {
   "cell_type": "code",
   "execution_count": null,
   "metadata": {},
   "outputs": [],
   "source": [
    "lst = [1, 3, 2, 4]\n",
    "sorted(iterable = lst, reverse=True)"
   ]
  },
  {
   "cell_type": "code",
   "execution_count": null,
   "metadata": {},
   "outputs": [],
   "source": [
    "lst = [1, 3, 2, 4]\n",
    "sorted(lst, True) # Error"
   ]
  },
  {
   "cell_type": "code",
   "execution_count": null,
   "metadata": {},
   "outputs": [],
   "source": [
    "dict(enumerate(iterable=[\"P1\", \"P2\", \"P3\"], start = 1))"
   ]
  },
  {
   "cell_type": "code",
   "execution_count": null,
   "metadata": {},
   "outputs": [],
   "source": [
    "dict(enumerate([\"P1\", \"P2\", \"P3\"], start = 1))"
   ]
  },
  {
   "cell_type": "code",
   "execution_count": null,
   "metadata": {},
   "outputs": [],
   "source": [
    "dict(enumerate([\"P1\", \"P2\", \"P3\"], 1))"
   ]
  },
  {
   "cell_type": "code",
   "execution_count": null,
   "metadata": {},
   "outputs": [],
   "source": [
    "def demo(name, age) :\n",
    "     print(f\"Name - {name} | Age - {age}\")\n",
    "\n",
    "demo(\"Jane\", 20)  # Both position only\n",
    "demo(name = \"Jane\", age = 20) # Both key-word\n",
    "demo(age = 20, name = \"Jane\") # Both key-word - positions do not matter\n",
    "demo(\"Jane\", age = 30)  # name - position and age - key-word\n",
    "# demo(name = \"Jane\", 30) # Error - SyntaxError: positional argument follows keyword argument"
   ]
  },
  {
   "cell_type": "code",
   "execution_count": null,
   "metadata": {},
   "outputs": [],
   "source": [
    "def demo(name, *, age) : # all arguments after * must be key-word only\n",
    "     print(f\"Name - {name} | Age - {age}\")\n",
    "\n",
    "demo(\"Jane\", age = 30)  # name - either, age - key-word only\n",
    "demo(name = \"Jane\", age = 20) # \n",
    "demo(\"Jane\", 20)  # Error"
   ]
  },
  {
   "cell_type": "code",
   "execution_count": null,
   "metadata": {},
   "outputs": [],
   "source": [
    "def demo(name, /, age) : #  All the arguments before / must be position only\n",
    "     print(f\"Name - {name} | Age - {age}\")\n",
    "\n",
    "demo(\"Jane\", 20)  # name - position only and age - either\n",
    "demo(\"Jane\", age = 30)  # \n",
    "demo(name = \"Jane\", age = 20) # Error"
   ]
  },
  {
   "cell_type": "code",
   "execution_count": null,
   "metadata": {},
   "outputs": [],
   "source": [
    "help(enumerate)"
   ]
  },
  {
   "cell_type": "code",
   "execution_count": null,
   "metadata": {},
   "outputs": [],
   "source": [
    "help(str.replace)"
   ]
  },
  {
   "cell_type": "code",
   "execution_count": null,
   "metadata": {},
   "outputs": [],
   "source": [
    "help(sorted)"
   ]
  },
  {
   "cell_type": "code",
   "execution_count": null,
   "metadata": {},
   "outputs": [],
   "source": [
    "import matplotlib.pyplot as plt\n",
    "\n",
    "products = [\"Laptop\", \"Smartphone\", \"Headphones\", \"Keyboard\"]\n",
    "sales = [150, 300, 120, 90]\n",
    "\n",
    "fig = plt.figure(figsize=(10, 2))\n",
    "plt.bar(products, sales, 0.4, 80, align=\"edge\", color = \"teal\", edgecolor = \"black\")"
   ]
  },
  {
   "cell_type": "markdown",
   "metadata": {},
   "source": [
    "### Function Object"
   ]
  },
  {
   "cell_type": "markdown",
   "metadata": {},
   "source": [
    "- In Python, a function object refers to the fact that functions are first-class citizens—they are treated like any other object.\n",
    "- This means: A function object is an instance of the built-in function class created when a def statement or a lambda expression is executed.\n",
    "- A function object can be:\n",
    "    - Pass it to other functions,    \n",
    "    - Assign it to variables,    \n",
    "    - Store in data structures,    \n",
    "    - Return it from another function."
   ]
  },
  {
   "cell_type": "markdown",
   "metadata": {},
   "source": [
    "#### function definition/implemenation\n"
   ]
  },
  {
   "cell_type": "code",
   "execution_count": null,
   "metadata": {},
   "outputs": [],
   "source": [
    "def func(a, b):  # -> function definition\n",
    "    if a < b :\n",
    "        return a\n",
    "    else:\n",
    "        return b"
   ]
  },
  {
   "cell_type": "markdown",
   "metadata": {},
   "source": [
    "#### function call"
   ]
  },
  {
   "cell_type": "code",
   "execution_count": null,
   "metadata": {},
   "outputs": [],
   "source": [
    "# function call\n",
    "var = func(3, 4)\n",
    "print(var, \" - \", type(var))"
   ]
  },
  {
   "cell_type": "markdown",
   "metadata": {},
   "source": [
    "#### function object"
   ]
  },
  {
   "cell_type": "code",
   "execution_count": null,
   "metadata": {},
   "outputs": [],
   "source": [
    "# function object\n",
    "var = func\n",
    "print(var, \" - \", type(var))"
   ]
  },
  {
   "cell_type": "markdown",
   "metadata": {},
   "source": [
    "##### Note - Everything in python is an object. Even function is an object and it is called as callable."
   ]
  },
  {
   "cell_type": "code",
   "execution_count": null,
   "metadata": {},
   "outputs": [],
   "source": [
    "var(3, 4)"
   ]
  },
  {
   "cell_type": "code",
   "execution_count": null,
   "metadata": {},
   "outputs": [],
   "source": [
    "result = len\n",
    "result(\"abcd\")"
   ]
  },
  {
   "cell_type": "code",
   "execution_count": null,
   "metadata": {},
   "outputs": [],
   "source": [
    "a, b = 10, 20\n",
    "sum = a + b\n",
    "print(sum)"
   ]
  },
  {
   "cell_type": "code",
   "execution_count": null,
   "metadata": {},
   "outputs": [],
   "source": [
    "sum([1, 2, 3, 4])"
   ]
  },
  {
   "cell_type": "markdown",
   "metadata": {},
   "source": [
    "### Lambda Function\n",
    "\n",
    "- A lambda function in Python is a concise, unnamed function created using the `lambda` keyword.  \n",
    "- Unlike regular functions defined with `def`, lambda functions can accept multiple parameters but are limited to a single expression that is implicitly returned.  \n",
    "- They are commonly used for short, simple operations that are needed temporarily, often defined inline without the need for a formal function definition.\n",
    "- Syntax of Lambda Function – \n",
    "\n",
    "  <b>lambda *parameters* : *expression*</b>\n"
   ]
  },
  {
   "cell_type": "markdown",
   "metadata": {},
   "source": [
    "###### Ex. WLF to return square of a number"
   ]
  },
  {
   "cell_type": "code",
   "execution_count": null,
   "metadata": {},
   "outputs": [],
   "source": [
    "square = lambda num : num**2\n",
    "square(5)"
   ]
  },
  {
   "cell_type": "markdown",
   "metadata": {},
   "source": [
    "###### Ex. WLF to check if a number is even or odd"
   ]
  },
  {
   "cell_type": "code",
   "execution_count": null,
   "metadata": {},
   "outputs": [],
   "source": [
    "even_odd = lambda num : \"even\" if num % 2 == 0 else \"odd\"\n",
    "even_odd(5)"
   ]
  },
  {
   "cell_type": "markdown",
   "metadata": {},
   "source": [
    "### Applilcations of Function Object"
   ]
  },
  {
   "cell_type": "markdown",
   "metadata": {},
   "source": [
    "###### Ex. WAP to sort a list of strings as per the last character."
   ]
  },
  {
   "cell_type": "code",
   "execution_count": null,
   "metadata": {},
   "outputs": [],
   "source": [
    "lst = [\"flight\", \"bike\", \"car\",  \"train\"]\n",
    "sorted(lst) # sorts alphabetically"
   ]
  },
  {
   "cell_type": "code",
   "execution_count": null,
   "metadata": {},
   "outputs": [],
   "source": [
    "lst = [\"flight\", \"bike\", \"car\",  \"train\"]\n",
    "sorted(lst, key = len) # sorts by length of each word"
   ]
  },
  {
   "cell_type": "code",
   "execution_count": null,
   "metadata": {},
   "outputs": [],
   "source": [
    "lst = [\"flight\", \"bike\", \"car\",  \"train\"]\n",
    "sorted(lst, key = lambda strg : strg[-1]) # sorts by last character of each word"
   ]
  },
  {
   "cell_type": "markdown",
   "metadata": {},
   "source": [
    "##### Note - the function object must be applicable to the elements in the sequence"
   ]
  },
  {
   "cell_type": "code",
   "execution_count": null,
   "metadata": {},
   "outputs": [],
   "source": [
    "help(sorted)"
   ]
  },
  {
   "cell_type": "code",
   "execution_count": null,
   "metadata": {},
   "outputs": [],
   "source": [
    "lst"
   ]
  },
  {
   "cell_type": "code",
   "execution_count": null,
   "metadata": {},
   "outputs": [],
   "source": [
    "max(lst)"
   ]
  },
  {
   "cell_type": "code",
   "execution_count": null,
   "metadata": {},
   "outputs": [],
   "source": [
    "max([1, 2, 3], default=\"empty\")"
   ]
  },
  {
   "cell_type": "code",
   "execution_count": null,
   "metadata": {},
   "outputs": [],
   "source": [
    "max(lst, key = len)"
   ]
  },
  {
   "cell_type": "code",
   "execution_count": null,
   "metadata": {},
   "outputs": [],
   "source": [
    "max(lst, key = min)"
   ]
  },
  {
   "cell_type": "code",
   "execution_count": null,
   "metadata": {},
   "outputs": [],
   "source": [
    "help(max)"
   ]
  },
  {
   "cell_type": "markdown",
   "metadata": {},
   "source": [
    "###### Ex. WAP to sort the list of tuples by sum of each subtuple"
   ]
  },
  {
   "cell_type": "code",
   "execution_count": null,
   "metadata": {},
   "outputs": [],
   "source": [
    "students_marks = [(13, 19, 15), (20, 12, 18), (16, 11, 14), (16, 20, 13), (15, 10, 19)]\n",
    "sorted(students_marks)"
   ]
  },
  {
   "cell_type": "code",
   "execution_count": null,
   "metadata": {},
   "outputs": [],
   "source": [
    "students_marks = [(13, 19, 15), (20, 12, 18), (16, 11, 14), (16, 20, 13), (15, 10, 19)]\n",
    "sorted(students_marks, key = sum)"
   ]
  },
  {
   "cell_type": "markdown",
   "metadata": {},
   "source": [
    "###### Ex. WAP to display the student details in sorted order of their marks."
   ]
  },
  {
   "cell_type": "code",
   "execution_count": null,
   "metadata": {},
   "outputs": [],
   "source": [
    "students = {\"Jane\" : 40, \"Max\" : 50, \"Sam\" : 45, \"Mary\" : 70}\n",
    "sorted(students, key = lambda k : students[k])"
   ]
  },
  {
   "cell_type": "code",
   "execution_count": null,
   "metadata": {},
   "outputs": [],
   "source": [
    "students = {\"Jane\" : 40, \"Max\" : 50, \"Sam\" : 45, \"Mary\" : 70}\n",
    "dict(sorted(students.items(), key = lambda tup : tup[1]))"
   ]
  },
  {
   "cell_type": "markdown",
   "metadata": {},
   "source": [
    "##### Note - \n",
    "- There are many functions like sorted which take function object as an argument. \n",
    "- Use a built-in function if available, else defined a custom function. \n",
    "- If the logic for custom function is one-liner use lambda function else use standard user-defined function"
   ]
  },
  {
   "cell_type": "markdown",
   "metadata": {},
   "source": [
    "**map(func_obj, iterable) - applies the func to all the elements of the iterable and generates a new sequence object** "
   ]
  },
  {
   "cell_type": "markdown",
   "metadata": {},
   "source": [
    "###### Ex. WAP to display sum of sales"
   ]
  },
  {
   "cell_type": "code",
   "execution_count": null,
   "metadata": {},
   "outputs": [],
   "source": [
    "sales = [\"$200\", \"$500\", \"$800\"]\n",
    "sum(map(lambda val : int(val.removeprefix(\"$\")), sales))"
   ]
  },
  {
   "cell_type": "markdown",
   "metadata": {},
   "source": [
    "**filter(func_obj, iterable) - filters the elements from the iterable based on the condition in the func object** "
   ]
  },
  {
   "cell_type": "markdown",
   "metadata": {},
   "source": [
    "###### Ex. WAP to filter all even numbers from a list"
   ]
  },
  {
   "cell_type": "code",
   "execution_count": null,
   "metadata": {},
   "outputs": [],
   "source": [
    "lst = [10, 25, 28, 20, 17]\n",
    "list(filter(lambda val : val%2 == 0, lst))"
   ]
  },
  {
   "cell_type": "markdown",
   "metadata": {},
   "source": [
    "###### Ex. WAP to filter all alphabets from the string"
   ]
  },
  {
   "cell_type": "code",
   "execution_count": null,
   "metadata": {},
   "outputs": [],
   "source": [
    "strg = \"a1b2c3d4\"\n",
    "list(filter(lambda ch : ch.isalpha(), strg))"
   ]
  },
  {
   "cell_type": "code",
   "execution_count": null,
   "metadata": {},
   "outputs": [],
   "source": [
    "help(str.isalpha)"
   ]
  },
  {
   "cell_type": "code",
   "execution_count": null,
   "metadata": {},
   "outputs": [],
   "source": [
    "strg = \"abcd\"\n",
    "strg.isalpha()  # executed on the str object"
   ]
  },
  {
   "cell_type": "code",
   "execution_count": null,
   "metadata": {},
   "outputs": [],
   "source": [
    "str.isalpha(strg) # executed as a function and str object is passed as an argument"
   ]
  },
  {
   "cell_type": "code",
   "execution_count": null,
   "metadata": {},
   "outputs": [],
   "source": [
    "list(filter(str.isalpha, strg))"
   ]
  },
  {
   "cell_type": "markdown",
   "metadata": {},
   "source": [
    "<hr><hr>"
   ]
  },
  {
   "cell_type": "markdown",
   "metadata": {
    "jp-MarkdownHeadingCollapsed": true
   },
   "source": [
    "## Exception Handling"
   ]
  },
  {
   "cell_type": "markdown",
   "metadata": {},
   "source": [
    "It may be convenient to recognize the problems in your python code before you put it to real use. But that does not always happen. Sometimes, problems show up when you run the code; sometimes, midway of that. A Python exception is an error that's detected during execution. \n",
    "\n",
    "##### Python does not provide any compile time Exception Handling. Developer has to proactively recognize the need for exception handling.\n",
    "\n",
    "- What are Errors and Exceptions\n",
    "- Handling Exceptions\n",
    "- Defining Clean-up Actions\n",
    "- Predefined Clean-up Actions\n",
    "- Raising Exceptions"
   ]
  },
  {
   "cell_type": "markdown",
   "metadata": {},
   "source": [
    "#### Syntax Error "
   ]
  },
  {
   "cell_type": "code",
   "execution_count": null,
   "metadata": {},
   "outputs": [],
   "source": [
    "for i in range(5)\n",
    "   print(i)"
   ]
  },
  {
   "cell_type": "code",
   "execution_count": null,
   "metadata": {},
   "outputs": [],
   "source": [
    "for i in range(5) :\n",
    "print(i)"
   ]
  },
  {
   "cell_type": "markdown",
   "metadata": {},
   "source": [
    "### Exception \n",
    "Even if a statement or expression is syntactically correct, it may cause an error when an attempt is made to execute it. Errors detected during execution are called exceptions and are not unconditionally fatal"
   ]
  },
  {
   "cell_type": "markdown",
   "metadata": {},
   "source": [
    "#### ZeroDivisionError"
   ]
  },
  {
   "cell_type": "code",
   "execution_count": null,
   "metadata": {},
   "outputs": [],
   "source": [
    "a, b = 1, 0\n",
    "print(a/b)"
   ]
  },
  {
   "cell_type": "markdown",
   "metadata": {},
   "source": [
    "#### ValueError"
   ]
  },
  {
   "cell_type": "code",
   "execution_count": null,
   "metadata": {},
   "outputs": [],
   "source": [
    "int(\"abcd\")"
   ]
  },
  {
   "cell_type": "markdown",
   "metadata": {},
   "source": [
    "#### NameError"
   ]
  },
  {
   "cell_type": "code",
   "execution_count": null,
   "metadata": {},
   "outputs": [],
   "source": [
    "print(z)"
   ]
  },
  {
   "cell_type": "markdown",
   "metadata": {},
   "source": [
    "#### FileNotFoundError"
   ]
  },
  {
   "cell_type": "code",
   "execution_count": null,
   "metadata": {},
   "outputs": [],
   "source": [
    "open(\"abc.txt\")"
   ]
  },
  {
   "cell_type": "markdown",
   "metadata": {},
   "source": [
    "#### TypeError"
   ]
  },
  {
   "cell_type": "code",
   "execution_count": null,
   "metadata": {},
   "outputs": [],
   "source": [
    "\"2\" + 2"
   ]
  },
  {
   "cell_type": "code",
   "execution_count": null,
   "metadata": {},
   "outputs": [],
   "source": [
    "def func(a):\n",
    "    pass\n",
    "\n",
    "func()"
   ]
  },
  {
   "cell_type": "markdown",
   "metadata": {},
   "source": [
    "#### IndexError"
   ]
  },
  {
   "cell_type": "code",
   "execution_count": null,
   "metadata": {},
   "outputs": [],
   "source": [
    "l = [1,2,3]\n",
    "l[10]"
   ]
  },
  {
   "cell_type": "markdown",
   "metadata": {},
   "source": [
    "#### KeyError"
   ]
  },
  {
   "cell_type": "code",
   "execution_count": null,
   "metadata": {},
   "outputs": [],
   "source": [
    "d = {1:2, 3:4}\n",
    "d[\"abc\"]"
   ]
  },
  {
   "cell_type": "markdown",
   "metadata": {},
   "source": [
    "#### ModuleNotFoundError"
   ]
  },
  {
   "cell_type": "code",
   "execution_count": null,
   "metadata": {},
   "outputs": [],
   "source": [
    "import math1"
   ]
  },
  {
   "cell_type": "markdown",
   "metadata": {},
   "source": [
    "#### AttributeError"
   ]
  },
  {
   "cell_type": "code",
   "execution_count": null,
   "metadata": {},
   "outputs": [],
   "source": [
    "import math\n",
    "math.sq1()"
   ]
  },
  {
   "cell_type": "code",
   "execution_count": null,
   "metadata": {},
   "outputs": [],
   "source": [
    "string = \"abcd\"\n",
    "\n",
    "string.UPPER()"
   ]
  },
  {
   "cell_type": "code",
   "execution_count": null,
   "metadata": {},
   "outputs": [],
   "source": [
    "print(dir(__builtins__))"
   ]
  },
  {
   "cell_type": "markdown",
   "metadata": {},
   "source": [
    "### Handling Exceptions"
   ]
  },
  {
   "cell_type": "markdown",
   "metadata": {},
   "source": [
    "#### *try* :\n",
    "\n",
    "    #risky code\n",
    "    \n",
    "#### *except <Exception name>*:\n",
    "\n",
    "    #code to handle error\n",
    "    \n",
    "#### *else*:\n",
    "   \n",
    "    #executed if everything goes fine\n",
    "    \n",
    "#### *finally*:\n",
    "   \n",
    "    #gets executed in either case.\n"
   ]
  },
  {
   "cell_type": "code",
   "execution_count": null,
   "metadata": {},
   "outputs": [],
   "source": [
    "try :\n",
    "    num = int(input(\"Enter a number - \"))\n",
    "    divide = 10 / num\n",
    "    print(\"Division result - \", divide)\n",
    "except ZeroDivisionError as e :\n",
    "    print(e)\n",
    "except Exception as e :\n",
    "    print(e)\n",
    "else:\n",
    "    print(\"Else block executed\")\n",
    "finally :\n",
    "    print(\"Finally block executed\")"
   ]
  },
  {
   "cell_type": "markdown",
   "metadata": {},
   "source": [
    "### Rasie an Exception"
   ]
  },
  {
   "cell_type": "markdown",
   "metadata": {},
   "source": [
    "###### WAP to define divide function raising exception if denominator is 0 "
   ]
  },
  {
   "cell_type": "code",
   "execution_count": null,
   "metadata": {},
   "outputs": [],
   "source": [
    "def divide(n, d):\n",
    "    if d == 0 :\n",
    "        raise ZeroDivisionError(\"Denominator cannot be 0\")\n",
    "    return n/d"
   ]
  },
  {
   "cell_type": "code",
   "execution_count": null,
   "metadata": {},
   "outputs": [],
   "source": [
    "divide(10, 0)"
   ]
  },
  {
   "cell_type": "markdown",
   "metadata": {},
   "source": [
    "###### Ex. WAP to validate input to be an integer between 1-9."
   ]
  },
  {
   "cell_type": "code",
   "execution_count": null,
   "metadata": {},
   "outputs": [],
   "source": [
    "def validate_input() :\n",
    "    try :\n",
    "        num = int(input(\"Enter a number between 1-9. - \"))\n",
    "        if 1 <= num <= 9 :\n",
    "            return num\n",
    "        else:\n",
    "            raise Exception(\"Number must be between 1-9.\")\n",
    "    except Exception as e :\n",
    "        print(e)\n",
    "        return validate_input()"
   ]
  },
  {
   "cell_type": "code",
   "execution_count": null,
   "metadata": {},
   "outputs": [],
   "source": [
    "validate_input()"
   ]
  },
  {
   "cell_type": "markdown",
   "metadata": {},
   "source": [
    "<hr><hr>"
   ]
  },
  {
   "cell_type": "markdown",
   "metadata": {
    "jp-MarkdownHeadingCollapsed": true
   },
   "source": [
    "## Regular Expressions"
   ]
  },
  {
   "cell_type": "markdown",
   "metadata": {
    "jp-MarkdownHeadingCollapsed": true
   },
   "source": [
    "Regular expressions are used for matching text patterns for searching, replacing and parsing text \n",
    "with complex patterns of characters.\n",
    "\n",
    "Regexes are used for four main purposes - \n",
    "- To validate if a text meets some criteria; Ex. a zip code with 6 numeric digits \n",
    "- Search substrings. Ex. finding texts that ends with abc and does not contain any digits \n",
    "- Search & replace everywhere the match is found within a string; Ex. search \"fixed deposit\" and replace with \"term deposit\" \n",
    "- Split a string at each place the regex matches; Ex. split everywhere a @ is encountered"
   ]
  },
  {
   "cell_type": "markdown",
   "metadata": {},
   "source": [
    "#### Raw python string\n",
    "\n",
    "It is recommended that you use raw strings instead of regular Python strings. Raw strings begin with a prefix, r, placed before the quotes"
   ]
  },
  {
   "cell_type": "code",
   "execution_count": null,
   "metadata": {},
   "outputs": [],
   "source": [
    "print(\"ABC \\n PQR\")"
   ]
  },
  {
   "cell_type": "code",
   "execution_count": null,
   "metadata": {},
   "outputs": [],
   "source": [
    "print(r\"ABC \\n PQR\")"
   ]
  },
  {
   "cell_type": "code",
   "execution_count": null,
   "metadata": {},
   "outputs": [],
   "source": [
    "open(r\"C:\\users\\newfolder\\file.txt\")"
   ]
  },
  {
   "cell_type": "markdown",
   "metadata": {},
   "source": [
    "#### Importing re module"
   ]
  },
  {
   "cell_type": "code",
   "execution_count": null,
   "metadata": {},
   "outputs": [],
   "source": [
    "import re"
   ]
  },
  {
   "cell_type": "markdown",
   "metadata": {},
   "source": [
    "#### Functions in re Module\n",
    "The \"re\" module offers functionalities that allow us to match/search/replace a string \n",
    "\n",
    "- `re.match()` - The match only if it occurs at the beginning of the string \n",
    "- `re.search()` - First occurrence of the match if there is a match anywhere in the string  \n",
    "- `re.findall()` - Returns a list containing all matches in the string \n",
    "- `re.split()` - Returns a list where the string has been split at each match \n",
    "- `re.sub()` - Replaces one or many matches with a string \n",
    "- `re.finditer()` - Returns a collectable iterator yielding all non-overlapping matches "
   ]
  },
  {
   "cell_type": "code",
   "execution_count": null,
   "metadata": {},
   "outputs": [],
   "source": [
    "help(re.match)"
   ]
  },
  {
   "cell_type": "code",
   "execution_count": null,
   "metadata": {},
   "outputs": [],
   "source": [
    "text = \"India celebrates its independence day on 15th August\"\n",
    "re.match(r\"[A-z]+\\b\", text)  # returns a match object"
   ]
  },
  {
   "cell_type": "code",
   "execution_count": null,
   "metadata": {},
   "outputs": [],
   "source": [
    "match_obj = re.match(r\"[A-z]+\\b\", text)\n",
    "match_obj.group()"
   ]
  },
  {
   "cell_type": "code",
   "execution_count": null,
   "metadata": {},
   "outputs": [],
   "source": [
    "text = \"India celebrates its independence day on 15th August\"\n",
    "re.search(r\"[0-9]+\", text)  # returns a match object"
   ]
  },
  {
   "cell_type": "markdown",
   "metadata": {},
   "source": [
    "<table style=\"width: 80%; border-collapse: collapse; border: 1px solid #ccc; margin-left: 0;\">\n",
    "  <thead>\n",
    "    <tr style=\"text-align: center; background-color: #050A30; color: white;\">\n",
    "      <th style=\"width: 15%; border: 1px solid #000; text-align: center;\">Category</th>\n",
    "      <th style=\"width: 15%; border: 1px solid #000; text-align: center;\">Regex</th>\n",
    "      <th style=\"width: 60%; border: 1px solid #000; text-align: left;\">Description</th>\n",
    "    </tr>\n",
    "  </thead>\n",
    "  <tbody>\n",
    "    <tr>\n",
    "      <td style=\"border: 1px solid #000;\">Basic Characters</td>\n",
    "      <td style=\"border: 1px solid #000; text-align: center;\">^</td>\n",
    "      <td style=\"border: 1px solid #000; text-align: left;\">Matches expression to its right at start of string; matches before each line break</td>\n",
    "    </tr>\n",
    "    <tr>\n",
    "      <td style=\"border: 1px solid #000;\"></td>\n",
    "      <td style=\"border: 1px solid #000; text-align: center;\">$</td>\n",
    "      <td style=\"border: 1px solid #000; text-align: left;\">Matches expression to its left at end of string; matches before each line break</td>\n",
    "    </tr>\n",
    "    <tr>\n",
    "      <td style=\"border: 1px solid #000;\"></td>\n",
    "      <td style=\"border: 1px solid #000; text-align: center;\">p|q</td>\n",
    "      <td style=\"border: 1px solid #000; text-align: left;\">Matches expression p or q</td>\n",
    "    </tr>\n",
    "    <tr>\n",
    "      <td style=\"border: 1px solid #000;\">Character Classes</td>\n",
    "      <td style=\"border: 1px solid #000; text-align: center;\">\\w</td>\n",
    "      <td style=\"border: 1px solid #000; text-align: left;\">Matches alphanumeric characters: a-z, A-Z, 0-9, and _</td>\n",
    "    </tr>\n",
    "    <tr>\n",
    "      <td style=\"border: 1px solid #000;\"></td>\n",
    "      <td style=\"border: 1px solid #000; text-align: center;\">\\W</td>\n",
    "      <td style=\"border: 1px solid #000; text-align: left;\">Matches non-alphanumeric characters; excludes a-z, A-Z, 0-9, and _</td>\n",
    "    </tr>\n",
    "    <tr>\n",
    "      <td style=\"border: 1px solid #000;\"></td>\n",
    "      <td style=\"border: 1px solid #000; text-align: center;\">\\d</td>\n",
    "      <td style=\"border: 1px solid #000; text-align: left;\">Matches digits: 0-9</td>\n",
    "    </tr>\n",
    "    <tr>\n",
    "      <td style=\"border: 1px solid #000;\"></td>\n",
    "      <td style=\"border: 1px solid #000; text-align: center;\">\\D</td>\n",
    "      <td style=\"border: 1px solid #000; text-align: left;\">Matches non-digit characters</td>\n",
    "    </tr>\n",
    "    <tr>\n",
    "      <td style=\"border: 1px solid #000;\"></td>\n",
    "      <td style=\"border: 1px solid #000; text-align: center;\">\\s</td>\n",
    "      <td style=\"border: 1px solid #000; text-align: left;\">Matches whitespace characters (space, tab, newline, carriage return)</td>\n",
    "    </tr>\n",
    "    <tr>\n",
    "      <td style=\"border: 1px solid #000;\"></td>\n",
    "      <td style=\"border: 1px solid #000; text-align: center;\">\\S</td>\n",
    "      <td style=\"border: 1px solid #000; text-align: left;\">Matches non-whitespace characters</td>\n",
    "    </tr>\n",
    "    <tr>\n",
    "      <td style=\"border: 1px solid #000;\"></td>\n",
    "      <td style=\"border: 1px solid #000; text-align: center;\">\\A</td>\n",
    "      <td style=\"border: 1px solid #000; text-align: left;\">Matches expression at absolute start of string</td>\n",
    "    </tr>\n",
    "    <tr>\n",
    "      <td style=\"border: 1px solid #000;\"></td>\n",
    "      <td style=\"border: 1px solid #000; text-align: center;\">\\t</td>\n",
    "      <td style=\"border: 1px solid #000; text-align: left;\">Matches tab character</td>\n",
    "    </tr>\n",
    "    <tr>\n",
    "      <td style=\"border: 1px solid #000;\"></td>\n",
    "      <td style=\"border: 1px solid #000; text-align: center;\">\\Z</td>\n",
    "      <td style=\"border: 1px solid #000; text-align: left;\">Matches expression at absolute end of string</td>\n",
    "    </tr>\n",
    "    <tr>\n",
    "      <td style=\"border: 1px solid #000;\"></td>\n",
    "      <td style=\"border: 1px solid #000; text-align: center;\">\\n</td>\n",
    "      <td style=\"border: 1px solid #000; text-align: left;\">Matches newline character</td>\n",
    "    </tr>\n",
    "    <tr>\n",
    "      <td style=\"border: 1px solid #000;\"></td>\n",
    "      <td style=\"border: 1px solid #000; text-align: center;\">\\b</td>\n",
    "      <td style=\"border: 1px solid #000; text-align: left;\">Matches word boundary at start/end of a word</td>\n",
    "    </tr>\n",
    "    <tr>\n",
    "      <td style=\"border: 1px solid #000;\"></td>\n",
    "      <td style=\"border: 1px solid #000; text-align: center;\">\\B</td>\n",
    "      <td style=\"border: 1px solid #000; text-align: left;\">Matches non-word boundary</td>\n",
    "    </tr>\n",
    "    <tr>\n",
    "      <td style=\"border: 1px solid #000;\">Groups and Sets</td>\n",
    "      <td style=\"border: 1px solid #000; text-align: center;\">[abc]</td>\n",
    "      <td style=\"border: 1px solid #000; text-align: left;\">Matches either a, b, or c (not the sequence \"abc\")</td>\n",
    "    </tr>\n",
    "    <tr>\n",
    "      <td style=\"border: 1px solid #000;\"></td>\n",
    "      <td style=\"border: 1px solid #000; text-align: center;\">[a\\-z]</td>\n",
    "      <td style=\"border: 1px solid #000; text-align: left;\">Matches a, -, or z (dash escaped literally)</td>\n",
    "    </tr>\n",
    "    <tr>\n",
    "      <td style=\"border: 1px solid #000;\"></td>\n",
    "      <td style=\"border: 1px solid #000; text-align: center;\">[^abc]</td>\n",
    "      <td style=\"border: 1px solid #000; text-align: left;\">Matches any character NOT a, b, or c</td>\n",
    "    </tr>\n",
    "    <tr>\n",
    "      <td style=\"border: 1px solid #000;\"></td>\n",
    "      <td style=\"border: 1px solid #000; text-align: center;\">()</td>\n",
    "      <td style=\"border: 1px solid #000; text-align: left;\">Groups the expression inside parentheses</td>\n",
    "    </tr>\n",
    "    <tr>\n",
    "      <td style=\"border: 1px solid #000;\"></td>\n",
    "      <td style=\"border: 1px solid #000; text-align: center;\">[a-z]</td>\n",
    "      <td style=\"border: 1px solid #000; text-align: left;\">Matches any alphabet character from a to z</td>\n",
    "    </tr>\n",
    "    <tr>\n",
    "      <td style=\"border: 1px solid #000;\"></td>\n",
    "      <td style=\"border: 1px solid #000; text-align: center;\">[a-z0-9]</td>\n",
    "      <td style=\"border: 1px solid #000; text-align: left;\">Matches characters from a to z and digits 0 to 9</td>\n",
    "    </tr>\n",
    "    <tr>\n",
    "      <td style=\"border: 1px solid #000;\"></td>\n",
    "      <td style=\"border: 1px solid #000; text-align: center;\">[(+*)]</td>\n",
    "      <td style=\"border: 1px solid #000; text-align: left;\">Special characters become literal inside a set: matches (, +, *, and )</td>\n",
    "    </tr>\n",
    "    <tr>\n",
    "      <td style=\"border: 1px solid #000;\"></td>\n",
    "      <td style=\"border: 1px solid #000; text-align: center;\">(?P=name)</td>\n",
    "      <td style=\"border: 1px solid #000; text-align: left;\">Matches the expression matched earlier by named group \"name\"</td>\n",
    "    </tr>\n",
    "    <tr>\n",
    "      <td style=\"border: 1px solid #000;\">Quantifiers</td>\n",
    "      <td style=\"border: 1px solid #000; text-align: center;\">.</td>\n",
    "      <td style=\"border: 1px solid #000; text-align: left;\">Matches any character except newline</td>\n",
    "    </tr>\n",
    "    <tr>\n",
    "      <td style=\"border: 1px solid #000;\"></td>\n",
    "      <td style=\"border: 1px solid #000; text-align: center;\">?</td>\n",
    "      <td style=\"border: 1px solid #000; text-align: left;\">Matches preceding expression 0 or 1 times</td>\n",
    "    </tr>\n",
    "    <tr>\n",
    "      <td style=\"border: 1px solid #000;\"></td>\n",
    "      <td style=\"border: 1px solid #000; text-align: center;\">{n}</td>\n",
    "      <td style=\"border: 1px solid #000; text-align: left;\">Matches preceding expression exactly n times</td>\n",
    "    </tr>\n",
    "    <tr>\n",
    "      <td style=\"border: 1px solid #000;\"></td>\n",
    "      <td style=\"border: 1px solid #000; text-align: center;\">{,m}</td>\n",
    "      <td style=\"border: 1px solid #000; text-align: left;\">Matches preceding expression up to m times</td>\n",
    "    </tr>\n",
    "    <tr>\n",
    "      <td style=\"border: 1px solid #000;\"></td>\n",
    "      <td style=\"border: 1px solid #000; text-align: center;\">*</td>\n",
    "      <td style=\"border: 1px solid #000; text-align: left;\">Matches preceding expression 0 or more times</td>\n",
    "    </tr>\n",
    "    <tr>\n",
    "      <td style=\"border: 1px solid #000;\"></td>\n",
    "      <td style=\"border: 1px solid #000; text-align: center;\">+</td>\n",
    "      <td style=\"border: 1px solid #000; text-align: left;\">Matches preceding expression 1 or more times</td>\n",
    "    </tr>\n",
    "    <tr>\n",
    "      <td style=\"border: 1px solid #000;\"></td>\n",
    "      <td style=\"border: 1px solid #000; text-align: center;\">{n,m}</td>\n",
    "      <td style=\"border: 1px solid #000; text-align: left;\">Matches preceding expression between n and m times</td>\n",
    "    </tr>\n",
    "    <tr>\n",
    "      <td style=\"border: 1px solid #000;\"></td>\n",
    "      <td style=\"border: 1px solid #000; text-align: center;\">{n, }</td>\n",
    "      <td style=\"border: 1px solid #000; text-align: left;\">Matches preceding expression n or more times</td>\n",
    "    </tr>\n",
    "  </tbody>\n",
    "</table>\n"
   ]
  },
  {
   "cell_type": "markdown",
   "metadata": {},
   "source": [
    "#### Examples - "
   ]
  },
  {
   "cell_type": "markdown",
   "metadata": {},
   "source": [
    "###### Ex. Extract all digits from the text"
   ]
  },
  {
   "cell_type": "code",
   "execution_count": null,
   "metadata": {},
   "outputs": [],
   "source": [
    "text = \"The stock price was 456 yesterday. Today, it rose to 564\"\n",
    "re.findall(r\"\\d\", text)"
   ]
  },
  {
   "cell_type": "markdown",
   "metadata": {},
   "source": [
    "###### Ex. Extract all numbers from the text"
   ]
  },
  {
   "cell_type": "code",
   "execution_count": null,
   "metadata": {},
   "outputs": [],
   "source": [
    "text = \"The stock price was 456 yesterday. Today, it rose to 564\"\n",
    "re.findall(r\"\\d+\", text)"
   ]
  },
  {
   "cell_type": "markdown",
   "metadata": {},
   "source": [
    "###### Ex. Retrive the dividend from the text"
   ]
  },
  {
   "cell_type": "code",
   "execution_count": null,
   "metadata": {},
   "outputs": [],
   "source": [
    "text = \"On 25th March, the company declared 17% dividend.\"\n",
    "re.findall(r\"\\d+%\", text)"
   ]
  },
  {
   "cell_type": "markdown",
   "metadata": {},
   "source": [
    "###### Ex. Retrive all stock names"
   ]
  },
  {
   "cell_type": "code",
   "execution_count": null,
   "metadata": {},
   "outputs": [],
   "source": [
    "text = \"Stocks like AAPL GOOGL BMW are the preferred ones\"\n",
    "re.findall(r\"[A-Z]+\\b\", text)"
   ]
  },
  {
   "cell_type": "markdown",
   "metadata": {},
   "source": [
    "###### Ex. Retrieve the phone numbers without country code"
   ]
  },
  {
   "cell_type": "code",
   "execution_count": null,
   "metadata": {},
   "outputs": [],
   "source": [
    "text = \"My number is 65-11223344 and 65-91919191. My other number is 44332211\"\n",
    "re.findall(r\"\\d+\", text)"
   ]
  },
  {
   "cell_type": "code",
   "execution_count": null,
   "metadata": {},
   "outputs": [],
   "source": [
    "text = \"My number is 65-11223344 and 65-91919191. My other number is 44332211\"\n",
    "re.findall(r\"\\d{8}\", text)"
   ]
  },
  {
   "cell_type": "code",
   "execution_count": null,
   "metadata": {},
   "outputs": [],
   "source": [
    "text = \"My number is 65-11223344 and 65-91919191. My other number is 44332211\"\n",
    "re.findall(r\"\\d{3,}\", text)"
   ]
  },
  {
   "cell_type": "markdown",
   "metadata": {},
   "source": [
    "###### Ex. Replace values as given in the dict"
   ]
  },
  {
   "cell_type": "code",
   "execution_count": null,
   "metadata": {},
   "outputs": [],
   "source": [
    "text = \"Stocks like AAPL GOOGL BMW are the preferred ones\"\n",
    "repl_dict = {\"AAPL\": \"APPLE\", \"GOOGL\": \"GOOGLE\"}\n",
    "re.sub(r\"[A-Z]+\\b\", \"*\", text)"
   ]
  },
  {
   "cell_type": "code",
   "execution_count": null,
   "metadata": {},
   "outputs": [],
   "source": [
    "def func_obj(mth_ob) :\n",
    "    text_e = mth_ob.group()\n",
    "    print(text_e)\n",
    "    replacement_str = repl_dict.get(text_e, text_e)\n",
    "    return replacement_str"
   ]
  },
  {
   "cell_type": "code",
   "execution_count": null,
   "metadata": {},
   "outputs": [],
   "source": [
    "repl_dict = {\"AAPL\": \"APPLE\", \"GOOGL\": \"GOOGLE\"}\n",
    "re.sub(r\"[A-Z]+\\b\", func_obj, \"AAPL GOOGL BMW\")"
   ]
  },
  {
   "cell_type": "code",
   "execution_count": null,
   "metadata": {},
   "outputs": [],
   "source": [
    "repl_dict = {\"AAPL\": \"APPLE\", \"GOOGL\": \"GOOGLE\"}\n",
    "func_obj = lambda mth_ob : repl_dict.get(mth_ob.group(), mth_ob.group())\n",
    "re.sub(r\"[A-Z]+\\b\", func_obj, text)"
   ]
  },
  {
   "cell_type": "code",
   "execution_count": null,
   "metadata": {},
   "outputs": [],
   "source": [
    "help(re.sub)"
   ]
  },
  {
   "cell_type": "markdown",
   "metadata": {},
   "source": [
    "<hr><hr>"
   ]
  },
  {
   "cell_type": "markdown",
   "metadata": {},
   "source": [
    "## Object Oriented Programing"
   ]
  },
  {
   "cell_type": "markdown",
   "metadata": {},
   "source": [
    "**1. Classes**: Blueprints for creating objects that encapsulate data and behavior.\n",
    "\n",
    "**2. Objects**: Instances of classes representing real-world entities with attributes and methods.\n",
    "\n",
    "**3. Attributes**: Variables associated with an object or class that store data/state.\n",
    "\n",
    "**4. Methods**: Functions defined inside a class that describe behaviors or actions of an object.\n",
    "\n",
    "**5. The `__init__` method**: Special constructor method used to initialize new objects with specific values.\n",
    "\n",
    "**6. Encapsulation**: Mechanism to restrict direct access to some attributes/methods using access modifiers (public, protected, private).\n",
    "\n",
    "**7. Inheritance**: Ability of a class (child) to inherit attributes and methods from another class (parent), promoting code reuse.\n",
    "\n",
    "**8. Polymorphism**: Concept where different classes can have methods with the same name but different implementations.\n",
    "\n",
    "**9. Abstraction**: Hiding complex implementation details and showing only essential features through interfaces.\n",
    "\n",
    "**10. Self parameter**: Refers to the instance calling the method, allowing access to instance attributes and other methods within the class."
   ]
  },
  {
   "cell_type": "markdown",
   "metadata": {},
   "source": [
    "###### Ex. Set path to file location"
   ]
  },
  {
   "cell_type": "code",
   "execution_count": null,
   "metadata": {},
   "outputs": [],
   "source": [
    "import os\n",
    "os.getcwd()"
   ]
  },
  {
   "cell_type": "code",
   "execution_count": null,
   "metadata": {},
   "outputs": [],
   "source": [
    "os.chdir(r\"C:\\Users\\vaide\\OneDrive - knowledgecorner.in\\Delivery_Content\\Cummins\\Cummins_Material\\Classwork\\dataset\")"
   ]
  },
  {
   "cell_type": "code",
   "execution_count": null,
   "metadata": {},
   "outputs": [],
   "source": [
    "os.getcwd()"
   ]
  },
  {
   "cell_type": "markdown",
   "metadata": {},
   "source": [
    "###### Ex. Read data from github directly"
   ]
  },
  {
   "cell_type": "code",
   "execution_count": null,
   "metadata": {},
   "outputs": [],
   "source": [
    "import requests\n",
    "response = requests.get(r\"https://raw.githubusercontent.com/knowledge-corner/Cummins_Material/refs/heads/main/Classwork/dataset/customers.txt\")\n",
    "\n",
    "response.text.split(\"\\n\")"
   ]
  },
  {
   "cell_type": "markdown",
   "metadata": {},
   "source": [
    "###### Ex. Read data from customers.txt"
   ]
  },
  {
   "cell_type": "code",
   "execution_count": null,
   "metadata": {},
   "outputs": [],
   "source": [
    "file = open(r\"customers.txt\")\n",
    "file"
   ]
  },
  {
   "cell_type": "code",
   "execution_count": null,
   "metadata": {
    "scrolled": true
   },
   "outputs": [],
   "source": [
    "data = file.readlines()\n",
    "data"
   ]
  },
  {
   "cell_type": "markdown",
   "metadata": {},
   "source": [
    "###### Ex. How many customer records are available?"
   ]
  },
  {
   "cell_type": "code",
   "execution_count": null,
   "metadata": {},
   "outputs": [],
   "source": [
    "len(data)"
   ]
  },
  {
   "cell_type": "markdown",
   "metadata": {},
   "source": [
    "###### Ex. Extract all pilots from the data. or How many customers are Pilots?"
   ]
  },
  {
   "cell_type": "code",
   "execution_count": null,
   "metadata": {},
   "outputs": [],
   "source": [
    "pilots = list(filter(lambda row : \"Pilot\" in row , data))"
   ]
  },
  {
   "cell_type": "code",
   "execution_count": null,
   "metadata": {},
   "outputs": [],
   "source": [
    "len(pilots)"
   ]
  },
  {
   "attachments": {},
   "cell_type": "markdown",
   "metadata": {},
   "source": [
    "#### Problem statement - \n",
    "\n",
    "1. `Pilot` should specifically the profession and not a sub-string in fname/lname\n",
    "2. Extract and count all the senior citizens (age >= 60)\n",
    "\n",
    "Hint - \n",
    "\n",
    "1. Clean the data\n",
    "2. Store the data as a list of list"
   ]
  },
  {
   "cell_type": "code",
   "execution_count": null,
   "metadata": {},
   "outputs": [],
   "source": [
    "file = open(r\"./dataset/customers.txt\")\n",
    "data = file.readlines()\n",
    "file.close()"
   ]
  },
  {
   "cell_type": "markdown",
   "metadata": {},
   "source": [
    "###### Ex. Data cleaning using nested lists"
   ]
  },
  {
   "cell_type": "code",
   "execution_count": null,
   "metadata": {},
   "outputs": [],
   "source": [
    "def clean_data(strg) :\n",
    "    cust = strg.strip().split(\",\")\n",
    "    cust[3] = int(cust[3])\n",
    "    return cust\n",
    "\n",
    "clean_data(data[2])"
   ]
  },
  {
   "cell_type": "markdown",
   "metadata": {},
   "source": [
    "###### Ex. Data cleaning using Customer object"
   ]
  },
  {
   "cell_type": "code",
   "execution_count": 62,
   "metadata": {},
   "outputs": [
    {
     "data": {
      "text/plain": [
       "Sherri Melton | 34"
      ]
     },
     "execution_count": 62,
     "metadata": {},
     "output_type": "execute_result"
    }
   ],
   "source": [
    "class Customer :\n",
    "    def __init__(self, c_id = None, fname = None, lname = None, age = None, prof = None) :\n",
    "        self.c_id = int(c_id)\n",
    "        self.name = f\"{fname} {lname}\"\n",
    "        self.age = int(age)\n",
    "        self.profession = prof\n",
    "\n",
    "    def __str__(self):\n",
    "        return self.name\n",
    "        \n",
    "    # Note - while printing output directly without print() __repr__() is excuted\n",
    "    def __repr__ (self) :\n",
    "        return f\"{self.name} | {self.age}\"\n",
    "\n",
    "    # Implementing lt method to provide comparision\n",
    "    def __lt__(self, obj) :\n",
    "        return self.age < obj.age\n",
    "        \n",
    "# -------------------------------------\n",
    "def clean_data(strg) :\n",
    "    lst = strg.strip().split(\",\")\n",
    "    cust = Customer(*lst)  # unpacking the list to individual arguments/parameters\n",
    "    return cust\n",
    "\n",
    "clean_data(data[2])"
   ]
  },
  {
   "cell_type": "code",
   "execution_count": 63,
   "metadata": {},
   "outputs": [],
   "source": [
    "def func(*args) :  # packing of values into args tuple\n",
    "    pass\n",
    "\n",
    "func(1, 2, 3, 4)"
   ]
  },
  {
   "cell_type": "code",
   "execution_count": 64,
   "metadata": {},
   "outputs": [
    {
     "name": "stdout",
     "output_type": "stream",
     "text": [
      "[Kristina Chung | 55, Paige Chen | 74]\n"
     ]
    }
   ],
   "source": [
    "customers = list(map(clean_data, data))\n",
    "print(customers[0:2])"
   ]
  },
  {
   "cell_type": "code",
   "execution_count": 59,
   "metadata": {},
   "outputs": [
    {
     "data": {
      "text/plain": [
       "Kristina Chung | 55"
      ]
     },
     "execution_count": 59,
     "metadata": {},
     "output_type": "execute_result"
    }
   ],
   "source": [
    "customers[0]"
   ]
  },
  {
   "cell_type": "code",
   "execution_count": 60,
   "metadata": {},
   "outputs": [
    {
     "name": "stdout",
     "output_type": "stream",
     "text": [
      "Kristina Chung\n"
     ]
    }
   ],
   "source": [
    "print(customers[0])"
   ]
  },
  {
   "cell_type": "markdown",
   "metadata": {},
   "source": [
    "###### Ex. Extracting Pilots"
   ]
  },
  {
   "cell_type": "code",
   "execution_count": 17,
   "metadata": {},
   "outputs": [
    {
     "data": {
      "text/plain": [
       "209"
      ]
     },
     "execution_count": 17,
     "metadata": {},
     "output_type": "execute_result"
    }
   ],
   "source": [
    "pilots = list(filter(lambda cust : cust[4] == 'Pilot' , customers))\n",
    "len(pilots)"
   ]
  },
  {
   "cell_type": "code",
   "execution_count": 37,
   "metadata": {},
   "outputs": [
    {
     "data": {
      "text/plain": [
       "209"
      ]
     },
     "execution_count": 37,
     "metadata": {},
     "output_type": "execute_result"
    }
   ],
   "source": [
    "pilots = list(filter(lambda cust : cust.profession == 'Pilot' , customers))\n",
    "len(pilots)"
   ]
  },
  {
   "cell_type": "markdown",
   "metadata": {},
   "source": [
    "###### Ex. Write details of Pilots to `pilots.txt`"
   ]
  },
  {
   "cell_type": "code",
   "execution_count": 25,
   "metadata": {},
   "outputs": [
    {
     "name": "stdout",
     "output_type": "stream",
     "text": [
      "File created\n"
     ]
    }
   ],
   "source": [
    "with open('pilot.txt', 'w') as file :\n",
    "    for pilot in pilots :\n",
    "        cust = ' '.join(map(str, pilot)) + '\\n'\n",
    "        file.write(cust)\n",
    "print('File created')"
   ]
  },
  {
   "cell_type": "markdown",
   "metadata": {},
   "source": [
    "###### Ex. Sort the customers by age and display their name and age.\n"
   ]
  },
  {
   "cell_type": "code",
   "execution_count": null,
   "metadata": {},
   "outputs": [],
   "source": [
    "sorted(customers, key = lambda cust : cust.age)"
   ]
  },
  {
   "cell_type": "code",
   "execution_count": null,
   "metadata": {
    "scrolled": true
   },
   "outputs": [],
   "source": [
    "sorted(customers)"
   ]
  },
  {
   "cell_type": "code",
   "execution_count": 68,
   "metadata": {},
   "outputs": [
    {
     "data": {
      "text/plain": [
       "True"
      ]
     },
     "execution_count": 68,
     "metadata": {},
     "output_type": "execute_result"
    }
   ],
   "source": [
    "customers[0] < customers[1]"
   ]
  },
  {
   "cell_type": "code",
   "execution_count": 69,
   "metadata": {},
   "outputs": [
    {
     "data": {
      "text/plain": [
       "'Paige Chen'"
      ]
     },
     "execution_count": 69,
     "metadata": {},
     "output_type": "execute_result"
    }
   ],
   "source": [
    "str(customers[1])  # convert customer obj to string - calls the __str__()"
   ]
  },
  {
   "cell_type": "markdown",
   "metadata": {},
   "source": [
    "###### Ex. Build a shapes and assing attributes to shapes and calculate cost of painting the shape"
   ]
  },
  {
   "cell_type": "code",
   "execution_count": 89,
   "metadata": {},
   "outputs": [],
   "source": [
    "class Circle :\n",
    "    pi = 3.14  # class variable\n",
    "\n",
    "    def __init__(self, radius) :\n",
    "        self.__radius = radius  # private instance variable\n",
    "\n",
    "    def cal_area(self) :\n",
    "        self.area = Circle.pi * (self.__radius ** 2)"
   ]
  },
  {
   "cell_type": "code",
   "execution_count": 90,
   "metadata": {},
   "outputs": [],
   "source": [
    "c1 = Circle(10)\n",
    "c2 = Circle(100)"
   ]
  },
  {
   "cell_type": "code",
   "execution_count": 91,
   "metadata": {},
   "outputs": [
    {
     "ename": "AttributeError",
     "evalue": "'Circle' object has no attribute 'radius'",
     "output_type": "error",
     "traceback": [
      "\u001b[31m---------------------------------------------------------------------------\u001b[39m",
      "\u001b[31mAttributeError\u001b[39m                            Traceback (most recent call last)",
      "\u001b[36mCell\u001b[39m\u001b[36m \u001b[39m\u001b[32mIn[91]\u001b[39m\u001b[32m, line 2\u001b[39m\n\u001b[32m      1\u001b[39m c1.cal_area()\n\u001b[32m----> \u001b[39m\u001b[32m2\u001b[39m \u001b[43mc1\u001b[49m\u001b[43m.\u001b[49m\u001b[43mradius\u001b[49m\n",
      "\u001b[31mAttributeError\u001b[39m: 'Circle' object has no attribute 'radius'"
     ]
    }
   ],
   "source": [
    "c1.cal_area()\n",
    "c1.radius"
   ]
  },
  {
   "cell_type": "code",
   "execution_count": 92,
   "metadata": {},
   "outputs": [
    {
     "data": {
      "text/plain": [
       "314.0"
      ]
     },
     "execution_count": 92,
     "metadata": {},
     "output_type": "execute_result"
    }
   ],
   "source": [
    "c1.area"
   ]
  },
  {
   "cell_type": "code",
   "execution_count": 96,
   "metadata": {},
   "outputs": [
    {
     "data": {
      "text/plain": [
       "3.14"
      ]
     },
     "execution_count": 96,
     "metadata": {},
     "output_type": "execute_result"
    }
   ],
   "source": [
    "Circle.pi  # class variable"
   ]
  },
  {
   "cell_type": "code",
   "execution_count": 94,
   "metadata": {},
   "outputs": [],
   "source": [
    "c1.pi = 55 # instance variable defined after creating an instance"
   ]
  },
  {
   "cell_type": "code",
   "execution_count": 95,
   "metadata": {},
   "outputs": [
    {
     "data": {
      "text/plain": [
       "55"
      ]
     },
     "execution_count": 95,
     "metadata": {},
     "output_type": "execute_result"
    }
   ],
   "source": [
    "c1.pi"
   ]
  },
  {
   "cell_type": "code",
   "execution_count": 99,
   "metadata": {},
   "outputs": [],
   "source": [
    "class Customer :\n",
    "    pass\n",
    "\n",
    "def clean_data(strg) :\n",
    "    lst = strg.strip().split(\",\")\n",
    "    cust = Customer()\n",
    "    cust.c_id = lst[0]\n",
    "    cust.name = f\"{lst[1]} {lst[2]}\"\n",
    "    return cust\n",
    "c = clean_data(data[0])"
   ]
  },
  {
   "cell_type": "code",
   "execution_count": 101,
   "metadata": {},
   "outputs": [
    {
     "data": {
      "text/plain": [
       "'Kristina Chung'"
      ]
     },
     "execution_count": 101,
     "metadata": {},
     "output_type": "execute_result"
    }
   ],
   "source": [
    "c.name"
   ]
  },
  {
   "cell_type": "code",
   "execution_count": 149,
   "metadata": {},
   "outputs": [],
   "source": [
    "from abc import ABC, abstractmethod\n",
    "class Shape(ABC) :\n",
    "    prices = {\"red\" : 10, \"blue\" : 20, \"green\" : 30, \"white\" : 1}\n",
    "    \n",
    "    def __init__(self, color = \"white\"):\n",
    "        self.cal_area()  # application of polymorphism\n",
    "        self.color = color\n",
    "\n",
    "    @abstractmethod\n",
    "    def cal_area(self):\n",
    "        pass\n",
    "    \n",
    "    def cal_cost(self, color = None):\n",
    "        cost =  Shape.prices.get(color, 0) if color else Shape.prices.get(self.color, 0)\n",
    "        return self.area * cost\n",
    "    \n",
    "class Circle(Shape) :\n",
    "    pi = 3.14  # class variable\n",
    "\n",
    "    def __init__(self, radius, **kwargs) :\n",
    "        self.radius = radius  # private instance variable\n",
    "        super().__init__(color = kwargs.get(\"color\", \"white\"))\n",
    "\n",
    "    def cal_area(self) :\n",
    "        self.area = Circle.pi * (self.radius ** 2)\n",
    "\n",
    "    @classmethod\n",
    "    def class_m(cls) :  # cls - holds class object\n",
    "        print(\"class method\")\n",
    "\n",
    "    @staticmethod\n",
    "    def static_m() :\n",
    "        print(\"static method\")"
   ]
  },
  {
   "cell_type": "code",
   "execution_count": 150,
   "metadata": {},
   "outputs": [
    {
     "name": "stdout",
     "output_type": "stream",
     "text": [
      "class method\n"
     ]
    }
   ],
   "source": [
    "Circle.class_m()"
   ]
  },
  {
   "cell_type": "code",
   "execution_count": 151,
   "metadata": {},
   "outputs": [
    {
     "name": "stdout",
     "output_type": "stream",
     "text": [
      "static method\n"
     ]
    }
   ],
   "source": [
    "Circle.static_m()"
   ]
  },
  {
   "cell_type": "code",
   "execution_count": 135,
   "metadata": {},
   "outputs": [
    {
     "data": {
      "text/plain": [
       "314.0"
      ]
     },
     "execution_count": 135,
     "metadata": {},
     "output_type": "execute_result"
    }
   ],
   "source": [
    "c = Circle(10)\n",
    "c.cal_cost()"
   ]
  },
  {
   "cell_type": "code",
   "execution_count": 136,
   "metadata": {},
   "outputs": [
    {
     "data": {
      "text/plain": [
       "3140.0"
      ]
     },
     "execution_count": 136,
     "metadata": {},
     "output_type": "execute_result"
    }
   ],
   "source": [
    "c = Circle(10, color = \"red\")\n",
    "c.cal_cost()"
   ]
  },
  {
   "cell_type": "code",
   "execution_count": 137,
   "metadata": {},
   "outputs": [
    {
     "data": {
      "text/plain": [
       "6280.0"
      ]
     },
     "execution_count": 137,
     "metadata": {},
     "output_type": "execute_result"
    }
   ],
   "source": [
    "c = Circle(10)\n",
    "c.cal_cost(color = \"blue\")"
   ]
  },
  {
   "cell_type": "code",
   "execution_count": 138,
   "metadata": {},
   "outputs": [
    {
     "data": {
      "text/plain": [
       "6280.0"
      ]
     },
     "execution_count": 138,
     "metadata": {},
     "output_type": "execute_result"
    }
   ],
   "source": [
    "c = Circle(10, color = \"red\")\n",
    "c.cal_cost(color = \"blue\")"
   ]
  },
  {
   "cell_type": "code",
   "execution_count": 112,
   "metadata": {},
   "outputs": [
    {
     "ename": "TypeError",
     "evalue": "Can't instantiate abstract class Shape without an implementation for abstract method 'cal_area'",
     "output_type": "error",
     "traceback": [
      "\u001b[31m---------------------------------------------------------------------------\u001b[39m",
      "\u001b[31mTypeError\u001b[39m                                 Traceback (most recent call last)",
      "\u001b[36mCell\u001b[39m\u001b[36m \u001b[39m\u001b[32mIn[112]\u001b[39m\u001b[32m, line 1\u001b[39m\n\u001b[32m----> \u001b[39m\u001b[32m1\u001b[39m \u001b[43mShape\u001b[49m\u001b[43m(\u001b[49m\u001b[43m)\u001b[49m\n",
      "\u001b[31mTypeError\u001b[39m: Can't instantiate abstract class Shape without an implementation for abstract method 'cal_area'"
     ]
    }
   ],
   "source": [
    "Shape()"
   ]
  },
  {
   "cell_type": "code",
   "execution_count": 140,
   "metadata": {},
   "outputs": [
    {
     "data": {
      "text/plain": [
       "<__main__.Circle at 0x1f33b696150>"
      ]
     },
     "execution_count": 140,
     "metadata": {},
     "output_type": "execute_result"
    }
   ],
   "source": [
    "Circle(10)  # instance of Circle class"
   ]
  },
  {
   "cell_type": "code",
   "execution_count": 141,
   "metadata": {},
   "outputs": [
    {
     "data": {
      "text/plain": [
       "__main__.Circle"
      ]
     },
     "execution_count": 141,
     "metadata": {},
     "output_type": "execute_result"
    }
   ],
   "source": [
    "Circle  # object/callable of Circle class"
   ]
  },
  {
   "cell_type": "code",
   "execution_count": 142,
   "metadata": {},
   "outputs": [],
   "source": [
    "c = Circle"
   ]
  },
  {
   "cell_type": "code",
   "execution_count": 143,
   "metadata": {},
   "outputs": [
    {
     "data": {
      "text/plain": [
       "<__main__.Circle at 0x1f33b68ea80>"
      ]
     },
     "execution_count": 143,
     "metadata": {},
     "output_type": "execute_result"
    }
   ],
   "source": [
    "c(15)"
   ]
  },
  {
   "cell_type": "code",
   "execution_count": null,
   "metadata": {},
   "outputs": [],
   "source": []
  },
  {
   "cell_type": "code",
   "execution_count": 31,
   "metadata": {},
   "outputs": [],
   "source": [
    "# import git\n",
    "\n",
    "# repository = git.Repo(r\"C:\\Users\\vaide\\OneDrive - knowledgecorner.in\\Delivery_Content\\Cummins\\Cummins_Material\")\n",
    "# repository.git.add(\"pilot.txt\")\n",
    "\n",
    "# repository.index.commit(\"Test\")\n",
    "# origin = repository.remote(name = \"origin\")\n",
    "# origin.push()"
   ]
  },
  {
   "cell_type": "code",
   "execution_count": null,
   "metadata": {},
   "outputs": [],
   "source": []
  },
  {
   "cell_type": "code",
   "execution_count": null,
   "metadata": {},
   "outputs": [],
   "source": []
  },
  {
   "cell_type": "markdown",
   "metadata": {},
   "source": [
    "<hr><hr>"
   ]
  }
 ],
 "metadata": {
  "kernelspec": {
   "display_name": "Python 3 (ipykernel)",
   "language": "python",
   "name": "python3"
  },
  "language_info": {
   "codemirror_mode": {
    "name": "ipython",
    "version": 3
   },
   "file_extension": ".py",
   "mimetype": "text/x-python",
   "name": "python",
   "nbconvert_exporter": "python",
   "pygments_lexer": "ipython3",
   "version": "3.12.0"
  }
 },
 "nbformat": 4,
 "nbformat_minor": 4
}
