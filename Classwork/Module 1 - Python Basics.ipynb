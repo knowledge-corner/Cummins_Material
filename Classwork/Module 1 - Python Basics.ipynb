{
 "cells": [
  {
   "cell_type": "markdown",
   "metadata": {},
   "source": [
    "# Module 1 - Python Programming Basics"
   ]
  },
  {
   "cell_type": "markdown",
   "metadata": {
    "jp-MarkdownHeadingCollapsed": true
   },
   "source": [
    "### Course Agenda"
   ]
  },
  {
   "cell_type": "markdown",
   "metadata": {},
   "source": [
    "**1. Programming Basics**\n",
    "- **Variables**: Declaration, initialization, and usage.\n",
    "- **Operators**: Arithmetic, comparison, logical, assignment, and bitwise operators.\n",
    "- **Decision Making**: `if`, `elif`, `else` statements for conditional execution.\n",
    "- **Iteration**: `for` and `while` loops for repetitive tasks.\n",
    "- **Sequences**: String manipulation and basic operations with lists.\n",
    "\n",
    "---\n",
    "\n",
    "**2. Data Structures in Python**\n",
    "- **List**: Creation, indexing, slicing, and operations.\n",
    "- **Tuple**: Immutable sequences, creation, and usage.\n",
    "- **Set**: Unique elements, set operations like union, intersection, and difference.\n",
    "- **Dictionary**: Key-value pairs, dictionary methods, and usage.\n",
    "\n",
    "---\n",
    "\n",
    "**3. Functions**\n",
    "- **Function Arguments**: Positional, keyword, default arguments, and variable-length arguments.\n",
    "- **Lambda Functions**: Anonymous functions, use cases, and syntax.\n",
    "- **Function Objects**: Passing functions as arguments, returning functions from other functions.\n",
    "- **Map, Filter, Reduce**: Functional programming tools for processing collections.\n",
    "\n",
    "---\n",
    "\n",
    "**4. Exception Handling**\n",
    "- **Handling Exceptions**: `try`, `except`, `finally`, and `else` clauses.\n",
    "- **Raising Exceptions**: Custom exceptions and usage.\n",
    "\n",
    "---\n",
    "\n",
    "**5. Object Oriented Programming (OOP)**\n",
    "- **Classes and Objects**: Defining classes, creating objects, and understanding `self`.\n",
    "- **Attributes and Methods**: Instance variables, class variables, and methods.\n",
    "- **Inheritance**: Single and multiple inheritance, method overriding.\n",
    "- **Polymorphism**: Method overloading and operator overloading.\n",
    "- **Encapsulation**: Private variables and methods, using getters and setters.\n",
    "\n",
    "---\n",
    "\n",
    "**6. Regular Expressions**\n",
    "- **Introduction to Regex**: Basic syntax and usage in Python.\n",
    "- **Regex Functions**: `re.match()`, `re.search()`, `re.findall()`, `re.sub()`.\n",
    "- **Common Patterns**: Character classes, quantifiers, groups, and anchors.\n",
    "\n",
    "---\n",
    "\n",
    "**8. Requests Library**\n",
    "- **Introduction to HTTP Requests**: GET, POST, PUT, DELETE methods.\n",
    "- **Making Requests**: Using `requests` to send HTTP requests and handle responses.\n",
    "- **Handling JSON Data**: Parsing and processing JSON responses."
   ]
  },
  {
   "cell_type": "markdown",
   "metadata": {
    "jp-MarkdownHeadingCollapsed": true
   },
   "source": [
    "### Python Interface"
   ]
  },
  {
   "cell_type": "markdown",
   "metadata": {
    "jp-MarkdownHeadingCollapsed": true
   },
   "source": [
    "A Python interface refers to the means through which you can interact with Python programs, libraries, or external systems. Here are a few different ways you can interface with Python:\n",
    "\n",
    "**1. Interactive Python Shell (REPL)**\n",
    "- **Description**: The Python Shell, also known as the Read-Eval-Print Loop (REPL), is an interactive command-line interface where you can type and execute Python commands one at a time. This is useful for quick experiments and debugging.\n",
    "- **Example**: You can start the Python Shell by simply typing `python` or `python3` in your terminal or command prompt.\n",
    "\n",
    "**2. Integrated Development Environments (IDEs)**\n",
    "- **Popular IDEs**: PyCharm, Visual Studio Code, Spyder, Jupyter Notebook.\n",
    "- **Description**: IDEs provide a comprehensive environment for writing, testing, and debugging Python code. They come with features like syntax highlighting, code completion, version control integration, and more.\n",
    "- **Example**: PyCharm offers an advanced interface with debugging tools, refactoring support, and integration with version control systems like Git.\n",
    "\n",
    "**3. Jupyter Notebooks**\n",
    "- **Description**: Jupyter Notebooks are an interactive web-based environment where you can combine code execution, text, and visualizations in a single document. This is particularly useful for data analysis, machine learning, and teaching.\n",
    "- **Example**: You can run Jupyter Notebooks by installing the Jupyter package and starting a notebook server with the command `jupyter notebook`.\n",
    "\n",
    "**4. Command-Line Interface (CLI)**\n",
    "- **Description**: Python scripts can be executed directly from the command line. You can write Python programs that take command-line arguments and perform tasks based on those arguments.\n",
    "- **Example**: A Python script named `myscript.py` can be run using `python myscript.py` in the terminal.\n",
    "\n",
    "**5. Google Colab Notebook**\n",
    "- Can be access using - https://colab.research.google.com/\n",
    "- Requires google sign-in\n",
    "\n",
    "Each of these interfaces serves different purposes and can be chosen based on the specific requirements of your project or task.\n",
    "\n",
    "<hr><hr>"
   ]
  },
  {
   "cell_type": "markdown",
   "metadata": {},
   "source": [
    "#### Step-by-step guide to install Python and Visual Studio Code (VS Code) on Windows 11\n",
    "\n",
    "**Step 1: Install Python**\n",
    "\n",
    "1. Download Python:\n",
    "\n",
    "   * Go to the official Python website: [https://www.python.org/downloads/](https://www.python.org/downloads/)\n",
    "   * Click on the \"Download Python\" button to get the latest version.\n",
    "\n",
    "2. Run the Installer:\n",
    "\n",
    "   * Open the downloaded installer.\n",
    "   * Check the box that says **\"Add Python to PATH\"**.\n",
    "   * Click on **\"Install Now\"**.\n",
    "\n",
    "3. Verify Installation:\n",
    "\n",
    "   * Open Command Prompt.\n",
    "   * Type `python --version` and press Enter.\n",
    "   * You should see the installed Python version displayed.\n",
    "\n",
    "---\n",
    "\n",
    "**Step 2: Install Visual Studio Code (VS Code)**\n",
    "\n",
    "1. Download VS Code:\n",
    "\n",
    "   * Visit the official VS Code website: [https://code.visualstudio.com/download](https://code.visualstudio.com/download)\n",
    "   * Click on the \"Download for Windows\" button.\n",
    "\n",
    "2. Install VS Code:\n",
    "\n",
    "   * Run the downloaded installer.\n",
    "   * Follow the setup wizard:\n",
    "\n",
    "     * Accept the license agreement.\n",
    "     * Choose the installation location.\n",
    "     * Select additional tasks (e.g., create a desktop icon, add to PATH).\n",
    "   * Click **\"Install\"** to begin the installation.\n",
    "\n",
    "3. Launch VS Code:\n",
    "\n",
    "   * After installation, open VS Code from the Start menu or desktop shortcut.\n",
    "\n",
    "---\n",
    "\n",
    "**Step 3: Install Python Extension in VS Code**\n",
    "\n",
    "1. Open Extensions View:\n",
    "\n",
    "   * In VS Code, click on the Extensions icon on the left sidebar (or press `Ctrl+Shift+X`).\n",
    "\n",
    "2. Search and Install Python Extension:\n",
    "\n",
    "   * Type `Python` in the search bar.\n",
    "   * Locate the extension named **\"Python\"** by Microsoft.\n",
    "   * Click **\"Install\"**.\n",
    "\n",
    "   This extension provides features like IntelliSense, linting, debugging, and more.&#x20;\n",
    "\n",
    "---\n",
    "\n",
    "**Step 4: Install Jupyter Extension in VS Code**\n",
    "\n",
    "1. Search and Install Jupyter Extension:\n",
    "\n",
    "   * In the Extensions view (`Ctrl+Shift+X`), type `Jupyter` in the search bar.\n",
    "   * Find the extension named **\"Jupyter\"** by Microsoft.\n",
    "   * Click **\"Install\"**.\n",
    "\n",
    "   This extension allows you to work with Jupyter Notebooks directly within VS Code.&#x20;\n",
    "\n",
    "---\n",
    "\n",
    "**Step 5: Configure Python Interpreter in VS Code**\n",
    "\n",
    "1. Open Command Palette:\n",
    "\n",
    "   * Press `Ctrl+Shift+P` to open the Command Palette.\n",
    "\n",
    "2. Select Python Interpreter:\n",
    "\n",
    "   * Type `Python: Select Interpreter` and select it.\n",
    "   * Choose the Python interpreter you installed earlier (e.g., Python 3.x.x).\n",
    "\n",
    "   This ensures that VS Code uses the correct Python version for your projects.&#x20;\n",
    "\n",
    "---\n",
    "\n",
    "**Step 6: Create and Run a Jupyter Notebook**\n",
    "\n",
    "1. Create a New Notebook:\n",
    "\n",
    "   * In VS Code, press `Ctrl+Shift+P` to open the Command Palette.\n",
    "   * Type `Jupyter: Create New Jupyter Notebook` and select it.\n",
    "\n",
    "2. Write and Execute Code:\n",
    "\n",
    "   * In the new notebook, you can add code cells and write Python code.\n",
    "   * Click the play icon next to each cell to execute it.\n",
    "\n",
    "   Ensure that the correct Python interpreter is selected for the notebook.&#x20;\n",
    "\n",
    "---"
   ]
  },
  {
   "cell_type": "markdown",
   "metadata": {
    "jp-MarkdownHeadingCollapsed": true
   },
   "source": [
    "## **Programming Basics**"
   ]
  },
  {
   "cell_type": "markdown",
   "metadata": {},
   "source": [
    "- **Variables**: Declaration, initialization, and usage.\n",
    "- **Operators**: Arithmetic, comparison, logical, assignment, and bitwise operators.\n",
    "- **Decision Making**: `if`, `elif`, `else` statements for conditional execution.\n",
    "- **Iteration**: `for` and `while` loops for repetitive tasks.\n",
    "- **Sequences**: String manipulation and basic operations with lists."
   ]
  },
  {
   "cell_type": "markdown",
   "metadata": {},
   "source": [
    "### Python Data Types\n",
    "\n",
    "Python has several built-in data types that allow you to store and manipulate different kinds of data. Here are the primary data types in Python:\n",
    "\n",
    "<table style=\"width: 60%; border-collapse: collapse; border: 1px solid #ccc; text-align: center;margin-left: 0;\">\n",
    "  <thead>\n",
    "    <tr style=\"background-color: #050A30; color: white;\">\n",
    "      <th>Data Type</th>\n",
    "      <th>Description</th>\n",
    "      <th>Examples</th>\n",
    "    </tr>\n",
    "  </thead>\n",
    "  <tbody>\n",
    "    <tr>\n",
    "      <td>int</td>\n",
    "      <td>Integer numbers</td>\n",
    "      <td>42, -7</td>\n",
    "    </tr>\n",
    "    <tr>\n",
    "      <td>float</td>\n",
    "      <td>Floating-point numbers (decimal)</td>\n",
    "      <td>3.14, -0.001</td>\n",
    "    </tr>\n",
    "    <tr>\n",
    "      <td>complex</td>\n",
    "      <td>Complex numbers</td>\n",
    "      <td>1+2j, -3+4j</td>\n",
    "    </tr>\n",
    "    <tr>\n",
    "      <td>bool</td>\n",
    "      <td>Boolean values</td>\n",
    "      <td>True, False</td>\n",
    "    </tr>\n",
    "    <tr>\n",
    "      <td>str</td>\n",
    "      <td>String, a sequence of characters</td>\n",
    "      <td>\"hello\", 'world'</td>\n",
    "    </tr>\n",
    "    <tr>\n",
    "      <td>bytes</td>\n",
    "      <td>Immutable sequence of bytes</td>\n",
    "      <td>b'hello'</td>\n",
    "    </tr>\n",
    "  </tbody>\n",
    "</table>\n",
    "\n",
    "<br>"
   ]
  },
  {
   "cell_type": "markdown",
   "metadata": {},
   "source": [
    "### Python Containers or Data structures\n",
    "\n",
    "In Python, containers refer to data structures that hold multiple elements together. They provide a way to manage and organize collections of data. Here are some common types of containers in Python:\n",
    "\n",
    "<table style=\"width: 60%; border-collapse: collapse; border: 1px solid #ccc; text-align: left; margin-left: 0;\">\n",
    "  <thead>\n",
    "    <tr style=\"background-color: #050A30; color: white;\">\n",
    "      <th style=\"text-align: left;\">Data Structure</th>\n",
    "      <th style=\"text-align: left;\">Definition</th>\n",
    "      <th style=\"text-align: left;\">Syntax</th>\n",
    "      <th style=\"text-align: left;\">Example</th>\n",
    "    </tr>\n",
    "  </thead>\n",
    "  <tbody>\n",
    "    <tr>\n",
    "      <td style=\"text-align: left;\">List</td>\n",
    "      <td style=\"text-align: left;\">An ordered, mutable (changeable) collection of items.</td>\n",
    "      <td style=\"text-align: left;\">Created using square brackets []</td>\n",
    "      <td style=\"text-align: left;\">`[1, 2, 3, 4]`</td>\n",
    "    </tr>\n",
    "    <tr>\n",
    "      <td style=\"text-align: left;\">Tuple</td>\n",
    "      <td style=\"text-align: left;\">An ordered, immutable (unchangeable) collection of items.</td>\n",
    "      <td style=\"text-align: left;\">Created using parentheses ()</td>\n",
    "      <td style=\"text-align: left;\">`(1, 2, 3, 4)`</td>\n",
    "    </tr>\n",
    "    <tr>\n",
    "      <td style=\"text-align: left;\">Set</td>\n",
    "      <td style=\"text-align: left;\">An unordered collection of unique items.</td>\n",
    "      <td style=\"text-align: left;\">Created using curly braces {} or the set() function.</td>\n",
    "      <td style=\"text-align: left;\">`{1, 2, 3, 4}` or `set([1, 2, 3, 4])`</td>\n",
    "    </tr>\n",
    "    <tr>\n",
    "      <td style=\"text-align: left;\">Dictionary</td>\n",
    "      <td style=\"text-align: left;\">An unordered collection of key-value pairs. Keys must be unique and immutable.</td>\n",
    "      <td style=\"text-align: left;\">Created using curly braces {} with key-value pairs separated by colons :</td>\n",
    "      <td style=\"text-align: left;\">`{'a': 1, 'b': 2, 'c': 3}`</td>\n",
    "    </tr>\n",
    "  </tbody>\n",
    "</table>\n"
   ]
  },
  {
   "attachments": {},
   "cell_type": "markdown",
   "metadata": {
    "scrolled": false
   },
   "source": [
    "### Operators in Python\n",
    "Operators are special symbols in Python that carry out computations. The value that the operator operates on is called as operand.\n",
    "\n",
    "<table style=\"width: 60%; border-collapse: collapse; border: 1px solid #ccc; text-align: left; margin-left: 0;\">\n",
    "  <thead>\n",
    "    <tr style=\"background-color: #050A30; color: white;\">\n",
    "        <th style=\"width: 20%; border: 1px solid #000; text-align: left;\">Operator Type</th>\n",
    "      <th style=\"width: 20%; border: 1px solid #000; text-align: left;\">Operator</th>\n",
    "      <th style=\"width: 60%;border: 1px solid #000; text-align: left;\">Description</th>\n",
    "    </tr>\n",
    "  </thead>\n",
    "  <tbody>\n",
    "    <tr>\n",
    "      <td style=\"border: 1px solid #000; text-align: left;\" rowspan=\"7\">Arithmetic</td>\n",
    "      <td style=\"border: 1px solid #000; text-align: left;\">+</td>\n",
    "      <td style=\"border: 1px solid #000; text-align: left;\">Addition</td>\n",
    "    </tr>\n",
    "    <tr>\n",
    "      <td style=\"border: 1px solid #000; text-align: left;\">-</td>\n",
    "      <td style=\"border: 1px solid #000; text-align: left;\">Subtraction</td>\n",
    "    </tr>\n",
    "    <tr>\n",
    "      <td style=\"border: 1px solid #000; text-align: left;\">*</td>\n",
    "      <td style=\"border: 1px solid #000; text-align: left;\">Multiplication</td>\n",
    "    </tr>\n",
    "    <tr>\n",
    "      <td style=\"border: 1px solid #000; text-align: left;\">/</td>\n",
    "      <td style=\"border: 1px solid #000; text-align: left;\">Division</td>\n",
    "    </tr>\n",
    "    <tr>\n",
    "      <td style=\"border: 1px solid #000; text-align: left;\">%</td>\n",
    "      <td style=\"border: 1px solid #000; text-align: left;\">Modulus (remainder of division)</td>\n",
    "    </tr>\n",
    "    <tr>\n",
    "      <td style=\"border: 1px solid #000; text-align: left;\">**</td>\n",
    "      <td style=\"border: 1px solid #000; text-align: left;\">Exponentiation (power)</td>\n",
    "    </tr>\n",
    "    <tr>\n",
    "      <td style=\"border: 1px solid #000; text-align: left;\">//</td>\n",
    "      <td style=\"border: 1px solid #000; text-align: left;\">Floor division (largest integer less than or equal to quotient)</td>\n",
    "    </tr>\n",
    "    <tr>\n",
    "      <td style=\"border: 1px solid #000; text-align: left;\" rowspan=\"6\">Comparison</td>\n",
    "      <td style=\"border: 1px solid #000; text-align: left;\">==</td>\n",
    "      <td style=\"border: 1px solid #000; text-align: left;\">Equal to</td>\n",
    "    </tr>\n",
    "    <tr>\n",
    "      <td style=\"border: 1px solid #000; text-align: left;\">!=</td>\n",
    "      <td style=\"border: 1px solid #000; text-align: left;\">Not equal to</td>\n",
    "    </tr>\n",
    "    <tr>\n",
    "      <td style=\"border: 1px solid #000; text-align: left;\">&gt;</td>\n",
    "      <td style=\"border: 1px solid #000; text-align: left;\">Greater than</td>\n",
    "    </tr>\n",
    "    <tr>\n",
    "      <td style=\"border: 1px solid #000; text-align: left;\">&lt;</td>\n",
    "      <td style=\"border: 1px solid #000; text-align: left;\">Less than</td>\n",
    "    </tr>\n",
    "    <tr>\n",
    "      <td style=\"border: 1px solid #000; text-align: left;\">&gt;=</td>\n",
    "      <td style=\"border: 1px solid #000; text-align: left;\">Greater than or equal to</td>\n",
    "    </tr>\n",
    "    <tr>\n",
    "      <td style=\"border: 1px solid #000; text-align: left;\">&lt;=</td>\n",
    "      <td style=\"border: 1px solid #000; text-align: left;\">Less than or equal to</td>\n",
    "    </tr>\n",
    "    <tr>\n",
    "      <td style=\"border: 1px solid #000; text-align: left;\" rowspan=\"3\">Logical</td>\n",
    "      <td style=\"border: 1px solid #000; text-align: left;\">and</td>\n",
    "      <td style=\"border: 1px solid #000; text-align: left;\">Returns True if both statements are true</td>\n",
    "    </tr>\n",
    "    <tr>\n",
    "      <td style=\"border: 1px solid #000; text-align: left;\">or</td>\n",
    "      <td style=\"border: 1px solid #000; text-align: left;\">Returns True if at least one statement is true</td>\n",
    "    </tr>\n",
    "    <tr>\n",
    "      <td style=\"border: 1px solid #000; text-align: left;\">not</td>\n",
    "      <td style=\"border: 1px solid #000; text-align: left;\">Reverses the result, returns False if the result is true</td>\n",
    "    </tr>\n",
    "    <tr>\n",
    "      <td style=\"border: 1px solid #000; text-align: left;\">Assignment</td>\n",
    "      <td style=\"border: 1px solid #000; text-align: left;\">=</td>\n",
    "      <td style=\"border: 1px solid #000; text-align: left;\">Assign value on right to variable on left.</td>\n",
    "    </tr>\n",
    "    <tr>\n",
    "      <td style=\"border: 1px solid #000; text-align: left;\" rowspan=\"7\">Compound Assignment</td>\n",
    "      <td style=\"border: 1px solid #000; text-align: left;\">+=</td>\n",
    "      <td style=\"border: 1px solid #000; text-align: left;\">Add right operand to left and assign to left operand.</td>\n",
    "    </tr>\n",
    "    <tr>\n",
    "      <td style=\"border: 1px solid #000; text-align: left;\">-=</td>\n",
    "      <td style=\"border: 1px solid #000; text-align: left;\">Subtract right operand from left and assign to left operand.</td>\n",
    "    </tr>\n",
    "    <tr>\n",
    "      <td style=\"border: 1px solid #000; text-align: left;\">*=</td>\n",
    "      <td style=\"border: 1px solid #000; text-align: left;\">Multiply left operand by right and assign to left operand.</td>\n",
    "    </tr>\n",
    "    <tr>\n",
    "      <td style=\"border: 1px solid #000; text-align: left;\">/=</td>\n",
    "      <td style=\"border: 1px solid #000; text-align: left;\">Divide left operand by right and assign to left operand.</td>\n",
    "    </tr>\n",
    "    <tr>\n",
    "      <td style=\"border: 1px solid #000; text-align: left;\">%=</td>\n",
    "      <td style=\"border: 1px solid #000; text-align: left;\">Modulus of left by right and assign to left operand.</td>\n",
    "    </tr>\n",
    "    <tr>\n",
    "      <td style=\"border: 1px solid #000; text-align: left;\">//=</td>\n",
    "      <td style=\"border: 1px solid #000; text-align: left;\">Floor division of left by right and assign to left operand.</td>\n",
    "    </tr>\n",
    "    <tr>\n",
    "      <td style=\"border: 1px solid #000; text-align: left;\">**=</td>\n",
    "      <td style=\"border: 1px solid #000; text-align: left;\">Raise left operand to the power of right and assign to left operand.</td>\n",
    "    </tr>\n",
    "    <tr>\n",
    "      <td style=\"border: 1px solid #000; text-align: left;\" rowspan=\"2\">Membership</td>\n",
    "      <td style=\"border: 1px solid #000; text-align: left;\">in</td>\n",
    "      <td style=\"border: 1px solid #000; text-align: left;\">Checks if value is present in a sequence</td>\n",
    "    </tr>\n",
    "    <tr>\n",
    "      <td style=\"border: 1px solid #000; text-align: left;\">not in</td>\n",
    "      <td style=\"border: 1px solid #000; text-align: left;\">Checks if value is NOT present in a sequence</td>\n",
    "    </tr>\n",
    "  </tbody>\n",
    "</table>"
   ]
  },
  {
   "cell_type": "markdown",
   "metadata": {},
   "source": [
    "#### Examples - "
   ]
  },
  {
   "cell_type": "markdown",
   "metadata": {},
   "source": [
    "###### Ex. WAP to take 2 numbers as input and print their sum."
   ]
  },
  {
   "cell_type": "code",
   "execution_count": 1,
   "metadata": {},
   "outputs": [
    {
     "name": "stdin",
     "output_type": "stream",
     "text": [
      "Enter a number -  5\n",
      "Enter a number -  7\n"
     ]
    },
    {
     "name": "stdout",
     "output_type": "stream",
     "text": [
      "57\n"
     ]
    }
   ],
   "source": [
    "num1 = input(\"Enter a number - \")\n",
    "num2 = input(\"Enter a number - \")\n",
    "print(num1 + num2)"
   ]
  },
  {
   "cell_type": "code",
   "execution_count": 2,
   "metadata": {},
   "outputs": [
    {
     "data": {
      "text/plain": [
       "str"
      ]
     },
     "execution_count": 2,
     "metadata": {},
     "output_type": "execute_result"
    }
   ],
   "source": [
    "type(num1)"
   ]
  },
  {
   "cell_type": "markdown",
   "metadata": {},
   "source": [
    "##### Note - input() always reads the value in str format"
   ]
  },
  {
   "cell_type": "code",
   "execution_count": 3,
   "metadata": {},
   "outputs": [
    {
     "name": "stdin",
     "output_type": "stream",
     "text": [
      "Enter a number -  5\n",
      "Enter a number -  7\n"
     ]
    },
    {
     "name": "stdout",
     "output_type": "stream",
     "text": [
      "12\n"
     ]
    }
   ],
   "source": [
    "num1 = int(input(\"Enter a number - \"))\n",
    "num2 = int(input(\"Enter a number - \"))\n",
    "print(num1 + num2)"
   ]
  },
  {
   "cell_type": "markdown",
   "metadata": {},
   "source": [
    "###### Ex. WAP to accept hours and rate per hour from user and compute gross pay."
   ]
  },
  {
   "cell_type": "code",
   "execution_count": 4,
   "metadata": {},
   "outputs": [
    {
     "name": "stdin",
     "output_type": "stream",
     "text": [
      "Enter number of hours worked -  40\n",
      "Enter rate per hr -  1000\n"
     ]
    },
    {
     "data": {
      "text/plain": [
       "40000.0"
      ]
     },
     "execution_count": 4,
     "metadata": {},
     "output_type": "execute_result"
    }
   ],
   "source": [
    "hrs = int(input(\"Enter number of hours worked - \"))\n",
    "rate = float(input(\"Enter rate per hr - \"))\n",
    "\n",
    "gross_pay = hrs * rate\n",
    "gross_pay  # last line will be displayed as o/p in jupyter notebook"
   ]
  },
  {
   "cell_type": "markdown",
   "metadata": {},
   "source": [
    "###### Ex. Convert the sales value in thousands and concate `k` as suffix"
   ]
  },
  {
   "cell_type": "code",
   "execution_count": 12,
   "metadata": {},
   "outputs": [
    {
     "data": {
      "text/plain": [
       "'58.97k'"
      ]
     },
     "execution_count": 12,
     "metadata": {},
     "output_type": "execute_result"
    }
   ],
   "source": [
    "sales = 58973  # o/p - 53.97k\n",
    "str(round(sales/1000, 2)) + \"k\"  # - concatenation"
   ]
  },
  {
   "cell_type": "code",
   "execution_count": 19,
   "metadata": {},
   "outputs": [
    {
     "data": {
      "text/plain": [
       "'58.97k'"
      ]
     },
     "execution_count": 19,
     "metadata": {},
     "output_type": "execute_result"
    }
   ],
   "source": [
    "sales = 58973  # o/p - 53.97k\n",
    "f\"{round(sales/1000, 2)}k\""
   ]
  },
  {
   "cell_type": "markdown",
   "metadata": {},
   "source": [
    "**Formatted Strings -** Introduced in Python 3.6, f-strings provide a more concise and readable way to format strings. You can include variables or expressions inside curly braces {} prefixed with an f."
   ]
  },
  {
   "cell_type": "code",
   "execution_count": 21,
   "metadata": {},
   "outputs": [
    {
     "name": "stdout",
     "output_type": "stream",
     "text": [
      "['__doc__', '__loader__', '__name__', '__package__', '__spec__', 'acos', 'acosh', 'asin', 'asinh', 'atan', 'atan2', 'atanh', 'cbrt', 'ceil', 'comb', 'copysign', 'cos', 'cosh', 'degrees', 'dist', 'e', 'erf', 'erfc', 'exp', 'exp2', 'expm1', 'fabs', 'factorial', 'floor', 'fmod', 'frexp', 'fsum', 'gamma', 'gcd', 'hypot', 'inf', 'isclose', 'isfinite', 'isinf', 'isnan', 'isqrt', 'lcm', 'ldexp', 'lgamma', 'log', 'log10', 'log1p', 'log2', 'modf', 'nan', 'nextafter', 'perm', 'pi', 'pow', 'prod', 'radians', 'remainder', 'sin', 'sinh', 'sqrt', 'sumprod', 'tan', 'tanh', 'tau', 'trunc', 'ulp']\n"
     ]
    }
   ],
   "source": [
    "import math\n",
    "print(dir(math))"
   ]
  },
  {
   "cell_type": "code",
   "execution_count": 22,
   "metadata": {},
   "outputs": [
    {
     "data": {
      "text/plain": [
       "59"
      ]
     },
     "execution_count": 22,
     "metadata": {},
     "output_type": "execute_result"
    }
   ],
   "source": [
    "sales = 58.97\n",
    "math.ceil(sales)"
   ]
  },
  {
   "cell_type": "code",
   "execution_count": 23,
   "metadata": {},
   "outputs": [
    {
     "data": {
      "text/plain": [
       "58"
      ]
     },
     "execution_count": 23,
     "metadata": {},
     "output_type": "execute_result"
    }
   ],
   "source": [
    "math.floor(sales)"
   ]
  },
  {
   "cell_type": "markdown",
   "metadata": {},
   "source": [
    "<hr><hr>"
   ]
  },
  {
   "cell_type": "markdown",
   "metadata": {
    "jp-MarkdownHeadingCollapsed": true
   },
   "source": [
    "## Decision Making"
   ]
  },
  {
   "cell_type": "markdown",
   "metadata": {},
   "source": [
    "**Decision-making statements in Python allow you to control the flow of execution based on certain conditions. These statements include if, elif, and else and can be used to execute different blocks of code depending on whether conditions are True or False.**\n",
    "\n",
    "<table style=\"width: 80%; border-collapse: collapse; border: 1px solid #ccc; text-align: left; margin-left: 0;\">\n",
    "  <thead>\n",
    "    <tr style=\"background-color: #050A30; color: white;\">\n",
    "      <th style=\"width: 20%; border: 1px solid #000; text-align: left;\">Type</th>\n",
    "      <th style=\"width: 30%; border: 1px solid #000; text-align: left;\">Description</th>\n",
    "      <th style=\"width: 50%; border: 1px solid #000; text-align: left;\">Syntax</th>\n",
    "    </tr>\n",
    "  </thead>\n",
    "  <tbody>\n",
    "    <tr>\n",
    "      <td style=\"border: 1px solid #000; text-align: left;\">Basic if Statement</td>\n",
    "      <td style=\"border: 1px solid #000; text-align: left;\">\n",
    "        Evaluates a condition and executes a block of code if the condition is True.\n",
    "      </td>\n",
    "      <td style=\"border: 1px solid #000; text-align: left;\">\n",
    "          <code>if condition:\n",
    "    # block if True</code>\n",
    "      </td>\n",
    "    </tr>\n",
    "    <tr>\n",
    "      <td style=\"border: 1px solid #000; text-align: left;\">if-else Statement</td>\n",
    "      <td style=\"border: 1px solid #000; text-align: left;\">\n",
    "        Executes one block if the condition is True, and another block if it is False.\n",
    "      </td>\n",
    "      <td style=\"border: 1px solid #000; text-align: left;\">\n",
    "<code>if condition:\n",
    "    # block if True\n",
    "else:\n",
    "    # block if False</code>\n",
    "      </td>\n",
    "    </tr>\n",
    "    <tr>\n",
    "      <td style=\"border: 1px solid #000; text-align: left;\">if-elif-else Statement</td>\n",
    "      <td style=\"border: 1px solid #000; text-align: left;\">\n",
    "        Allows checking multiple expressions for True; first to evaluate as True gets executed. If none are True, the else block is run.\n",
    "      </td>\n",
    "      <td style=\"border: 1px solid #000; text-align: left;\">\n",
    "<code>if condition1:\n",
    "    # block if condition1 is True\n",
    "elif condition2:\n",
    "    # block if condition2 is True\n",
    "elif condition3:\n",
    "    # block if condition3 is True\n",
    "else:\n",
    "    # block if none are True</code>\n",
    "      </td>\n",
    "    </tr>\n",
    "    <tr>\n",
    "      <td style=\"border: 1px solid #000; text-align: left;\">Nested if Statements</td>\n",
    "      <td style=\"border: 1px solid #000; text-align: left;\">\n",
    "        Allows if statements within if statements, for hierarchical condition checks.\n",
    "      </td>\n",
    "      <td style=\"border: 1px solid #000; text-align: left;\">\n",
    "<code>if condition1:\n",
    "    # block if condition1 is True\n",
    "    if condition2:\n",
    "        # block if condition2 is True\n",
    "    else:\n",
    "        # block if condition2 is False\n",
    "else:\n",
    "    # block if condition1 is False</code>\n",
    "      </td>\n",
    "    </tr>\n",
    "    <tr>\n",
    "      <td style=\"border: 1px solid #000; text-align: left;\">One-Line if-else</td>\n",
    "      <td style=\"border: 1px solid #000; text-align: left;\">\n",
    "        Short-hand way to write an if-else statement in a single line (ternary operator).\n",
    "      </td>\n",
    "      <td style=\"border: 1px solid #000; text-align: left;\">\n",
    "        <code>value_if_true if condition else value_if_false</code>\n",
    "      </td>\n",
    "    </tr>\n",
    "  </tbody>\n",
    "</table>"
   ]
  },
  {
   "cell_type": "markdown",
   "metadata": {},
   "source": [
    "#### Examples -"
   ]
  },
  {
   "cell_type": "markdown",
   "metadata": {},
   "source": [
    "###### Ex. WAP to accept hours and rate per hour from user and compute gross pay.\n",
    "- for 40 hrs pay the standard rate\n",
    "- if overtime then pay 1.5 times of rate for the additional hrs.\n"
   ]
  },
  {
   "cell_type": "code",
   "execution_count": 26,
   "metadata": {},
   "outputs": [
    {
     "name": "stdin",
     "output_type": "stream",
     "text": [
      "Enter number of hours worked -  45\n",
      "Enter rate per hr -  1000\n"
     ]
    },
    {
     "name": "stdout",
     "output_type": "stream",
     "text": [
      "47500.0\n"
     ]
    }
   ],
   "source": [
    "hrs = int(input(\"Enter number of hours worked - \"))\n",
    "rate = float(input(\"Enter rate per hr - \"))\n",
    "\n",
    "if hrs <= 40 :\n",
    "    gross_pay = hrs * rate\n",
    "else:\n",
    "    gross_pay = (40 * rate) + ((hrs - 40) * 1.5 * rate)\n",
    "print(gross_pay)"
   ]
  },
  {
   "cell_type": "markdown",
   "metadata": {},
   "source": [
    "###### Ex. 7up and 7down\n",
    "\n",
    "WAP to simulate the below mentioned scenario -\n",
    "\n",
    "1. Player enters the game with initial amount as Rs. 1,000/- \n",
    "2. Generate a random value between 1 to 14 and store it in variable \"outcome\"\n",
    "3. if outcome = 7, player hits a jackpot and wins Rs. 1,00,00,000.\n",
    "4. if outcome < 7, player looses amount by (outcome*100)\n",
    "5. if outcome > 7, player earns amount by (outcome*100)\n",
    "6. Print the final amount with the player."
   ]
  },
  {
   "cell_type": "code",
   "execution_count": 34,
   "metadata": {},
   "outputs": [
    {
     "name": "stdout",
     "output_type": "stream",
     "text": [
      "Your Score -  13\n",
      "final balance -  2300\n"
     ]
    }
   ],
   "source": [
    "import random as r \n",
    "\n",
    "amount = 1000\n",
    "# outcome = r.choice\n",
    "outcome = r.randint(1, 14)\n",
    "print(\"Your Score - \", outcome)\n",
    "\n",
    "if outcome < 7 :\n",
    "    amount -= (outcome * 100)\n",
    "elif outcome > 7 :\n",
    "    amount += (outcome * 100)\n",
    "else:\n",
    "    print(\"You have got jackpot!!!\")\n",
    "    amount += 100000\n",
    "    \n",
    "print(\"final balance - \", amount)"
   ]
  },
  {
   "cell_type": "code",
   "execution_count": 30,
   "metadata": {},
   "outputs": [
    {
     "name": "stdout",
     "output_type": "stream",
     "text": [
      "Help on method randint in module random:\n",
      "\n",
      "randint(a, b) method of random.Random instance\n",
      "    Return random integer in range [a, b], including both end points.\n",
      "\n"
     ]
    }
   ],
   "source": [
    "help(r.randint) # help- gives documention of a given function"
   ]
  },
  {
   "cell_type": "markdown",
   "metadata": {},
   "source": [
    "<hr><hr>"
   ]
  },
  {
   "cell_type": "markdown",
   "metadata": {
    "jp-MarkdownHeadingCollapsed": true
   },
   "source": [
    "## Loops/Iteration"
   ]
  },
  {
   "cell_type": "markdown",
   "metadata": {},
   "source": [
    "**Loops are used to execute of a specific block of code in repetitively**\n",
    "\n",
    "<table style=\"width: 80%; border-collapse: collapse; border: 1px solid #ccc; margin-left: 0;\">\n",
    "  <thead>\n",
    "  <tr style=\"text-align: center; background-color: #050A30; color: white;\">\n",
    "    <th style=\"width: 20%; border: 1px solid #000; text-align: center;\">Aspect</th>\n",
    "    <th style=\"width: 40%; border: 1px solid #000; text-align: center;\">For Loop</th>\n",
    "    <th style=\"width: 40%; border: 1px solid #000; text-align: center;\">While Loop</th>\n",
    "  </tr>\n",
    "</thead>\n",
    "  <tbody style = \"text-align: left;\">\n",
    "    <tr>\n",
    "      <td style=\"border: 1px solid #000; text-align: left;\">Definition</td>\n",
    "      <td style=\"border: 1px solid #000; text-align: left;\">Iterates over a sequence or iterable (like list, tuple, range).</td>\n",
    "      <td style=\"border: 1px solid #000; text-align: left;\">Repeats a block of code as long as the condition is true.</td>\n",
    "    </tr>\n",
    "    <tr>\n",
    "      <td style=\"border: 1px solid #000; text-align: left;\">Use Case</td>\n",
    "      <td style=\"border: 1px solid #000; text-align: left;\">Use when number of iterations is known or iterable is fixed.</td>\n",
    "      <td style=\"border: 1px solid #000; text-align: left;\">Use when the number of iterations is not known beforehand.</td>\n",
    "    </tr>\n",
    "    <tr>\n",
    "      <td style=\"border: 1px solid #000; text-align: left;\">Control</td>\n",
    "      <td style=\"border: 1px solid #000; text-align: left;\">Iterates through items automatically.</td>\n",
    "      <td style=\"border: 1px solid #000; text-align: left;\">Condition is evaluated before each iteration; loop runs while condition is true.</td>\n",
    "    </tr>\n",
    "    <tr>\n",
    "      <td style=\"border: 1px solid #000; text-align: left;\">Risk</td>\n",
    "      <td style=\"border: 1px solid #000; text-align: left;\">Less prone to infinite loops.</td>\n",
    "      <td style=\"border: 1px solid #000; text-align: left;\">May cause infinite loops if condition never becomes\n"
   ]
  },
  {
   "cell_type": "markdown",
   "metadata": {},
   "source": [
    "#### Continue vs Break statement"
   ]
  },
  {
   "cell_type": "markdown",
   "metadata": {},
   "source": [
    "<table style=\"width: 80%; border-collapse: collapse; border: 1px solid #ccc; margin-left: 0;\">\n",
    "  <thead>\n",
    "    <tr style=\"text-align: center; background-color: #050A30; color: white;\">\n",
    "      <th style=\"width: 20%; border: 1px solid #000; text-align: center;\">Aspect</th>\n",
    "      <th style=\"width: 40%; border: 1px solid #000; text-align: center;\">Break Statement</th>\n",
    "      <th style=\"width: 40%; border: 1px solid #000; text-align: center;\">Continue Statement</th>\n",
    "    </tr>\n",
    "  </thead>\n",
    "  <tbody>\n",
    "    <tr>\n",
    "      <td style=\"border: 1px solid #000; text-align: left;\">Purpose</td>\n",
    "      <td style=\"border: 1px solid #000; text-align: left;\">Terminates the nearest enclosing loop immediately.</td>\n",
    "      <td style=\"border: 1px solid #000; text-align: left;\">Skips the rest of the current loop iteration and moves to the next iteration.</td>\n",
    "    </tr>\n",
    "    <tr>\n",
    "      <td style=\"border: 1px solid #000; text-align: left;\">Effect on Loop</td>\n",
    "      <td style=\"border: 1px solid #000; text-align: left;\">Exits the loop completely.</td>\n",
    "      <td style=\"border: 1px solid #000; text-align: left;\">Does not exit the loop but skips to the next iteration.</td>\n",
    "    </tr>\n",
    "    <tr>\n",
    "      <td style=\"border: 1px solid #000; text-align: left;\">Usage Context</td>\n",
    "      <td style=\"border: 1px solid #000; text-align: left;\">Used when a condition to stop looping is met early.</td>\n",
    "      <td style=\"border: 1px solid #000; text-align: left;\">Used to skip processing certain iterations based on condition.</td>\n",
    "    </tr>\n",
    "    <tr>\n",
    "      <td style=\"border: 1px solid #000; text-align: left;\">Typical Use Case</td>\n",
    "      <td style=\"border: 1px solid #000; text-align: left;\">Stop searching when item found in a list.</td>\n",
    "      <td style=\"border: 1px solid #000; text-align: left;\">Ignore certain values in loops (e.g., skip even numbers).</td>\n",
    "    </tr>\n",
    "    <tr>\n",
    "      <td style=\"border: 1px solid #000; text-align: left;\">Example</td>\n",
    "      <td style=\"border: 1px solid #000; text-align: left;\">\n",
    "        <pre style=\"margin:0;\">for i in range(1, 6):\n",
    "    if i == 3:\n",
    "        break\n",
    "    print(i)</pre>\n",
    "      </td>\n",
    "      <td style=\"border: 1px solid #000; text-align: left;\">\n",
    "        <pre style=\"margin:0;\">for i in range(1, 6):\n",
    "    if i == 3:\n",
    "        continue\n",
    "    print(i)</pre>\n",
    "      </td>\n",
    "    </tr>\n",
    "  </tbody>\n",
    "</table>\n"
   ]
  },
  {
   "cell_type": "markdown",
   "metadata": {},
   "source": [
    "#### Examples - "
   ]
  },
  {
   "cell_type": "markdown",
   "metadata": {},
   "source": [
    "###### Ex. Modify the 7up 7down program based on following rules - \n",
    "\n",
    "- Ask user his choice to play again as `yes/no`.\n",
    "- First round starts with amount balance as Rs. 1000. However, further rounds will be played on the balance amount generated from previous round. Example - in round 1 user earned Rs. 800. So for his next round amount will be Rs. 1,800 which is balance generated in previous round.\n",
    "- The game will terminate if user -\n",
    "    - choice to play again is `no`\n",
    "    - hits the `jackpot`\n",
    "    - has insufficient funds to play the next round."
   ]
  },
  {
   "cell_type": "code",
   "execution_count": 40,
   "metadata": {},
   "outputs": [
    {
     "name": "stdout",
     "output_type": "stream",
     "text": [
      "Your Score -  5\n",
      "Your current balance is - 500.\n"
     ]
    },
    {
     "name": "stdin",
     "output_type": "stream",
     "text": [
      "Do you wish to continue? yes/no yes\n"
     ]
    },
    {
     "name": "stdout",
     "output_type": "stream",
     "text": [
      "Your Score -  13\n",
      "Your current balance is - 1800.\n"
     ]
    },
    {
     "name": "stdin",
     "output_type": "stream",
     "text": [
      "Do you wish to continue? yes/no yes\n"
     ]
    },
    {
     "name": "stdout",
     "output_type": "stream",
     "text": [
      "Your Score -  1\n",
      "Your current balance is - 1700.\n"
     ]
    },
    {
     "name": "stdin",
     "output_type": "stream",
     "text": [
      "Do you wish to continue? yes/no yes\n"
     ]
    },
    {
     "name": "stdout",
     "output_type": "stream",
     "text": [
      "Your Score -  6\n",
      "Your current balance is - 1100.\n"
     ]
    },
    {
     "name": "stdin",
     "output_type": "stream",
     "text": [
      "Do you wish to continue? yes/no yes\n"
     ]
    },
    {
     "name": "stdout",
     "output_type": "stream",
     "text": [
      "Your Score -  10\n",
      "Your current balance is - 2100.\n"
     ]
    },
    {
     "name": "stdin",
     "output_type": "stream",
     "text": [
      "Do you wish to continue? yes/no yes\n"
     ]
    },
    {
     "name": "stdout",
     "output_type": "stream",
     "text": [
      "Your Score -  3\n",
      "Your current balance is - 1800.\n"
     ]
    },
    {
     "name": "stdin",
     "output_type": "stream",
     "text": [
      "Do you wish to continue? yes/no yes\n"
     ]
    },
    {
     "name": "stdout",
     "output_type": "stream",
     "text": [
      "Your Score -  8\n",
      "Your current balance is - 2600.\n"
     ]
    },
    {
     "name": "stdin",
     "output_type": "stream",
     "text": [
      "Do you wish to continue? yes/no yes\n"
     ]
    },
    {
     "name": "stdout",
     "output_type": "stream",
     "text": [
      "Your Score -  5\n",
      "Your current balance is - 2100.\n"
     ]
    },
    {
     "name": "stdin",
     "output_type": "stream",
     "text": [
      "Do you wish to continue? yes/no yes\n"
     ]
    },
    {
     "name": "stdout",
     "output_type": "stream",
     "text": [
      "Your Score -  7\n",
      "You have got jackpot!!!\n",
      "final balance -  102100\n"
     ]
    }
   ],
   "source": [
    "import random as r \n",
    "\n",
    "amount = 1000\n",
    "choice = \"yes\"\n",
    "\n",
    "while choice == \"yes\" :\n",
    "    outcome = r.randint(1, 14)\n",
    "    print(\"Your Score - \", outcome)\n",
    "    \n",
    "    if outcome < 7 :\n",
    "        amount -= (outcome * 100)\n",
    "    elif outcome > 7 :\n",
    "        amount += (outcome * 100)\n",
    "    else:\n",
    "        print(\"You have got jackpot!!!\")\n",
    "        amount += 100000\n",
    "        break\n",
    "\n",
    "    print(f\"Your current balance is - {amount}.\")\n",
    "    choice = input(\"Do you wish to continue? yes/no\").lower()\n",
    "    \n",
    "print(\"final balance - \", amount)"
   ]
  },
  {
   "cell_type": "markdown",
   "metadata": {},
   "source": [
    "#### range( `[start], stop, [step]`)\n",
    "\n",
    "- `start` - Optional. An integer number specifying at which position to start. Default is 0\n",
    "- `stop` - Required. An integer number specifying at which position to end.\u000b",
    "\n",
    "\n",
    "\n",
    "\n",
    "\n",
    "- `step` - Optional. An integer number specifying the incrementation. Default is 1"
   ]
  },
  {
   "cell_type": "markdown",
   "metadata": {},
   "source": [
    "###### Ex. WAP to print square of each number in range 1 - 10"
   ]
  },
  {
   "cell_type": "code",
   "execution_count": 42,
   "metadata": {},
   "outputs": [
    {
     "data": {
      "text/plain": [
       "range(1, 11)"
      ]
     },
     "execution_count": 42,
     "metadata": {},
     "output_type": "execute_result"
    }
   ],
   "source": [
    "range(1, 11) # generates sequence of numbers from 1 to 10"
   ]
  },
  {
   "cell_type": "code",
   "execution_count": 43,
   "metadata": {},
   "outputs": [
    {
     "data": {
      "text/plain": [
       "[1, 2, 3, 4, 5, 6, 7, 8, 9, 10]"
      ]
     },
     "execution_count": 43,
     "metadata": {},
     "output_type": "execute_result"
    }
   ],
   "source": [
    "list(range(1, 11)) # range sequence object converted to list object"
   ]
  },
  {
   "cell_type": "code",
   "execution_count": 45,
   "metadata": {},
   "outputs": [
    {
     "name": "stdout",
     "output_type": "stream",
     "text": [
      "1  -  1\n",
      "2  -  4\n",
      "3  -  9\n",
      "4  -  16\n",
      "5  -  25\n",
      "6  -  36\n",
      "7  -  49\n",
      "8  -  64\n",
      "9  -  81\n",
      "10  -  100\n"
     ]
    }
   ],
   "source": [
    "for i in range(1, 11) :\n",
    "    print(i, \" - \", i**2)"
   ]
  },
  {
   "cell_type": "markdown",
   "metadata": {},
   "source": [
    "###### Ex. WAP to perform summation and product of first 10 natural numbers"
   ]
  },
  {
   "cell_type": "code",
   "execution_count": 46,
   "metadata": {},
   "outputs": [
    {
     "data": {
      "text/plain": [
       "55"
      ]
     },
     "execution_count": 46,
     "metadata": {},
     "output_type": "execute_result"
    }
   ],
   "source": [
    "total = 0 \n",
    "for i in range(1, 11) :\n",
    "    total += i\n",
    "total"
   ]
  },
  {
   "cell_type": "code",
   "execution_count": 47,
   "metadata": {},
   "outputs": [
    {
     "data": {
      "text/plain": [
       "55"
      ]
     },
     "execution_count": 47,
     "metadata": {},
     "output_type": "execute_result"
    }
   ],
   "source": [
    "sum(range(1, 11))"
   ]
  },
  {
   "cell_type": "code",
   "execution_count": 48,
   "metadata": {},
   "outputs": [
    {
     "data": {
      "text/plain": [
       "3628800"
      ]
     },
     "execution_count": 48,
     "metadata": {},
     "output_type": "execute_result"
    }
   ],
   "source": [
    "import math\n",
    "math.prod(range(1, 11))"
   ]
  },
  {
   "cell_type": "markdown",
   "metadata": {},
   "source": [
    "###### Ex. WAP to calculate total amount credited to the account and total amount debited from account based on following transactions -"
   ]
  },
  {
   "cell_type": "code",
   "execution_count": 49,
   "metadata": {},
   "outputs": [
    {
     "name": "stdout",
     "output_type": "stream",
     "text": [
      "Amount Credited - Rs. 6500 and Amount debited - Rs. 1800\n"
     ]
    }
   ],
   "source": [
    "transactions = [2000, -500, 1500, -1200, -100, 3000]\n",
    "amt_c = 0 \n",
    "amt_d = 0\n",
    "\n",
    "for amt in transactions :\n",
    "    if amt > 0 :\n",
    "        amt_c += amt\n",
    "    else:\n",
    "        amt_d += abs(amt)\n",
    "print(f\"Amount Credited - Rs. {amt_c} and Amount debited - Rs. {amt_d}\")"
   ]
  },
  {
   "cell_type": "markdown",
   "metadata": {},
   "source": [
    "###### Ex. WAP to check if Jack is member of the list or not?"
   ]
  },
  {
   "cell_type": "code",
   "execution_count": 50,
   "metadata": {},
   "outputs": [
    {
     "data": {
      "text/plain": [
       "True"
      ]
     },
     "execution_count": 50,
     "metadata": {},
     "output_type": "execute_result"
    }
   ],
   "source": [
    "names = [\"Jack\", \"Jane\", \"Rosie\", \"Sam\"]\n",
    "\"Jack\" in names"
   ]
  },
  {
   "cell_type": "code",
   "execution_count": 51,
   "metadata": {},
   "outputs": [
    {
     "data": {
      "text/plain": [
       "False"
      ]
     },
     "execution_count": 51,
     "metadata": {},
     "output_type": "execute_result"
    }
   ],
   "source": [
    "\"George\" in names"
   ]
  },
  {
   "cell_type": "markdown",
   "metadata": {},
   "source": [
    "<hr><hr>"
   ]
  },
  {
   "cell_type": "markdown",
   "metadata": {},
   "source": [
    "## Sequence objects or Iterables"
   ]
  },
  {
   "attachments": {},
   "cell_type": "markdown",
   "metadata": {
    "jp-MarkdownHeadingCollapsed": true
   },
   "source": [
    "- collection of elements - str, range(), enumerate(), zip(), map(), filter()\n",
    "- Container sequences/Objects  - list, tuple, dict, set\n",
    "- Note -  range(), enumerate(), zip(), map(), filter() - these are generating non-readable output when printed.\n",
    "- Note - Any sequence can be converted to list/tuple\n",
    " \n",
    "\n",
    "#### `Operations on Generic Sequences`\n",
    "    - Membership - in | not in\n",
    "    - Iteration - for-loop`\n",
    "\n",
    "#### `Operations on Ordered/Indexed Sequences`\n",
    "    - Indexing - obj[index_pos]\n",
    "    - Slicing - obj[start : stop]\n",
    "    - Concatenation - `+` operator\n",
    "    - Repeatition - `*` operator\n",
    "\n",
    "#### `Functions on Generic Sequences`\n",
    "     - len() - gives the number of elements in the sequence\n",
    "     - max() - gives the largest element in the sequence\n",
    "     - min() - gives the smallest element in the sequence\n",
    "     - sum() - applicable to numeric sequences, returns the sum of all elements in the sequence\n",
    "     - math.prod() - applicable to numeric sequences, returns the product of all elements in the sequence\n",
    "     - sorted() - sorts the elements in the sequence in ASC order and returns a list object\n",
    "     "
   ]
  },
  {
   "cell_type": "markdown",
   "metadata": {},
   "source": [
    "### Python Sequences and Containers\n",
    "   "
   ]
  },
  {
   "cell_type": "markdown",
   "metadata": {},
   "source": [
    "<table style=\"width: 100%; border-collapse: collapse; border: 1px solid #ccc; text-align: center;\">\n",
    "  <thead>\n",
    "    <tr style=\"background-color: #050A30; color: white;\">\n",
    "      <th style=\"border: 1px solid #ccc; padding: 8px;\">Object</th>\n",
    "      <th style=\"border: 1px solid #ccc; padding: 8px;\">Container Object</th>\n",
    "      <th style=\"border: 1px solid #ccc; padding: 8px;\">Sequence Type</th>\n",
    "      <th style=\"border: 1px solid #ccc; padding: 8px;\">Element Type</th>\n",
    "      <th style=\"border: 1px solid #ccc; padding: 8px;\">Enclosed in</th>\n",
    "      <th style=\"border: 1px solid #ccc; padding: 8px;\">Immutability</th>\n",
    "      <th style=\"border: 1px solid #ccc; padding: 8px;\">Duplicates</th>\n",
    "    </tr>\n",
    "  </thead>\n",
    "  <tbody>\n",
    "    <tr>\n",
    "      <td style=\"border: 1px solid #ccc; padding: 8px;\">str()</td>\n",
    "      <td style=\"border: 1px solid #ccc; padding: 8px;\">No</td>\n",
    "      <td style=\"border: 1px solid #ccc; padding: 8px;\">ordered/indexed</td>\n",
    "      <td style=\"border: 1px solid #ccc; padding: 8px;\">characters</td>\n",
    "      <td style=\"border: 1px solid #ccc; padding: 8px;\">\"\" or ''</td>\n",
    "      <td style=\"border: 1px solid #ccc; padding: 8px;\">Yes</td>\n",
    "      <td style=\"border: 1px solid #ccc; padding: 8px;\">Yes</td>\n",
    "    </tr>\n",
    "    <tr>\n",
    "      <td style=\"border: 1px solid #ccc; padding: 8px;\">tuple()</td>\n",
    "      <td style=\"border: 1px solid #ccc; padding: 8px;\">Yes</td>\n",
    "      <td style=\"border: 1px solid #ccc; padding: 8px;\">ordered/indexed</td>\n",
    "      <td style=\"border: 1px solid #ccc; padding: 8px;\">mixed data (heterogeneous)</td>\n",
    "      <td style=\"border: 1px solid #ccc; padding: 8px;\">()</td>\n",
    "      <td style=\"border: 1px solid #ccc; padding: 8px;\">Yes</td>\n",
    "      <td style=\"border: 1px solid #ccc; padding: 8px;\">Yes</td>\n",
    "    </tr>\n",
    "    <tr>\n",
    "      <td style=\"border: 1px solid #ccc; padding: 8px;\">list()</td>\n",
    "      <td style=\"border: 1px solid #ccc; padding: 8px;\">Yes</td>\n",
    "      <td style=\"border: 1px solid #ccc; padding: 8px;\">ordered/indexed</td>\n",
    "      <td style=\"border: 1px solid #ccc; padding: 8px;\">mixed data (heterogeneous)</td>\n",
    "      <td style=\"border: 1px solid #ccc; padding: 8px;\">[]</td>\n",
    "      <td style=\"border: 1px solid #ccc; padding: 8px;\">No</td>\n",
    "      <td style=\"border: 1px solid #ccc; padding: 8px;\">Yes</td>\n",
    "    </tr>\n",
    "    <tr>\n",
    "      <td style=\"border: 1px solid #ccc; padding: 8px;\">set()</td>\n",
    "      <td style=\"border: 1px solid #ccc; padding: 8px;\">Yes</td>\n",
    "      <td style=\"border: 1px solid #ccc; padding: 8px;\">unordered</td>\n",
    "      <td style=\"border: 1px solid #ccc; padding: 8px;\">heterogeneous (immutable objects)</td>\n",
    "      <td style=\"border: 1px solid #ccc; padding: 8px;\">{}</td>\n",
    "      <td style=\"border: 1px solid #ccc; padding: 8px;\">No</td>\n",
    "      <td style=\"border: 1px solid #ccc; padding: 8px;\">No</td>\n",
    "    </tr>\n",
    "    <tr>\n",
    "      <td style=\"border: 1px solid #ccc; padding: 8px;\">dict()</td>\n",
    "      <td style=\"border: 1px solid #ccc; padding: 8px;\">Yes</td>\n",
    "      <td style=\"border: 1px solid #ccc; padding: 8px;\">unordered</td>\n",
    "      <td style=\"border: 1px solid #ccc; padding: 8px;\">Key - immutable<br>Value - any type</td>\n",
    "      <td style=\"border: 1px solid #ccc; padding: 8px;\">{}</td>\n",
    "      <td style=\"border: 1px solid #ccc; padding: 8px;\">No</td>\n",
    "      <td style=\"border: 1px solid #ccc; padding: 8px;\">Key - No<br>Value - Yes</td>\n",
    "    </tr>"
   ]
  },
  {
   "cell_type": "markdown",
   "metadata": {
    "jp-MarkdownHeadingCollapsed": true
   },
   "source": [
    "#### Operations on Indexed Sequences - Indexing and Slicing"
   ]
  },
  {
   "cell_type": "markdown",
   "metadata": {},
   "source": [
    "- Each character in a string has a unique index, starting from 0 for the first character up to n-1 for the last character, where n is the length of the string.\n",
    "\n",
    "- **Positive Indexing** - Positive indexing starts from 0 and goes up to n-1.\n",
    "    - Index 0 corresponds to the first character.\n",
    "    - Index 1 corresponds to the second character, and so on.\n",
    "      \n",
    "- **Negative Indexing** - Negative indexing starts from -1 for the last character and goes up to -n for the first character.\n",
    "    - Index -1 corresponds to the last character.\n",
    "    - Index -2 corresponds to the second last character, and so on.\n",
    "      \n",
    "- **Accessing Substrings** - You can also use slicing to access substrings. The syntax for slicing is `string[start:stop:step]` , where:\n",
    "    - start is the starting index (inclusive).\n",
    "    - stop is the ending index (exclusive).\n",
    "    - step is the step size (optional)."
   ]
  },
  {
   "cell_type": "markdown",
   "metadata": {},
   "source": [
    "###### Ex. Get the first 4-letter product category code"
   ]
  },
  {
   "cell_type": "code",
   "execution_count": 52,
   "metadata": {},
   "outputs": [
    {
     "data": {
      "text/plain": [
       "'E'"
      ]
     },
     "execution_count": 52,
     "metadata": {},
     "output_type": "execute_result"
    }
   ],
   "source": [
    "sku = \"ELEC-2025-00123\"\n",
    "sku[0]"
   ]
  },
  {
   "cell_type": "code",
   "execution_count": 53,
   "metadata": {},
   "outputs": [
    {
     "data": {
      "text/plain": [
       "'3'"
      ]
     },
     "execution_count": 53,
     "metadata": {},
     "output_type": "execute_result"
    }
   ],
   "source": [
    "sku[-1]"
   ]
  },
  {
   "cell_type": "code",
   "execution_count": 54,
   "metadata": {},
   "outputs": [
    {
     "data": {
      "text/plain": [
       "'ELEC'"
      ]
     },
     "execution_count": 54,
     "metadata": {},
     "output_type": "execute_result"
    }
   ],
   "source": [
    "sku[0:4]"
   ]
  },
  {
   "cell_type": "code",
   "execution_count": 56,
   "metadata": {},
   "outputs": [
    {
     "data": {
      "text/plain": [
       "'2025-00123'"
      ]
     },
     "execution_count": 56,
     "metadata": {},
     "output_type": "execute_result"
    }
   ],
   "source": [
    "sku[5 : ] # position 5 onwards"
   ]
  },
  {
   "cell_type": "code",
   "execution_count": 58,
   "metadata": {},
   "outputs": [
    {
     "data": {
      "text/plain": [
       "'00123'"
      ]
     },
     "execution_count": 58,
     "metadata": {},
     "output_type": "execute_result"
    }
   ],
   "source": [
    "sku[-5 : ]"
   ]
  },
  {
   "cell_type": "code",
   "execution_count": 59,
   "metadata": {},
   "outputs": [
    {
     "data": {
      "text/plain": [
       "'Agra'"
      ]
     },
     "execution_count": 59,
     "metadata": {},
     "output_type": "execute_result"
    }
   ],
   "source": [
    "route = [\"Delhi\", \"Agra\", \"Kanpur\", \"Lucknow\", \"Varanasi\"]\n",
    "route[1]"
   ]
  },
  {
   "cell_type": "code",
   "execution_count": 60,
   "metadata": {},
   "outputs": [
    {
     "data": {
      "text/plain": [
       "True"
      ]
     },
     "execution_count": 60,
     "metadata": {},
     "output_type": "execute_result"
    }
   ],
   "source": [
    "\"Agra\" in route"
   ]
  },
  {
   "cell_type": "code",
   "execution_count": 62,
   "metadata": {},
   "outputs": [
    {
     "data": {
      "text/plain": [
       "False"
      ]
     },
     "execution_count": 62,
     "metadata": {},
     "output_type": "execute_result"
    }
   ],
   "source": [
    "\"A\" in route"
   ]
  },
  {
   "cell_type": "markdown",
   "metadata": {},
   "source": [
    "###### Ex. Reverse the words in the list"
   ]
  },
  {
   "cell_type": "code",
   "execution_count": 64,
   "metadata": {},
   "outputs": [
    {
     "data": {
      "text/plain": [
       "['Varanasi', 'Lucknow', 'Kanpur', 'Agra', 'Delhi']"
      ]
     },
     "execution_count": 64,
     "metadata": {},
     "output_type": "execute_result"
    }
   ],
   "source": [
    "route = [\"Delhi\", \"Agra\", \"Kanpur\", \"Lucknow\", \"Varanasi\"]\n",
    "route.reverse()\n",
    "route"
   ]
  },
  {
   "cell_type": "code",
   "execution_count": 66,
   "metadata": {},
   "outputs": [
    {
     "data": {
      "text/plain": [
       "['Varanasi', 'Lucknow', 'Kanpur', 'Agra', 'Delhi']"
      ]
     },
     "execution_count": 66,
     "metadata": {},
     "output_type": "execute_result"
    }
   ],
   "source": [
    "route = [\"Delhi\", \"Agra\", \"Kanpur\", \"Lucknow\", \"Varanasi\"]\n",
    "route[::-1] # reverse any ordered sequence"
   ]
  },
  {
   "cell_type": "code",
   "execution_count": 68,
   "metadata": {},
   "outputs": [
    {
     "data": {
      "text/plain": [
       "['Varanasi', 'Lucknow', 'Kanpur', 'Delhi', 'Agra']"
      ]
     },
     "execution_count": 68,
     "metadata": {},
     "output_type": "execute_result"
    }
   ],
   "source": [
    "sorted(route)[::-1]"
   ]
  },
  {
   "cell_type": "code",
   "execution_count": 70,
   "metadata": {},
   "outputs": [
    {
     "data": {
      "text/plain": [
       "['Varanasi', 'Lucknow', 'Kanpur', 'Delhi', 'Agra']"
      ]
     },
     "execution_count": 70,
     "metadata": {},
     "output_type": "execute_result"
    }
   ],
   "source": [
    "sorted(route, reverse=True) # sorts the list in DESC order"
   ]
  },
  {
   "cell_type": "markdown",
   "metadata": {},
   "source": [
    "##### Note - Everything in python is an object"
   ]
  },
  {
   "cell_type": "code",
   "execution_count": 72,
   "metadata": {},
   "outputs": [
    {
     "name": "stdout",
     "output_type": "stream",
     "text": [
      "<class 'int'>\n"
     ]
    }
   ],
   "source": [
    "x = 10\n",
    "print(type(x))"
   ]
  },
  {
   "cell_type": "markdown",
   "metadata": {
    "jp-MarkdownHeadingCollapsed": true
   },
   "source": [
    "#### Methods in Python"
   ]
  },
  {
   "cell_type": "markdown",
   "metadata": {},
   "source": [
    "In Python, **methods** are functions that are associated with objects and can be called on those objects to perform specific operations. When we talk about methods with respect to data types like lists, strings, and dictionaries, these methods allow you to manipulate and interact with the data in those objects in useful ways.\n",
    "\n",
    "- **List Methods:**  \n",
    "  Lists are ordered, mutable sequences. List methods let you modify the list, add or remove elements, or query its contents. For example, methods like `.append()`, `.remove()`, `.extend()`, `.pop()`, `.sort()`, and `.reverse()` allow you to efficiently manage list items.\n",
    "\n",
    "- **String (str) Methods:**  \n",
    "  Strings are immutable sequences of characters. String methods enable you to manipulate text, such as changing case (`.upper()`, `.lower()`), searching and replacing (`.find()`, `.replace()`), splitting and joining (`.split()`, `.join()`), trimming whitespace (`.strip()`), and formatting (`.format()`).\n",
    "\n",
    "- **Dictionary (dict) Methods:**  \n",
    "  Dictionaries are unordered collections of key-value pairs. Dictionary methods allow you to access, update, or modify these pairs. Common methods include `.keys()`, `.values()`, `.items()`, `.get()`, `.pop()`, `.update()`, and `.clear()`.\n",
    "\n",
    "In summary, **methods are built-in functions tailored for the data type that allow you to perform actions and manipulate the data efficiently without needing to write those functions from scratch.**"
   ]
  },
  {
   "cell_type": "code",
   "execution_count": 73,
   "metadata": {},
   "outputs": [
    {
     "name": "stdout",
     "output_type": "stream",
     "text": [
      "['__add__', '__class__', '__contains__', '__delattr__', '__dir__', '__doc__', '__eq__', '__format__', '__ge__', '__getattribute__', '__getitem__', '__getnewargs__', '__getstate__', '__gt__', '__hash__', '__init__', '__init_subclass__', '__iter__', '__le__', '__len__', '__lt__', '__mod__', '__mul__', '__ne__', '__new__', '__reduce__', '__reduce_ex__', '__repr__', '__rmod__', '__rmul__', '__setattr__', '__sizeof__', '__str__', '__subclasshook__', 'capitalize', 'casefold', 'center', 'count', 'encode', 'endswith', 'expandtabs', 'find', 'format', 'format_map', 'index', 'isalnum', 'isalpha', 'isascii', 'isdecimal', 'isdigit', 'isidentifier', 'islower', 'isnumeric', 'isprintable', 'isspace', 'istitle', 'isupper', 'join', 'ljust', 'lower', 'lstrip', 'maketrans', 'partition', 'removeprefix', 'removesuffix', 'replace', 'rfind', 'rindex', 'rjust', 'rpartition', 'rsplit', 'rstrip', 'split', 'splitlines', 'startswith', 'strip', 'swapcase', 'title', 'translate', 'upper', 'zfill']\n"
     ]
    }
   ],
   "source": [
    "print(dir(str))"
   ]
  },
  {
   "cell_type": "markdown",
   "metadata": {
    "jp-MarkdownHeadingCollapsed": true
   },
   "source": [
    "#### Examples - "
   ]
  },
  {
   "cell_type": "markdown",
   "metadata": {},
   "source": [
    "###### Ex. WAP to convert the given sales value to int. profit = ($1,200)"
   ]
  },
  {
   "cell_type": "code",
   "execution_count": 78,
   "metadata": {},
   "outputs": [
    {
     "data": {
      "text/plain": [
       "-1200"
      ]
     },
     "execution_count": 78,
     "metadata": {},
     "output_type": "execute_result"
    }
   ],
   "source": [
    "profit = \"($1,200)\"  # o/p - 1200\n",
    "int(profit.replace(\"(\", \"-\").replace(\"$\", \"\").replace(\",\", \"\").replace(\")\", \"\"))"
   ]
  },
  {
   "cell_type": "code",
   "execution_count": 84,
   "metadata": {},
   "outputs": [
    {
     "data": {
      "text/plain": [
       "-1200"
      ]
     },
     "execution_count": 84,
     "metadata": {},
     "output_type": "execute_result"
    }
   ],
   "source": [
    "profit = \"-$1,200\"\n",
    "trans_obj = str.maketrans(\"(\", \"-\", \"$,)\")\n",
    "int(profit.translate(trans_obj))"
   ]
  },
  {
   "cell_type": "markdown",
   "metadata": {},
   "source": [
    "###### Ex. WAP to replace all the vowels in the string with *"
   ]
  },
  {
   "cell_type": "code",
   "execution_count": 85,
   "metadata": {},
   "outputs": [
    {
     "data": {
      "text/plain": [
       "'s*ng*p*r*'"
      ]
     },
     "execution_count": 85,
     "metadata": {},
     "output_type": "execute_result"
    }
   ],
   "source": [
    "strg = \"singapore\"\n",
    "trans_obj = str.maketrans(\"aeiou\", \"*****\")\n",
    "strg.translate(trans_obj)"
   ]
  },
  {
   "cell_type": "code",
   "execution_count": 91,
   "metadata": {},
   "outputs": [
    {
     "data": {
      "text/plain": [
       "'s*ng*p*r*'"
      ]
     },
     "execution_count": 91,
     "metadata": {},
     "output_type": "execute_result"
    }
   ],
   "source": [
    "strg = \"singapore\"\n",
    "for ch in \"aeiou\" :\n",
    "    strg = strg.replace(ch, \"*\")\n",
    "strg"
   ]
  },
  {
   "cell_type": "code",
   "execution_count": 89,
   "metadata": {},
   "outputs": [
    {
     "data": {
      "text/plain": [
       "'sing*pore'"
      ]
     },
     "execution_count": 89,
     "metadata": {},
     "output_type": "execute_result"
    }
   ],
   "source": [
    "strg.replace(\"a\", \"*\")"
   ]
  },
  {
   "cell_type": "code",
   "execution_count": 90,
   "metadata": {},
   "outputs": [
    {
     "data": {
      "text/plain": [
       "'singapore'"
      ]
     },
     "execution_count": 90,
     "metadata": {},
     "output_type": "execute_result"
    }
   ],
   "source": [
    "strg"
   ]
  },
  {
   "cell_type": "markdown",
   "metadata": {},
   "source": [
    "##### Note - str is immutable"
   ]
  },
  {
   "cell_type": "markdown",
   "metadata": {
    "jp-MarkdownHeadingCollapsed": true
   },
   "source": [
    "#### Tuples"
   ]
  },
  {
   "cell_type": "code",
   "execution_count": 92,
   "metadata": {},
   "outputs": [
    {
     "data": {
      "text/plain": [
       "(1, 2, 3, 4)"
      ]
     },
     "execution_count": 92,
     "metadata": {},
     "output_type": "execute_result"
    }
   ],
   "source": [
    "tup = (1, 2, 3, 4)\n",
    "tup"
   ]
  },
  {
   "cell_type": "code",
   "execution_count": 93,
   "metadata": {},
   "outputs": [
    {
     "data": {
      "text/plain": [
       "1"
      ]
     },
     "execution_count": 93,
     "metadata": {},
     "output_type": "execute_result"
    }
   ],
   "source": [
    "tup[0]"
   ]
  },
  {
   "cell_type": "markdown",
   "metadata": {
    "jp-MarkdownHeadingCollapsed": true
   },
   "source": [
    "#### Lists"
   ]
  },
  {
   "cell_type": "code",
   "execution_count": 94,
   "metadata": {},
   "outputs": [],
   "source": [
    "route = [\"Delhi\", \"Agra\", \"Kanpur\", \"Lucknow\", \"Varanasi\"]"
   ]
  },
  {
   "cell_type": "code",
   "execution_count": 95,
   "metadata": {},
   "outputs": [
    {
     "data": {
      "text/plain": [
       "'Delhi'"
      ]
     },
     "execution_count": 95,
     "metadata": {},
     "output_type": "execute_result"
    }
   ],
   "source": [
    "route[0]"
   ]
  },
  {
   "cell_type": "code",
   "execution_count": 96,
   "metadata": {},
   "outputs": [
    {
     "data": {
      "text/plain": [
       "['Delhi', 'Agra', 'Kanpur', 'Lucknow', 'Varanasi', 'Mumbai']"
      ]
     },
     "execution_count": 96,
     "metadata": {},
     "output_type": "execute_result"
    }
   ],
   "source": [
    "route.append(\"Mumbai\")\n",
    "route"
   ]
  },
  {
   "cell_type": "code",
   "execution_count": 97,
   "metadata": {},
   "outputs": [
    {
     "data": {
      "text/plain": [
       "['Delhi', 'Agra', 'Kanpur', 'Lucknow', 'Varanasi']"
      ]
     },
     "execution_count": 97,
     "metadata": {},
     "output_type": "execute_result"
    }
   ],
   "source": [
    "route.pop()\n",
    "route"
   ]
  },
  {
   "cell_type": "code",
   "execution_count": 98,
   "metadata": {},
   "outputs": [
    {
     "data": {
      "text/plain": [
       "['Delhi', 'Kanpur', 'Lucknow', 'Varanasi']"
      ]
     },
     "execution_count": 98,
     "metadata": {},
     "output_type": "execute_result"
    }
   ],
   "source": [
    "route.remove(\"Agra\")\n",
    "route"
   ]
  },
  {
   "cell_type": "code",
   "execution_count": 100,
   "metadata": {},
   "outputs": [
    {
     "data": {
      "text/plain": [
       "['Delhi', 'Kanpur', 'Lucknow', 'Varanasi']"
      ]
     },
     "execution_count": 100,
     "metadata": {},
     "output_type": "execute_result"
    }
   ],
   "source": [
    "route.sort() # method - sort the original list\n",
    "route"
   ]
  },
  {
   "cell_type": "code",
   "execution_count": 101,
   "metadata": {},
   "outputs": [
    {
     "data": {
      "text/plain": [
       "['Delhi', 'Kanpur', 'Lucknow', 'Varanasi']"
      ]
     },
     "execution_count": 101,
     "metadata": {},
     "output_type": "execute_result"
    }
   ],
   "source": [
    "sorted(route) # function returns a new list obj"
   ]
  },
  {
   "cell_type": "code",
   "execution_count": 102,
   "metadata": {},
   "outputs": [
    {
     "data": {
      "text/plain": [
       "['d', 'e', 'h', 'i', 'l']"
      ]
     },
     "execution_count": 102,
     "metadata": {},
     "output_type": "execute_result"
    }
   ],
   "source": [
    "sorted(\"delhi\")"
   ]
  },
  {
   "cell_type": "markdown",
   "metadata": {
    "jp-MarkdownHeadingCollapsed": true
   },
   "source": [
    "#### Dictionaries"
   ]
  },
  {
   "cell_type": "code",
   "execution_count": 103,
   "metadata": {},
   "outputs": [],
   "source": [
    "countries = {\"India\" : \"INR\", \"UK\" : \"GBP\", \"USA\" : \"USD\"}"
   ]
  },
  {
   "cell_type": "code",
   "execution_count": 104,
   "metadata": {},
   "outputs": [
    {
     "data": {
      "text/plain": [
       "'INR'"
      ]
     },
     "execution_count": 104,
     "metadata": {},
     "output_type": "execute_result"
    }
   ],
   "source": [
    "countries[\"India\"]"
   ]
  },
  {
   "cell_type": "code",
   "execution_count": 105,
   "metadata": {},
   "outputs": [
    {
     "ename": "KeyError",
     "evalue": "'Japan'",
     "output_type": "error",
     "traceback": [
      "\u001b[31m---------------------------------------------------------------------------\u001b[39m",
      "\u001b[31mKeyError\u001b[39m                                  Traceback (most recent call last)",
      "\u001b[36mCell\u001b[39m\u001b[36m \u001b[39m\u001b[32mIn[105]\u001b[39m\u001b[32m, line 1\u001b[39m\n\u001b[32m----> \u001b[39m\u001b[32m1\u001b[39m \u001b[43mcountries\u001b[49m\u001b[43m[\u001b[49m\u001b[33;43m\"\u001b[39;49m\u001b[33;43mJapan\u001b[39;49m\u001b[33;43m\"\u001b[39;49m\u001b[43m]\u001b[49m\n",
      "\u001b[31mKeyError\u001b[39m: 'Japan'"
     ]
    }
   ],
   "source": [
    "countries[\"Japan\"]"
   ]
  },
  {
   "cell_type": "code",
   "execution_count": 106,
   "metadata": {},
   "outputs": [
    {
     "data": {
      "text/plain": [
       "'INR'"
      ]
     },
     "execution_count": 106,
     "metadata": {},
     "output_type": "execute_result"
    }
   ],
   "source": [
    "countries.get(\"India\")"
   ]
  },
  {
   "cell_type": "code",
   "execution_count": 109,
   "metadata": {},
   "outputs": [
    {
     "name": "stdout",
     "output_type": "stream",
     "text": [
      "None\n"
     ]
    }
   ],
   "source": [
    "print(countries.get(\"Japan\"))"
   ]
  },
  {
   "cell_type": "code",
   "execution_count": 110,
   "metadata": {},
   "outputs": [
    {
     "name": "stdout",
     "output_type": "stream",
     "text": [
      "country not present\n"
     ]
    }
   ],
   "source": [
    "print(countries.get(\"Japan\", \"country not present\"))"
   ]
  },
  {
   "cell_type": "code",
   "execution_count": 112,
   "metadata": {},
   "outputs": [
    {
     "name": "stdout",
     "output_type": "stream",
     "text": [
      "India  -  INR\n",
      "UK  -  GBP\n",
      "USA  -  USD\n"
     ]
    }
   ],
   "source": [
    "countries = {\"India\" : \"INR\", \"UK\" : \"GBP\", \"USA\" : \"USD\"}\n",
    "for i in countries :\n",
    "    print(i, \" - \", countries[i])"
   ]
  },
  {
   "cell_type": "code",
   "execution_count": 114,
   "metadata": {},
   "outputs": [
    {
     "data": {
      "text/plain": [
       "dict_items([('India', 'INR'), ('UK', 'GBP'), ('USA', 'USD')])"
      ]
     },
     "execution_count": 114,
     "metadata": {},
     "output_type": "execute_result"
    }
   ],
   "source": [
    "countries.items() # generates a sequence of tuples of key value pairs"
   ]
  },
  {
   "cell_type": "code",
   "execution_count": 117,
   "metadata": {},
   "outputs": [
    {
     "name": "stdout",
     "output_type": "stream",
     "text": [
      "India  -  INR\n",
      "UK  -  GBP\n",
      "USA  -  USD\n"
     ]
    }
   ],
   "source": [
    "for i in countries.items():\n",
    "    print(i[0], \" - \", i[1])"
   ]
  },
  {
   "cell_type": "markdown",
   "metadata": {},
   "source": [
    "### Python `str` methods"
   ]
  },
  {
   "cell_type": "markdown",
   "metadata": {},
   "source": [
    "<table style=\"width: 100%; border-collapse: collapse; border: 1px solid #ccc; text-align: left;\">\n",
    "  <thead>\n",
    "    <tr style=\"background-color: #050A30; color: white;\">\n",
    "      <th style=\"width: 20%\"\">Method</th>\n",
    "      <th>Description</th>\n",
    "      <th>Example</th>\n",
    "    </tr>\n",
    "  </thead>\n",
    "  <tbody>\n",
    "    <tr>\n",
    "      <td><code>lower()</code></td>\n",
    "      <td>Converts string to lowercase.</td>\n",
    "      <td><code>\"Hello\".lower()</code> → <code>\"hello\"</code></td>\n",
    "    </tr>\n",
    "    <tr>\n",
    "      <td><code>upper()</code></td>\n",
    "      <td>Converts string to uppercase.</td>\n",
    "      <td><code>\"Hello\".upper()</code> → <code>\"HELLO\"</code></td>\n",
    "    </tr>\n",
    "    <tr>\n",
    "      <td><code>title()</code></td>\n",
    "      <td>Converts string to title case.</td>\n",
    "      <td><code>\"hello world\".title()</code> → <code>\"Hello World\"</code></td>\n",
    "    </tr>\n",
    "    <tr>\n",
    "      <td><code>capitalize()</code></td>\n",
    "      <td>Capitalizes the first letter.</td>\n",
    "      <td><code>\"python\".capitalize()</code> → <code>\"Python\"</code></td>\n",
    "    </tr>\n",
    "    <tr>\n",
    "      <td><code>strip()</code></td>\n",
    "      <td>Removes leading and trailing spaces.</td>\n",
    "      <td><code>\"  hello  \".strip()</code> → <code>\"hello\"</code></td>\n",
    "    </tr>\n",
    "    <tr>\n",
    "      <td><code>lstrip()</code></td>\n",
    "      <td>Removes leading spaces.</td>\n",
    "      <td><code>\"  hello\".lstrip()</code> → <code>\"hello\"</code></td>\n",
    "    </tr>\n",
    "    <tr>\n",
    "      <td><code>rstrip()</code></td>\n",
    "      <td>Removes trailing spaces.</td>\n",
    "      <td><code>\"hello  \".rstrip()</code> → <code>\"hello\"</code></td>\n",
    "    </tr>\n",
    "    <tr>\n",
    "      <td><code>replace(old, new)</code></td>\n",
    "      <td>Replaces occurrences of a substring.</td>\n",
    "      <td><code>\"hello world\".replace(\"world\", \"Python\")</code> → <code>\"hello Python\"</code></td>\n",
    "    </tr>\n",
    "    <tr>\n",
    "      <td><code>split(sep)</code></td>\n",
    "      <td>Splits string into a list.</td>\n",
    "      <td><code>\"a,b,c\".split(\",\")</code> → <code>['a','b','c']</code></td>\n",
    "    </tr>\n",
    "    <tr>\n",
    "      <td><code>join(iterable)</code></td>\n",
    "      <td>Joins iterable items into a string.</td>\n",
    "      <td><code>\",\".join([\"a\",\"b\",\"c\"])</code> → <code>\"a,b,c\"</code></td>\n",
    "    </tr>\n",
    "    <tr>\n",
    "      <td><code>find(sub)</code></td>\n",
    "      <td>Returns index of first occurrence, or <code>-1</code>.</td>\n",
    "      <td><code>\"hello\".find(\"e\")</code> → <code>1</code></td>\n",
    "    </tr>\n",
    "    <tr>\n",
    "      <td><code>index(sub)</code></td>\n",
    "      <td>Returns index of first occurrence (raises error if not found).</td>\n",
    "      <td><code>\"hello\".index(\"e\")</code> → <code>1</code></td>\n",
    "    </tr>\n",
    "    <tr>\n",
    "      <td><code>count(sub)</code></td>\n",
    "      <td>Counts occurrences of substring.</td>\n",
    "      <td><code>\"banana\".count(\"a\")</code> → <code>3</code></td>\n",
    "    </tr>\n",
    "    <tr>\n",
    "      <td><code>startswith(prefix)</code></td>\n",
    "      <td>Checks if string starts with given prefix.</td>\n",
    "      <td><code>\"hello\".startswith(\"he\")</code> → <code>True</code></td>\n",
    "    </tr>\n",
    "    <tr>\n",
    "      <td><code>endswith(suffix)</code></td>\n",
    "      <td>Checks if string ends with given suffix.</td>\n",
    "      <td><code>\"hello\".endswith(\"lo\")</code> → <code>True</code></td>\n",
    "    </tr>\n",
    "    <tr>\n",
    "      <td><code>isalnum()</code></td>\n",
    "      <td>True if all characters are alphanumeric.</td>\n",
    "      <td><code>\"abc123\".isalnum()</code> → <code>True</code></td>\n",
    "    </tr>\n",
    "    <tr>\n",
    "      <td><code>isalpha()</code></td>\n",
    "      <td>True if all characters are alphabets.</td>\n",
    "      <td><code>\"hello\".isalpha()</code> → <code>True</code></td>\n",
    "    </tr>\n",
    "    <tr>\n",
    "      <td><code>isdigit()</code></td>\n",
    "      <td>True if all characters are digits.</td>\n",
    "      <td><code>\"1234\".isdigit()</code> → <code>True</code></td>\n",
    "    </tr>\n",
    "    <tr>\n",
    "      <td><code>islower()</code></td>\n",
    "      <td>True if all letters are lowercase.</td>\n",
    "      <td><code>\"hello\".islower()</code> → <code>True</code></td>\n",
    "    </tr>\n",
    "    <tr>\n",
    "      <td><code>isupper()</code></td>\n",
    "      <td>True if all letters are uppercase.</td>\n",
    "      <td><code>\"HELLO\".isupper()</code> → <code>True</code></td>\n",
    "    </tr>\n",
    "    <tr>\n",
    "      <td><code>swapcase()</code></td>\n",
    "      <td>Swaps lowercase and uppercase characters.</td>\n",
    "      <td><code>\"Hello\".swapcase()</code> → <code>\"hELLO\"</code></td>\n",
    "    </tr>\n",
    "    <tr>\n",
    "      <td><code>zfill(width)</code></td>\n",
    "      <td>Pads string with leading zeros to given width.</td>\n",
    "      <td><code>\"42\".zfill(5)</code> → <code>\"00042\"</code></td>\n",
    "    </tr>\n",
    "    <tr>\n",
    "      <td><code>center(width, char)</code></td>\n",
    "      <td>Centers string with given width and fill character.</td>\n",
    "      <td><code>\"hi\".center(5, \"*\")</code> → <code>\"**hi*\"</code></td>\n",
    "    </tr>\n",
    "    <tr>\n",
    "      <td><code>format()</code></td>\n",
    "      <td>Formats string using placeholders.</td>\n",
    "      <td><code>\"Hello {}\".format(\"World\")</code> → <code>\"Hello World\"</code></td>\n",
    "    </tr>\n",
    "    <tr>\n",
    "      <td><code>f-strings</code></td>\n",
    "      <td>Inline variable interpolation (Python 3.6+).</td>\n",
    "      <td><code>name=\"John\"; f\"Hello {name}\"</code> → <code>\"Hello John\"</code></td>\n",
    "    </tr>\n",
    "  </tbody>\n",
    "</table>"
   ]
  },
  {
   "cell_type": "markdown",
   "metadata": {},
   "source": [
    "### Python Lists, Tuple, Dict - Cheasheet"
   ]
  },
  {
   "cell_type": "markdown",
   "metadata": {},
   "source": [
    "<table style=\"width: 100%; border-collapse: collapse; border: 1px solid #ccc; text-align: left;\">\n",
    "  <thead>\n",
    "    <tr style=\"background-color: #050A30; color: white;\">\n",
    "      <th class=\"topic\"style=\"width: 10%\"\">Topic</th>\n",
    "      <th>List (<code>list</code>)</th>\n",
    "      <th>Tuple (<code>tuple</code>)</th>\n",
    "      <th>Dictionary (<code>dict</code>)</th>\n",
    "    </tr>\n",
    "  </thead>\n",
    "  <tbody>\n",
    "    <tr>\n",
    "      <td class=\"topic\">Nature</td>\n",
    "      <td>Mutable, ordered, allows duplicates.</td>\n",
    "      <td>Immutable, ordered, allows duplicates. Faster & memory-efficient.</td>\n",
    "      <td>Mutable, key–value mapping. Insertion order preserved (3.7+).</td>\n",
    "    </tr>\n",
    "    <tr>\n",
    "      <td class=\"topic\">Create</td>\n",
    "      <td><pre><code>nums = [1, 2, 3]\n",
    "mixed = [1, \"a\", True, 3.5]\n",
    "empty = list()</code></pre></td>\n",
    "      <td><pre><code>t1 = (1, 2, 3)\n",
    "t2 = tuple([4, 5])\n",
    "single = (10,)</code></pre></td>\n",
    "      <td><pre><code>person = {\"name\": \"John\", \"age\": 30}\n",
    "person2 = dict(name=\"Alice\", age=25)\n",
    "empty = {}</code></pre></td>\n",
    "    </tr>\n",
    "    <tr>\n",
    "      <td class=\"topic\">Add / Remove</td>\n",
    "      <td><pre><code>nums.append(5)\n",
    "nums.insert(2, 10)\n",
    "nums.extend([6, 7])\n",
    "nums.remove(10)\n",
    "nums.pop()      # last\n",
    "nums.pop(1)     # by index\n",
    "nums.clear()</code></pre></td>\n",
    "      <td>N/A (immutable)</td>\n",
    "      <td><pre><code>person[\"age\"] = 31 # add/update\n",
    "del person[\"age\"]\n",
    "person.pop(\"name\")\n",
    "person.clear()</code></pre></td>\n",
    "    </tr>\n",
    "    <tr>\n",
    "      <td class=\"topic\">Access / Slice</td>\n",
    "      <td><pre><code>nums[0], nums[-1]\n",
    "nums[1:3]\n",
    "nums[::-1]</code></pre></td>\n",
    "      <td><pre><code>t1[0], t1[-1]\n",
    "t1[1:3]</code></pre></td>\n",
    "      <td><pre><code>person[\"name\"]\n",
    "person.get(\"email\", \"N/A\")</code></pre></td>\n",
    "    </tr>\n",
    "    <tr>\n",
    "      <td class=\"topic\">Search / Check</td>\n",
    "      <td><pre><code>3 in nums\n",
    "nums.index(3)\n",
    "nums.count(3)</code></pre></td>\n",
    "      <td><pre><code>2 in t1\n",
    "t1.index(3)\n",
    "t1.count(2)</code></pre></td>\n",
    "      <td><pre><code>\"name\" in person\n",
    "\"salary\" not in person</code></pre></td>\n",
    "    </tr>\n",
    "    <tr>\n",
    "      <td class=\"topic\">Sort / Reverse</td>\n",
    "      <td><pre><code>nums.sort()\n",
    "nums.sort(reverse=True)\n",
    "sorted_nums = sorted(nums)\n",
    "nums.reverse()</code></pre></td>\n",
    "      <td>—</td>\n",
    "      <td>—</td>\n",
    "    </tr>\n",
    "    <tr>\n",
    "      <td class=\"topic\">Iterate</td>\n",
    "      <td><pre><code>for x in nums: ...\n",
    "for i, x in enumerate(nums): ...</code></pre></td>\n",
    "      <td><pre><code>for x in t1: ...\n",
    "for i, x in enumerate(t1): ...</code></pre></td>\n",
    "      <td><pre><code>for k in person: ...\n",
    "for v in person.values(): ...\n",
    "for k, v in person.items(): ...</code></pre></td>\n",
    "    </tr>"
   ]
  },
  {
   "cell_type": "markdown",
   "metadata": {},
   "source": [
    "#### Examples - "
   ]
  },
  {
   "cell_type": "markdown",
   "metadata": {},
   "source": [
    "###### Ex. WAP to extract only the error messages from the list. Display only the message removing ERROR keyword from the message"
   ]
  },
  {
   "cell_type": "code",
   "execution_count": 2,
   "metadata": {},
   "outputs": [
    {
     "name": "stdout",
     "output_type": "stream",
     "text": [
      "Timeout\n",
      "Invalid input\n"
     ]
    }
   ],
   "source": [
    "logs = [\"INFO: Service started\", \"ERROR: Timeout\", \"INFO: Connection established\", \"ERROR: Invalid input\"]\n",
    "for msg in logs :\n",
    "    if \"ERROR\" in msg :\n",
    "        print(msg.removeprefix(\"ERROR: \"))"
   ]
  },
  {
   "cell_type": "markdown",
   "metadata": {},
   "source": [
    "###### Ex. WAP to generate a list of all devices that are currently \"Offline\""
   ]
  },
  {
   "cell_type": "code",
   "execution_count": 9,
   "metadata": {},
   "outputs": [
    {
     "name": "stdout",
     "output_type": "stream",
     "text": [
      "['Switch', 'AccessPoint']\n"
     ]
    }
   ],
   "source": [
    "devices = {\"Router\": \"Online\", \"Switch\": \"Offline\", \"Firewall\": \"Online\", \"AccessPoint\": \"Offline\"}\n",
    "offline_devices = []\n",
    "for device in devices :\n",
    "    if devices[device] == \"Offline\":\n",
    "        offline_devices.append(device)\n",
    "print(offline_devices)"
   ]
  },
  {
   "cell_type": "markdown",
   "metadata": {},
   "source": [
    "###### Ex. Remove offline devices from the dict"
   ]
  },
  {
   "cell_type": "code",
   "execution_count": 7,
   "metadata": {},
   "outputs": [
    {
     "ename": "RuntimeError",
     "evalue": "dictionary changed size during iteration",
     "output_type": "error",
     "traceback": [
      "\u001b[31m---------------------------------------------------------------------------\u001b[39m",
      "\u001b[31mRuntimeError\u001b[39m                              Traceback (most recent call last)",
      "\u001b[36mCell\u001b[39m\u001b[36m \u001b[39m\u001b[32mIn[7]\u001b[39m\u001b[32m, line 1\u001b[39m\n\u001b[32m----> \u001b[39m\u001b[32m1\u001b[39m \u001b[38;5;28;43;01mfor\u001b[39;49;00m\u001b[43m \u001b[49m\u001b[43mdevice\u001b[49m\u001b[43m \u001b[49m\u001b[38;5;129;43;01min\u001b[39;49;00m\u001b[43m \u001b[49m\u001b[43mdevices\u001b[49m\u001b[43m \u001b[49m\u001b[43m:\u001b[49m\n\u001b[32m      2\u001b[39m \u001b[43m    \u001b[49m\u001b[38;5;28;43;01mif\u001b[39;49;00m\u001b[43m \u001b[49m\u001b[43mdevices\u001b[49m\u001b[43m[\u001b[49m\u001b[43mdevice\u001b[49m\u001b[43m]\u001b[49m\u001b[43m \u001b[49m\u001b[43m==\u001b[49m\u001b[43m \u001b[49m\u001b[33;43m\"\u001b[39;49m\u001b[33;43mOffline\u001b[39;49m\u001b[33;43m\"\u001b[39;49m\u001b[43m:\u001b[49m\n\u001b[32m      3\u001b[39m \u001b[43m        \u001b[49m\u001b[43mdevices\u001b[49m\u001b[43m.\u001b[49m\u001b[43mpop\u001b[49m\u001b[43m(\u001b[49m\u001b[43mdevice\u001b[49m\u001b[43m)\u001b[49m\n",
      "\u001b[31mRuntimeError\u001b[39m: dictionary changed size during iteration"
     ]
    }
   ],
   "source": [
    "for device in devices :\n",
    "    if devices[device] == \"Offline\":\n",
    "        devices.pop(device)\n",
    "devices"
   ]
  },
  {
   "cell_type": "code",
   "execution_count": 10,
   "metadata": {},
   "outputs": [
    {
     "data": {
      "text/plain": [
       "{'Router': 'Online', 'Firewall': 'Online'}"
      ]
     },
     "execution_count": 10,
     "metadata": {},
     "output_type": "execute_result"
    }
   ],
   "source": [
    "# option 1\n",
    "for off_dev in offline_devices :\n",
    "    devices.pop(off_dev)\n",
    "devices"
   ]
  },
  {
   "cell_type": "code",
   "execution_count": 11,
   "metadata": {},
   "outputs": [
    {
     "data": {
      "text/plain": [
       "{'Router': 'Online', 'Firewall': 'Online'}"
      ]
     },
     "execution_count": 11,
     "metadata": {},
     "output_type": "execute_result"
    }
   ],
   "source": [
    "# option 2\n",
    "devices = {\"Router\": \"Online\", \"Switch\": \"Offline\", \"Firewall\": \"Online\", \"AccessPoint\": \"Offline\"}\n",
    "online_devices = {}\n",
    "for device in devices :\n",
    "    if devices[device] != \"Offline\":\n",
    "        online_devices[device] = devices[device]\n",
    "online_devices"
   ]
  },
  {
   "cell_type": "code",
   "execution_count": 12,
   "metadata": {},
   "outputs": [
    {
     "data": {
      "text/plain": [
       "dict_keys(['Router', 'Switch', 'Firewall', 'AccessPoint'])"
      ]
     },
     "execution_count": 12,
     "metadata": {},
     "output_type": "execute_result"
    }
   ],
   "source": [
    "devices.keys()"
   ]
  },
  {
   "cell_type": "code",
   "execution_count": 13,
   "metadata": {},
   "outputs": [
    {
     "data": {
      "text/plain": [
       "dict_values(['Online', 'Offline', 'Online', 'Offline'])"
      ]
     },
     "execution_count": 13,
     "metadata": {},
     "output_type": "execute_result"
    }
   ],
   "source": [
    "devices.values()"
   ]
  },
  {
   "cell_type": "code",
   "execution_count": 14,
   "metadata": {},
   "outputs": [
    {
     "data": {
      "text/plain": [
       "dict_items([('Router', 'Online'), ('Switch', 'Offline'), ('Firewall', 'Online'), ('AccessPoint', 'Offline')])"
      ]
     },
     "execution_count": 14,
     "metadata": {},
     "output_type": "execute_result"
    }
   ],
   "source": [
    "devices.items() # tuples of key-values"
   ]
  },
  {
   "cell_type": "code",
   "execution_count": 17,
   "metadata": {},
   "outputs": [
    {
     "data": {
      "text/plain": [
       "{'Router': 'Online', 'Firewall': 'Online'}"
      ]
     },
     "execution_count": 17,
     "metadata": {},
     "output_type": "execute_result"
    }
   ],
   "source": [
    "devices = {\"Router\": \"Online\", \"Switch\": \"Offline\", \"Firewall\": \"Online\", \"AccessPoint\": \"Offline\"}\n",
    "online_devices = {}\n",
    "for device in devices.items() :\n",
    "    if device[1] != \"Offline\":\n",
    "        online_devices[device[0]] = device[1]\n",
    "online_devices"
   ]
  },
  {
   "cell_type": "markdown",
   "metadata": {},
   "source": [
    "###### Ex. Write a program to combine two lists, one containing product names and the other containing sales figures, to generate a consolidated report."
   ]
  },
  {
   "cell_type": "code",
   "execution_count": 20,
   "metadata": {},
   "outputs": [
    {
     "data": {
      "text/plain": [
       "<zip at 0x1cb69594fc0>"
      ]
     },
     "execution_count": 20,
     "metadata": {},
     "output_type": "execute_result"
    }
   ],
   "source": [
    "# Lists containing product names and their corresponding sales figures\n",
    "products = [\"Laptop\", \"Smartphone\", \"Headphones\", \"Keyboard\"]\n",
    "sales = [150, 300, 120, 90]\n",
    "\n",
    "zip(products, sales)"
   ]
  },
  {
   "cell_type": "markdown",
   "metadata": {
    "jp-MarkdownHeadingCollapsed": true
   },
   "source": [
    "**zip(`list1`, `list2`, ...)**\n",
    "- the zip() function is used to combine multiple iterables (such as lists, tuples, or strings) into a single iterable of tuples.\n",
    "- Each tuple contains elements from the input iterables at corresponding positions.\n",
    "- It effectively \"zips\" together the elements from the provided iterables, creating pairs (or n-tuples) of elements."
   ]
  },
  {
   "cell_type": "code",
   "execution_count": 21,
   "metadata": {},
   "outputs": [
    {
     "data": {
      "text/plain": [
       "range(1, 11)"
      ]
     },
     "execution_count": 21,
     "metadata": {},
     "output_type": "execute_result"
    }
   ],
   "source": [
    "range(1, 11)"
   ]
  },
  {
   "cell_type": "markdown",
   "metadata": {},
   "source": [
    "##### Note - Any sequence which is generating non-printable output can be viewd by converting it to a list/tuple"
   ]
  },
  {
   "cell_type": "code",
   "execution_count": 26,
   "metadata": {},
   "outputs": [
    {
     "data": {
      "text/plain": [
       "[('Laptop', 150), ('Smartphone', 300), ('Headphones', 120), ('Keyboard', 90)]"
      ]
     },
     "execution_count": 26,
     "metadata": {},
     "output_type": "execute_result"
    }
   ],
   "source": [
    "list(zip(products, sales))"
   ]
  },
  {
   "cell_type": "code",
   "execution_count": 27,
   "metadata": {},
   "outputs": [
    {
     "data": {
      "text/plain": [
       "{'Laptop': 150, 'Smartphone': 300, 'Headphones': 120, 'Keyboard': 90}"
      ]
     },
     "execution_count": 27,
     "metadata": {},
     "output_type": "execute_result"
    }
   ],
   "source": [
    "dict(zip(products, sales)) # output of zip() can be converted to a dict when there are only two lists"
   ]
  },
  {
   "cell_type": "markdown",
   "metadata": {},
   "source": [
    "## Packing/Unpacking of Tuples - "
   ]
  },
  {
   "cell_type": "markdown",
   "metadata": {},
   "source": [
    "- In Python, unpacking of tuples refers to the process of assigning the individual elements of a tuple to multiple variables in a single statement.\n",
    "- This feature allows you to extract values from a tuple and assign them to distinct variables in a convenient and readable way."
   ]
  },
  {
   "cell_type": "code",
   "execution_count": 28,
   "metadata": {},
   "outputs": [
    {
     "data": {
      "text/plain": [
       "(1, 2, 3)"
      ]
     },
     "execution_count": 28,
     "metadata": {},
     "output_type": "execute_result"
    }
   ],
   "source": [
    "1,2,3 # when values are placed in comma seperated format it packs it into a tuple"
   ]
  },
  {
   "cell_type": "code",
   "execution_count": 29,
   "metadata": {},
   "outputs": [
    {
     "data": {
      "text/plain": [
       "(1, 2, 3)"
      ]
     },
     "execution_count": 29,
     "metadata": {},
     "output_type": "execute_result"
    }
   ],
   "source": [
    "tup = 1, 2, 3\n",
    "tup"
   ]
  },
  {
   "cell_type": "code",
   "execution_count": 30,
   "metadata": {},
   "outputs": [
    {
     "data": {
      "text/plain": [
       "1"
      ]
     },
     "execution_count": 30,
     "metadata": {},
     "output_type": "execute_result"
    }
   ],
   "source": [
    "a, b, c = tup\n",
    "a"
   ]
  },
  {
   "cell_type": "markdown",
   "metadata": {},
   "source": [
    "#### Applications - "
   ]
  },
  {
   "cell_type": "markdown",
   "metadata": {},
   "source": [
    "**1. Defining multiple variables in a single line**"
   ]
  },
  {
   "cell_type": "code",
   "execution_count": 31,
   "metadata": {},
   "outputs": [
    {
     "name": "stdout",
     "output_type": "stream",
     "text": [
      "Name - Jane | Age - 30\n"
     ]
    }
   ],
   "source": [
    "name, age = \"Jane\", 30\n",
    "print(f\"Name - {name} | Age - {age}\")"
   ]
  },
  {
   "cell_type": "markdown",
   "metadata": {},
   "source": [
    "**2. Function returning multiple values**"
   ]
  },
  {
   "cell_type": "code",
   "execution_count": 38,
   "metadata": {},
   "outputs": [],
   "source": [
    "def func(num) :\n",
    "    sq = num**2\n",
    "    cu = num**3\n",
    "    return sq, cu # packing of tuples"
   ]
  },
  {
   "cell_type": "code",
   "execution_count": 39,
   "metadata": {},
   "outputs": [
    {
     "data": {
      "text/plain": [
       "(25, 125)"
      ]
     },
     "execution_count": 39,
     "metadata": {},
     "output_type": "execute_result"
    }
   ],
   "source": [
    "func(5)"
   ]
  },
  {
   "cell_type": "code",
   "execution_count": 41,
   "metadata": {},
   "outputs": [
    {
     "name": "stdout",
     "output_type": "stream",
     "text": [
      "25 125\n"
     ]
    }
   ],
   "source": [
    "square, cube = func(5) # unpacking of tuple\n",
    "print(square, cube)"
   ]
  },
  {
   "cell_type": "markdown",
   "metadata": {},
   "source": [
    "###### Ex. Create a bar chart showing product wise sales and profit"
   ]
  },
  {
   "cell_type": "code",
   "execution_count": 48,
   "metadata": {},
   "outputs": [
    {
     "data": {
      "text/plain": [
       "<BarContainer object of 4 artists>"
      ]
     },
     "execution_count": 48,
     "metadata": {},
     "output_type": "execute_result"
    },
    {
     "data": {
      "image/png": "[encoded data removed]",
      "text/plain": [
       "<Figure size 1000x400 with 2 Axes>"
      ]
     },
     "metadata": {},
     "output_type": "display_data"
    }
   ],
   "source": [
    "import matplotlib.pyplot as plt\n",
    "\n",
    "products = [\"Laptop\", \"Smartphone\", \"Headphones\", \"Keyboard\"]\n",
    "sales = [150, 300, 120, 90]\n",
    "profits = [50, 30, 10, 8]\n",
    "\n",
    "fig, axes = plt.subplots(nrows=2, figsize=(10, 4)) # unpacking of tuples\n",
    "axes[0].bar(products, sales)\n",
    "axes[1].bar(products, profits)"
   ]
  },
  {
   "cell_type": "markdown",
   "metadata": {},
   "source": [
    "**3. for-loop with multiple variables**"
   ]
  },
  {
   "cell_type": "code",
   "execution_count": 55,
   "metadata": {},
   "outputs": [
    {
     "name": "stdout",
     "output_type": "stream",
     "text": [
      "Switch\n",
      "AccessPoint\n"
     ]
    }
   ],
   "source": [
    "for device, status in devices.items() :\n",
    "    if status == \"Offline\" :\n",
    "        print(device)"
   ]
  },
  {
   "cell_type": "code",
   "execution_count": 58,
   "metadata": {},
   "outputs": [
    {
     "name": "stdout",
     "output_type": "stream",
     "text": [
      "Laptop has generate 150 sales.\n",
      "Smartphone has generate 300 sales.\n",
      "Headphones has generate 120 sales.\n",
      "Keyboard has generate 90 sales.\n"
     ]
    }
   ],
   "source": [
    "for prod, sal in zip(products, sales):\n",
    "    print(f\"{prod} has generate {sal} sales.\")"
   ]
  },
  {
   "cell_type": "markdown",
   "metadata": {},
   "source": [
    "###### Ex. Each sub-tuple contains defect counts in three categories for a batch of products, with each count representing a different defect type. Calculate and display the total defect percentage for each batch with batch numbers."
   ]
  },
  {
   "cell_type": "code",
   "execution_count": 69,
   "metadata": {},
   "outputs": [
    {
     "name": "stdout",
     "output_type": "stream",
     "text": [
      "Batch #1 has 12.5% defects.\n",
      "Batch #2 has 6.2% defects.\n",
      "Batch #3 has 20.0% defects.\n",
      "Batch #4 has 5.0% defects.\n"
     ]
    }
   ],
   "source": [
    "# Sample data: each sub-tuple contains defect counts in three categories for a batch of products\n",
    "defect_data = (\n",
    "    (5, 3, 2),  # Batch 1\n",
    "    (1, 4, 0),  # Batch 2\n",
    "    (7, 6, 3),  # Batch 3\n",
    "    (2, 1, 1)   # Batch 4\n",
    ")\n",
    "\n",
    "# Total number of products in each batch\n",
    "total_products_per_batch = 80\n",
    "\n",
    "for counter, data in enumerate(defect_data, start = 1) :\n",
    "    percentage = round(sum(data)/total_products_per_batch * 100, 1)\n",
    "    print(f\"Batch #{counter} has {percentage}% defects.\")"
   ]
  },
  {
   "cell_type": "code",
   "execution_count": 67,
   "metadata": {},
   "outputs": [
    {
     "data": {
      "text/plain": [
       "[(1, 'Laptop'), (2, 'Smartphone'), (3, 'Headphones'), (4, 'Keyboard')]"
      ]
     },
     "execution_count": 67,
     "metadata": {},
     "output_type": "execute_result"
    }
   ],
   "source": [
    "list(enumerate(products, start = 1))"
   ]
  },
  {
   "cell_type": "markdown",
   "metadata": {},
   "source": [
    "**enumerate(`seq`, `start = 0`)**\n",
    "- The enumerate() function adds a counter to an iterable (such as a list, tuple, or string) and returns it as an enumerate object(sqe object).\n",
    "- Enumerate object - sequence of tuples of size 2; with first element as the counter and second element is the element from iterable.\n",
    "##### Note - enumerate object is not readable when printed. But can be iterated using for-loop or can be converted to a list/tuple"
   ]
  },
  {
   "cell_type": "markdown",
   "metadata": {},
   "source": [
    "###### Ex. Given a tuple ratings containing audience ratings for a training course across various categories, each scored out of 5, write a Python function to calculate the final rating. \n",
    "\n",
    "The final rating should be determined by adding the first value which refers to trainer ratings and the average of the remaining values which refer to platflorm ratings like labs, hardware, duration etc."
   ]
  },
  {
   "cell_type": "code",
   "execution_count": 71,
   "metadata": {},
   "outputs": [
    {
     "name": "stdout",
     "output_type": "stream",
     "text": [
      "4.220000000000001\n",
      "4.24\n",
      "4.24\n",
      "4.14\n"
     ]
    }
   ],
   "source": [
    "ratings = ((4.5, 4.9, 3.4, 4, 4.3), (4.7, 4.3, 3.9, 4, 4.3), (4.8, 4.1, 4, 4, 4.3), (4.7, 4.3, 4.4, 4, 3.3))\n",
    "\n",
    "for i in ratings :\n",
    "    print(sum(i)/len(i))"
   ]
  },
  {
   "cell_type": "code",
   "execution_count": 72,
   "metadata": {},
   "outputs": [
    {
     "name": "stdout",
     "output_type": "stream",
     "text": [
      "trainer rating - 4.5, | Others - 4.15\n",
      "trainer rating - 4.7, | Others - 4.125\n",
      "trainer rating - 4.8, | Others - 4.1\n",
      "trainer rating - 4.7, | Others - 4.0\n"
     ]
    }
   ],
   "source": [
    "ratings = ((4.5, 4.9, 3.4, 4, 4.3), (4.7, 4.3, 3.9, 4, 4.3), (4.8, 4.1, 4, 4, 4.3), (4.7, 4.3, 4.4, 4, 3.3))\n",
    "\n",
    "for a, b, c, d, e in ratings :\n",
    "    print(f\"trainer rating - {a}, | Others - {(b+c+d+e)/4}\")"
   ]
  },
  {
   "cell_type": "code",
   "execution_count": 74,
   "metadata": {},
   "outputs": [
    {
     "name": "stdout",
     "output_type": "stream",
     "text": [
      "4.5\n",
      "[4.9, 3.4, 4, 4.3]\n"
     ]
    }
   ],
   "source": [
    "trainer_rating, *lab_rating = (4.5, 4.9, 3.4, 4, 4.3) # unpacking of tuple\n",
    "print(trainer_rating)\n",
    "print(lab_rating)"
   ]
  },
  {
   "cell_type": "code",
   "execution_count": 77,
   "metadata": {},
   "outputs": [
    {
     "name": "stdout",
     "output_type": "stream",
     "text": [
      "4.3\n",
      "[4.5, 4.9, 3.4, 4]\n"
     ]
    }
   ],
   "source": [
    "*lab_rating, trainer_rating = (4.5, 4.9, 3.4, 4, 4.3)\n",
    "print(trainer_rating)\n",
    "print(lab_rating)"
   ]
  },
  {
   "cell_type": "code",
   "execution_count": 76,
   "metadata": {},
   "outputs": [
    {
     "name": "stdout",
     "output_type": "stream",
     "text": [
      "trainer rating - 4.5, | Others - 4.15\n",
      "trainer rating - 4.7, | Others - 4.125\n",
      "trainer rating - 4.8, | Others - 4.1\n",
      "trainer rating - 4.7, | Others - 4.0\n"
     ]
    }
   ],
   "source": [
    "for trainer_rating, *lab_rating in ratings :\n",
    "    print(f\"trainer rating - {trainer_rating}, | Others - {sum(lab_rating)/4}\")"
   ]
  },
  {
   "cell_type": "markdown",
   "metadata": {},
   "source": [
    "## Comprehensions in Python"
   ]
  },
  {
   "cell_type": "code",
   "execution_count": 78,
   "metadata": {},
   "outputs": [
    {
     "data": {
      "text/plain": [
       "55"
      ]
     },
     "execution_count": 78,
     "metadata": {},
     "output_type": "execute_result"
    }
   ],
   "source": [
    "# Calculate sum of squares of numbers from 1-5 - reducing the sequnce to a single value(summation)\n",
    "total = 0\n",
    "for i in range(1, 6) :\n",
    "    total += i**2\n",
    "total"
   ]
  },
  {
   "cell_type": "code",
   "execution_count": 79,
   "metadata": {},
   "outputs": [
    {
     "data": {
      "text/plain": [
       "[1, 4, 9, 16, 25]"
      ]
     },
     "execution_count": 79,
     "metadata": {},
     "output_type": "execute_result"
    }
   ],
   "source": [
    "# Generate a list of squares of numbers from 1-5 - comprehension\n",
    "squares = []\n",
    "for i in range(1, 6) :\n",
    "    squares.append(i**2)\n",
    "squares"
   ]
  },
  {
   "cell_type": "markdown",
   "metadata": {},
   "source": [
    "- A **`comprehension`** is a concise and readable way to create and manipulate collections such as lists, dictionaries, and sets.\n",
    "- Comprehensions provide a compact syntax to generate new sequences by applying an expression to each item in an existing sequence or iterable.\n",
    "- Syntax - `[<expression> for <var> in <sequence> if <condition>]`\n",
    "- The steps to work on a comprehension:\n",
    "    1. Identify the iterable or sequence.\n",
    "    2. Determine any conditions or filters.\n",
    "    3. Define the expression or operation to apply.\n",
    "    4. Specify the target mutable data structure.\n",
    "- Note - Does not work with while loop, break and continue statements"
   ]
  },
  {
   "cell_type": "markdown",
   "metadata": {},
   "source": [
    "###### Ex. WAP to generate a list of squares of number in range of 1-10"
   ]
  },
  {
   "cell_type": "code",
   "execution_count": 80,
   "metadata": {},
   "outputs": [
    {
     "data": {
      "text/plain": [
       "[1, 4, 9, 16, 25, 36, 49, 64, 81, 100]"
      ]
     },
     "execution_count": 80,
     "metadata": {},
     "output_type": "execute_result"
    }
   ],
   "source": [
    "[i**2 for i in range(1, 11)]"
   ]
  },
  {
   "cell_type": "markdown",
   "metadata": {},
   "source": [
    "###### Ex. WAP to create a list of squares of even number in range of 1-10"
   ]
  },
  {
   "cell_type": "code",
   "execution_count": 81,
   "metadata": {},
   "outputs": [
    {
     "data": {
      "text/plain": [
       "[4, 16, 36, 64, 100]"
      ]
     },
     "execution_count": 81,
     "metadata": {},
     "output_type": "execute_result"
    }
   ],
   "source": [
    "[i**2 for i in range(1, 11) if i % 2 == 0]"
   ]
  },
  {
   "cell_type": "markdown",
   "metadata": {},
   "source": [
    "###### Ex. WAP to create a dict of number from 1-10 as keys and their squares as values"
   ]
  },
  {
   "cell_type": "code",
   "execution_count": 84,
   "metadata": {},
   "outputs": [
    {
     "data": {
      "text/plain": [
       "{1: 1, 2: 4, 3: 9, 4: 16, 5: 25, 6: 36, 7: 49, 8: 64, 9: 81, 10: 100}"
      ]
     },
     "execution_count": 84,
     "metadata": {},
     "output_type": "execute_result"
    }
   ],
   "source": [
    "{i : i**2 for i in range(1, 11)}"
   ]
  },
  {
   "cell_type": "markdown",
   "metadata": {},
   "source": [
    "###### Ex. WAP to create a dict of number from 1-5 as keys and their type as even/odd as value"
   ]
  },
  {
   "cell_type": "code",
   "execution_count": 86,
   "metadata": {},
   "outputs": [
    {
     "data": {
      "text/plain": [
       "{1: 'odd', 2: 'even', 3: 'odd', 4: 'even', 5: 'odd'}"
      ]
     },
     "execution_count": 86,
     "metadata": {},
     "output_type": "execute_result"
    }
   ],
   "source": [
    "{i : \"even\" if i %2 == 0 else \"odd\" for i in range(1, 6)}"
   ]
  },
  {
   "cell_type": "markdown",
   "metadata": {},
   "source": [
    "###### Ex. WAP to add 7% service tax to all the values in the \"sales\" list"
   ]
  },
  {
   "cell_type": "code",
   "execution_count": 87,
   "metadata": {},
   "outputs": [
    {
     "data": {
      "text/plain": [
       "[310.3, 535.0, 856.0, 695.5]"
      ]
     },
     "execution_count": 87,
     "metadata": {},
     "output_type": "execute_result"
    }
   ],
   "source": [
    "sales = [290, 500, 800, 650]\n",
    "[value * 1.07 for value in sales]"
   ]
  },
  {
   "cell_type": "markdown",
   "metadata": {},
   "source": [
    "###### Ex. WAP to sum all the values in the \"sales\" tuple"
   ]
  },
  {
   "cell_type": "code",
   "execution_count": 89,
   "metadata": {},
   "outputs": [
    {
     "data": {
      "text/plain": [
       "2240"
      ]
     },
     "execution_count": 89,
     "metadata": {},
     "output_type": "execute_result"
    }
   ],
   "source": [
    "sales = (\"$290\", \"$500\", \"$800\", \"$650\")\n",
    "sum([int(value.removeprefix(\"$\")) for value in sales])"
   ]
  },
  {
   "cell_type": "markdown",
   "metadata": {},
   "source": [
    "###### Ex. Identify products with low stock levels. (stock level < 20) - list of product names or dict product name and value"
   ]
  },
  {
   "cell_type": "code",
   "execution_count": 90,
   "metadata": {},
   "outputs": [
    {
     "data": {
      "text/plain": [
       "{'banana': 10, 'date': 5}"
      ]
     },
     "execution_count": 90,
     "metadata": {},
     "output_type": "execute_result"
    }
   ],
   "source": [
    "inventory = {\"apple\": 50, \"banana\": 10, \"cherry\": 75, \"date\": 5}\n",
    "{product : stock for product, stock in inventory.items() if stock < 20}"
   ]
  },
  {
   "cell_type": "code",
   "execution_count": 91,
   "metadata": {},
   "outputs": [
    {
     "data": {
      "text/plain": [
       "['banana', 'date']"
      ]
     },
     "execution_count": 91,
     "metadata": {},
     "output_type": "execute_result"
    }
   ],
   "source": [
    "inventory = {\"apple\": 50, \"banana\": 10, \"cherry\": 75, \"date\": 5}\n",
    "[product for product, stock in inventory.items() if stock < 20]"
   ]
  },
  {
   "cell_type": "markdown",
   "metadata": {},
   "source": [
    "###### Ex. Calculate the average performance score of employees."
   ]
  },
  {
   "cell_type": "code",
   "execution_count": 93,
   "metadata": {},
   "outputs": [
    {
     "data": {
      "text/plain": [
       "{'John': 84, 'Jane': 92, 'Alice': 84}"
      ]
     },
     "execution_count": 93,
     "metadata": {},
     "output_type": "execute_result"
    }
   ],
   "source": [
    "performance = { \"John\": [85, 90, 78], \"Jane\": [92, 88, 95], \"Alice\": [80, 85, 87]}\n",
    "{name : round(sum(scores)/len(scores)) for name, scores in performance.items()}"
   ]
  },
  {
   "cell_type": "markdown",
   "metadata": {},
   "source": [
    "###### Ex. Calculate the percentage change in stock prices."
   ]
  },
  {
   "cell_type": "code",
   "execution_count": 100,
   "metadata": {},
   "outputs": [
    {
     "data": {
      "text/plain": [
       "[10.5, 12.4, -5.1, 7.1]"
      ]
     },
     "execution_count": 100,
     "metadata": {},
     "output_type": "execute_result"
    }
   ],
   "source": [
    "# List of stock prices over time - ((new-old) / old) * 100\n",
    "stock_prices = [95, 105, 118, 112, 120]\n",
    "new_prices = stock_prices[1:]\n",
    "old_prices = stock_prices[:-1]\n",
    "[round(((new-old) / old) * 100, 1) for new, old in zip(new_prices, old_prices)]"
   ]
  },
  {
   "cell_type": "code",
   "execution_count": 102,
   "metadata": {},
   "outputs": [
    {
     "data": {
      "text/plain": [
       "[10.5, 12.4, -5.1, 7.1]"
      ]
     },
     "execution_count": 102,
     "metadata": {},
     "output_type": "execute_result"
    }
   ],
   "source": [
    "[round((stock_prices[index +1] - stock_prices[index])/stock_prices[index] * 100 , 1) for index in range(len(stock_prices)-1)]"
   ]
  },
  {
   "cell_type": "code",
   "execution_count": null,
   "metadata": {},
   "outputs": [],
   "source": [
    "inventory = {\"Laptop\": 15, \"Smartphone\": 25, \"Tablet\": 10, \"Headphones\": 30, \"Charger\": 50}"
   ]
  },
  {
   "cell_type": "code",
   "execution_count": null,
   "metadata": {},
   "outputs": [],
   "source": [
    "def add_item(item, quantity):\n",
    "    inventory[item] = inventory.get(item, 0) + quantity\n",
    "    print(f\"{item} Added Quantity {quantity}. Current Stock - {inventory[item]}\")\n",
    " \n",
    "def display_inventory():\n",
    "    print(\"\\nInventory:\")\n",
    "    for prod, qty in inventory.items():\n",
    "        print(f\"{prod}: {qty}\")\n",
    "    print(\"-\" * 30)\n",
    " \n",
    "def remove_item(rmv_item):\n",
    "    if rmv_item in inventory:\n",
    "        del inventory[rmv_item]\n",
    "        print(f\"{rmv_item} removed from inventory.\")\n",
    "    else:\n",
    "        print(f\"{rmv_item} not present in inventory.\")\n",
    " \n",
    " \n",
    "display_inventory()\n",
    "add_item(\"Smartphone\", 10)\n",
    "add_item(\"Camera\", 20)\n",
    "remove_item(\"Laptop\")\n",
    "remove_item(\"Charger\")\n",
    "display_inventory()"
   ]
  },
  {
   "cell_type": "markdown",
   "metadata": {},
   "source": [
    "<hr><hr>"
   ]
  },
  {
   "cell_type": "markdown",
   "metadata": {},
   "source": [
    "## Function Arguments"
   ]
  },
  {
   "cell_type": "markdown",
   "metadata": {},
   "source": [
    "**Function arguments in Python are the inputs passed to a function to enable it to perform its intended operation.**\n",
    "\n",
    "### **Types of Function Arguments**\n",
    "\n",
    "1. **Positional Arguments**  \n",
    "   - These are the most common type.\n",
    "   - Passed in order, matching the function's parameters.\n",
    "\n",
    "2. **Default Arguments**  \n",
    "   - Predefined values are set; they are optional while calling the function.\n",
    "\n",
    "3. **Keyword Arguments**  \n",
    "   - Arguments passed with the name of the parameter explicitly.\n",
    "   - Useful for clarity and flexibility in function calls.\n",
    "\n",
    "4. **Variable-Length Arguments**\n",
    "   - **`*args` (Non-Keyword Arguments):** Allows passing a variable number of arguments as a tuple.\n",
    "     ```\n",
    "   - **`**kwargs` (Keyword Arguments):** Allows passing variable keyword arguments as a dictionary.\n",
    "\n",
    "**Key Notes**\n",
    "- **Order Matters:** Positional arguments must precede keyword arguments.\n",
    "- **Packing/Unpacking:** `*` and `**` are used to pack or unpack arguments, making functions more versatile.\n",
    "- **Default vs Non-Default:** Non-default arguments must come first when defining functions."
   ]
  },
  {
   "cell_type": "code",
   "execution_count": 103,
   "metadata": {},
   "outputs": [],
   "source": [
    "# Function definition\n",
    "def func(num) :  \n",
    "    return num**2"
   ]
  },
  {
   "cell_type": "code",
   "execution_count": 104,
   "metadata": {},
   "outputs": [
    {
     "data": {
      "text/plain": [
       "25"
      ]
     },
     "execution_count": 104,
     "metadata": {},
     "output_type": "execute_result"
    }
   ],
   "source": [
    "# Function call\n",
    "func(5)"
   ]
  },
  {
   "cell_type": "markdown",
   "metadata": {},
   "source": [
    "#### 1. Required Positional Arguments"
   ]
  },
  {
   "cell_type": "code",
   "execution_count": 109,
   "metadata": {},
   "outputs": [
    {
     "name": "stdout",
     "output_type": "stream",
     "text": [
      "Name - Jane | Age - 30\n",
      "Name - 30 | Age - Jane\n"
     ]
    },
    {
     "ename": "TypeError",
     "evalue": "demo() missing 1 required positional argument: 'age'",
     "output_type": "error",
     "traceback": [
      "\u001b[31m---------------------------------------------------------------------------\u001b[39m",
      "\u001b[31mTypeError\u001b[39m                                 Traceback (most recent call last)",
      "\u001b[36mCell\u001b[39m\u001b[36m \u001b[39m\u001b[32mIn[109]\u001b[39m\u001b[32m, line 6\u001b[39m\n\u001b[32m      4\u001b[39m demo(\u001b[33m\"\u001b[39m\u001b[33mJane\u001b[39m\u001b[33m\"\u001b[39m, \u001b[32m30\u001b[39m)\n\u001b[32m      5\u001b[39m demo(\u001b[32m30\u001b[39m, \u001b[33m\"\u001b[39m\u001b[33mJane\u001b[39m\u001b[33m\"\u001b[39m)\n\u001b[32m----> \u001b[39m\u001b[32m6\u001b[39m \u001b[43mdemo\u001b[49m\u001b[43m(\u001b[49m\u001b[33;43m\"\u001b[39;49m\u001b[33;43mJane\u001b[39;49m\u001b[33;43m\"\u001b[39;49m\u001b[43m)\u001b[49m\n",
      "\u001b[31mTypeError\u001b[39m: demo() missing 1 required positional argument: 'age'"
     ]
    }
   ],
   "source": [
    "def demo(name, age) :\n",
    "    print(f\"Name - {name} | Age - {age}\")\n",
    "\n",
    "demo(\"Jane\", 30)\n",
    "demo(30, \"Jane\")\n",
    "demo(\"Jane\")"
   ]
  },
  {
   "cell_type": "markdown",
   "metadata": {},
   "source": [
    "Examples - "
   ]
  },
  {
   "cell_type": "code",
   "execution_count": 110,
   "metadata": {},
   "outputs": [
    {
     "name": "stdout",
     "output_type": "stream",
     "text": [
      "Help on method_descriptor:\n",
      "\n",
      "insert(self, index, object, /)\n",
      "    Insert object before index.\n",
      "\n"
     ]
    }
   ],
   "source": [
    "help(list.insert)"
   ]
  },
  {
   "cell_type": "code",
   "execution_count": 114,
   "metadata": {},
   "outputs": [
    {
     "data": {
      "text/plain": [
       "[10, 20, 30, 40, 2, 50]"
      ]
     },
     "execution_count": 114,
     "metadata": {},
     "output_type": "execute_result"
    }
   ],
   "source": [
    "lst = [10, 20, 30, 40, 50]\n",
    "lst.insert(4, 2) # insert 4 at position 2\n",
    "lst"
   ]
  },
  {
   "cell_type": "code",
   "execution_count": 112,
   "metadata": {},
   "outputs": [
    {
     "ename": "TypeError",
     "evalue": "'str' object cannot be interpreted as an integer",
     "output_type": "error",
     "traceback": [
      "\u001b[31m---------------------------------------------------------------------------\u001b[39m",
      "\u001b[31mTypeError\u001b[39m                                 Traceback (most recent call last)",
      "\u001b[36mCell\u001b[39m\u001b[36m \u001b[39m\u001b[32mIn[112]\u001b[39m\u001b[32m, line 2\u001b[39m\n\u001b[32m      1\u001b[39m lst = [\u001b[32m10\u001b[39m, \u001b[32m20\u001b[39m, \u001b[32m30\u001b[39m, \u001b[32m40\u001b[39m, \u001b[32m50\u001b[39m]\n\u001b[32m----> \u001b[39m\u001b[32m2\u001b[39m \u001b[43mlst\u001b[49m\u001b[43m.\u001b[49m\u001b[43minsert\u001b[49m\u001b[43m(\u001b[49m\u001b[33;43m\"\u001b[39;49m\u001b[33;43mabcd\u001b[39;49m\u001b[33;43m\"\u001b[39;49m\u001b[43m,\u001b[49m\u001b[43m \u001b[49m\u001b[32;43m2\u001b[39;49m\u001b[43m)\u001b[49m \u001b[38;5;66;03m# insert \"abcd\" at position 2\u001b[39;00m\n\u001b[32m      3\u001b[39m lst\n",
      "\u001b[31mTypeError\u001b[39m: 'str' object cannot be interpreted as an integer"
     ]
    }
   ],
   "source": [
    "lst = [10, 20, 30, 40, 50]\n",
    "lst.insert(\"abcd\", 2) # insert \"abcd\" at position 2\n",
    "lst"
   ]
  },
  {
   "cell_type": "code",
   "execution_count": 115,
   "metadata": {},
   "outputs": [
    {
     "name": "stdout",
     "output_type": "stream",
     "text": [
      "Help on method_descriptor:\n",
      "\n",
      "replace(self, old, new, count=-1, /)\n",
      "    Return a copy with all occurrences of substring old replaced by new.\n",
      "\n",
      "      count\n",
      "        Maximum number of occurrences to replace.\n",
      "        -1 (the default value) means replace all occurrences.\n",
      "\n",
      "    If the optional argument count is given, only the first count occurrences are\n",
      "    replaced.\n",
      "\n"
     ]
    }
   ],
   "source": [
    "help(str.replace)"
   ]
  },
  {
   "cell_type": "code",
   "execution_count": 116,
   "metadata": {},
   "outputs": [
    {
     "data": {
      "text/plain": [
       "'m*ss*ss*pp*'"
      ]
     },
     "execution_count": 116,
     "metadata": {},
     "output_type": "execute_result"
    }
   ],
   "source": [
    "strg = \"mississippi\"\n",
    "strg.replace(\"i\", \"*\")"
   ]
  },
  {
   "cell_type": "markdown",
   "metadata": {},
   "source": [
    "#### 2. Default Arguments"
   ]
  },
  {
   "cell_type": "code",
   "execution_count": 5,
   "metadata": {},
   "outputs": [
    {
     "data": {
      "text/plain": [
       "'m*ss*ssippi'"
      ]
     },
     "execution_count": 5,
     "metadata": {},
     "output_type": "execute_result"
    }
   ],
   "source": [
    "strg = \"mississippi\"\n",
    "strg.replace(\"i\", \"*\", 2)"
   ]
  },
  {
   "cell_type": "code",
   "execution_count": 4,
   "metadata": {},
   "outputs": [
    {
     "data": {
      "text/plain": [
       "[4, 3, 2, 1]"
      ]
     },
     "execution_count": 4,
     "metadata": {},
     "output_type": "execute_result"
    }
   ],
   "source": [
    "lst = [1, 3, 2, 4]\n",
    "sorted(lst, reverse=True)"
   ]
  },
  {
   "cell_type": "code",
   "execution_count": null,
   "metadata": {},
   "outputs": [],
   "source": [
    "help(range)"
   ]
  },
  {
   "cell_type": "markdown",
   "metadata": {},
   "source": [
    "#### 3. Variable- length Arguments"
   ]
  },
  {
   "cell_type": "code",
   "execution_count": 120,
   "metadata": {},
   "outputs": [
    {
     "name": "stdout",
     "output_type": "stream",
     "text": [
      "Name - Jane | Age - 30 | Args - (70, 80, 90, 18)\n"
     ]
    }
   ],
   "source": [
    "def demo(name, *args, age = 30):\n",
    "    print(f\"Name - {name} | Age - {age} | Args - {args}\")\n",
    "\n",
    "demo(\"Jane\", 70, 80, 90, 18)"
   ]
  },
  {
   "cell_type": "markdown",
   "metadata": {},
   "source": [
    "#### 4. Key-word Argument"
   ]
  },
  {
   "cell_type": "code",
   "execution_count": 121,
   "metadata": {},
   "outputs": [
    {
     "name": "stdout",
     "output_type": "stream",
     "text": [
      "Name - Jane | Age - 18 | Args - (70, 80, 90)\n"
     ]
    }
   ],
   "source": [
    "demo(\"Jane\", 70, 80, 90, age = 18)"
   ]
  },
  {
   "cell_type": "code",
   "execution_count": 122,
   "metadata": {},
   "outputs": [
    {
     "name": "stdout",
     "output_type": "stream",
     "text": [
      "Help on built-in function print in module builtins:\n",
      "\n",
      "print(*args, sep=' ', end='\\n', file=None, flush=False)\n",
      "    Prints the values to a stream, or to sys.stdout by default.\n",
      "\n",
      "    sep\n",
      "      string inserted between values, default a space.\n",
      "    end\n",
      "      string appended after the last value, default a newline.\n",
      "    file\n",
      "      a file-like object (stream); defaults to the current sys.stdout.\n",
      "    flush\n",
      "      whether to forcibly flush the stream.\n",
      "\n"
     ]
    }
   ],
   "source": [
    "help(print)"
   ]
  },
  {
   "cell_type": "code",
   "execution_count": 124,
   "metadata": {},
   "outputs": [
    {
     "name": "stdout",
     "output_type": "stream",
     "text": [
      "Addition of_10_and_20_=_30\n"
     ]
    }
   ],
   "source": [
    "a, b = 10, 20\n",
    "c = a+b\n",
    "print(\"Addition of\", a, \"and\", b, \"=\", c, sep = \"_\")"
   ]
  },
  {
   "cell_type": "markdown",
   "metadata": {},
   "source": [
    "#### 5. Variable-length key-word Argument"
   ]
  },
  {
   "cell_type": "code",
   "execution_count": 125,
   "metadata": {},
   "outputs": [
    {
     "name": "stdout",
     "output_type": "stream",
     "text": [
      "Name - Jane | Age - 18 | Args - (70, 80, 90) | kwargs - {'mob': 9876543, 'gender': 'F'}\n"
     ]
    }
   ],
   "source": [
    "def demo(name, *args, age = 30, **kwargs):\n",
    "    print(f\"Name - {name} | Age - {age} | Args - {args} | kwargs - {kwargs}\")\n",
    "\n",
    "demo(\"Jane\", 70, 80, 90, age = 18, mob = 9876543, gender = \"F\")"
   ]
  },
  {
   "cell_type": "markdown",
   "metadata": {},
   "source": [
    "### Significance of `/` and `*` in function definition\n",
    "\n",
    "- **`/`** - All the arguments before `/` must be position only\n",
    "- **`*`** - All the arguments after `*` must be key-word only"
   ]
  },
  {
   "cell_type": "code",
   "execution_count": 23,
   "metadata": {},
   "outputs": [
    {
     "data": {
      "text/plain": [
       "'m*ss*ssippi'"
      ]
     },
     "execution_count": 23,
     "metadata": {},
     "output_type": "execute_result"
    }
   ],
   "source": [
    "strg = \"mississippi\"\n",
    "strg.replace(\"i\", \"*\", 2)"
   ]
  },
  {
   "cell_type": "code",
   "execution_count": 6,
   "metadata": {},
   "outputs": [
    {
     "ename": "TypeError",
     "evalue": "str.replace() takes no keyword arguments",
     "output_type": "error",
     "traceback": [
      "\u001b[31m---------------------------------------------------------------------------\u001b[39m",
      "\u001b[31mTypeError\u001b[39m                                 Traceback (most recent call last)",
      "\u001b[36mCell\u001b[39m\u001b[36m \u001b[39m\u001b[32mIn[6]\u001b[39m\u001b[32m, line 2\u001b[39m\n\u001b[32m      1\u001b[39m strg = \u001b[33m\"\u001b[39m\u001b[33mmississippi\u001b[39m\u001b[33m\"\u001b[39m\n\u001b[32m----> \u001b[39m\u001b[32m2\u001b[39m \u001b[43mstrg\u001b[49m\u001b[43m.\u001b[49m\u001b[43mreplace\u001b[49m\u001b[43m(\u001b[49m\u001b[33;43m\"\u001b[39;49m\u001b[33;43mi\u001b[39;49m\u001b[33;43m\"\u001b[39;49m\u001b[43m,\u001b[49m\u001b[43m \u001b[49m\u001b[33;43m\"\u001b[39;49m\u001b[33;43m*\u001b[39;49m\u001b[33;43m\"\u001b[39;49m\u001b[43m,\u001b[49m\u001b[43m \u001b[49m\u001b[43mcount\u001b[49m\u001b[43m \u001b[49m\u001b[43m=\u001b[49m\u001b[43m \u001b[49m\u001b[32;43m2\u001b[39;49m\u001b[43m)\u001b[49m\n",
      "\u001b[31mTypeError\u001b[39m: str.replace() takes no keyword arguments"
     ]
    }
   ],
   "source": [
    "strg = \"mississippi\"\n",
    "strg.replace(\"i\", \"*\", count = 2) # Error"
   ]
  },
  {
   "cell_type": "code",
   "execution_count": 25,
   "metadata": {},
   "outputs": [
    {
     "data": {
      "text/plain": [
       "[4, 3, 2, 1]"
      ]
     },
     "execution_count": 25,
     "metadata": {},
     "output_type": "execute_result"
    }
   ],
   "source": [
    "lst = [1, 3, 2, 4]\n",
    "sorted(lst, reverse=True)"
   ]
  },
  {
   "cell_type": "code",
   "execution_count": 27,
   "metadata": {},
   "outputs": [
    {
     "ename": "TypeError",
     "evalue": "sorted expected 1 argument, got 0",
     "output_type": "error",
     "traceback": [
      "\u001b[31m---------------------------------------------------------------------------\u001b[39m",
      "\u001b[31mTypeError\u001b[39m                                 Traceback (most recent call last)",
      "\u001b[36mCell\u001b[39m\u001b[36m \u001b[39m\u001b[32mIn[27]\u001b[39m\u001b[32m, line 2\u001b[39m\n\u001b[32m      1\u001b[39m lst = [\u001b[32m1\u001b[39m, \u001b[32m3\u001b[39m, \u001b[32m2\u001b[39m, \u001b[32m4\u001b[39m]\n\u001b[32m----> \u001b[39m\u001b[32m2\u001b[39m \u001b[38;5;28;43msorted\u001b[39;49m\u001b[43m(\u001b[49m\u001b[43miterable\u001b[49m\u001b[43m \u001b[49m\u001b[43m=\u001b[49m\u001b[43m \u001b[49m\u001b[43mlst\u001b[49m\u001b[43m,\u001b[49m\u001b[43m \u001b[49m\u001b[43mreverse\u001b[49m\u001b[43m=\u001b[49m\u001b[38;5;28;43;01mTrue\u001b[39;49;00m\u001b[43m)\u001b[49m\n",
      "\u001b[31mTypeError\u001b[39m: sorted expected 1 argument, got 0"
     ]
    }
   ],
   "source": [
    "lst = [1, 3, 2, 4]\n",
    "sorted(iterable = lst, reverse=True)"
   ]
  },
  {
   "cell_type": "code",
   "execution_count": 7,
   "metadata": {},
   "outputs": [
    {
     "ename": "TypeError",
     "evalue": "sorted expected 1 argument, got 2",
     "output_type": "error",
     "traceback": [
      "\u001b[31m---------------------------------------------------------------------------\u001b[39m",
      "\u001b[31mTypeError\u001b[39m                                 Traceback (most recent call last)",
      "\u001b[36mCell\u001b[39m\u001b[36m \u001b[39m\u001b[32mIn[7]\u001b[39m\u001b[32m, line 2\u001b[39m\n\u001b[32m      1\u001b[39m lst = [\u001b[32m1\u001b[39m, \u001b[32m3\u001b[39m, \u001b[32m2\u001b[39m, \u001b[32m4\u001b[39m]\n\u001b[32m----> \u001b[39m\u001b[32m2\u001b[39m \u001b[38;5;28;43msorted\u001b[39;49m\u001b[43m(\u001b[49m\u001b[43mlst\u001b[49m\u001b[43m,\u001b[49m\u001b[43m \u001b[49m\u001b[38;5;28;43;01mTrue\u001b[39;49;00m\u001b[43m)\u001b[49m\n",
      "\u001b[31mTypeError\u001b[39m: sorted expected 1 argument, got 2"
     ]
    }
   ],
   "source": [
    "lst = [1, 3, 2, 4]\n",
    "sorted(lst, True) # Error"
   ]
  },
  {
   "cell_type": "code",
   "execution_count": 26,
   "metadata": {},
   "outputs": [
    {
     "data": {
      "text/plain": [
       "{1: 'P1', 2: 'P2', 3: 'P3'}"
      ]
     },
     "execution_count": 26,
     "metadata": {},
     "output_type": "execute_result"
    }
   ],
   "source": [
    "dict(enumerate(iterable=[\"P1\", \"P2\", \"P3\"], start = 1))"
   ]
  },
  {
   "cell_type": "code",
   "execution_count": 21,
   "metadata": {},
   "outputs": [
    {
     "data": {
      "text/plain": [
       "{1: 'P1', 2: 'P2', 3: 'P3'}"
      ]
     },
     "execution_count": 21,
     "metadata": {},
     "output_type": "execute_result"
    }
   ],
   "source": [
    "dict(enumerate([\"P1\", \"P2\", \"P3\"], start = 1))"
   ]
  },
  {
   "cell_type": "code",
   "execution_count": 11,
   "metadata": {},
   "outputs": [
    {
     "data": {
      "text/plain": [
       "{1: 'P1', 2: 'P2', 3: 'P3'}"
      ]
     },
     "execution_count": 11,
     "metadata": {},
     "output_type": "execute_result"
    }
   ],
   "source": [
    "dict(enumerate([\"P1\", \"P2\", \"P3\"], 1))"
   ]
  },
  {
   "cell_type": "code",
   "execution_count": 16,
   "metadata": {},
   "outputs": [
    {
     "name": "stdout",
     "output_type": "stream",
     "text": [
      "Name - Jane | Age - 20\n",
      "Name - Jane | Age - 20\n",
      "Name - Jane | Age - 20\n",
      "Name - Jane | Age - 30\n"
     ]
    }
   ],
   "source": [
    "def demo(name, age) :\n",
    "     print(f\"Name - {name} | Age - {age}\")\n",
    "\n",
    "demo(\"Jane\", 20)  # Both position only\n",
    "demo(name = \"Jane\", age = 20) # Both key-word\n",
    "demo(age = 20, name = \"Jane\") # Both key-word - positions do not matter\n",
    "demo(\"Jane\", age = 30)  # name - position and age - key-word\n",
    "# demo(name = \"Jane\", 30) # Error - SyntaxError: positional argument follows keyword argument"
   ]
  },
  {
   "cell_type": "code",
   "execution_count": 17,
   "metadata": {},
   "outputs": [
    {
     "name": "stdout",
     "output_type": "stream",
     "text": [
      "Name - Jane | Age - 30\n",
      "Name - Jane | Age - 20\n"
     ]
    },
    {
     "ename": "TypeError",
     "evalue": "demo() takes 1 positional argument but 2 were given",
     "output_type": "error",
     "traceback": [
      "\u001b[31m---------------------------------------------------------------------------\u001b[39m",
      "\u001b[31mTypeError\u001b[39m                                 Traceback (most recent call last)",
      "\u001b[36mCell\u001b[39m\u001b[36m \u001b[39m\u001b[32mIn[17]\u001b[39m\u001b[32m, line 6\u001b[39m\n\u001b[32m      4\u001b[39m demo(\u001b[33m\"\u001b[39m\u001b[33mJane\u001b[39m\u001b[33m\"\u001b[39m, age = \u001b[32m30\u001b[39m)  \u001b[38;5;66;03m# name - either, age - key-word only\u001b[39;00m\n\u001b[32m      5\u001b[39m demo(name = \u001b[33m\"\u001b[39m\u001b[33mJane\u001b[39m\u001b[33m\"\u001b[39m, age = \u001b[32m20\u001b[39m) \u001b[38;5;66;03m# \u001b[39;00m\n\u001b[32m----> \u001b[39m\u001b[32m6\u001b[39m \u001b[43mdemo\u001b[49m\u001b[43m(\u001b[49m\u001b[33;43m\"\u001b[39;49m\u001b[33;43mJane\u001b[39;49m\u001b[33;43m\"\u001b[39;49m\u001b[43m,\u001b[49m\u001b[43m \u001b[49m\u001b[32;43m20\u001b[39;49m\u001b[43m)\u001b[49m  \u001b[38;5;66;03m# Error\u001b[39;00m\n",
      "\u001b[31mTypeError\u001b[39m: demo() takes 1 positional argument but 2 were given"
     ]
    }
   ],
   "source": [
    "def demo(name, *, age) : # all arguments after * must be key-word only\n",
    "     print(f\"Name - {name} | Age - {age}\")\n",
    "\n",
    "demo(\"Jane\", age = 30)  # name - either, age - key-word only\n",
    "demo(name = \"Jane\", age = 20) # \n",
    "demo(\"Jane\", 20)  # Error"
   ]
  },
  {
   "cell_type": "code",
   "execution_count": 18,
   "metadata": {},
   "outputs": [
    {
     "name": "stdout",
     "output_type": "stream",
     "text": [
      "Name - Jane | Age - 20\n",
      "Name - Jane | Age - 30\n"
     ]
    },
    {
     "ename": "TypeError",
     "evalue": "demo() got some positional-only arguments passed as keyword arguments: 'name'",
     "output_type": "error",
     "traceback": [
      "\u001b[31m---------------------------------------------------------------------------\u001b[39m",
      "\u001b[31mTypeError\u001b[39m                                 Traceback (most recent call last)",
      "\u001b[36mCell\u001b[39m\u001b[36m \u001b[39m\u001b[32mIn[18]\u001b[39m\u001b[32m, line 6\u001b[39m\n\u001b[32m      4\u001b[39m demo(\u001b[33m\"\u001b[39m\u001b[33mJane\u001b[39m\u001b[33m\"\u001b[39m, \u001b[32m20\u001b[39m)  \u001b[38;5;66;03m# name - position only and age - either\u001b[39;00m\n\u001b[32m      5\u001b[39m demo(\u001b[33m\"\u001b[39m\u001b[33mJane\u001b[39m\u001b[33m\"\u001b[39m, age = \u001b[32m30\u001b[39m)  \u001b[38;5;66;03m# \u001b[39;00m\n\u001b[32m----> \u001b[39m\u001b[32m6\u001b[39m \u001b[43mdemo\u001b[49m\u001b[43m(\u001b[49m\u001b[43mname\u001b[49m\u001b[43m \u001b[49m\u001b[43m=\u001b[49m\u001b[43m \u001b[49m\u001b[33;43m\"\u001b[39;49m\u001b[33;43mJane\u001b[39;49m\u001b[33;43m\"\u001b[39;49m\u001b[43m,\u001b[49m\u001b[43m \u001b[49m\u001b[43mage\u001b[49m\u001b[43m \u001b[49m\u001b[43m=\u001b[49m\u001b[43m \u001b[49m\u001b[32;43m20\u001b[39;49m\u001b[43m)\u001b[49m \u001b[38;5;66;03m# Error\u001b[39;00m\n",
      "\u001b[31mTypeError\u001b[39m: demo() got some positional-only arguments passed as keyword arguments: 'name'"
     ]
    }
   ],
   "source": [
    "def demo(name, /, age) : #  All the arguments before / must be position only\n",
    "     print(f\"Name - {name} | Age - {age}\")\n",
    "\n",
    "demo(\"Jane\", 20)  # name - position only and age - either\n",
    "demo(\"Jane\", age = 30)  # \n",
    "demo(name = \"Jane\", age = 20) # Error"
   ]
  },
  {
   "cell_type": "code",
   "execution_count": 19,
   "metadata": {},
   "outputs": [
    {
     "name": "stdout",
     "output_type": "stream",
     "text": [
      "Help on class enumerate in module builtins:\n",
      "\n",
      "class enumerate(object)\n",
      " |  enumerate(iterable, start=0)\n",
      " |\n",
      " |  Return an enumerate object.\n",
      " |\n",
      " |    iterable\n",
      " |      an object supporting iteration\n",
      " |\n",
      " |  The enumerate object yields pairs containing a count (from start, which\n",
      " |  defaults to zero) and a value yielded by the iterable argument.\n",
      " |\n",
      " |  enumerate is useful for obtaining an indexed list:\n",
      " |      (0, seq[0]), (1, seq[1]), (2, seq[2]), ...\n",
      " |\n",
      " |  Methods defined here:\n",
      " |\n",
      " |  __getattribute__(self, name, /)\n",
      " |      Return getattr(self, name).\n",
      " |\n",
      " |  __iter__(self, /)\n",
      " |      Implement iter(self).\n",
      " |\n",
      " |  __next__(self, /)\n",
      " |      Implement next(self).\n",
      " |\n",
      " |  __reduce__(...)\n",
      " |      Return state information for pickling.\n",
      " |\n",
      " |  ----------------------------------------------------------------------\n",
      " |  Class methods defined here:\n",
      " |\n",
      " |  __class_getitem__(...) from builtins.type\n",
      " |      See PEP 585\n",
      " |\n",
      " |  ----------------------------------------------------------------------\n",
      " |  Static methods defined here:\n",
      " |\n",
      " |  __new__(*args, **kwargs) from builtins.type\n",
      " |      Create and return a new object.  See help(type) for accurate signature.\n",
      "\n"
     ]
    }
   ],
   "source": [
    "help(enumerate)"
   ]
  },
  {
   "cell_type": "code",
   "execution_count": 22,
   "metadata": {},
   "outputs": [
    {
     "name": "stdout",
     "output_type": "stream",
     "text": [
      "Help on method_descriptor:\n",
      "\n",
      "replace(self, old, new, count=-1, /)\n",
      "    Return a copy with all occurrences of substring old replaced by new.\n",
      "\n",
      "      count\n",
      "        Maximum number of occurrences to replace.\n",
      "        -1 (the default value) means replace all occurrences.\n",
      "\n",
      "    If the optional argument count is given, only the first count occurrences are\n",
      "    replaced.\n",
      "\n"
     ]
    }
   ],
   "source": [
    "help(str.replace)"
   ]
  },
  {
   "cell_type": "code",
   "execution_count": 24,
   "metadata": {},
   "outputs": [
    {
     "name": "stdout",
     "output_type": "stream",
     "text": [
      "Help on built-in function sorted in module builtins:\n",
      "\n",
      "sorted(iterable, /, *, key=None, reverse=False)\n",
      "    Return a new list containing all items from the iterable in ascending order.\n",
      "\n",
      "    A custom key function can be supplied to customize the sort order, and the\n",
      "    reverse flag can be set to request the result in descending order.\n",
      "\n"
     ]
    }
   ],
   "source": [
    "help(sorted)"
   ]
  },
  {
   "cell_type": "code",
   "execution_count": 38,
   "metadata": {},
   "outputs": [
    {
     "data": {
      "text/plain": [
       "<BarContainer object of 4 artists>"
      ]
     },
     "execution_count": 38,
     "metadata": {},
     "output_type": "execute_result"
    },
    {
     "data": {
      "image/png": "[encoded data removed]",
      "text/plain": [
       "<Figure size 1000x200 with 1 Axes>"
      ]
     },
     "metadata": {},
     "output_type": "display_data"
    }
   ],
   "source": [
    "import matplotlib.pyplot as plt\n",
    "\n",
    "products = [\"Laptop\", \"Smartphone\", \"Headphones\", \"Keyboard\"]\n",
    "sales = [150, 300, 120, 90]\n",
    "\n",
    "fig = plt.figure(figsize=(10, 2))\n",
    "plt.bar(products, sales, 0.4, 80, align=\"edge\", color = \"teal\", edgecolor = \"black\")"
   ]
  },
  {
   "cell_type": "markdown",
   "metadata": {},
   "source": [
    "### Function Object"
   ]
  },
  {
   "cell_type": "markdown",
   "metadata": {},
   "source": [
    "- In Python, a function object refers to the fact that functions are first-class citizens—they are treated like any other object.\n",
    "- This means: A function object is an instance of the built-in function class created when a def statement or a lambda expression is executed.\n",
    "- A function object can be:\n",
    "    - Pass it to other functions,    \n",
    "    - Assign it to variables,    \n",
    "    - Store in data structures,    \n",
    "    - Return it from another function."
   ]
  },
  {
   "cell_type": "markdown",
   "metadata": {},
   "source": [
    "#### function definition/implemenation\n"
   ]
  },
  {
   "cell_type": "code",
   "execution_count": 39,
   "metadata": {},
   "outputs": [],
   "source": [
    "def func(a, b):  # -> function definition\n",
    "    if a < b :\n",
    "        return a\n",
    "    else:\n",
    "        return b"
   ]
  },
  {
   "cell_type": "markdown",
   "metadata": {},
   "source": [
    "#### function call"
   ]
  },
  {
   "cell_type": "code",
   "execution_count": 40,
   "metadata": {},
   "outputs": [
    {
     "name": "stdout",
     "output_type": "stream",
     "text": [
      "3  -  <class 'int'>\n"
     ]
    }
   ],
   "source": [
    "# function call\n",
    "var = func(3, 4)\n",
    "print(var, \" - \", type(var))"
   ]
  },
  {
   "cell_type": "markdown",
   "metadata": {},
   "source": [
    "#### function object"
   ]
  },
  {
   "cell_type": "code",
   "execution_count": 41,
   "metadata": {},
   "outputs": [
    {
     "name": "stdout",
     "output_type": "stream",
     "text": [
      "<function func at 0x000002320C3082C0>  -  <class 'function'>\n"
     ]
    }
   ],
   "source": [
    "# function object\n",
    "var = func\n",
    "print(var, \" - \", type(var))"
   ]
  },
  {
   "cell_type": "markdown",
   "metadata": {},
   "source": [
    "##### Note - Everything in python is an object. Even function is an object and it is called as callable."
   ]
  },
  {
   "cell_type": "code",
   "execution_count": 42,
   "metadata": {},
   "outputs": [
    {
     "data": {
      "text/plain": [
       "3"
      ]
     },
     "execution_count": 42,
     "metadata": {},
     "output_type": "execute_result"
    }
   ],
   "source": [
    "var(3, 4)"
   ]
  },
  {
   "cell_type": "code",
   "execution_count": 43,
   "metadata": {},
   "outputs": [
    {
     "data": {
      "text/plain": [
       "4"
      ]
     },
     "execution_count": 43,
     "metadata": {},
     "output_type": "execute_result"
    }
   ],
   "source": [
    "result = len\n",
    "result(\"abcd\")"
   ]
  },
  {
   "cell_type": "code",
   "execution_count": 44,
   "metadata": {},
   "outputs": [
    {
     "name": "stdout",
     "output_type": "stream",
     "text": [
      "30\n"
     ]
    }
   ],
   "source": [
    "a, b = 10, 20\n",
    "sum = a + b\n",
    "print(sum)"
   ]
  },
  {
   "cell_type": "code",
   "execution_count": 1,
   "metadata": {},
   "outputs": [
    {
     "data": {
      "text/plain": [
       "10"
      ]
     },
     "execution_count": 1,
     "metadata": {},
     "output_type": "execute_result"
    }
   ],
   "source": [
    "sum([1, 2, 3, 4])"
   ]
  },
  {
   "cell_type": "markdown",
   "metadata": {},
   "source": [
    "### Lambda Function\n",
    "\n",
    "- A lambda function in Python is a concise, unnamed function created using the `lambda` keyword.  \n",
    "- Unlike regular functions defined with `def`, lambda functions can accept multiple parameters but are limited to a single expression that is implicitly returned.  \n",
    "- They are commonly used for short, simple operations that are needed temporarily, often defined inline without the need for a formal function definition.\n",
    "- Syntax of Lambda Function – \n",
    "\n",
    "  <b>lambda *parameters* : *expression*</b>\n"
   ]
  },
  {
   "cell_type": "markdown",
   "metadata": {},
   "source": [
    "###### Ex. WLF to return square of a number"
   ]
  },
  {
   "cell_type": "code",
   "execution_count": 9,
   "metadata": {},
   "outputs": [
    {
     "data": {
      "text/plain": [
       "25"
      ]
     },
     "execution_count": 9,
     "metadata": {},
     "output_type": "execute_result"
    }
   ],
   "source": [
    "square = lambda num : num**2\n",
    "square(5)"
   ]
  },
  {
   "cell_type": "markdown",
   "metadata": {},
   "source": [
    "###### Ex. WLF to check if a number is even or odd"
   ]
  },
  {
   "cell_type": "code",
   "execution_count": 10,
   "metadata": {},
   "outputs": [
    {
     "data": {
      "text/plain": [
       "'odd'"
      ]
     },
     "execution_count": 10,
     "metadata": {},
     "output_type": "execute_result"
    }
   ],
   "source": [
    "even_odd = lambda num : \"even\" if num % 2 == 0 else \"odd\"\n",
    "even_odd(5)"
   ]
  },
  {
   "cell_type": "markdown",
   "metadata": {},
   "source": [
    "### Applilcations of Function Object"
   ]
  },
  {
   "cell_type": "markdown",
   "metadata": {},
   "source": [
    "###### Ex. WAP to sort a list of strings as per the last character."
   ]
  },
  {
   "cell_type": "code",
   "execution_count": 11,
   "metadata": {},
   "outputs": [
    {
     "data": {
      "text/plain": [
       "['bike', 'car', 'flight', 'train']"
      ]
     },
     "execution_count": 11,
     "metadata": {},
     "output_type": "execute_result"
    }
   ],
   "source": [
    "lst = [\"flight\", \"bike\", \"car\",  \"train\"]\n",
    "sorted(lst) # sorts alphabetically"
   ]
  },
  {
   "cell_type": "code",
   "execution_count": 16,
   "metadata": {},
   "outputs": [
    {
     "data": {
      "text/plain": [
       "['flight', 'train', 'bike', 'car']"
      ]
     },
     "execution_count": 16,
     "metadata": {},
     "output_type": "execute_result"
    }
   ],
   "source": [
    "lst = [\"flight\", \"bike\", \"car\",  \"train\"]\n",
    "sorted(lst, key = len) # sorts by length of each word"
   ]
  },
  {
   "cell_type": "code",
   "execution_count": 17,
   "metadata": {},
   "outputs": [
    {
     "data": {
      "text/plain": [
       "['bike', 'train', 'car', 'flight']"
      ]
     },
     "execution_count": 17,
     "metadata": {},
     "output_type": "execute_result"
    }
   ],
   "source": [
    "lst = [\"flight\", \"bike\", \"car\",  \"train\"]\n",
    "sorted(lst, key = lambda strg : strg[-1]) # sorts by last character of each word"
   ]
  },
  {
   "cell_type": "markdown",
   "metadata": {},
   "source": [
    "##### Note - the function object must be applicable to the elements in the sequence"
   ]
  },
  {
   "cell_type": "code",
   "execution_count": 13,
   "metadata": {},
   "outputs": [
    {
     "name": "stdout",
     "output_type": "stream",
     "text": [
      "Help on built-in function sorted in module builtins:\n",
      "\n",
      "sorted(iterable, /, *, key=None, reverse=False)\n",
      "    Return a new list containing all items from the iterable in ascending order.\n",
      "\n",
      "    A custom key function can be supplied to customize the sort order, and the\n",
      "    reverse flag can be set to request the result in descending order.\n",
      "\n"
     ]
    }
   ],
   "source": [
    "help(sorted)"
   ]
  },
  {
   "cell_type": "code",
   "execution_count": 18,
   "metadata": {},
   "outputs": [
    {
     "data": {
      "text/plain": [
       "['flight', 'bike', 'car', 'train']"
      ]
     },
     "execution_count": 18,
     "metadata": {},
     "output_type": "execute_result"
    }
   ],
   "source": [
    "lst"
   ]
  },
  {
   "cell_type": "code",
   "execution_count": 19,
   "metadata": {},
   "outputs": [
    {
     "data": {
      "text/plain": [
       "'train'"
      ]
     },
     "execution_count": 19,
     "metadata": {},
     "output_type": "execute_result"
    }
   ],
   "source": [
    "max(lst)"
   ]
  },
  {
   "cell_type": "code",
   "execution_count": 23,
   "metadata": {},
   "outputs": [
    {
     "data": {
      "text/plain": [
       "3"
      ]
     },
     "execution_count": 23,
     "metadata": {},
     "output_type": "execute_result"
    }
   ],
   "source": [
    "max([1, 2, 3], default=\"empty\")"
   ]
  },
  {
   "cell_type": "code",
   "execution_count": 24,
   "metadata": {},
   "outputs": [
    {
     "data": {
      "text/plain": [
       "'flight'"
      ]
     },
     "execution_count": 24,
     "metadata": {},
     "output_type": "execute_result"
    }
   ],
   "source": [
    "max(lst, key = len)"
   ]
  },
  {
   "cell_type": "code",
   "execution_count": 25,
   "metadata": {},
   "outputs": [
    {
     "data": {
      "text/plain": [
       "'flight'"
      ]
     },
     "execution_count": 25,
     "metadata": {},
     "output_type": "execute_result"
    }
   ],
   "source": [
    "max(lst, key = min)"
   ]
  },
  {
   "cell_type": "code",
   "execution_count": 20,
   "metadata": {},
   "outputs": [
    {
     "name": "stdout",
     "output_type": "stream",
     "text": [
      "Help on built-in function max in module builtins:\n",
      "\n",
      "max(...)\n",
      "    max(iterable, *[, default=obj, key=func]) -> value\n",
      "    max(arg1, arg2, *args, *[, key=func]) -> value\n",
      "\n",
      "    With a single iterable argument, return its biggest item. The\n",
      "    default keyword-only argument specifies an object to return if\n",
      "    the provided iterable is empty.\n",
      "    With two or more arguments, return the largest argument.\n",
      "\n"
     ]
    }
   ],
   "source": [
    "help(max)"
   ]
  },
  {
   "cell_type": "markdown",
   "metadata": {},
   "source": [
    "###### Ex. WAP to sort the list of tuples by sum of each subtuple"
   ]
  },
  {
   "cell_type": "code",
   "execution_count": 26,
   "metadata": {},
   "outputs": [
    {
     "data": {
      "text/plain": [
       "[(13, 19, 15), (15, 10, 19), (16, 11, 14), (16, 20, 13), (20, 12, 18)]"
      ]
     },
     "execution_count": 26,
     "metadata": {},
     "output_type": "execute_result"
    }
   ],
   "source": [
    "students_marks = [(13, 19, 15), (20, 12, 18), (16, 11, 14), (16, 20, 13), (15, 10, 19)]\n",
    "sorted(students_marks)"
   ]
  },
  {
   "cell_type": "code",
   "execution_count": 27,
   "metadata": {},
   "outputs": [
    {
     "data": {
      "text/plain": [
       "[(16, 11, 14), (15, 10, 19), (13, 19, 15), (16, 20, 13), (20, 12, 18)]"
      ]
     },
     "execution_count": 27,
     "metadata": {},
     "output_type": "execute_result"
    }
   ],
   "source": [
    "students_marks = [(13, 19, 15), (20, 12, 18), (16, 11, 14), (16, 20, 13), (15, 10, 19)]\n",
    "sorted(students_marks, key = sum)"
   ]
  },
  {
   "cell_type": "markdown",
   "metadata": {},
   "source": [
    "###### Ex. WAP to display the student details in sorted order of their marks."
   ]
  },
  {
   "cell_type": "code",
   "execution_count": 29,
   "metadata": {},
   "outputs": [
    {
     "data": {
      "text/plain": [
       "['Jane', 'Sam', 'Max', 'Mary']"
      ]
     },
     "execution_count": 29,
     "metadata": {},
     "output_type": "execute_result"
    }
   ],
   "source": [
    "students = {\"Jane\" : 40, \"Max\" : 50, \"Sam\" : 45, \"Mary\" : 70}\n",
    "sorted(students, key = lambda k : students[k])"
   ]
  },
  {
   "cell_type": "code",
   "execution_count": 32,
   "metadata": {},
   "outputs": [
    {
     "data": {
      "text/plain": [
       "{'Jane': 40, 'Sam': 45, 'Max': 50, 'Mary': 70}"
      ]
     },
     "execution_count": 32,
     "metadata": {},
     "output_type": "execute_result"
    }
   ],
   "source": [
    "students = {\"Jane\" : 40, \"Max\" : 50, \"Sam\" : 45, \"Mary\" : 70}\n",
    "dict(sorted(students.items(), key = lambda tup : tup[1]))"
   ]
  },
  {
   "cell_type": "markdown",
   "metadata": {},
   "source": [
    "##### Note - \n",
    "- There are many functions like sorted which take function object as an argument. \n",
    "- Use a built-in function if available, else defined a custom function. \n",
    "- If the logic for custom function is one-liner use lambda function else use standard user-defined function"
   ]
  },
  {
   "cell_type": "markdown",
   "metadata": {},
   "source": [
    "**map(func_obj, iterable) - applies the func to all the elements of the iterable and generates a new sequence object** "
   ]
  },
  {
   "cell_type": "markdown",
   "metadata": {},
   "source": [
    "###### Ex. WAP to display sum of sales"
   ]
  },
  {
   "cell_type": "code",
   "execution_count": 36,
   "metadata": {},
   "outputs": [
    {
     "data": {
      "text/plain": [
       "1500"
      ]
     },
     "execution_count": 36,
     "metadata": {},
     "output_type": "execute_result"
    }
   ],
   "source": [
    "sales = [\"$200\", \"$500\", \"$800\"]\n",
    "sum(map(lambda val : int(val.removeprefix(\"$\")), sales))"
   ]
  },
  {
   "cell_type": "markdown",
   "metadata": {},
   "source": [
    "**filter(func_obj, iterable) - filters the elements from the iterable based on the condition in the func object** "
   ]
  },
  {
   "cell_type": "markdown",
   "metadata": {},
   "source": [
    "###### Ex. WAP to filter all even numbers from a list"
   ]
  },
  {
   "cell_type": "code",
   "execution_count": 38,
   "metadata": {},
   "outputs": [
    {
     "data": {
      "text/plain": [
       "[10, 28, 20]"
      ]
     },
     "execution_count": 38,
     "metadata": {},
     "output_type": "execute_result"
    }
   ],
   "source": [
    "lst = [10, 25, 28, 20, 17]\n",
    "list(filter(lambda val : val%2 == 0, lst))"
   ]
  },
  {
   "cell_type": "markdown",
   "metadata": {},
   "source": [
    "###### Ex. WAP to filter all alphabets from the string"
   ]
  },
  {
   "cell_type": "code",
   "execution_count": 39,
   "metadata": {},
   "outputs": [
    {
     "data": {
      "text/plain": [
       "['a', 'b', 'c', 'd']"
      ]
     },
     "execution_count": 39,
     "metadata": {},
     "output_type": "execute_result"
    }
   ],
   "source": [
    "strg = \"a1b2c3d4\"\n",
    "list(filter(lambda ch : ch.isalpha(), strg))"
   ]
  },
  {
   "cell_type": "code",
   "execution_count": 40,
   "metadata": {},
   "outputs": [
    {
     "name": "stdout",
     "output_type": "stream",
     "text": [
      "Help on method_descriptor:\n",
      "\n",
      "isalpha(self, /)\n",
      "    Return True if the string is an alphabetic string, False otherwise.\n",
      "\n",
      "    A string is alphabetic if all characters in the string are alphabetic and there\n",
      "    is at least one character in the string.\n",
      "\n"
     ]
    }
   ],
   "source": [
    "help(str.isalpha)"
   ]
  },
  {
   "cell_type": "code",
   "execution_count": 41,
   "metadata": {},
   "outputs": [
    {
     "data": {
      "text/plain": [
       "True"
      ]
     },
     "execution_count": 41,
     "metadata": {},
     "output_type": "execute_result"
    }
   ],
   "source": [
    "strg = \"abcd\"\n",
    "strg.isalpha()  # executed on the str object"
   ]
  },
  {
   "cell_type": "code",
   "execution_count": 42,
   "metadata": {},
   "outputs": [
    {
     "data": {
      "text/plain": [
       "True"
      ]
     },
     "execution_count": 42,
     "metadata": {},
     "output_type": "execute_result"
    }
   ],
   "source": [
    "str.isalpha(strg) # executed as a function and str object is passed as an argument"
   ]
  },
  {
   "cell_type": "code",
   "execution_count": 43,
   "metadata": {},
   "outputs": [
    {
     "data": {
      "text/plain": [
       "['a', 'b', 'c', 'd']"
      ]
     },
     "execution_count": 43,
     "metadata": {},
     "output_type": "execute_result"
    }
   ],
   "source": [
    "list(filter(str.isalpha, strg))"
   ]
  },
  {
   "cell_type": "markdown",
   "metadata": {},
   "source": [
    "<hr><hr>"
   ]
  },
  {
   "cell_type": "markdown",
   "metadata": {},
   "source": [
    "## Exception Handling"
   ]
  },
  {
   "cell_type": "markdown",
   "metadata": {},
   "source": [
    "It may be convenient to recognize the problems in your python code before you put it to real use. But that does not always happen. Sometimes, problems show up when you run the code; sometimes, midway of that. A Python exception is an error that's detected during execution. \n",
    "\n",
    "##### Python does not provide any compile time Exception Handling. Developer has to proactively recognize the need for exception handling.\n",
    "\n",
    "- What are Errors and Exceptions\n",
    "- Handling Exceptions\n",
    "- Defining Clean-up Actions\n",
    "- Predefined Clean-up Actions\n",
    "- Raising Exceptions"
   ]
  },
  {
   "cell_type": "markdown",
   "metadata": {},
   "source": [
    "#### Syntax Error "
   ]
  },
  {
   "cell_type": "code",
   "execution_count": 44,
   "metadata": {},
   "outputs": [
    {
     "ename": "SyntaxError",
     "evalue": "expected ':' (694265647.py, line 1)",
     "output_type": "error",
     "traceback": [
      "  \u001b[36mCell\u001b[39m\u001b[36m \u001b[39m\u001b[32mIn[44]\u001b[39m\u001b[32m, line 1\u001b[39m\n\u001b[31m    \u001b[39m\u001b[31mfor i in range(5)\u001b[39m\n                     ^\n\u001b[31mSyntaxError\u001b[39m\u001b[31m:\u001b[39m expected ':'\n"
     ]
    }
   ],
   "source": [
    "for i in range(5)\n",
    "   print(i)"
   ]
  },
  {
   "cell_type": "code",
   "execution_count": 45,
   "metadata": {},
   "outputs": [
    {
     "ename": "IndentationError",
     "evalue": "expected an indented block after 'for' statement on line 1 (4120667250.py, line 2)",
     "output_type": "error",
     "traceback": [
      "  \u001b[36mCell\u001b[39m\u001b[36m \u001b[39m\u001b[32mIn[45]\u001b[39m\u001b[32m, line 2\u001b[39m\n\u001b[31m    \u001b[39m\u001b[31mprint(i)\u001b[39m\n    ^\n\u001b[31mIndentationError\u001b[39m\u001b[31m:\u001b[39m expected an indented block after 'for' statement on line 1\n"
     ]
    }
   ],
   "source": [
    "for i in range(5) :\n",
    "print(i)"
   ]
  },
  {
   "cell_type": "markdown",
   "metadata": {},
   "source": [
    "### Exception \n",
    "Even if a statement or expression is syntactically correct, it may cause an error when an attempt is made to execute it. Errors detected during execution are called exceptions and are not unconditionally fatal"
   ]
  },
  {
   "cell_type": "markdown",
   "metadata": {},
   "source": [
    "#### ZeroDivisionError"
   ]
  },
  {
   "cell_type": "code",
   "execution_count": 46,
   "metadata": {},
   "outputs": [
    {
     "ename": "ZeroDivisionError",
     "evalue": "division by zero",
     "output_type": "error",
     "traceback": [
      "\u001b[31m---------------------------------------------------------------------------\u001b[39m",
      "\u001b[31mZeroDivisionError\u001b[39m                         Traceback (most recent call last)",
      "\u001b[36mCell\u001b[39m\u001b[36m \u001b[39m\u001b[32mIn[46]\u001b[39m\u001b[32m, line 2\u001b[39m\n\u001b[32m      1\u001b[39m a, b = \u001b[32m1\u001b[39m, \u001b[32m0\u001b[39m\n\u001b[32m----> \u001b[39m\u001b[32m2\u001b[39m \u001b[38;5;28mprint\u001b[39m(\u001b[43ma\u001b[49m\u001b[43m/\u001b[49m\u001b[43mb\u001b[49m)\n",
      "\u001b[31mZeroDivisionError\u001b[39m: division by zero"
     ]
    }
   ],
   "source": [
    "a, b = 1, 0\n",
    "print(a/b)"
   ]
  },
  {
   "cell_type": "markdown",
   "metadata": {},
   "source": [
    "#### ValueError"
   ]
  },
  {
   "cell_type": "code",
   "execution_count": 47,
   "metadata": {},
   "outputs": [
    {
     "ename": "ValueError",
     "evalue": "invalid literal for int() with base 10: 'abcd'",
     "output_type": "error",
     "traceback": [
      "\u001b[31m---------------------------------------------------------------------------\u001b[39m",
      "\u001b[31mValueError\u001b[39m                                Traceback (most recent call last)",
      "\u001b[36mCell\u001b[39m\u001b[36m \u001b[39m\u001b[32mIn[47]\u001b[39m\u001b[32m, line 1\u001b[39m\n\u001b[32m----> \u001b[39m\u001b[32m1\u001b[39m \u001b[38;5;28;43mint\u001b[39;49m\u001b[43m(\u001b[49m\u001b[33;43m\"\u001b[39;49m\u001b[33;43mabcd\u001b[39;49m\u001b[33;43m\"\u001b[39;49m\u001b[43m)\u001b[49m\n",
      "\u001b[31mValueError\u001b[39m: invalid literal for int() with base 10: 'abcd'"
     ]
    }
   ],
   "source": [
    "int(\"abcd\")"
   ]
  },
  {
   "cell_type": "markdown",
   "metadata": {},
   "source": [
    "#### NameError"
   ]
  },
  {
   "cell_type": "code",
   "execution_count": 48,
   "metadata": {},
   "outputs": [
    {
     "ename": "NameError",
     "evalue": "name 'z' is not defined",
     "output_type": "error",
     "traceback": [
      "\u001b[31m---------------------------------------------------------------------------\u001b[39m",
      "\u001b[31mNameError\u001b[39m                                 Traceback (most recent call last)",
      "\u001b[36mCell\u001b[39m\u001b[36m \u001b[39m\u001b[32mIn[48]\u001b[39m\u001b[32m, line 1\u001b[39m\n\u001b[32m----> \u001b[39m\u001b[32m1\u001b[39m \u001b[38;5;28mprint\u001b[39m(\u001b[43mz\u001b[49m)\n",
      "\u001b[31mNameError\u001b[39m: name 'z' is not defined"
     ]
    }
   ],
   "source": [
    "print(z)"
   ]
  },
  {
   "cell_type": "markdown",
   "metadata": {},
   "source": [
    "#### FileNotFoundError"
   ]
  },
  {
   "cell_type": "code",
   "execution_count": 49,
   "metadata": {},
   "outputs": [
    {
     "ename": "FileNotFoundError",
     "evalue": "[Errno 2] No such file or directory: 'abc.txt'",
     "output_type": "error",
     "traceback": [
      "\u001b[31m---------------------------------------------------------------------------\u001b[39m",
      "\u001b[31mFileNotFoundError\u001b[39m                         Traceback (most recent call last)",
      "\u001b[36mCell\u001b[39m\u001b[36m \u001b[39m\u001b[32mIn[49]\u001b[39m\u001b[32m, line 1\u001b[39m\n\u001b[32m----> \u001b[39m\u001b[32m1\u001b[39m \u001b[38;5;28;43mopen\u001b[39;49m\u001b[43m(\u001b[49m\u001b[33;43m\"\u001b[39;49m\u001b[33;43mabc.txt\u001b[39;49m\u001b[33;43m\"\u001b[39;49m\u001b[43m)\u001b[49m\n",
      "\u001b[36mFile \u001b[39m\u001b[32m~\\AppData\\Local\\Programs\\Python\\Python312\\Lib\\site-packages\\IPython\\core\\interactiveshell.py:326\u001b[39m, in \u001b[36m_modified_open\u001b[39m\u001b[34m(file, *args, **kwargs)\u001b[39m\n\u001b[32m    319\u001b[39m \u001b[38;5;28;01mif\u001b[39;00m file \u001b[38;5;129;01min\u001b[39;00m {\u001b[32m0\u001b[39m, \u001b[32m1\u001b[39m, \u001b[32m2\u001b[39m}:\n\u001b[32m    320\u001b[39m     \u001b[38;5;28;01mraise\u001b[39;00m \u001b[38;5;167;01mValueError\u001b[39;00m(\n\u001b[32m    321\u001b[39m         \u001b[33mf\u001b[39m\u001b[33m\"\u001b[39m\u001b[33mIPython won\u001b[39m\u001b[33m'\u001b[39m\u001b[33mt let you open fd=\u001b[39m\u001b[38;5;132;01m{\u001b[39;00mfile\u001b[38;5;132;01m}\u001b[39;00m\u001b[33m by default \u001b[39m\u001b[33m\"\u001b[39m\n\u001b[32m    322\u001b[39m         \u001b[33m\"\u001b[39m\u001b[33mas it is likely to crash IPython. If you know what you are doing, \u001b[39m\u001b[33m\"\u001b[39m\n\u001b[32m    323\u001b[39m         \u001b[33m\"\u001b[39m\u001b[33myou can use builtins\u001b[39m\u001b[33m'\u001b[39m\u001b[33m open.\u001b[39m\u001b[33m\"\u001b[39m\n\u001b[32m    324\u001b[39m     )\n\u001b[32m--> \u001b[39m\u001b[32m326\u001b[39m \u001b[38;5;28;01mreturn\u001b[39;00m \u001b[43mio_open\u001b[49m\u001b[43m(\u001b[49m\u001b[43mfile\u001b[49m\u001b[43m,\u001b[49m\u001b[43m \u001b[49m\u001b[43m*\u001b[49m\u001b[43margs\u001b[49m\u001b[43m,\u001b[49m\u001b[43m \u001b[49m\u001b[43m*\u001b[49m\u001b[43m*\u001b[49m\u001b[43mkwargs\u001b[49m\u001b[43m)\u001b[49m\n",
      "\u001b[31mFileNotFoundError\u001b[39m: [Errno 2] No such file or directory: 'abc.txt'"
     ]
    }
   ],
   "source": [
    "open(\"abc.txt\")"
   ]
  },
  {
   "cell_type": "markdown",
   "metadata": {},
   "source": [
    "#### TypeError"
   ]
  },
  {
   "cell_type": "code",
   "execution_count": 50,
   "metadata": {},
   "outputs": [
    {
     "ename": "TypeError",
     "evalue": "can only concatenate str (not \"int\") to str",
     "output_type": "error",
     "traceback": [
      "\u001b[31m---------------------------------------------------------------------------\u001b[39m",
      "\u001b[31mTypeError\u001b[39m                                 Traceback (most recent call last)",
      "\u001b[36mCell\u001b[39m\u001b[36m \u001b[39m\u001b[32mIn[50]\u001b[39m\u001b[32m, line 1\u001b[39m\n\u001b[32m----> \u001b[39m\u001b[32m1\u001b[39m \u001b[33;43m\"\u001b[39;49m\u001b[33;43m2\u001b[39;49m\u001b[33;43m\"\u001b[39;49m\u001b[43m \u001b[49m\u001b[43m+\u001b[49m\u001b[43m \u001b[49m\u001b[32;43m2\u001b[39;49m\n",
      "\u001b[31mTypeError\u001b[39m: can only concatenate str (not \"int\") to str"
     ]
    }
   ],
   "source": [
    "\"2\" + 2"
   ]
  },
  {
   "cell_type": "code",
   "execution_count": 51,
   "metadata": {},
   "outputs": [
    {
     "ename": "TypeError",
     "evalue": "func() missing 1 required positional argument: 'a'",
     "output_type": "error",
     "traceback": [
      "\u001b[31m---------------------------------------------------------------------------\u001b[39m",
      "\u001b[31mTypeError\u001b[39m                                 Traceback (most recent call last)",
      "\u001b[36mCell\u001b[39m\u001b[36m \u001b[39m\u001b[32mIn[51]\u001b[39m\u001b[32m, line 4\u001b[39m\n\u001b[32m      1\u001b[39m \u001b[38;5;28;01mdef\u001b[39;00m\u001b[38;5;250m \u001b[39m\u001b[34mfunc\u001b[39m(a):\n\u001b[32m      2\u001b[39m     \u001b[38;5;28;01mpass\u001b[39;00m\n\u001b[32m----> \u001b[39m\u001b[32m4\u001b[39m \u001b[43mfunc\u001b[49m\u001b[43m(\u001b[49m\u001b[43m)\u001b[49m\n",
      "\u001b[31mTypeError\u001b[39m: func() missing 1 required positional argument: 'a'"
     ]
    }
   ],
   "source": [
    "def func(a):\n",
    "    pass\n",
    "\n",
    "func()"
   ]
  },
  {
   "cell_type": "markdown",
   "metadata": {},
   "source": [
    "#### IndexError"
   ]
  },
  {
   "cell_type": "code",
   "execution_count": 52,
   "metadata": {},
   "outputs": [
    {
     "ename": "IndexError",
     "evalue": "list index out of range",
     "output_type": "error",
     "traceback": [
      "\u001b[31m---------------------------------------------------------------------------\u001b[39m",
      "\u001b[31mIndexError\u001b[39m                                Traceback (most recent call last)",
      "\u001b[36mCell\u001b[39m\u001b[36m \u001b[39m\u001b[32mIn[52]\u001b[39m\u001b[32m, line 2\u001b[39m\n\u001b[32m      1\u001b[39m l = [\u001b[32m1\u001b[39m,\u001b[32m2\u001b[39m,\u001b[32m3\u001b[39m]\n\u001b[32m----> \u001b[39m\u001b[32m2\u001b[39m \u001b[43ml\u001b[49m\u001b[43m[\u001b[49m\u001b[32;43m10\u001b[39;49m\u001b[43m]\u001b[49m\n",
      "\u001b[31mIndexError\u001b[39m: list index out of range"
     ]
    }
   ],
   "source": [
    "l = [1,2,3]\n",
    "l[10]"
   ]
  },
  {
   "cell_type": "markdown",
   "metadata": {},
   "source": [
    "#### KeyError"
   ]
  },
  {
   "cell_type": "code",
   "execution_count": 53,
   "metadata": {},
   "outputs": [
    {
     "ename": "KeyError",
     "evalue": "'abc'",
     "output_type": "error",
     "traceback": [
      "\u001b[31m---------------------------------------------------------------------------\u001b[39m",
      "\u001b[31mKeyError\u001b[39m                                  Traceback (most recent call last)",
      "\u001b[36mCell\u001b[39m\u001b[36m \u001b[39m\u001b[32mIn[53]\u001b[39m\u001b[32m, line 2\u001b[39m\n\u001b[32m      1\u001b[39m d = {\u001b[32m1\u001b[39m:\u001b[32m2\u001b[39m, \u001b[32m3\u001b[39m:\u001b[32m4\u001b[39m}\n\u001b[32m----> \u001b[39m\u001b[32m2\u001b[39m \u001b[43md\u001b[49m\u001b[43m[\u001b[49m\u001b[33;43m\"\u001b[39;49m\u001b[33;43mabc\u001b[39;49m\u001b[33;43m\"\u001b[39;49m\u001b[43m]\u001b[49m\n",
      "\u001b[31mKeyError\u001b[39m: 'abc'"
     ]
    }
   ],
   "source": [
    "d = {1:2, 3:4}\n",
    "d[\"abc\"]"
   ]
  },
  {
   "cell_type": "markdown",
   "metadata": {},
   "source": [
    "#### ModuleNotFoundError"
   ]
  },
  {
   "cell_type": "code",
   "execution_count": 54,
   "metadata": {},
   "outputs": [
    {
     "ename": "ModuleNotFoundError",
     "evalue": "No module named 'math1'",
     "output_type": "error",
     "traceback": [
      "\u001b[31m---------------------------------------------------------------------------\u001b[39m",
      "\u001b[31mModuleNotFoundError\u001b[39m                       Traceback (most recent call last)",
      "\u001b[36mCell\u001b[39m\u001b[36m \u001b[39m\u001b[32mIn[54]\u001b[39m\u001b[32m, line 1\u001b[39m\n\u001b[32m----> \u001b[39m\u001b[32m1\u001b[39m \u001b[38;5;28;01mimport\u001b[39;00m\u001b[38;5;250m \u001b[39m\u001b[34;01mmath1\u001b[39;00m\n",
      "\u001b[31mModuleNotFoundError\u001b[39m: No module named 'math1'"
     ]
    }
   ],
   "source": [
    "import math1"
   ]
  },
  {
   "cell_type": "markdown",
   "metadata": {},
   "source": [
    "#### AttributeError"
   ]
  },
  {
   "cell_type": "code",
   "execution_count": 55,
   "metadata": {},
   "outputs": [
    {
     "ename": "AttributeError",
     "evalue": "module 'math' has no attribute 'sq1'",
     "output_type": "error",
     "traceback": [
      "\u001b[31m---------------------------------------------------------------------------\u001b[39m",
      "\u001b[31mAttributeError\u001b[39m                            Traceback (most recent call last)",
      "\u001b[36mCell\u001b[39m\u001b[36m \u001b[39m\u001b[32mIn[55]\u001b[39m\u001b[32m, line 2\u001b[39m\n\u001b[32m      1\u001b[39m \u001b[38;5;28;01mimport\u001b[39;00m\u001b[38;5;250m \u001b[39m\u001b[34;01mmath\u001b[39;00m\n\u001b[32m----> \u001b[39m\u001b[32m2\u001b[39m \u001b[43mmath\u001b[49m\u001b[43m.\u001b[49m\u001b[43msq1\u001b[49m()\n",
      "\u001b[31mAttributeError\u001b[39m: module 'math' has no attribute 'sq1'"
     ]
    }
   ],
   "source": [
    "import math\n",
    "math.sq1()"
   ]
  },
  {
   "cell_type": "code",
   "execution_count": 56,
   "metadata": {},
   "outputs": [
    {
     "ename": "AttributeError",
     "evalue": "'str' object has no attribute 'UPPER'",
     "output_type": "error",
     "traceback": [
      "\u001b[31m---------------------------------------------------------------------------\u001b[39m",
      "\u001b[31mAttributeError\u001b[39m                            Traceback (most recent call last)",
      "\u001b[36mCell\u001b[39m\u001b[36m \u001b[39m\u001b[32mIn[56]\u001b[39m\u001b[32m, line 3\u001b[39m\n\u001b[32m      1\u001b[39m string = \u001b[33m\"\u001b[39m\u001b[33mabcd\u001b[39m\u001b[33m\"\u001b[39m\n\u001b[32m----> \u001b[39m\u001b[32m3\u001b[39m \u001b[43mstring\u001b[49m\u001b[43m.\u001b[49m\u001b[43mUPPER\u001b[49m()\n",
      "\u001b[31mAttributeError\u001b[39m: 'str' object has no attribute 'UPPER'"
     ]
    }
   ],
   "source": [
    "string = \"abcd\"\n",
    "\n",
    "string.UPPER()"
   ]
  },
  {
   "cell_type": "code",
   "execution_count": 57,
   "metadata": {},
   "outputs": [
    {
     "name": "stdout",
     "output_type": "stream",
     "text": [
      "['ArithmeticError', 'AssertionError', 'AttributeError', 'BaseException', 'BaseExceptionGroup', 'BlockingIOError', 'BrokenPipeError', 'BufferError', 'BytesWarning', 'ChildProcessError', 'ConnectionAbortedError', 'ConnectionError', 'ConnectionRefusedError', 'ConnectionResetError', 'DeprecationWarning', 'EOFError', 'Ellipsis', 'EncodingWarning', 'EnvironmentError', 'Exception', 'ExceptionGroup', 'False', 'FileExistsError', 'FileNotFoundError', 'FloatingPointError', 'FutureWarning', 'GeneratorExit', 'IOError', 'ImportError', 'ImportWarning', 'IndentationError', 'IndexError', 'InterruptedError', 'IsADirectoryError', 'KeyError', 'KeyboardInterrupt', 'LookupError', 'MemoryError', 'ModuleNotFoundError', 'NameError', 'None', 'NotADirectoryError', 'NotImplemented', 'NotImplementedError', 'OSError', 'OverflowError', 'PendingDeprecationWarning', 'PermissionError', 'ProcessLookupError', 'RecursionError', 'ReferenceError', 'ResourceWarning', 'RuntimeError', 'RuntimeWarning', 'StopAsyncIteration', 'StopIteration', 'SyntaxError', 'SyntaxWarning', 'SystemError', 'SystemExit', 'TabError', 'TimeoutError', 'True', 'TypeError', 'UnboundLocalError', 'UnicodeDecodeError', 'UnicodeEncodeError', 'UnicodeError', 'UnicodeTranslateError', 'UnicodeWarning', 'UserWarning', 'ValueError', 'Warning', 'WindowsError', 'ZeroDivisionError', '__IPYTHON__', '__build_class__', '__debug__', '__doc__', '__import__', '__loader__', '__name__', '__package__', '__spec__', 'abs', 'aiter', 'all', 'anext', 'any', 'ascii', 'bin', 'bool', 'breakpoint', 'bytearray', 'bytes', 'callable', 'chr', 'classmethod', 'compile', 'complex', 'copyright', 'credits', 'delattr', 'dict', 'dir', 'display', 'divmod', 'enumerate', 'eval', 'exec', 'execfile', 'filter', 'float', 'format', 'frozenset', 'get_ipython', 'getattr', 'globals', 'hasattr', 'hash', 'help', 'hex', 'id', 'input', 'int', 'isinstance', 'issubclass', 'iter', 'len', 'license', 'list', 'locals', 'map', 'max', 'memoryview', 'min', 'next', 'object', 'oct', 'open', 'ord', 'pow', 'print', 'property', 'range', 'repr', 'reversed', 'round', 'runfile', 'set', 'setattr', 'slice', 'sorted', 'staticmethod', 'str', 'sum', 'super', 'tuple', 'type', 'vars', 'zip']\n"
     ]
    }
   ],
   "source": [
    "print(dir(__builtins__))"
   ]
  },
  {
   "cell_type": "markdown",
   "metadata": {},
   "source": [
    "### Handling Exceptions"
   ]
  },
  {
   "cell_type": "markdown",
   "metadata": {},
   "source": [
    "#### *try* :\n",
    "\n",
    "    #risky code\n",
    "    \n",
    "#### *except <Exception name>*:\n",
    "\n",
    "    #code to handle error\n",
    "    \n",
    "#### *else*:\n",
    "   \n",
    "    #executed if everything goes fine\n",
    "    \n",
    "#### *finally*:\n",
    "   \n",
    "    #gets executed in either case.\n"
   ]
  },
  {
   "cell_type": "code",
   "execution_count": 60,
   "metadata": {},
   "outputs": [
    {
     "name": "stdin",
     "output_type": "stream",
     "text": [
      "Enter a number -  abcd\n"
     ]
    },
    {
     "name": "stdout",
     "output_type": "stream",
     "text": [
      "invalid literal for int() with base 10: 'abcd'\n",
      "Finally block executed\n"
     ]
    }
   ],
   "source": [
    "try :\n",
    "    num = int(input(\"Enter a number - \"))\n",
    "    divide = 10 / num\n",
    "    print(\"Division result - \", divide)\n",
    "except ZeroDivisionError as e :\n",
    "    print(e)\n",
    "except Exception as e :\n",
    "    print(e)\n",
    "else:\n",
    "    print(\"Else block executed\")\n",
    "finally :\n",
    "    print(\"Finally block executed\")"
   ]
  },
  {
   "cell_type": "markdown",
   "metadata": {},
   "source": [
    "### Rasie an Exception"
   ]
  },
  {
   "cell_type": "markdown",
   "metadata": {},
   "source": [
    "###### WAP to define divide function raising exception if denominator is 0 "
   ]
  },
  {
   "cell_type": "code",
   "execution_count": 61,
   "metadata": {},
   "outputs": [],
   "source": [
    "def divide(n, d):\n",
    "    if d == 0 :\n",
    "        raise ZeroDivisionError(\"Denominator cannot be 0\")\n",
    "    return n/d"
   ]
  },
  {
   "cell_type": "code",
   "execution_count": 63,
   "metadata": {},
   "outputs": [
    {
     "ename": "ZeroDivisionError",
     "evalue": "Denominator cannot be 0",
     "output_type": "error",
     "traceback": [
      "\u001b[31m---------------------------------------------------------------------------\u001b[39m",
      "\u001b[31mZeroDivisionError\u001b[39m                         Traceback (most recent call last)",
      "\u001b[36mCell\u001b[39m\u001b[36m \u001b[39m\u001b[32mIn[63]\u001b[39m\u001b[32m, line 1\u001b[39m\n\u001b[32m----> \u001b[39m\u001b[32m1\u001b[39m \u001b[43mdivide\u001b[49m\u001b[43m(\u001b[49m\u001b[32;43m10\u001b[39;49m\u001b[43m,\u001b[49m\u001b[43m \u001b[49m\u001b[32;43m0\u001b[39;49m\u001b[43m)\u001b[49m\n",
      "\u001b[36mCell\u001b[39m\u001b[36m \u001b[39m\u001b[32mIn[61]\u001b[39m\u001b[32m, line 3\u001b[39m, in \u001b[36mdivide\u001b[39m\u001b[34m(n, d)\u001b[39m\n\u001b[32m      1\u001b[39m \u001b[38;5;28;01mdef\u001b[39;00m\u001b[38;5;250m \u001b[39m\u001b[34mdivide\u001b[39m(n, d):\n\u001b[32m      2\u001b[39m     \u001b[38;5;28;01mif\u001b[39;00m d == \u001b[32m0\u001b[39m :\n\u001b[32m----> \u001b[39m\u001b[32m3\u001b[39m         \u001b[38;5;28;01mraise\u001b[39;00m \u001b[38;5;167;01mZeroDivisionError\u001b[39;00m(\u001b[33m\"\u001b[39m\u001b[33mDenominator cannot be 0\u001b[39m\u001b[33m\"\u001b[39m)\n\u001b[32m      4\u001b[39m     \u001b[38;5;28;01mreturn\u001b[39;00m n/d\n",
      "\u001b[31mZeroDivisionError\u001b[39m: Denominator cannot be 0"
     ]
    }
   ],
   "source": [
    "divide(10, 0)"
   ]
  },
  {
   "cell_type": "markdown",
   "metadata": {},
   "source": [
    "###### Ex. WAP to validate input to be an integer between 1-9."
   ]
  },
  {
   "cell_type": "code",
   "execution_count": 64,
   "metadata": {},
   "outputs": [],
   "source": [
    "def validate_input() :\n",
    "    try :\n",
    "        num = int(input(\"Enter a number between 1-9. - \"))\n",
    "        if 1 <= num <= 9 :\n",
    "            return num\n",
    "        else:\n",
    "            raise Exception(\"Number must be between 1-9.\")\n",
    "    except Exception as e :\n",
    "        print(e)\n",
    "        return validate_input()"
   ]
  },
  {
   "cell_type": "code",
   "execution_count": 66,
   "metadata": {},
   "outputs": [
    {
     "name": "stdin",
     "output_type": "stream",
     "text": [
      "Enter a number between 1-9. -  10\n"
     ]
    },
    {
     "name": "stdout",
     "output_type": "stream",
     "text": [
      "Number must be between 1-9.\n"
     ]
    },
    {
     "name": "stdin",
     "output_type": "stream",
     "text": [
      "Enter a number between 1-9. -  abcd\n"
     ]
    },
    {
     "name": "stdout",
     "output_type": "stream",
     "text": [
      "invalid literal for int() with base 10: 'abcd'\n"
     ]
    },
    {
     "name": "stdin",
     "output_type": "stream",
     "text": [
      "Enter a number between 1-9. -  10\n"
     ]
    },
    {
     "name": "stdout",
     "output_type": "stream",
     "text": [
      "Number must be between 1-9.\n"
     ]
    },
    {
     "name": "stdin",
     "output_type": "stream",
     "text": [
      "Enter a number between 1-9. -  4\n"
     ]
    },
    {
     "data": {
      "text/plain": [
       "4"
      ]
     },
     "execution_count": 66,
     "metadata": {},
     "output_type": "execute_result"
    }
   ],
   "source": [
    "validate_input()"
   ]
  },
  {
   "cell_type": "markdown",
   "metadata": {},
   "source": [
    "<hr><hr>"
   ]
  },
  {
   "cell_type": "markdown",
   "metadata": {},
   "source": [
    "## Regular Expressions"
   ]
  },
  {
   "cell_type": "markdown",
   "metadata": {
    "jp-MarkdownHeadingCollapsed": true
   },
   "source": [
    "Regular expressions are used for matching text patterns for searching, replacing and parsing text \n",
    "with complex patterns of characters.\n",
    "\n",
    "Regexes are used for four main purposes - \n",
    "- To validate if a text meets some criteria; Ex. a zip code with 6 numeric digits \n",
    "- Search substrings. Ex. finding texts that ends with abc and does not contain any digits \n",
    "- Search & replace everywhere the match is found within a string; Ex. search \"fixed deposit\" and replace with \"term deposit\" \n",
    "- Split a string at each place the regex matches; Ex. split everywhere a @ is encountered"
   ]
  },
  {
   "cell_type": "markdown",
   "metadata": {},
   "source": [
    "#### Raw python string\n",
    "\n",
    "It is recommended that you use raw strings instead of regular Python strings. Raw strings begin with a prefix, r, placed before the quotes"
   ]
  },
  {
   "cell_type": "code",
   "execution_count": 68,
   "metadata": {},
   "outputs": [
    {
     "name": "stdout",
     "output_type": "stream",
     "text": [
      "ABC \n",
      " PQR\n"
     ]
    }
   ],
   "source": [
    "print(\"ABC \\n PQR\")"
   ]
  },
  {
   "cell_type": "code",
   "execution_count": 69,
   "metadata": {},
   "outputs": [
    {
     "name": "stdout",
     "output_type": "stream",
     "text": [
      "ABC \\n PQR\n"
     ]
    }
   ],
   "source": [
    "print(r\"ABC \\n PQR\")"
   ]
  },
  {
   "cell_type": "code",
   "execution_count": null,
   "metadata": {},
   "outputs": [],
   "source": [
    "open(r\"C:\\users\\newfolder\\file.txt\")"
   ]
  },
  {
   "cell_type": "markdown",
   "metadata": {},
   "source": [
    "#### Importing re module"
   ]
  },
  {
   "cell_type": "code",
   "execution_count": 67,
   "metadata": {},
   "outputs": [],
   "source": [
    "import re"
   ]
  },
  {
   "cell_type": "markdown",
   "metadata": {},
   "source": [
    "#### Functions in re Module\n",
    "The \"re\" module offers functionalities that allow us to match/search/replace a string \n",
    "\n",
    "- `re.match()` - The match only if it occurs at the beginning of the string \n",
    "- `re.search()` - First occurrence of the match if there is a match anywhere in the string  \n",
    "- `re.findall()` - Returns a list containing all matches in the string \n",
    "- `re.split()` - Returns a list where the string has been split at each match \n",
    "- `re.sub()` - Replaces one or many matches with a string \n",
    "- `re.finditer()` - Returns a collectable iterator yielding all non-overlapping matches "
   ]
  },
  {
   "cell_type": "code",
   "execution_count": 70,
   "metadata": {},
   "outputs": [
    {
     "name": "stdout",
     "output_type": "stream",
     "text": [
      "Help on function match in module re:\n",
      "\n",
      "match(pattern, string, flags=0)\n",
      "    Try to apply the pattern at the start of the string, returning\n",
      "    a Match object, or None if no match was found.\n",
      "\n"
     ]
    }
   ],
   "source": [
    "help(re.match)"
   ]
  },
  {
   "cell_type": "code",
   "execution_count": 75,
   "metadata": {},
   "outputs": [
    {
     "data": {
      "text/plain": [
       "<re.Match object; span=(0, 5), match='India'>"
      ]
     },
     "execution_count": 75,
     "metadata": {},
     "output_type": "execute_result"
    }
   ],
   "source": [
    "text = \"India celebrates its independence day on 15th August\"\n",
    "re.match(r\"[A-z]+\\b\", text)  # returns a match object"
   ]
  },
  {
   "cell_type": "code",
   "execution_count": 77,
   "metadata": {},
   "outputs": [
    {
     "data": {
      "text/plain": [
       "'India'"
      ]
     },
     "execution_count": 77,
     "metadata": {},
     "output_type": "execute_result"
    }
   ],
   "source": [
    "match_obj = re.match(r\"[A-z]+\\b\", text)\n",
    "match_obj.group()"
   ]
  },
  {
   "cell_type": "code",
   "execution_count": 78,
   "metadata": {},
   "outputs": [
    {
     "data": {
      "text/plain": [
       "<re.Match object; span=(41, 43), match='15'>"
      ]
     },
     "execution_count": 78,
     "metadata": {},
     "output_type": "execute_result"
    }
   ],
   "source": [
    "text = \"India celebrates its independence day on 15th August\"\n",
    "re.search(r\"[0-9]+\", text)  # returns a match object"
   ]
  },
  {
   "cell_type": "markdown",
   "metadata": {},
   "source": [
    "<table style=\"width: 80%; border-collapse: collapse; border: 1px solid #ccc; margin-left: 0;\">\n",
    "  <thead>\n",
    "    <tr style=\"text-align: center; background-color: #050A30; color: white;\">\n",
    "      <th style=\"width: 15%; border: 1px solid #000; text-align: center;\">Category</th>\n",
    "      <th style=\"width: 15%; border: 1px solid #000; text-align: center;\">Regex</th>\n",
    "      <th style=\"width: 60%; border: 1px solid #000; text-align: left;\">Description</th>\n",
    "    </tr>\n",
    "  </thead>\n",
    "  <tbody>\n",
    "    <tr>\n",
    "      <td style=\"border: 1px solid #000;\">Basic Characters</td>\n",
    "      <td style=\"border: 1px solid #000; text-align: center;\">^</td>\n",
    "      <td style=\"border: 1px solid #000; text-align: left;\">Matches expression to its right at start of string; matches before each line break</td>\n",
    "    </tr>\n",
    "    <tr>\n",
    "      <td style=\"border: 1px solid #000;\"></td>\n",
    "      <td style=\"border: 1px solid #000; text-align: center;\">$</td>\n",
    "      <td style=\"border: 1px solid #000; text-align: left;\">Matches expression to its left at end of string; matches before each line break</td>\n",
    "    </tr>\n",
    "    <tr>\n",
    "      <td style=\"border: 1px solid #000;\"></td>\n",
    "      <td style=\"border: 1px solid #000; text-align: center;\">p|q</td>\n",
    "      <td style=\"border: 1px solid #000; text-align: left;\">Matches expression p or q</td>\n",
    "    </tr>\n",
    "    <tr>\n",
    "      <td style=\"border: 1px solid #000;\">Character Classes</td>\n",
    "      <td style=\"border: 1px solid #000; text-align: center;\">\\w</td>\n",
    "      <td style=\"border: 1px solid #000; text-align: left;\">Matches alphanumeric characters: a-z, A-Z, 0-9, and _</td>\n",
    "    </tr>\n",
    "    <tr>\n",
    "      <td style=\"border: 1px solid #000;\"></td>\n",
    "      <td style=\"border: 1px solid #000; text-align: center;\">\\W</td>\n",
    "      <td style=\"border: 1px solid #000; text-align: left;\">Matches non-alphanumeric characters; excludes a-z, A-Z, 0-9, and _</td>\n",
    "    </tr>\n",
    "    <tr>\n",
    "      <td style=\"border: 1px solid #000;\"></td>\n",
    "      <td style=\"border: 1px solid #000; text-align: center;\">\\d</td>\n",
    "      <td style=\"border: 1px solid #000; text-align: left;\">Matches digits: 0-9</td>\n",
    "    </tr>\n",
    "    <tr>\n",
    "      <td style=\"border: 1px solid #000;\"></td>\n",
    "      <td style=\"border: 1px solid #000; text-align: center;\">\\D</td>\n",
    "      <td style=\"border: 1px solid #000; text-align: left;\">Matches non-digit characters</td>\n",
    "    </tr>\n",
    "    <tr>\n",
    "      <td style=\"border: 1px solid #000;\"></td>\n",
    "      <td style=\"border: 1px solid #000; text-align: center;\">\\s</td>\n",
    "      <td style=\"border: 1px solid #000; text-align: left;\">Matches whitespace characters (space, tab, newline, carriage return)</td>\n",
    "    </tr>\n",
    "    <tr>\n",
    "      <td style=\"border: 1px solid #000;\"></td>\n",
    "      <td style=\"border: 1px solid #000; text-align: center;\">\\S</td>\n",
    "      <td style=\"border: 1px solid #000; text-align: left;\">Matches non-whitespace characters</td>\n",
    "    </tr>\n",
    "    <tr>\n",
    "      <td style=\"border: 1px solid #000;\"></td>\n",
    "      <td style=\"border: 1px solid #000; text-align: center;\">\\A</td>\n",
    "      <td style=\"border: 1px solid #000; text-align: left;\">Matches expression at absolute start of string</td>\n",
    "    </tr>\n",
    "    <tr>\n",
    "      <td style=\"border: 1px solid #000;\"></td>\n",
    "      <td style=\"border: 1px solid #000; text-align: center;\">\\t</td>\n",
    "      <td style=\"border: 1px solid #000; text-align: left;\">Matches tab character</td>\n",
    "    </tr>\n",
    "    <tr>\n",
    "      <td style=\"border: 1px solid #000;\"></td>\n",
    "      <td style=\"border: 1px solid #000; text-align: center;\">\\Z</td>\n",
    "      <td style=\"border: 1px solid #000; text-align: left;\">Matches expression at absolute end of string</td>\n",
    "    </tr>\n",
    "    <tr>\n",
    "      <td style=\"border: 1px solid #000;\"></td>\n",
    "      <td style=\"border: 1px solid #000; text-align: center;\">\\n</td>\n",
    "      <td style=\"border: 1px solid #000; text-align: left;\">Matches newline character</td>\n",
    "    </tr>\n",
    "    <tr>\n",
    "      <td style=\"border: 1px solid #000;\"></td>\n",
    "      <td style=\"border: 1px solid #000; text-align: center;\">\\b</td>\n",
    "      <td style=\"border: 1px solid #000; text-align: left;\">Matches word boundary at start/end of a word</td>\n",
    "    </tr>\n",
    "    <tr>\n",
    "      <td style=\"border: 1px solid #000;\"></td>\n",
    "      <td style=\"border: 1px solid #000; text-align: center;\">\\B</td>\n",
    "      <td style=\"border: 1px solid #000; text-align: left;\">Matches non-word boundary</td>\n",
    "    </tr>\n",
    "    <tr>\n",
    "      <td style=\"border: 1px solid #000;\">Groups and Sets</td>\n",
    "      <td style=\"border: 1px solid #000; text-align: center;\">[abc]</td>\n",
    "      <td style=\"border: 1px solid #000; text-align: left;\">Matches either a, b, or c (not the sequence \"abc\")</td>\n",
    "    </tr>\n",
    "    <tr>\n",
    "      <td style=\"border: 1px solid #000;\"></td>\n",
    "      <td style=\"border: 1px solid #000; text-align: center;\">[a\\-z]</td>\n",
    "      <td style=\"border: 1px solid #000; text-align: left;\">Matches a, -, or z (dash escaped literally)</td>\n",
    "    </tr>\n",
    "    <tr>\n",
    "      <td style=\"border: 1px solid #000;\"></td>\n",
    "      <td style=\"border: 1px solid #000; text-align: center;\">[^abc]</td>\n",
    "      <td style=\"border: 1px solid #000; text-align: left;\">Matches any character NOT a, b, or c</td>\n",
    "    </tr>\n",
    "    <tr>\n",
    "      <td style=\"border: 1px solid #000;\"></td>\n",
    "      <td style=\"border: 1px solid #000; text-align: center;\">()</td>\n",
    "      <td style=\"border: 1px solid #000; text-align: left;\">Groups the expression inside parentheses</td>\n",
    "    </tr>\n",
    "    <tr>\n",
    "      <td style=\"border: 1px solid #000;\"></td>\n",
    "      <td style=\"border: 1px solid #000; text-align: center;\">[a-z]</td>\n",
    "      <td style=\"border: 1px solid #000; text-align: left;\">Matches any alphabet character from a to z</td>\n",
    "    </tr>\n",
    "    <tr>\n",
    "      <td style=\"border: 1px solid #000;\"></td>\n",
    "      <td style=\"border: 1px solid #000; text-align: center;\">[a-z0-9]</td>\n",
    "      <td style=\"border: 1px solid #000; text-align: left;\">Matches characters from a to z and digits 0 to 9</td>\n",
    "    </tr>\n",
    "    <tr>\n",
    "      <td style=\"border: 1px solid #000;\"></td>\n",
    "      <td style=\"border: 1px solid #000; text-align: center;\">[(+*)]</td>\n",
    "      <td style=\"border: 1px solid #000; text-align: left;\">Special characters become literal inside a set: matches (, +, *, and )</td>\n",
    "    </tr>\n",
    "    <tr>\n",
    "      <td style=\"border: 1px solid #000;\"></td>\n",
    "      <td style=\"border: 1px solid #000; text-align: center;\">(?P=name)</td>\n",
    "      <td style=\"border: 1px solid #000; text-align: left;\">Matches the expression matched earlier by named group \"name\"</td>\n",
    "    </tr>\n",
    "    <tr>\n",
    "      <td style=\"border: 1px solid #000;\">Quantifiers</td>\n",
    "      <td style=\"border: 1px solid #000; text-align: center;\">.</td>\n",
    "      <td style=\"border: 1px solid #000; text-align: left;\">Matches any character except newline</td>\n",
    "    </tr>\n",
    "    <tr>\n",
    "      <td style=\"border: 1px solid #000;\"></td>\n",
    "      <td style=\"border: 1px solid #000; text-align: center;\">?</td>\n",
    "      <td style=\"border: 1px solid #000; text-align: left;\">Matches preceding expression 0 or 1 times</td>\n",
    "    </tr>\n",
    "    <tr>\n",
    "      <td style=\"border: 1px solid #000;\"></td>\n",
    "      <td style=\"border: 1px solid #000; text-align: center;\">{n}</td>\n",
    "      <td style=\"border: 1px solid #000; text-align: left;\">Matches preceding expression exactly n times</td>\n",
    "    </tr>\n",
    "    <tr>\n",
    "      <td style=\"border: 1px solid #000;\"></td>\n",
    "      <td style=\"border: 1px solid #000; text-align: center;\">{,m}</td>\n",
    "      <td style=\"border: 1px solid #000; text-align: left;\">Matches preceding expression up to m times</td>\n",
    "    </tr>\n",
    "    <tr>\n",
    "      <td style=\"border: 1px solid #000;\"></td>\n",
    "      <td style=\"border: 1px solid #000; text-align: center;\">*</td>\n",
    "      <td style=\"border: 1px solid #000; text-align: left;\">Matches preceding expression 0 or more times</td>\n",
    "    </tr>\n",
    "    <tr>\n",
    "      <td style=\"border: 1px solid #000;\"></td>\n",
    "      <td style=\"border: 1px solid #000; text-align: center;\">+</td>\n",
    "      <td style=\"border: 1px solid #000; text-align: left;\">Matches preceding expression 1 or more times</td>\n",
    "    </tr>\n",
    "    <tr>\n",
    "      <td style=\"border: 1px solid #000;\"></td>\n",
    "      <td style=\"border: 1px solid #000; text-align: center;\">{n,m}</td>\n",
    "      <td style=\"border: 1px solid #000; text-align: left;\">Matches preceding expression between n and m times</td>\n",
    "    </tr>\n",
    "    <tr>\n",
    "      <td style=\"border: 1px solid #000;\"></td>\n",
    "      <td style=\"border: 1px solid #000; text-align: center;\">{n, }</td>\n",
    "      <td style=\"border: 1px solid #000; text-align: left;\">Matches preceding expression n or more times</td>\n",
    "    </tr>\n",
    "  </tbody>\n",
    "</table>\n"
   ]
  },
  {
   "cell_type": "markdown",
   "metadata": {},
   "source": [
    "#### Examples - "
   ]
  },
  {
   "cell_type": "markdown",
   "metadata": {},
   "source": [
    "###### Ex. Extract all digits from the text"
   ]
  },
  {
   "cell_type": "code",
   "execution_count": 79,
   "metadata": {},
   "outputs": [
    {
     "data": {
      "text/plain": [
       "['4', '5', '6', '5', '6', '4']"
      ]
     },
     "execution_count": 79,
     "metadata": {},
     "output_type": "execute_result"
    }
   ],
   "source": [
    "text = \"The stock price was 456 yesterday. Today, it rose to 564\"\n",
    "re.findall(r\"\\d\", text)"
   ]
  },
  {
   "cell_type": "markdown",
   "metadata": {},
   "source": [
    "###### Ex. Extract all numbers from the text"
   ]
  },
  {
   "cell_type": "code",
   "execution_count": 80,
   "metadata": {},
   "outputs": [
    {
     "data": {
      "text/plain": [
       "['456', '564']"
      ]
     },
     "execution_count": 80,
     "metadata": {},
     "output_type": "execute_result"
    }
   ],
   "source": [
    "text = \"The stock price was 456 yesterday. Today, it rose to 564\"\n",
    "re.findall(r\"\\d+\", text)"
   ]
  },
  {
   "cell_type": "markdown",
   "metadata": {},
   "source": [
    "###### Ex. Retrive the dividend from the text"
   ]
  },
  {
   "cell_type": "code",
   "execution_count": 82,
   "metadata": {},
   "outputs": [
    {
     "data": {
      "text/plain": [
       "['17%']"
      ]
     },
     "execution_count": 82,
     "metadata": {},
     "output_type": "execute_result"
    }
   ],
   "source": [
    "text = \"On 25th March, the company declared 17% dividend.\"\n",
    "re.findall(r\"\\d+%\", text)"
   ]
  },
  {
   "cell_type": "markdown",
   "metadata": {},
   "source": [
    "###### Ex. Retrive all stock names"
   ]
  },
  {
   "cell_type": "code",
   "execution_count": 92,
   "metadata": {},
   "outputs": [
    {
     "data": {
      "text/plain": [
       "['AAPL', 'GOOGL', 'BMW']"
      ]
     },
     "execution_count": 92,
     "metadata": {},
     "output_type": "execute_result"
    }
   ],
   "source": [
    "text = \"Stocks like AAPL GOOGL BMW are the preferred ones\"\n",
    "re.findall(r\"[A-Z]+\\b\", text)"
   ]
  },
  {
   "cell_type": "markdown",
   "metadata": {},
   "source": [
    "###### Ex. Retrieve the phone numbers without country code"
   ]
  },
  {
   "cell_type": "code",
   "execution_count": 93,
   "metadata": {},
   "outputs": [
    {
     "data": {
      "text/plain": [
       "['65', '11223344', '65', '91919191', '44332211']"
      ]
     },
     "execution_count": 93,
     "metadata": {},
     "output_type": "execute_result"
    }
   ],
   "source": [
    "text = \"My number is 65-11223344 and 65-91919191. My other number is 44332211\"\n",
    "re.findall(r\"\\d+\", text)"
   ]
  },
  {
   "cell_type": "code",
   "execution_count": 94,
   "metadata": {},
   "outputs": [
    {
     "data": {
      "text/plain": [
       "['11223344', '91919191', '44332211']"
      ]
     },
     "execution_count": 94,
     "metadata": {},
     "output_type": "execute_result"
    }
   ],
   "source": [
    "text = \"My number is 65-11223344 and 65-91919191. My other number is 44332211\"\n",
    "re.findall(r\"\\d{8}\", text)"
   ]
  },
  {
   "cell_type": "code",
   "execution_count": 97,
   "metadata": {},
   "outputs": [
    {
     "data": {
      "text/plain": [
       "['11223344', '91919191', '44332211']"
      ]
     },
     "execution_count": 97,
     "metadata": {},
     "output_type": "execute_result"
    }
   ],
   "source": [
    "text = \"My number is 65-11223344 and 65-91919191. My other number is 44332211\"\n",
    "re.findall(r\"\\d{3,}\", text)"
   ]
  },
  {
   "cell_type": "markdown",
   "metadata": {},
   "source": [
    "###### Ex. Replace values as given in the dict"
   ]
  },
  {
   "cell_type": "code",
   "execution_count": 98,
   "metadata": {},
   "outputs": [
    {
     "data": {
      "text/plain": [
       "'Stocks like * * * are the preferred ones'"
      ]
     },
     "execution_count": 98,
     "metadata": {},
     "output_type": "execute_result"
    }
   ],
   "source": [
    "text = \"Stocks like AAPL GOOGL BMW are the preferred ones\"\n",
    "repl_dict = {\"AAPL\": \"APPLE\", \"GOOGL\": \"GOOGLE\"}\n",
    "re.sub(r\"[A-Z]+\\b\", \"*\", text)"
   ]
  },
  {
   "cell_type": "code",
   "execution_count": 110,
   "metadata": {},
   "outputs": [],
   "source": [
    "def func_obj(mth_ob) :\n",
    "    text_e = mth_ob.group()\n",
    "    print(text_e)\n",
    "    replacement_str = repl_dict.get(text_e, text_e)\n",
    "    return replacement_str"
   ]
  },
  {
   "cell_type": "code",
   "execution_count": 111,
   "metadata": {},
   "outputs": [
    {
     "name": "stdout",
     "output_type": "stream",
     "text": [
      "AAPL\n",
      "GOOGL\n",
      "BMW\n"
     ]
    },
    {
     "data": {
      "text/plain": [
       "'APPLE GOOGLE BMW'"
      ]
     },
     "execution_count": 111,
     "metadata": {},
     "output_type": "execute_result"
    }
   ],
   "source": [
    "repl_dict = {\"AAPL\": \"APPLE\", \"GOOGL\": \"GOOGLE\"}\n",
    "re.sub(r\"[A-Z]+\\b\", func_obj, \"AAPL GOOGL BMW\")"
   ]
  },
  {
   "cell_type": "code",
   "execution_count": 113,
   "metadata": {},
   "outputs": [
    {
     "data": {
      "text/plain": [
       "'Stocks like APPLE GOOGLE BMW are the preferred ones'"
      ]
     },
     "execution_count": 113,
     "metadata": {},
     "output_type": "execute_result"
    }
   ],
   "source": [
    "repl_dict = {\"AAPL\": \"APPLE\", \"GOOGL\": \"GOOGLE\"}\n",
    "func_obj = lambda mth_ob : repl_dict.get(mth_ob.group(), mth_ob.group())\n",
    "re.sub(r\"[A-Z]+\\b\", func_obj, text)"
   ]
  },
  {
   "cell_type": "code",
   "execution_count": 99,
   "metadata": {},
   "outputs": [
    {
     "name": "stdout",
     "output_type": "stream",
     "text": [
      "Help on function sub in module re:\n",
      "\n",
      "sub(pattern, repl, string, count=0, flags=0)\n",
      "    Return the string obtained by replacing the leftmost\n",
      "    non-overlapping occurrences of the pattern in string by the\n",
      "    replacement repl.  repl can be either a string or a callable;\n",
      "    if a string, backslash escapes in it are processed.  If it is\n",
      "    a callable, it's passed the Match object and must return\n",
      "    a replacement string to be used.\n",
      "\n"
     ]
    }
   ],
   "source": [
    "help(re.sub)"
   ]
  },
  {
   "cell_type": "markdown",
   "metadata": {},
   "source": [
    "<hr><hr>"
   ]
  },
  {
   "cell_type": "markdown",
   "metadata": {},
   "source": [
    "## Examples on customer.txt"
   ]
  },
  {
   "cell_type": "markdown",
   "metadata": {},
   "source": [
    "###### Ex. Set path to file location"
   ]
  },
  {
   "cell_type": "code",
   "execution_count": 115,
   "metadata": {},
   "outputs": [
    {
     "data": {
      "text/plain": [
       "'C:\\\\Users\\\\vaide\\\\OneDrive - knowledgecorner.in\\\\Delivery_Content\\\\Cummins\\\\Cummins_Material\\\\Classwork'"
      ]
     },
     "execution_count": 115,
     "metadata": {},
     "output_type": "execute_result"
    }
   ],
   "source": [
    "import os\n",
    "os.getcwd()"
   ]
  },
  {
   "cell_type": "code",
   "execution_count": 116,
   "metadata": {},
   "outputs": [],
   "source": [
    "os.chdir(r\"C:\\Users\\vaide\\OneDrive - knowledgecorner.in\\Delivery_Content\\Cummins\\Cummins_Material\\Classwork\\dataset\")"
   ]
  },
  {
   "cell_type": "code",
   "execution_count": 117,
   "metadata": {},
   "outputs": [
    {
     "data": {
      "text/plain": [
       "'C:\\\\Users\\\\vaide\\\\OneDrive - knowledgecorner.in\\\\Delivery_Content\\\\Cummins\\\\Cummins_Material\\\\Classwork\\\\dataset'"
      ]
     },
     "execution_count": 117,
     "metadata": {},
     "output_type": "execute_result"
    }
   ],
   "source": [
    "os.getcwd()"
   ]
  },
  {
   "cell_type": "markdown",
   "metadata": {},
   "source": [
    "###### Ex. Read data from customers.txt"
   ]
  },
  {
   "cell_type": "code",
   "execution_count": 122,
   "metadata": {},
   "outputs": [],
   "source": [
    "import requests\n",
    "response = requests.get(r\"https://raw.githubusercontent.com/knowledge-corner/Cummins_Material/refs/heads/main/Classwork/dataset/customers.txt\")"
   ]
  },
  {
   "cell_type": "code",
   "execution_count": null,
   "metadata": {},
   "outputs": [],
   "source": [
    "response.text.split(\"\\n\")"
   ]
  },
  {
   "cell_type": "code",
   "execution_count": 118,
   "metadata": {},
   "outputs": [
    {
     "data": {
      "text/plain": [
       "<_io.TextIOWrapper name='customers.txt' mode='r' encoding='cp1252'>"
      ]
     },
     "execution_count": 118,
     "metadata": {},
     "output_type": "execute_result"
    }
   ],
   "source": [
    "file = open(r\"customers.txt\")\n",
    "file"
   ]
  },
  {
   "cell_type": "code",
   "execution_count": 119,
   "metadata": {},
   "outputs": [
    {
     "data": {
      "text/plain": [
       "['4000001,Kristina,Chung,55,Pilot\\n',\n",
       " '4000002,Paige,Chen,74,Teacher\\n',\n",
       " '4000003,Sherri,Melton,34,Firefighter\\n',\n",
       " '4000004,Gretchen,Hill,66,Computer hardware engineer\\n',\n",
       " '4000005,Karen,Puckett,74,Lawyer\\n',\n",
       " '4000006,Patrick,Song,42,Veterinarian\\n',\n",
       " '4000007,Elsie,Hamilton,43,Pilot\\n',\n",
       " '4000008,Hazel,Bender,63,Carpenter\\n',\n",
       " '4000009,Malcolm,Wagner,39,Artist\\n',\n",
       " '4000010,Dolores,McLaughlin,60,Writer\\n',\n",
       " '4000011,Francis,McNamara,47,Therapist\\n',\n",
       " '4000012,Sandy,Raynor,26,Writer\\n',\n",
       " '4000013,Marion,Moon,41,Carpenter\\n',\n",
       " '4000014,Beth,Woodard,65,\\n',\n",
       " '4000015,Julia,Desai,49,Musician\\n',\n",
       " '4000016,Jerome,Wallace,52,Pharmacist\\n',\n",
       " '4000017,Neal,Lawrence,72,Computer support specialist\\n',\n",
       " '4000018,Jean,Griffin,45,Childcare worker\\n',\n",
       " '4000019,Kristine,Dougherty,63,Financial analyst\\n',\n",
       " '4000020,Crystal,Powers,67,Engineering technician\\n',\n",
       " '4000021,Alex,May,39,Environmental scientist\\n',\n",
       " '4000022,Eric,Steele,66,Doctor\\n',\n",
       " '4000023,Wesley,Teague,42,Carpenter\\n',\n",
       " '4000024,Franklin,Vick,28,Dancer\\n',\n",
       " '4000025,Claire,Gallagher,42,Musician\\n',\n",
       " '4000026,Marian,Solomon,27,Lawyer\\n',\n",
       " '4000027,Marcia,Walsh,64,Accountant\\n',\n",
       " '4000028,Dwight,Monroe,45,Economist\\n',\n",
       " '4000029,Wayne,Connolly,40,Real estate agent\\n',\n",
       " '4000030,Stephanie,Hawkins,50,Human resources assistant\\n',\n",
       " '4000031,Neal,Middleton,59,Civil engineer\\n',\n",
       " '4000032,Gretchen,Goldstein,24,Engineering technician\\n',\n",
       " '4000033,Tim,Watts,58,Lawyer\\n',\n",
       " '4000034,Jerome,Johnston,38,Childcare worker\\n',\n",
       " '4000035,Shelley,Weeks,25,Reporter\\n',\n",
       " '4000036,Priscilla,Wilkerson,35,Agricultural and food scientist\\n',\n",
       " '4000037,Elsie,Barton,27,Childcare worker\\n',\n",
       " '4000038,Beth,Walton,73,Firefighter\\n',\n",
       " '4000039,Erica,Hall,33,Police officer\\n',\n",
       " '4000040,Douglas,Ross,27,Secretary\\n',\n",
       " '4000041,Donald,Chung,65,Computer hardware engineer\\n',\n",
       " '4000042,Katherine,Bender,44,Physicist\\n',\n",
       " '4000043,Paul,Woods,63,Doctor\\n',\n",
       " '4000044,Patricia,Mangum,67,Civil engineer\\n',\n",
       " '4000045,Lois,Joseph,44,Musician\\n',\n",
       " '4000046,Louis,Rosenthal,31,\\n',\n",
       " '4000047,Christina,Bowden,47,Computer software engineer\\n',\n",
       " '4000048,Darlene,Barton,54,Doctor\\n',\n",
       " '4000049,Harvey,Underwood,70,Engineering technician\\n',\n",
       " '4000050,William,Jones,53,Photographer\\n',\n",
       " '4000051,Frederick,Baker,52,Writer\\n',\n",
       " '4000052,Shirley,Merritt,21,Reporter\\n',\n",
       " '4000053,Jason,Cross,56,Civil engineer\\n',\n",
       " '4000054,Judith,Cooper,22,Economist\\n',\n",
       " '4000055,Gretchen,Holmes,39,Childcare worker\\n',\n",
       " '4000056,Don,Sharpe,53,Social worker\\n',\n",
       " '4000057,Glenda,Morgan,37,Real estate agent\\n',\n",
       " '4000058,Scott,Hoyle,40,Doctor\\n',\n",
       " '4000059,Pat,Allen,45,Secretary\\n',\n",
       " '4000060,Michelle,Rich,44,Artist\\n',\n",
       " '4000061,Jessica,Rich,37,Actor\\n',\n",
       " '4000062,Evan,Grant,66,Agricultural and food scientist\\n',\n",
       " '4000063,Melinda,Proctor,27,Teacher\\n',\n",
       " '4000064,Calvin,Diaz,65,Athlete\\n',\n",
       " '4000065,Eugene,Graham,52,Police officer\\n',\n",
       " '4000066,Vickie,Watkins,55,Computer support specialist\\n',\n",
       " '4000067,Luis,Hinton,69,Childcare worker\\n',\n",
       " '4000068,Allan,Marsh,67,Athlete\\n',\n",
       " '4000069,Melanie,Hewitt,47,Real estate agent\\n',\n",
       " '4000070,Marianne,Branch,53,Judge\\n',\n",
       " '4000071,Natalie,Walton,24,Recreation and fitness worker\\n',\n",
       " \"4000072,Caroline,O'Brien,44,Computer support specialist\\n\",\n",
       " '4000073,Arlene,Case,62,Musician\\n',\n",
       " '4000074,Kyle,Watts,39,Engineering technician\\n',\n",
       " '4000075,Calvin,Christensen,54,Architect\\n',\n",
       " '4000076,Gary,Parks,65,Pharmacist\\n',\n",
       " '4000077,Samantha,Hardin,27,Doctor\\n',\n",
       " '4000078,Sara,Lucas,44,Loan officer\\n',\n",
       " '4000079,Stacy,Eason,31,Musician\\n',\n",
       " '4000080,Gladys,Davidson,52,Recreation and fitness worker\\n',\n",
       " '4000081,Mike,Whitehead,26,Politician\\n',\n",
       " '4000082,Lynne,Rose,36,Loan officer\\n',\n",
       " '4000083,Faye,Sparks,61,Civil engineer\\n',\n",
       " '4000084,Diana,Moore,44,Computer support specialist\\n',\n",
       " '4000085,Leon,Pearson,24,Physicist\\n',\n",
       " '4000086,Ethel,Rodgers,30,Librarian\\n',\n",
       " '4000087,Steve,Graves,73,Nurse\\n',\n",
       " '4000088,Alison,Scarborough,66,Designer\\n',\n",
       " '4000089,Sherri,Sutton,75,Social worker\\n',\n",
       " '4000090,Patsy,Sinclair,48,Police officer\\n',\n",
       " '4000091,Kelly,Bowman,69,Childcare worker\\n',\n",
       " '4000092,Stacy,Olsen,25,Veterinarian\\n',\n",
       " '4000093,Curtis,Love,45,Secretary\\n',\n",
       " '4000094,Dana,McLean,61,Artist\\n',\n",
       " '4000095,Jennifer,Christian,54,Human resources assistant\\n',\n",
       " '4000096,Brett,Lamb,39,Engineering technician\\n',\n",
       " '4000097,Brandon,James,29,Musician\\n',\n",
       " '4000098,Keith,Chandler,25,Coach\\n',\n",
       " '4000099,Joann,Stout,32,Real estate agent\\n',\n",
       " '4000100,Ronnie,Cowan,71,Photographer\\n',\n",
       " '4000101,Scott,Golden,27,Teacher\\n',\n",
       " '4000102,Gene,Bowling,73,Recreation and fitness worker\\n',\n",
       " '4000103,Louise,Beasley,54,Loan officer\\n',\n",
       " '4000104,Geoffrey,Clapp,41,Photographer\\n',\n",
       " '4000105,Patricia,Abrams,51,Veterinarian\\n',\n",
       " '4000106,Jennifer,Tilley,35,Agricultural and food scientist\\n',\n",
       " '4000107,Mary,Morse,70,Automotive mechanic\\n',\n",
       " '4000108,Shawn,Boykin,34,Photographer\\n',\n",
       " '4000109,Vincent,Sumner,31,Lawyer\\n',\n",
       " '4000110,Kurt,Cassidy,32,Dancer\\n',\n",
       " '4000111,Danny,Davidson,70,Agricultural and food scientist\\n',\n",
       " '4000112,Charlene,Heath,26,Electrician\\n',\n",
       " '4000113,Alice,Blanchard,73,Economist\\n',\n",
       " '4000114,Joan,McAllister,73,Engineering technician\\n',\n",
       " '4000115,Betty,McKenzie,45,Computer support specialist\\n',\n",
       " '4000116,Danny,Byrne,51,Dancer\\n',\n",
       " '4000117,Peggy,Schroeder,61,Loan officer\\n',\n",
       " '4000118,Leslie,Griffin,37,Photographer\\n',\n",
       " '4000119,Marshall,Gross,42,Actor\\n',\n",
       " '4000120,Sara,Perkins,67,Actor\\n',\n",
       " '4000121,Martha,Robertson,37,Agricultural and food scientist\\n',\n",
       " '4000122,Jack,Palmer,52,Human resources assistant\\n',\n",
       " '4000123,Gayle,Brady,45,Firefighter\\n',\n",
       " '4000124,Benjamin,Rowe,64,Childcare worker\\n',\n",
       " '4000125,Roberta,Zhang,38,Statistician\\n',\n",
       " '4000126,Patricia,Hodge,59,Artist\\n',\n",
       " '4000127,Clifford,Li,63,Photographer\\n',\n",
       " '4000128,Joanne,Bowling,35,Musician\\n',\n",
       " '4000129,Martin,Justice,58,Electrician\\n',\n",
       " '4000130,Toni,Glass,46,Lawyer\\n',\n",
       " '4000131,Beth,Willis,62,Carpenter\\n',\n",
       " '4000132,Jessica,Hester,72,Civil engineer\\n',\n",
       " '4000133,Samantha,Floyd,72,Childcare worker\\n',\n",
       " '4000134,Jimmy,Graves,69,Nurse\\n',\n",
       " '4000135,Vincent,Fischer,33,Statistician\\n',\n",
       " '4000136,Dianne,Norman,68,Veterinarian\\n',\n",
       " '4000137,Rhonda,Chan,34,Pharmacist\\n',\n",
       " '4000138,Tamara,Hunt,25,Psychologist\\n',\n",
       " '4000139,Mary,Byrd,34,Environmental scientist\\n',\n",
       " '4000140,Sidney,Lane,54,Statistician\\n',\n",
       " '4000141,Jeff,Kaplan,70,Chemist\\n',\n",
       " '4000142,Sandra,Heller,51,Photographer\\n',\n",
       " '4000143,Katie,May,28,Recreation and fitness worker\\n',\n",
       " '4000144,Raymond,Jennings,63,Coach\\n',\n",
       " '4000145,Roger,Hanna,23,Musician\\n',\n",
       " '4000146,Natalie,Locklear,37,Politician\\n',\n",
       " '4000147,Kathy,Holloway,65,Pharmacist\\n',\n",
       " '4000148,Troy,Jones,74,Secretary\\n',\n",
       " '4000149,Neal,Glover,40,Real estate agent\\n',\n",
       " '4000150,Martin,Vick,31,Physicist\\n',\n",
       " \"4000151,Jack,O'Donnell,59,Actor\\n\",\n",
       " '4000152,Vincent,Goldman,22,Electrician\\n',\n",
       " '4000153,Beth,McKenna,40,Veterinarian\\n',\n",
       " '4000154,Milton,Starr,23,Carpenter\\n',\n",
       " '4000155,Tamara,Stone,73,Firefighter\\n',\n",
       " '4000156,Mitchell,McClure,68,Loan officer\\n',\n",
       " '4000157,Franklin,Watson,64,Coach\\n',\n",
       " '4000158,Leroy,Monroe,51,Computer support specialist\\n',\n",
       " '4000159,Glen,Abbott,29,Loan officer\\n',\n",
       " '4000160,Judith,Singer,73,Actor\\n',\n",
       " '4000161,Alice,Hall,33,Recreation and fitness worker\\n',\n",
       " '4000162,Bruce,Farrell,35,Librarian\\n',\n",
       " '4000163,Kathleen,Lucas,66,Chemist\\n',\n",
       " '4000164,Amy,Norman,62,Automotive mechanic\\n',\n",
       " '4000165,Ronnie,Atkins,67,Dancer\\n',\n",
       " '4000166,Martha,Monroe,31,Judge\\n',\n",
       " '4000167,Lynn,Robertson,45,Lawyer\\n',\n",
       " '4000168,Jose,Sykes,47,Writer\\n',\n",
       " '4000169,Robert,Reid,39,Carpenter\\n',\n",
       " '4000170,Pauline,Chandler,70,Economist\\n',\n",
       " '4000171,Stephen,Finch,30,Coach\\n',\n",
       " '4000172,Peggy,Hobbs,69,Musician\\n',\n",
       " '4000173,Donna,Adkins,72,Electrical engineer\\n',\n",
       " '4000174,Doris,Kinney,36,Athlete\\n',\n",
       " '4000175,Ben,Whitaker,35,Computer support specialist\\n',\n",
       " '4000176,Kristin,Alexander,21,Coach\\n',\n",
       " '4000177,Ryan,Conner,51,Electrical engineer\\n',\n",
       " '4000178,Tracey,Waters,73,Computer hardware engineer\\n',\n",
       " '4000179,Mark,Becker,39,Computer support specialist\\n',\n",
       " '4000180,Louis,Rollins,35,Economist\\n',\n",
       " '4000181,Janet,Love,39,Politician\\n',\n",
       " '4000182,Leo,Adkins,42,Economist\\n',\n",
       " '4000183,Constance,Black,36,Firefighter\\n',\n",
       " '4000184,Sarah,Fox,73,Psychologist\\n',\n",
       " '4000185,Gladys,Hatcher,62,Musician\\n',\n",
       " '4000186,Hazel,Wu,68,Therapist\\n',\n",
       " '4000187,Hazel,Lloyd,48,Politician\\n',\n",
       " '4000188,Jerome,Joyce,40,Artist\\n',\n",
       " '4000189,Vincent,Welch,54,Psychologist\\n',\n",
       " '4000190,Kim,Matthews,38,Architect\\n',\n",
       " '4000191,Joseph,Chappell,59,Reporter\\n',\n",
       " '4000192,Alison,MacDonald,26,Childcare worker\\n',\n",
       " '4000193,Eric,Kane,61,Childcare worker\\n',\n",
       " '4000194,Heather,Butler,67,Farmer\\n',\n",
       " '4000195,Claire,Pickett,59,Lawyer\\n',\n",
       " '4000196,Michele,Bowman,54,Computer software engineer\\n',\n",
       " '4000197,Terry,Barton,27,Recreation and fitness worker\\n',\n",
       " '4000198,Ken,Kennedy,35,Automotive mechanic\\n',\n",
       " '4000199,Judy,Branch,42,Athlete\\n',\n",
       " '4000200,Clyde,Thornton,70,Pharmacist\\n',\n",
       " '4000201,Timothy,McNeill,70,Librarian\\n',\n",
       " '4000202,Ted,Weinstein,23,Human resources assistant\\n',\n",
       " '4000203,Sandra,Middleton,28,Librarian\\n',\n",
       " '4000204,Billie,Moss,65,Photographer\\n',\n",
       " '4000205,Katharine,Lucas,67,Electrician\\n',\n",
       " '4000206,Lester,Rich,53,Human resources assistant\\n',\n",
       " '4000207,Johnny,Carlton,28,Librarian\\n',\n",
       " '4000208,Ashley,Brady,43,Financial analyst\\n',\n",
       " '4000209,Lauren,Schultz,33,Electrician\\n',\n",
       " '4000210,Carolyn,Nichols,49,Agricultural and food scientist\\n',\n",
       " '4000211,Louis,Harvey,72,Financial analyst\\n',\n",
       " '4000212,Charlene,Stevenson,65,Carpenter\\n',\n",
       " '4000213,Ashley,Houston,24,Judge\\n',\n",
       " '4000214,Sheryl,Dunn,71,Civil engineer\\n',\n",
       " '4000215,Ben,West,64,Electrician\\n',\n",
       " \"4000216,Linda,O'Brien,46,Loan officer\\n\",\n",
       " '4000217,Sarah,Barr,52,Therapist\\n',\n",
       " '4000218,Brett,Snyder,22,Doctor\\n',\n",
       " '4000219,Dana,Cain,63,Human resources assistant\\n',\n",
       " '4000220,Rebecca,Heath,74,Environmental scientist\\n',\n",
       " '4000221,Glenda,Boswell,28,Civil engineer\\n',\n",
       " '4000222,Glen,Olsen,63,Childcare worker\\n',\n",
       " '4000223,Don,Pittman,70,Designer\\n',\n",
       " '4000224,Gregory,Weiner,58,Accountant\\n',\n",
       " '4000225,Randy,Petersen,71,Actor\\n',\n",
       " '4000226,Geraldine,Davis,36,Accountant\\n',\n",
       " '4000227,Edna,Coleman,58,Veterinarian\\n',\n",
       " '4000228,Sidney,Terrell,32,Statistician\\n',\n",
       " '4000229,Faye,Norman,64,Pilot\\n',\n",
       " '4000230,Kathy,Burch,28,Pilot\\n',\n",
       " '4000231,Marguerite,Weiner,45,Police officer\\n',\n",
       " '4000232,Marvin,Parrott,67,Doctor\\n',\n",
       " '4000233,Alex,Henry,67,Police officer\\n',\n",
       " '4000234,Alexander,Gray,35,Reporter\\n',\n",
       " '4000235,Marsha,Chang,42,Chemist\\n',\n",
       " '4000236,Karl,McLean,69,Photographer\\n',\n",
       " '4000237,Laura,Eason,31,Loan officer\\n',\n",
       " '4000238,Melinda,Weeks,59,Computer software engineer\\n',\n",
       " '4000239,Eva,Siegel,50,Psychologist\\n',\n",
       " '4000240,Robert,Puckett,56,Physicist\\n',\n",
       " '4000241,Bill,Heath,35,Actor\\n',\n",
       " '4000242,Edna,Hoyle,74,Electrical engineer\\n',\n",
       " '4000243,Clifford,Garrett,72,Veterinarian\\n',\n",
       " '4000244,Penny,Neal,59,Veterinarian\\n',\n",
       " '4000245,Glenda,Baker,52,Economist\\n',\n",
       " '4000246,Arthur,Goldman,58,Childcare worker\\n',\n",
       " '4000247,Wesley,Shaffer,58,Farmer\\n',\n",
       " '4000248,Allison,Choi,23,Computer hardware engineer\\n',\n",
       " '4000249,Florence,Carver,34,Electrical engineer\\n',\n",
       " '4000250,Claire,Shelton,34,Environmental scientist\\n',\n",
       " '4000251,Jeremy,House,61,Pilot\\n',\n",
       " '4000252,Christy,Lyons,31,Physicist\\n',\n",
       " '4000253,Wesley,Moser,64,Doctor\\n',\n",
       " '4000254,Lucy,Dickinson,72,Loan officer\\n',\n",
       " '4000255,Susan,Abbott,65,Actor\\n',\n",
       " '4000256,Nancy,Hobbs,40,Environmental scientist\\n',\n",
       " '4000257,Monica,Dodson,58,\\n',\n",
       " '4000258,Justin,Spencer,67,Economist\\n',\n",
       " '4000259,Margaret,Burgess,74,Social worker\\n',\n",
       " '4000260,Philip,Liu,59,Nurse\\n',\n",
       " '4000261,Miriam,Wong,27,Childcare worker\\n',\n",
       " '4000262,Miriam,Blackburn,52,Athlete\\n',\n",
       " '4000263,Christopher,McKay,67,Judge\\n',\n",
       " '4000264,Joanna,Middleton,37,Firefighter\\n',\n",
       " '4000265,Stacy,Frazier,69,Designer\\n',\n",
       " '4000266,Janice,Reid,40,Therapist\\n',\n",
       " '4000267,Brian,Braswell,64,Chemist\\n',\n",
       " '4000268,Juan,Steele,57,Nurse\\n',\n",
       " '4000269,Leroy,Donovan,74,Photographer\\n',\n",
       " '4000270,Tommy,Barrett,38,Engineering technician\\n',\n",
       " '4000271,Alice,Nance,59,Pilot\\n',\n",
       " '4000272,Adam,Washington,54,Electrical engineer\\n',\n",
       " '4000273,Larry,Rogers,50,Engineering technician\\n',\n",
       " '4000274,Angela,McMahon,66,Secretary\\n',\n",
       " '4000275,Lawrence,Miles,74,Dancer\\n',\n",
       " '4000276,Glen,Kramer,43,Coach\\n',\n",
       " '4000277,Valerie,Jennings,59,Loan officer\\n',\n",
       " '4000278,Meredith,Bowles,62,Accountant\\n',\n",
       " '4000279,Jan,Brown,58,Secretary\\n',\n",
       " '4000280,Lillian,Bolton,32,Photographer\\n',\n",
       " '4000281,Allen,Craven,64,Therapist\\n',\n",
       " '4000282,Ashley,Hendrix,50,Accountant\\n',\n",
       " '4000283,Ian,Nichols,57,Electrician\\n',\n",
       " '4000284,Gina,Saunders,48,Photographer\\n',\n",
       " '4000285,Donna,Lehman,71,Social worker\\n',\n",
       " '4000286,Catherine,Sherrill,48,Nurse\\n',\n",
       " '4000287,Lester,Cash,30,Firefighter\\n',\n",
       " '4000288,Jacob,Pittman,34,Economist\\n',\n",
       " '4000289,Nancy,Sullivan,70,Electrical engineer\\n',\n",
       " '4000290,Gail,Whitehead,21,Nurse\\n',\n",
       " '4000291,Lloyd,Mack,67,Recreation and fitness worker\\n',\n",
       " '4000292,Donna,Rice,21,Social worker\\n',\n",
       " '4000293,Kay,Ayers,44,Childcare worker\\n',\n",
       " '4000294,Wendy,Cherry,70,Loan officer\\n',\n",
       " '4000295,Lucille,Richmond,70,Photographer\\n',\n",
       " '4000296,Virginia,York,67,Politician\\n',\n",
       " '4000297,Bruce,Wiley,43,Artist\\n',\n",
       " '4000298,Marc,Harrington,57,Physicist\\n',\n",
       " '4000299,Geoffrey,Reed,53,Reporter\\n',\n",
       " '4000300,Tiffany,Nash,41,Coach\\n',\n",
       " '4000301,Todd,Wilkerson,55,Librarian\\n',\n",
       " '4000302,Jill,Kent,27,Electrical engineer\\n',\n",
       " '4000303,Erin,Finch,54,Police officer\\n',\n",
       " '4000304,Melinda,Starr,57,Statistician\\n',\n",
       " '4000305,Julie,Holland,61,Architect\\n',\n",
       " '4000306,Stanley,Glover,44,Nurse\\n',\n",
       " '4000307,Karen,Clements,74,Farmer\\n',\n",
       " '4000308,Judy,Schultz,42,Statistician\\n',\n",
       " '4000309,Raymond,Hawley,66,Recreation and fitness worker\\n',\n",
       " '4000310,Julie,Skinner,56,Electrical engineer\\n',\n",
       " '4000311,Sue,Hamrick,43,Reporter\\n',\n",
       " '4000312,Colleen,Winters,36,Designer\\n',\n",
       " '4000313,Judith,Dolan,44,Civil engineer\\n',\n",
       " '4000314,Luis,Turner,69,Computer software engineer\\n',\n",
       " '4000315,Bradley,Beatty,36,Human resources assistant\\n',\n",
       " '4000316,Glenda,Douglas,28,Loan officer\\n',\n",
       " '4000317,Brent,Byrne,62,Judge\\n',\n",
       " '4000318,Clyde,Hendricks,41,Loan officer\\n',\n",
       " '4000319,Sharon,Mayer,70,Statistician\\n',\n",
       " '4000320,Mary,Cochran,25,Computer support specialist\\n',\n",
       " '4000321,Sue,Reilly,33,Physicist\\n',\n",
       " '4000322,Geraldine,Jensen,50,Pilot\\n',\n",
       " '4000323,Rita,Yates,34,Librarian\\n',\n",
       " '4000324,Annie,Haynes,51,Social worker\\n',\n",
       " '4000325,Ruth,Harmon,75,Artist\\n',\n",
       " '4000326,Michelle,Matthews,67,Computer software engineer\\n',\n",
       " '4000327,Heather,Dawson,43,\\n',\n",
       " '4000328,Jane,Barefoot,53,Accountant\\n',\n",
       " '4000329,Wallace,Kaplan,35,Secretary\\n',\n",
       " '4000330,Kimberly,Gross,38,Designer\\n',\n",
       " '4000331,Jon,Richmond,37,Agricultural and food scientist\\n',\n",
       " '4000332,Lee,Pope,55,Statistician\\n',\n",
       " '4000333,Kenneth,Pickett,28,Police officer\\n',\n",
       " '4000334,Keith,Schwartz,65,Childcare worker\\n',\n",
       " '4000335,Jim,Singleton,55,Accountant\\n',\n",
       " '4000336,Steven,Ballard,62,Pilot\\n',\n",
       " '4000337,Pauline,Spivey,55,Computer hardware engineer\\n',\n",
       " '4000338,Marc,Denton,71,Musician\\n',\n",
       " '4000339,Kerry,Huff,38,Writer\\n',\n",
       " '4000340,Lynne,Mangum,37,Chemist\\n',\n",
       " '4000341,Claude,Berger,51,Electrical engineer\\n',\n",
       " '4000342,Rose,McCall,29,Farmer\\n',\n",
       " '4000343,Kathy,Pollard,43,Politician\\n',\n",
       " '4000344,Catherine,Garcia,69,Athlete\\n',\n",
       " '4000345,Frances,Wagner,28,Veterinarian\\n',\n",
       " '4000346,Diana,Crane,26,Lawyer\\n',\n",
       " '4000347,Leslie,Wolf,50,Loan officer\\n',\n",
       " '4000348,Marian,Crane,37,Automotive mechanic\\n',\n",
       " '4000349,Russell,Dalton,21,Civil engineer\\n',\n",
       " '4000350,Sheryl,Diaz,30,Pharmacist\\n',\n",
       " '4000351,Lewis,Currin,73,Farmer\\n',\n",
       " '4000352,Ernest,Stanton,51,Lawyer\\n',\n",
       " '4000353,Vivian,Carey,64,Statistician\\n',\n",
       " '4000354,Harold,Li,49,Doctor\\n',\n",
       " '4000355,Malcolm,Chan,27,Environmental scientist\\n',\n",
       " '4000356,Kay,Hess,56,Childcare worker\\n',\n",
       " '4000357,Max,Robinson,32,Dancer\\n',\n",
       " '4000358,Vicki,Mills,56,Computer support specialist\\n',\n",
       " '4000359,Leon,Bender,22,Firefighter\\n',\n",
       " '4000360,Alvin,McDonald,73,Musician\\n',\n",
       " '4000361,Jacob,Moore,64,Environmental scientist\\n',\n",
       " '4000362,Holly,Fox,74,Physicist\\n',\n",
       " '4000363,Audrey,Lanier,54,Human resources assistant\\n',\n",
       " '4000364,Christina,Harris,39,Doctor\\n',\n",
       " '4000365,Joseph,Underwood,57,Reporter\\n',\n",
       " '4000366,Evelyn,Parsons,37,Human resources assistant\\n',\n",
       " '4000367,Nicholas,Vaughn,66,Carpenter\\n',\n",
       " '4000368,Ben,Banks,60,Accountant\\n',\n",
       " '4000369,Dorothy,Sherrill,28,Agricultural and food scientist\\n',\n",
       " '4000370,Theresa,Oakley,35,Nurse\\n',\n",
       " '4000371,Harriet,Rubin,71,Real estate agent\\n',\n",
       " '4000372,Barry,Maynard,53,Pharmacist\\n',\n",
       " '4000373,Jerome,Hill,66,Computer hardware engineer\\n',\n",
       " '4000374,Jason,Livingston,67,Civil engineer\\n',\n",
       " '4000375,Norman,Lam,63,Teacher\\n',\n",
       " '4000376,Glen,Thompson,40,Coach\\n',\n",
       " '4000377,Ellen,Creech,36,Human resources assistant\\n',\n",
       " '4000378,Dianne,Dillon,34,Recreation and fitness worker\\n',\n",
       " '4000379,Harry,Foster,50,Coach\\n',\n",
       " '4000380,Tim,Starr,59,Photographer\\n',\n",
       " '4000381,Kent,Roy,31,Electrical engineer\\n',\n",
       " '4000382,Eddie,Barbour,61,Athlete\\n',\n",
       " '4000383,Arnold,Burke,70,Reporter\\n',\n",
       " '4000384,Melanie,Ritchie,36,Financial analyst\\n',\n",
       " '4000385,Ronald,Odom,49,Psychologist\\n',\n",
       " '4000386,Gene,Pearce,30,Architect\\n',\n",
       " '4000387,Peter,Rosenberg,60,Politician\\n',\n",
       " '4000388,Jean,Garrett,73,Doctor\\n',\n",
       " \"4000389,Neal,O'Connor,26,Therapist\\n\",\n",
       " '4000390,Tracy,Cates,54,Dancer\\n',\n",
       " '4000391,Holly,McIntosh,73,Computer software engineer\\n',\n",
       " '4000392,Emma,Olson,74,Pilot\\n',\n",
       " '4000393,Molly,Cox,55,Social worker\\n',\n",
       " '4000394,Carlos,Erickson,63,Statistician\\n',\n",
       " '4000395,Betsy,Chang,54,Designer\\n',\n",
       " '4000396,Andrew,Briggs,45,Farmer\\n',\n",
       " '4000397,Bill,Klein,26,Teacher\\n',\n",
       " '4000398,Eileen,Goldberg,57,Therapist\\n',\n",
       " '4000399,Randall,Hinson,51,Judge\\n',\n",
       " '4000400,Kelly,Weiss,72,Librarian\\n',\n",
       " '4000401,Elaine,Pritchard,48,Automotive mechanic\\n',\n",
       " '4000402,Rhonda,Goldman,38,Computer support specialist\\n',\n",
       " '4000403,Leo,Lassiter,65,Pilot\\n',\n",
       " '4000404,Clarence,Massey,74,Politician\\n',\n",
       " '4000405,Grace,Stark,41,Pharmacist\\n',\n",
       " '4000406,Jordan,Dunlap,59,Agricultural and food scientist\\n',\n",
       " '4000407,Glenda,Humphrey,32,Carpenter\\n',\n",
       " '4000408,Jacob,Singleton,33,Veterinarian\\n',\n",
       " '4000409,Jordan,Horowitz,58,Actor\\n',\n",
       " '4000410,Dawn,Lutz,66,Therapist\\n',\n",
       " '4000411,Joanna,Hoover,50,\\n',\n",
       " '4000412,Sandra,Kang,47,Designer\\n',\n",
       " '4000413,Stephen,Melton,33,Athlete\\n',\n",
       " '4000414,Jessica,Teague,72,Firefighter\\n',\n",
       " '4000415,Regina,Ellington,52,Social worker\\n',\n",
       " '4000416,Paige,Cherry,45,Environmental scientist\\n',\n",
       " '4000417,Joyce,Jennings,61,Social worker\\n',\n",
       " '4000418,Tamara,Creech,46,Social worker\\n',\n",
       " '4000419,Toni,Lynn,67,Civil engineer\\n',\n",
       " '4000420,Betty,Albright,64,Engineering technician\\n',\n",
       " '4000421,Jerry,Alston,31,Lawyer\\n',\n",
       " '4000422,Tommy,Burnette,72,Doctor\\n',\n",
       " \"4000423,Alan,O'Neal,59,Pilot\\n\",\n",
       " '4000424,Christina,Morris,56,Dancer\\n',\n",
       " '4000425,Dean,Lutz,26,Pilot\\n',\n",
       " '4000426,Veronica,Callahan,31,Veterinarian\\n',\n",
       " '4000427,Kelly,Conway,36,Designer\\n',\n",
       " '4000428,Marcus,Harvey,62,Computer support specialist\\n',\n",
       " '4000429,Carrie,Watson,52,Musician\\n',\n",
       " '4000430,George,Glover,41,Nurse\\n',\n",
       " '4000431,Nina,Savage,35,Politician\\n',\n",
       " '4000432,Paige,Henson,61,Dancer\\n',\n",
       " '4000433,Jay,Wang,64,Carpenter\\n',\n",
       " '4000434,Sue,Ellis,59,Environmental scientist\\n',\n",
       " '4000435,Brenda,Barbour,36,Architect\\n',\n",
       " '4000436,Joshua,Sherrill,43,Politician\\n',\n",
       " '4000437,Nelson,Pierce,69,Actor\\n',\n",
       " '4000438,Vincent,Woodward,34,Electrical engineer\\n',\n",
       " '4000439,Nicholas,Godfrey,69,Environmental scientist\\n',\n",
       " '4000440,Hannah,Langston,25,Pilot\\n',\n",
       " '4000441,Alice,Eaton,32,Chemist\\n',\n",
       " '4000442,Elisabeth,Lowe,34,Farmer\\n',\n",
       " '4000443,Matthew,Stanton,51,Secretary\\n',\n",
       " '4000444,Thomas,Fuller,51,Childcare worker\\n',\n",
       " '4000445,Benjamin,Simmons,70,Veterinarian\\n',\n",
       " '4000446,Kristine,Schultz,66,Architect\\n',\n",
       " '4000447,Jordan,Knight,65,Electrician\\n',\n",
       " '4000448,Guy,Klein,34,Designer\\n',\n",
       " '4000449,Terry,Garcia,30,Automotive mechanic\\n',\n",
       " '4000450,Floyd,Schroeder,37,Farmer\\n',\n",
       " '4000451,Russell,Hess,21,Architect\\n',\n",
       " '4000452,Marsha,Gold,36,Athlete\\n',\n",
       " '4000453,Kim,Hensley,64,Photographer\\n',\n",
       " '4000454,Virginia,Turner,22,Computer hardware engineer\\n',\n",
       " '4000455,Deborah,French,56,Accountant\\n',\n",
       " '4000456,Peter,Hughes,38,Computer software engineer\\n',\n",
       " '4000457,Bernard,Pate,34,Doctor\\n',\n",
       " '4000458,Harold,Burnett,40,Musician\\n',\n",
       " '4000459,Gretchen,Francis,60,Politician\\n',\n",
       " '4000460,Cheryl,Horn,40,Veterinarian\\n',\n",
       " '4000461,Audrey,Forrest,50,Architect\\n',\n",
       " '4000462,Alan,Levin,43,Statistician\\n',\n",
       " '4000463,Wayne,Weiner,70,\\n',\n",
       " '4000464,Nancy,Durham,60,Nurse\\n',\n",
       " '4000465,Peter,Guthrie,21,Nurse\\n',\n",
       " '4000466,Benjamin,Hensley,37,Pilot\\n',\n",
       " '4000467,Derek,Freedman,66,Recreation and fitness worker\\n',\n",
       " '4000468,Marlene,Wiggins,65,Agricultural and food scientist\\n',\n",
       " '4000469,Clara,Best,51,Pharmacist\\n',\n",
       " '4000470,Ashley,Beatty,46,Computer support specialist\\n',\n",
       " '4000471,Kara,Crawford,40,Social worker\\n',\n",
       " '4000472,Kristin,Drake,22,Financial analyst\\n',\n",
       " '4000473,Edwin,Curtis,25,Civil engineer\\n',\n",
       " '4000474,Molly,Walter,30,Architect\\n',\n",
       " '4000475,Marshall,Dunlap,43,Statistician\\n',\n",
       " '4000476,Elaine,Jenkins,47,Writer\\n',\n",
       " '4000477,Victor,Hood,48,Firefighter\\n',\n",
       " '4000478,Tonya,Ellis,26,Firefighter\\n',\n",
       " '4000479,Cecil,Jiang,74,Photographer\\n',\n",
       " '4000480,Melissa,Johnson,64,Recreation and fitness worker\\n',\n",
       " '4000481,Christina,Craig,48,Dancer\\n',\n",
       " '4000482,Allison,Norman,25,Musician\\n',\n",
       " '4000483,Gretchen,McIntyre,38,Statistician\\n',\n",
       " '4000484,Bonnie,Brantley,68,Firefighter\\n',\n",
       " '4000485,George,Kelley,58,Judge\\n',\n",
       " '4000486,Barbara,Smith,58,Designer\\n',\n",
       " '4000487,Evelyn,Lyons,51,Childcare worker\\n',\n",
       " '4000488,Rita,Wall,58,Photographer\\n',\n",
       " '4000489,Dan,Quinn,31,Agricultural and food scientist\\n',\n",
       " '4000490,Juan,Hicks,37,Accountant\\n',\n",
       " '4000491,Jesse,Garrison,59,Pharmacist\\n',\n",
       " '4000492,Ronnie,Watts,29,Actor\\n',\n",
       " '4000493,Hilda,Dickerson,53,Farmer\\n',\n",
       " '4000494,Stephen,Waller,75,\\n',\n",
       " '4000495,Lorraine,Carter,65,Financial analyst\\n',\n",
       " '4000496,Chris,Robinson,74,Economist\\n',\n",
       " '4000497,Katie,Katz,26,Dancer\\n',\n",
       " '4000498,Richard,Hull,69,Accountant\\n',\n",
       " '4000499,Steve,Bowling,61,Recreation and fitness worker\\n',\n",
       " '4000500,Monica,Brantley,58,Engineering technician\\n',\n",
       " '4000501,Kenneth,Brock,68,Loan officer\\n',\n",
       " '4000502,Leigh,James,37,Teacher\\n',\n",
       " '4000503,Glenda,McMillan,61,Police officer\\n',\n",
       " '4000504,Ricky,Hu,50,Teacher\\n',\n",
       " '4000505,Rick,Waller,54,Teacher\\n',\n",
       " '4000506,Wanda,Abbott,36,Agricultural and food scientist\\n',\n",
       " '4000507,Heidi,McKee,68,Engineering technician\\n',\n",
       " '4000508,Robin,Waters,63,Computer hardware engineer\\n',\n",
       " '4000509,Dan,Sims,33,Loan officer\\n',\n",
       " '4000510,Kathy,Henderson,69,Coach\\n',\n",
       " '4000511,Alicia,Rao,68,Loan officer\\n',\n",
       " '4000512,Sherry,Bray,67,Chemist\\n',\n",
       " '4000513,Chris,Scarborough,45,Engineering technician\\n',\n",
       " '4000514,Nathan,Ford,36,Financial analyst\\n',\n",
       " '4000515,Sidney,Blum,54,Photographer\\n',\n",
       " '4000516,Clyde,Kenney,25,Pharmacist\\n',\n",
       " '4000517,Barry,Gordon,58,Actor\\n',\n",
       " '4000518,Shannon,Blair,72,Librarian\\n',\n",
       " '4000519,Melinda,Moore,67,Chemist\\n',\n",
       " '4000520,Maureen,Kemp,45,Artist\\n',\n",
       " '4000521,Pat,Hutchinson,42,Computer support specialist\\n',\n",
       " '4000522,Neal,Brennan,28,Therapist\\n',\n",
       " '4000523,Anne,Little,64,Nurse\\n',\n",
       " '4000524,Clifford,Gill,40,Computer support specialist\\n',\n",
       " '4000525,Nicole,Keller,55,Human resources assistant\\n',\n",
       " '4000526,Rachel,Rosenthal,56,Automotive mechanic\\n',\n",
       " '4000527,Carolyn,McConnell,31,Firefighter\\n',\n",
       " '4000528,Samuel,Sawyer,63,Pharmacist\\n',\n",
       " '4000529,Theodore,McCall,68,Lawyer\\n',\n",
       " '4000530,Eleanor,Coates,31,Reporter\\n',\n",
       " '4000531,Glenn,Hicks,40,Librarian\\n',\n",
       " '4000532,Wesley,Davidson,73,Electrical engineer\\n',\n",
       " '4000533,Ralph,Hawkins,34,Agricultural and food scientist\\n',\n",
       " '4000534,Annie,Lindsay,38,Statistician\\n',\n",
       " '4000535,Beth,Gonzalez,41,Human resources assistant\\n',\n",
       " '4000536,Claire,Gray,66,Therapist\\n',\n",
       " '4000537,Jonathan,English,67,Agricultural and food scientist\\n',\n",
       " '4000538,Bradley,Duke,27,Police officer\\n',\n",
       " '4000539,Hugh,Webb,71,Firefighter\\n',\n",
       " '4000540,Nicholas,Baldwin,71,Childcare worker\\n',\n",
       " '4000541,Penny,Lamb,32,Agricultural and food scientist\\n',\n",
       " '4000542,Gloria,Shaffer,33,Pilot\\n',\n",
       " '4000543,Kelly,Wang,31,Accountant\\n',\n",
       " '4000544,Tommy,Burgess,38,Librarian\\n',\n",
       " '4000545,Danielle,Smith,22,Pharmacist\\n',\n",
       " '4000546,Calvin,Fletcher,55,Judge\\n',\n",
       " '4000547,Emily,Boyd,61,Psychologist\\n',\n",
       " '4000548,Luis,Hirsch,72,Librarian\\n',\n",
       " '4000549,Kimberly,Currie,74,Financial analyst\\n',\n",
       " '4000550,Paige,McKenzie,36,Chemist\\n',\n",
       " '4000551,Sidney,Weber,26,Electrician\\n',\n",
       " '4000552,Robert,Honeycutt,63,Computer hardware engineer\\n',\n",
       " '4000553,Karen,Manning,30,Recreation and fitness worker\\n',\n",
       " '4000554,Kyle,Bolton,25,Writer\\n',\n",
       " '4000555,Mary,Ritchie,57,Politician\\n',\n",
       " '4000556,Evelyn,Baldwin,71,Statistician\\n',\n",
       " '4000557,Lynda,Riley,38,Electrician\\n',\n",
       " '4000558,Beth,Swanson,64,Photographer\\n',\n",
       " '4000559,Erin,Huffman,37,Electrician\\n',\n",
       " '4000560,James,Gibson,35,Computer support specialist\\n',\n",
       " '4000561,Leigh,Yates,45,Secretary\\n',\n",
       " '4000562,Jordan,Wrenn,61,Pilot\\n',\n",
       " '4000563,Willie,Green,34,Civil engineer\\n',\n",
       " '4000564,Wade,Harris,63,Pharmacist\\n',\n",
       " '4000565,Lori,Hayes,51,Firefighter\\n',\n",
       " '4000566,Charlotte,Hamrick,31,Therapist\\n',\n",
       " '4000567,Rhonda,Hawley,37,Reporter\\n',\n",
       " '4000568,Steve,Koch,36,Nurse\\n',\n",
       " '4000569,Nicholas,McKenzie,33,Actor\\n',\n",
       " '4000570,Vicki,Harrell,74,Civil engineer\\n',\n",
       " '4000571,Stephanie,Parsons,29,Politician\\n',\n",
       " '4000572,Jose,McGuire,61,Photographer\\n',\n",
       " '4000573,George,Stephenson,42,Electrician\\n',\n",
       " '4000574,Marlene,Baxter,37,Recreation and fitness worker\\n',\n",
       " '4000575,Catherine,Summers,27,Real estate agent\\n',\n",
       " '4000576,Carrie,Welch,67,Doctor\\n',\n",
       " '4000577,Leo,Nixon,46,Coach\\n',\n",
       " '4000578,Rita,Kelly,32,Automotive mechanic\\n',\n",
       " '4000579,Joan,Sumner,28,Accountant\\n',\n",
       " '4000580,Marsha,Cobb,56,Chemist\\n',\n",
       " '4000581,Wesley,Bruce,39,Civil engineer\\n',\n",
       " '4000582,Cathy,Newton,37,Teacher\\n',\n",
       " '4000583,Kevin,Rogers,66,Lawyer\\n',\n",
       " '4000584,Craig,Sanchez,60,Chemist\\n',\n",
       " '4000585,Lester,Finch,65,Human resources assistant\\n',\n",
       " '4000586,Joy,Silverman,28,Coach\\n',\n",
       " '4000587,Kate,Horn,54,Doctor\\n',\n",
       " '4000588,Bernice,Richardson,71,Real estate agent\\n',\n",
       " '4000589,Theodore,Gay,60,Accountant\\n',\n",
       " '4000590,Cheryl,Chase,53,Secretary\\n',\n",
       " '4000591,Jamie,Gallagher,69,Librarian\\n',\n",
       " '4000592,Audrey,Kern,50,Nurse\\n',\n",
       " '4000593,Jennifer,Scott,43,Carpenter\\n',\n",
       " '4000594,Lewis,Bradley,31,Carpenter\\n',\n",
       " '4000595,Ben,Puckett,25,Photographer\\n',\n",
       " '4000596,Allen,Sanchez,59,Recreation and fitness worker\\n',\n",
       " '4000597,Alex,Yang,62,Athlete\\n',\n",
       " '4000598,Jennifer,Brantley,47,Musician\\n',\n",
       " '4000599,Doris,Bunn,43,Veterinarian\\n',\n",
       " '4000600,Jonathan,Link,44,Financial analyst\\n',\n",
       " '4000601,Allan,Nguyen,51,Pilot\\n',\n",
       " '4000602,Shawn,Stephens,32,Veterinarian\\n',\n",
       " '4000603,Stephanie,Horne,60,Real estate agent\\n',\n",
       " '4000604,Carol,Burton,39,Doctor\\n',\n",
       " '4000605,Melanie,Diaz,56,Musician\\n',\n",
       " '4000606,Samantha,Berry,31,Pilot\\n',\n",
       " '4000607,Renee,Knowles,63,Judge\\n',\n",
       " '4000608,Cathy,Freeman,42,Computer hardware engineer\\n',\n",
       " '4000609,Heidi,Hernandez,71,Nurse\\n',\n",
       " '4000610,Gayle,Roach,50,Athlete\\n',\n",
       " '4000611,Rita,Hardison,29,Athlete\\n',\n",
       " '4000612,Jacob,Wolf,54,Statistician\\n',\n",
       " '4000613,Steven,Boyd,71,Physicist\\n',\n",
       " '4000614,Tracy,Caldwell,61,Electrician\\n',\n",
       " '4000615,Eva,Mann,30,Police officer\\n',\n",
       " '4000616,Lorraine,McLeod,43,Physicist\\n',\n",
       " '4000617,Willie,Stanton,63,Musician\\n',\n",
       " '4000618,Joel,Park,33,Engineering technician\\n',\n",
       " '4000619,Vanessa,Chang,63,Psychologist\\n',\n",
       " '4000620,Becky,Newton,42,Judge\\n',\n",
       " '4000621,Melinda,Phillips,28,Civil engineer\\n',\n",
       " '4000622,Harvey,Whitaker,44,Farmer\\n',\n",
       " '4000623,Lee,Pitts,40,Photographer\\n',\n",
       " '4000624,Aaron,McLean,35,Social worker\\n',\n",
       " '4000625,Jack,Barton,30,Veterinarian\\n',\n",
       " '4000626,Suzanne,Gould,67,Loan officer\\n',\n",
       " '4000627,Katherine,Atkins,69,Recreation and fitness worker\\n',\n",
       " '4000628,Robyn,Shapiro,58,Architect\\n',\n",
       " '4000629,Julia,Vincent,49,Therapist\\n',\n",
       " '4000630,Bob,Harrell,40,Electrician\\n',\n",
       " '4000631,Brooke,Boswell,66,Childcare worker\\n',\n",
       " '4000632,Janet,Lassiter,58,Financial analyst\\n',\n",
       " '4000633,Kristen,Fisher,59,Recreation and fitness worker\\n',\n",
       " '4000634,Jenny,Case,64,Agricultural and food scientist\\n',\n",
       " '4000635,Jeanette,Parsons,63,Architect\\n',\n",
       " '4000636,Megan,McPherson,46,Athlete\\n',\n",
       " '4000637,Joel,Wiley,42,Architect\\n',\n",
       " '4000638,Don,Schwartz,35,Coach\\n',\n",
       " '4000639,Florence,McFarland,23,Electrical engineer\\n',\n",
       " '4000640,Jon,Baker,53,Civil engineer\\n',\n",
       " '4000641,Annie,Holden,36,Childcare worker\\n',\n",
       " '4000642,Kent,Hartman,67,Photographer\\n',\n",
       " '4000643,Eleanor,Schwartz,56,Computer support specialist\\n',\n",
       " '4000644,Nina,Nguyen,62,Doctor\\n',\n",
       " '4000645,Clara,Houston,53,Statistician\\n',\n",
       " '4000646,Bonnie,Friedman,57,Computer hardware engineer\\n',\n",
       " '4000647,Dwight,Adcock,67,Recreation and fitness worker\\n',\n",
       " '4000648,Angela,Stephens,53,Secretary\\n',\n",
       " '4000649,Marion,McClure,35,Coach\\n',\n",
       " '4000650,Curtis,Proctor,63,Computer hardware engineer\\n',\n",
       " '4000651,Tammy,Lang,63,Musician\\n',\n",
       " '4000652,Gilbert,Berger,32,Athlete\\n',\n",
       " '4000653,Edwin,Aldridge,28,Pilot\\n',\n",
       " '4000654,Emily,Davies,34,Coach\\n',\n",
       " '4000655,Hannah,Wall,23,Librarian\\n',\n",
       " '4000656,Ronald,Miles,64,Dancer\\n',\n",
       " '4000657,Helen,Bolton,62,Librarian\\n',\n",
       " '4000658,Barbara,Morgan,53,Childcare worker\\n',\n",
       " '4000659,Milton,Fisher,29,Dancer\\n',\n",
       " '4000660,Anne,Stephens,63,Carpenter\\n',\n",
       " '4000661,Lois,Holmes,31,Photographer\\n',\n",
       " '4000662,Dorothy,Ferrell,53,Firefighter\\n',\n",
       " '4000663,Claire,Henry,29,Police officer\\n',\n",
       " '4000664,Anita,Hedrick,63,Computer software engineer\\n',\n",
       " '4000665,Ronald,Horne,74,Architect\\n',\n",
       " '4000666,Allen,Weiss,38,Computer hardware engineer\\n',\n",
       " '4000667,Zachary,Singh,66,Firefighter\\n',\n",
       " '4000668,Kyle,Blalock,70,Politician\\n',\n",
       " '4000669,Seth,Aldridge,51,Judge\\n',\n",
       " '4000670,Jeff,Ritchie,65,Photographer\\n',\n",
       " '4000671,Sandra,Grossman,50,Coach\\n',\n",
       " '4000672,Jackie,Pugh,39,Real estate agent\\n',\n",
       " '4000673,Audrey,Olson,36,Computer support specialist\\n',\n",
       " '4000674,Dana,Fernandez,39,Recreation and fitness worker\\n',\n",
       " '4000675,Hazel,Arnold,69,Veterinarian\\n',\n",
       " '4000676,Joann,Stanley,47,Computer hardware engineer\\n',\n",
       " '4000677,Audrey,Field,70,Carpenter\\n',\n",
       " '4000678,Walter,Farmer,50,Human resources assistant\\n',\n",
       " '4000679,Herbert,Jernigan,59,\\n',\n",
       " '4000680,Harold,Bowers,57,Librarian\\n',\n",
       " '4000681,Sherry,Crabtree,55,Actor\\n',\n",
       " '4000682,Jeanne,Crabtree,24,Pharmacist\\n',\n",
       " '4000683,Rick,Clements,61,Nurse\\n',\n",
       " '4000684,Kristen,Spivey,59,Chemist\\n',\n",
       " '4000685,Patrick,Archer,27,Veterinarian\\n',\n",
       " '4000686,Sherri,Owen,66,Childcare worker\\n',\n",
       " '4000687,Herbert,Strickland,74,Accountant\\n',\n",
       " '4000688,Miriam,Berg,25,Judge\\n',\n",
       " '4000689,Maurice,Gibbons,60,Coach\\n',\n",
       " '4000690,Sandy,Warner,55,Judge\\n',\n",
       " '4000691,Shannon,Bray,69,Designer\\n',\n",
       " '4000692,Bradley,Eason,39,Doctor\\n',\n",
       " '4000693,Lester,Hoover,67,Computer hardware engineer\\n',\n",
       " '4000694,Tom,Park,54,Doctor\\n',\n",
       " '4000695,Chris,Anderson,52,\\n',\n",
       " '4000696,Milton,Li,33,Doctor\\n',\n",
       " '4000697,Eugene,Elmore,31,Dancer\\n',\n",
       " '4000698,Ashley,Pearson,52,Judge\\n',\n",
       " '4000699,Lois,Harper,36,Politician\\n',\n",
       " '4000700,Annette,Chu,39,Computer support specialist\\n',\n",
       " '4000701,Jenny,Schultz,56,Computer support specialist\\n',\n",
       " '4000702,Zachary,Black,26,Childcare worker\\n',\n",
       " '4000703,Barry,Mitchell,66,Pharmacist\\n',\n",
       " '4000704,Jerome,Sharp,56,Athlete\\n',\n",
       " '4000705,Cynthia,Glover,69,Physicist\\n',\n",
       " '4000706,Marilyn,Cates,32,Automotive mechanic\\n',\n",
       " '4000707,Natalie,Martin,52,Physicist\\n',\n",
       " '4000708,Brenda,Lowry,57,Statistician\\n',\n",
       " '4000709,Marsha,Cooke,28,Photographer\\n',\n",
       " '4000710,William,Fink,44,Veterinarian\\n',\n",
       " '4000711,Gloria,Barrett,36,Farmer\\n',\n",
       " '4000712,Lester,Olson,62,Lawyer\\n',\n",
       " '4000713,Vanessa,Melton,40,Veterinarian\\n',\n",
       " '4000714,Pauline,Coley,74,Farmer\\n',\n",
       " '4000715,Hannah,Mueller,26,Artist\\n',\n",
       " '4000716,Warren,Paul,32,Politician\\n',\n",
       " '4000717,Teresa,Daniel,26,Statistician\\n',\n",
       " '4000718,Joan,Padgett,39,Agricultural and food scientist\\n',\n",
       " '4000719,Jonathan,Daniels,28,Writer\\n',\n",
       " '4000720,Denise,Hayes,34,Psychologist\\n',\n",
       " '4000721,Bobby,Hines,26,Pilot\\n',\n",
       " '4000722,Erin,Pridgen,44,Carpenter\\n',\n",
       " '4000723,Harry,Stone,64,Computer support specialist\\n',\n",
       " '4000724,Priscilla,Hayes,28,Computer support specialist\\n',\n",
       " '4000725,Renee,Harris,65,Architect\\n',\n",
       " '4000726,Bob,Walter,72,Statistician\\n',\n",
       " '4000727,Julian,Woods,40,Financial analyst\\n',\n",
       " '4000728,Annie,Jennings,35,Nurse\\n',\n",
       " '4000729,Wendy,Lopez,37,Politician\\n',\n",
       " '4000730,Bernard,McCarthy,41,Electrician\\n',\n",
       " '4000731,Alvin,Frederick,27,Recreation and fitness worker\\n',\n",
       " '4000732,Denise,Lopez,60,Veterinarian\\n',\n",
       " '4000733,Gary,Scarborough,27,Firefighter\\n',\n",
       " '4000734,Oscar,Brandt,65,Firefighter\\n',\n",
       " '4000735,Nina,Nolan,70,Librarian\\n',\n",
       " '4000736,Ann,Chandler,25,Electrician\\n',\n",
       " '4000737,Shirley,Carlton,57,Librarian\\n',\n",
       " '4000738,Joanne,Katz,60,Recreation and fitness worker\\n',\n",
       " '4000739,Patsy,Parrott,41,Therapist\\n',\n",
       " '4000740,Franklin,Corbett,75,Firefighter\\n',\n",
       " '4000741,Bradley,Godfrey,34,Photographer\\n',\n",
       " '4000742,Marguerite,Cooke,56,Computer support specialist\\n',\n",
       " '4000743,Sherri,Pate,61,Accountant\\n',\n",
       " '4000744,Dorothy,Barber,39,Firefighter\\n',\n",
       " '4000745,Brent,Fletcher,68,Photographer\\n',\n",
       " '4000746,Regina,Schroeder,34,Environmental scientist\\n',\n",
       " '4000747,Calvin,Lindsay,35,Firefighter\\n',\n",
       " '4000748,Gilbert,Boswell,37,Financial analyst\\n',\n",
       " '4000749,Wesley,Buckley,60,Nurse\\n',\n",
       " '4000750,Erika,Harmon,53,Dancer\\n',\n",
       " '4000751,Don,Walters,70,Electrical engineer\\n',\n",
       " '4000752,Ethel,Stevens,23,Designer\\n',\n",
       " '4000753,Rodney,Knight,29,Carpenter\\n',\n",
       " '4000754,Dennis,Rowland,72,Coach\\n',\n",
       " '4000755,Zachary,Lindsay,67,Agricultural and food scientist\\n',\n",
       " '4000756,Harriet,Bowling,40,Pharmacist\\n',\n",
       " '4000757,Amanda,Kirby,24,Electrician\\n',\n",
       " '4000758,Jose,Benson,65,Computer hardware engineer\\n',\n",
       " '4000759,Lynn,Anthony,43,Social worker\\n',\n",
       " '4000760,Shelley,Dunn,27,Chemist\\n',\n",
       " '4000761,Mike,Hill,51,Chemist\\n',\n",
       " '4000762,Laurence,Lang,58,Teacher\\n',\n",
       " '4000763,Amanda,Grimes,31,Physicist\\n',\n",
       " '4000764,Bernard,Bowers,38,Loan officer\\n',\n",
       " '4000765,Janice,Bowden,21,Politician\\n',\n",
       " '4000766,Hazel,Underwood,71,Agricultural and food scientist\\n',\n",
       " '4000767,Luis,Zhang,24,Pharmacist\\n',\n",
       " '4000768,Ralph,Godwin,54,Judge\\n',\n",
       " '4000769,Geraldine,Rice,53,Judge\\n',\n",
       " '4000770,Claire,Townsend,57,Financial analyst\\n',\n",
       " '4000771,Jeanne,Lin,70,Computer hardware engineer\\n',\n",
       " '4000772,Willie,Pitts,29,Actor\\n',\n",
       " '4000773,Alfred,Koch,62,Judge\\n',\n",
       " '4000774,Eddie,Callahan,43,Pilot\\n',\n",
       " '4000775,Christopher,Long,34,Environmental scientist\\n',\n",
       " '4000776,Phyllis,Norton,28,Economist\\n',\n",
       " '4000777,Peggy,Blackburn,57,Police officer\\n',\n",
       " \"4000778,Elaine,O'Connell,70,Agricultural and food scientist\\n\",\n",
       " '4000779,Jason,Bowling,21,Coach\\n',\n",
       " '4000780,Neal,Robinson,75,Artist\\n',\n",
       " '4000781,Diana,Pritchard,73,Therapist\\n',\n",
       " '4000782,Nina,Lawson,51,Loan officer\\n',\n",
       " '4000783,Maxine,Dickerson,57,Photographer\\n',\n",
       " '4000784,Ted,Livingston,70,Economist\\n',\n",
       " '4000785,Allen,Hansen,33,Secretary\\n',\n",
       " '4000786,Gordon,Berman,41,Teacher\\n',\n",
       " '4000787,Billy,Carroll,27,Librarian\\n',\n",
       " '4000788,Veronica,Kearney,38,Photographer\\n',\n",
       " '4000789,Hazel,Peterson,60,Designer\\n',\n",
       " '4000790,Eddie,Richards,40,Chemist\\n',\n",
       " '4000791,Katherine,Sutherland,25,Dancer\\n',\n",
       " '4000792,William,McCormick,64,Politician\\n',\n",
       " '4000793,Nina,Beach,48,Civil engineer\\n',\n",
       " '4000794,Ben,Wu,51,Environmental scientist\\n',\n",
       " '4000795,Frances,Hunt,33,Artist\\n',\n",
       " '4000796,Thelma,Carver,71,Teacher\\n',\n",
       " '4000797,Dennis,Anthony,56,Musician\\n',\n",
       " '4000798,Christina,Livingston,48,Police officer\\n',\n",
       " '4000799,James,Floyd,51,Accountant\\n',\n",
       " '4000800,Frederick,McCall,67,Veterinarian\\n',\n",
       " '4000801,Alfred,Haynes,36,Farmer\\n',\n",
       " '4000802,Oscar,Gunter,36,Musician\\n',\n",
       " '4000803,Joanne,Solomon,48,Doctor\\n',\n",
       " '4000804,Richard,Harris,27,Actor\\n',\n",
       " '4000805,Christine,Cline,36,Police officer\\n',\n",
       " '4000806,Theodore,McKay,33,Accountant\\n',\n",
       " '4000807,Jack,Braun,68,Financial analyst\\n',\n",
       " '4000808,Rhonda,Preston,49,Actor\\n',\n",
       " '4000809,Beth,Hayes,59,Designer\\n',\n",
       " '4000810,Douglas,Burnette,41,Secretary\\n',\n",
       " '4000811,Joe,Finch,45,Dancer\\n',\n",
       " '4000812,Sue,Levine,37,Farmer\\n',\n",
       " '4000813,Dennis,Lynch,66,Teacher\\n',\n",
       " '4000814,Sandra,Simpson,28,Social worker\\n',\n",
       " '4000815,Julie,Galloway,53,Actor\\n',\n",
       " '4000816,Henry,Dickson,51,Electrical engineer\\n',\n",
       " '4000817,Vernon,Murphy,57,Firefighter\\n',\n",
       " '4000818,Lloyd,Cannon,30,Nurse\\n',\n",
       " '4000819,Chris,Fleming,43,Social worker\\n',\n",
       " '4000820,George,Hanson,32,Pharmacist\\n',\n",
       " '4000821,Warren,Blackwell,72,Computer software engineer\\n',\n",
       " '4000822,Connie,Zimmerman,45,Computer hardware engineer\\n',\n",
       " '4000823,Theresa,Dyer,60,Veterinarian\\n',\n",
       " '4000824,Harvey,Greenberg,65,Economist\\n',\n",
       " '4000825,Janet,Quinn,49,Secretary\\n',\n",
       " '4000826,Charlene,Sullivan,72,Librarian\\n',\n",
       " '4000827,Gayle,Stanley,27,Coach\\n',\n",
       " '4000828,Julian,Hendrix,66,Electrical engineer\\n',\n",
       " '4000829,Paula,Barber,70,Nurse\\n',\n",
       " '4000830,Geraldine,High,30,Human resources assistant\\n',\n",
       " '4000831,Constance,Pickett,57,Electrical engineer\\n',\n",
       " '4000832,Brian,Copeland,72,Loan officer\\n',\n",
       " '4000833,Vivian,Beck,74,Recreation and fitness worker\\n',\n",
       " '4000834,Kim,McKenna,65,Childcare worker\\n',\n",
       " '4000835,Sarah,King,39,Reporter\\n',\n",
       " '4000836,Holly,Stone,33,Coach\\n',\n",
       " '4000837,Brett,Benton,59,Librarian\\n',\n",
       " '4000838,Frances,Boyette,37,Chemist\\n',\n",
       " '4000839,Phyllis,Byers,25,Environmental scientist\\n',\n",
       " '4000840,Gwendolyn,Cook,74,Firefighter\\n',\n",
       " '4000841,Carl,Nixon,42,Athlete\\n',\n",
       " '4000842,Marianne,Mayo,25,Coach\\n',\n",
       " '4000843,Gayle,Hardison,71,Coach\\n',\n",
       " '4000844,Jim,Marks,39,Firefighter\\n',\n",
       " '4000845,Lynda,Ball,26,Economist\\n',\n",
       " '4000846,Thomas,Kirk,53,Politician\\n',\n",
       " '4000847,Natalie,Cooke,66,Police officer\\n',\n",
       " '4000848,Brooke,Sutton,54,Psychologist\\n',\n",
       " '4000849,Darlene,Gibson,64,Childcare worker\\n',\n",
       " '4000850,Lloyd,Haynes,34,Civil engineer\\n',\n",
       " '4000851,Sherri,Klein,69,Nurse\\n',\n",
       " '4000852,Ruth,Tyson,46,Librarian\\n',\n",
       " '4000853,Vicki,Payne,73,Judge\\n',\n",
       " '4000854,Nelson,Francis,31,Computer hardware engineer\\n',\n",
       " '4000855,Courtney,Roth,59,Automotive mechanic\\n',\n",
       " '4000856,Claude,Nixon,71,Firefighter\\n',\n",
       " '4000857,Louise,Coble,38,Lawyer\\n',\n",
       " '4000858,Vivian,Walters,62,Psychologist\\n',\n",
       " '4000859,Marcia,Hewitt,63,Computer software engineer\\n',\n",
       " '4000860,Amy,Langley,30,Artist\\n',\n",
       " '4000861,Chris,Scott,58,Electrician\\n',\n",
       " '4000862,Edgar,Willis,36,Politician\\n',\n",
       " '4000863,Willie,Denton,73,Secretary\\n',\n",
       " '4000864,Renee,Daly,52,Childcare worker\\n',\n",
       " '4000865,Robyn,Lam,49,Lawyer\\n',\n",
       " '4000866,Patrick,Fox,52,Childcare worker\\n',\n",
       " '4000867,Wade,Franklin,30,Electrician\\n',\n",
       " '4000868,Courtney,McIntosh,72,Real estate agent\\n',\n",
       " '4000869,Bonnie,Tyler,30,Farmer\\n',\n",
       " '4000870,Douglas,Hanna,63,Judge\\n',\n",
       " '4000871,Neal,Davenport,62,Photographer\\n',\n",
       " '4000872,Scott,Barton,33,Photographer\\n',\n",
       " '4000873,Justin,Chambers,52,Computer support specialist\\n',\n",
       " '4000874,Debra,Thomas,74,Veterinarian\\n',\n",
       " '4000875,Norman,Arthur,26,Photographer\\n',\n",
       " '4000876,Audrey,Law,23,Physicist\\n',\n",
       " '4000877,Franklin,Coley,59,Electrician\\n',\n",
       " '4000878,Chris,Vaughn,36,Accountant\\n',\n",
       " '4000879,Bobby,Case,38,Artist\\n',\n",
       " '4000880,Karen,Reed,71,Therapist\\n',\n",
       " '4000881,Carl,Hardy,32,Recreation and fitness worker\\n',\n",
       " '4000882,Yvonne,Beatty,43,Real estate agent\\n',\n",
       " '4000883,Henry,Dale,71,Veterinarian\\n',\n",
       " '4000884,Danielle,Russell,54,Pharmacist\\n',\n",
       " '4000885,Allison,Whitley,74,Carpenter\\n',\n",
       " '4000886,Guy,Curry,48,Lawyer\\n',\n",
       " '4000887,Caroline,McNeill,33,Accountant\\n',\n",
       " '4000888,Tammy,Franklin,58,Dancer\\n',\n",
       " '4000889,Caroline,Lindsay,43,Loan officer\\n',\n",
       " '4000890,Hannah,Casey,30,\\n',\n",
       " '4000891,Sharon,Meadows,54,Teacher\\n',\n",
       " '4000892,Ricky,Casey,64,Athlete\\n',\n",
       " '4000893,Gene,Love,59,Pilot\\n',\n",
       " '4000894,Frances,Fitzpatrick,53,Athlete\\n',\n",
       " '4000895,Sean,Mann,44,Nurse\\n',\n",
       " '4000896,Florence,Knowles,66,Secretary\\n',\n",
       " '4000897,Thelma,Hale,22,Real estate agent\\n',\n",
       " '4000898,Christian,Carlson,70,Athlete\\n',\n",
       " '4000899,Jordan,Barefoot,66,Environmental scientist\\n',\n",
       " '4000900,Jessica,Warren,61,Real estate agent\\n',\n",
       " '4000901,Lynne,Nelson,66,Actor\\n',\n",
       " '4000902,Anita,Lancaster,49,Human resources assistant\\n',\n",
       " '4000903,Jill,Kay,59,Reporter\\n',\n",
       " '4000904,Nathan,Burgess,47,Librarian\\n',\n",
       " '4000905,Brenda,Fitzpatrick,60,Photographer\\n',\n",
       " '4000906,Kathleen,Davies,40,Real estate agent\\n',\n",
       " '4000907,Randall,Moran,46,Musician\\n',\n",
       " '4000908,Carole,Ashley,59,Veterinarian\\n',\n",
       " '4000909,Penny,Caldwell,67,Musician\\n',\n",
       " '4000910,Megan,Kelley,69,Childcare worker\\n',\n",
       " '4000911,Cynthia,Mack,64,Athlete\\n',\n",
       " '4000912,Maria,Reilly,64,Pilot\\n',\n",
       " '4000913,Lucy,Copeland,36,Police officer\\n',\n",
       " '4000914,Sheryl,Love,64,Human resources assistant\\n',\n",
       " '4000915,Lucille,Conrad,64,Therapist\\n',\n",
       " '4000916,Warren,Padgett,55,Pharmacist\\n',\n",
       " '4000917,Gary,Poole,35,Artist\\n',\n",
       " '4000918,Leah,McKinney,64,Reporter\\n',\n",
       " '4000919,Lewis,Sawyer,31,Agricultural and food scientist\\n',\n",
       " '4000920,Guy,Dalton,69,Computer hardware engineer\\n',\n",
       " '4000921,Maria,Carey,37,Pharmacist\\n',\n",
       " '4000922,Maria,Stuart,35,Pilot\\n',\n",
       " '4000923,Maureen,Bowles,37,Social worker\\n',\n",
       " '4000924,Gina,Singleton,32,Environmental scientist\\n',\n",
       " '4000925,Todd,Britt,62,Environmental scientist\\n',\n",
       " '4000926,Katherine,Owens,46,Electrician\\n',\n",
       " '4000927,Lillian,Davenport,44,Teacher\\n',\n",
       " '4000928,Jennifer,Cox,36,Police officer\\n',\n",
       " '4000929,Jeff,Barton,49,Pharmacist\\n',\n",
       " '4000930,Jerome,Cooke,60,Architect\\n',\n",
       " '4000931,Greg,Tilley,58,Computer support specialist\\n',\n",
       " '4000932,Stacy,Pugh,57,Human resources assistant\\n',\n",
       " '4000933,Joel,Schultz,72,Financial analyst\\n',\n",
       " '4000934,Shannon,Connor,29,Reporter\\n',\n",
       " '4000935,Oscar,Herbert,35,Environmental scientist\\n',\n",
       " '4000936,Tina,Aycock,71,Physicist\\n',\n",
       " '4000937,Randy,Barry,60,Physicist\\n',\n",
       " '4000938,Claire,Bishop,22,Lawyer\\n',\n",
       " '4000939,Tony,Garrett,61,Firefighter\\n',\n",
       " '4000940,Sidney,Bailey,45,Agricultural and food scientist\\n',\n",
       " '4000941,Tracy,Riddle,60,Designer\\n',\n",
       " '4000942,Anna,Sawyer,73,Librarian\\n',\n",
       " '4000943,Luis,Burnett,72,Firefighter\\n',\n",
       " '4000944,Mary,Boyette,59,\\n',\n",
       " '4000945,Alfred,McKenzie,30,Doctor\\n',\n",
       " '4000946,Dianne,Sinclair,59,Electrician\\n',\n",
       " '4000947,Keith,Cannon,36,Politician\\n',\n",
       " '4000948,Leah,Freeman,59,Actor\\n',\n",
       " '4000949,Marc,Wallace,65,Musician\\n',\n",
       " '4000950,Vickie,Gilbert,29,Physicist\\n',\n",
       " '4000951,Ross,McNamara,42,Librarian\\n',\n",
       " '4000952,Roy,Mullen,51,Recreation and fitness worker\\n',\n",
       " '4000953,Judy,Bradshaw,28,Psychologist\\n',\n",
       " '4000954,Kimberly,Hinson,56,Engineering technician\\n',\n",
       " '4000955,Helen,Jordan,34,Recreation and fitness worker\\n',\n",
       " '4000956,Greg,Berger,27,Physicist\\n',\n",
       " '4000957,Tracey,Upchurch,35,Environmental scientist\\n',\n",
       " '4000958,Danny,Bowers,72,Pilot\\n',\n",
       " '4000959,Christy,Allison,69,Dancer\\n',\n",
       " '4000960,Dorothy,Alexander,67,Lawyer\\n',\n",
       " '4000961,Charles,Coley,72,Designer\\n',\n",
       " '4000962,Malcolm,Riley,63,Financial analyst\\n',\n",
       " \"4000963,Emily,O'Brien,56,Childcare worker\\n\",\n",
       " '4000964,Randall,Vaughan,30,Doctor\\n',\n",
       " '4000965,Stacey,Hartman,62,Designer\\n',\n",
       " '4000966,Gene,Chung,71,Economist\\n',\n",
       " '4000967,Bob,Fischer,71,Automotive mechanic\\n',\n",
       " '4000968,Regina,Sellers,42,Politician\\n',\n",
       " '4000969,Jeanette,Montgomery,26,Reporter\\n',\n",
       " '4000970,Judith,Snow,29,Politician\\n',\n",
       " '4000971,Megan,McKnight,32,Physicist\\n',\n",
       " '4000972,Betsy,McMahon,60,Designer\\n',\n",
       " '4000973,Chris,Chu,26,Judge\\n',\n",
       " '4000974,Cheryl,Crews,72,Accountant\\n',\n",
       " '4000975,Vickie,Sharma,53,Statistician\\n',\n",
       " '4000976,Marion,Puckett,32,Real estate agent\\n',\n",
       " '4000977,Katharine,Pappas,73,Doctor\\n',\n",
       " '4000978,Neil,Sharpe,74,Police officer\\n',\n",
       " '4000979,Eileen,Olson,51,Judge\\n',\n",
       " '4000980,Lester,Desai,34,Librarian\\n',\n",
       " '4000981,Suzanne,Bowden,71,Musician\\n',\n",
       " '4000982,Teresa,Hardy,41,Physicist\\n',\n",
       " '4000983,Edgar,Stuart,44,Pilot\\n',\n",
       " '4000984,Ann,Branch,75,Computer hardware engineer\\n',\n",
       " '4000985,Anna,Harrell,41,Secretary\\n',\n",
       " '4000986,Jeanette,Bowman,54,Firefighter\\n',\n",
       " '4000987,Christina,Hubbard,25,Financial analyst\\n',\n",
       " '4000988,Marcus,Nash,55,Nurse\\n',\n",
       " '4000989,Tara,Wolfe,60,Artist\\n',\n",
       " '4000990,Guy,Warren,40,Loan officer\\n',\n",
       " '4000991,Albert,Brock,41,Actor\\n',\n",
       " '4000992,Mark,Clarke,47,Photographer\\n',\n",
       " '4000993,Dean,Leach,29,Pharmacist\\n',\n",
       " '4000994,Tracy,Raynor,59,Electrical engineer\\n',\n",
       " '4000995,Courtney,Hardy,33,Electrical engineer\\n',\n",
       " '4000996,Martin,Stephens,29,Secretary\\n',\n",
       " '4000997,Martin,Hester,31,Lawyer\\n',\n",
       " '4000998,Marian,Murphy,32,Physicist\\n',\n",
       " '4000999,Elsie,Capps,74,Human resources assistant\\n',\n",
       " '4001000,Kim,McCormick,23,Lawyer\\n',\n",
       " ...]"
      ]
     },
     "execution_count": 119,
     "metadata": {},
     "output_type": "execute_result"
    }
   ],
   "source": [
    "data = file.readlines()\n",
    "data"
   ]
  },
  {
   "cell_type": "markdown",
   "metadata": {},
   "source": [
    "###### Ex. How many customer records are available?"
   ]
  },
  {
   "cell_type": "code",
   "execution_count": 120,
   "metadata": {},
   "outputs": [
    {
     "data": {
      "text/plain": [
       "9999"
      ]
     },
     "execution_count": 120,
     "metadata": {},
     "output_type": "execute_result"
    }
   ],
   "source": [
    "len(data)"
   ]
  },
  {
   "cell_type": "markdown",
   "metadata": {},
   "source": [
    "###### Ex. Extract all pilots from the data. or How many customers are Pilots?"
   ]
  },
  {
   "cell_type": "code",
   "execution_count": 125,
   "metadata": {},
   "outputs": [],
   "source": [
    "pilots = list(filter(lambda row : \"Pilot\" in row , data))"
   ]
  },
  {
   "cell_type": "code",
   "execution_count": 126,
   "metadata": {},
   "outputs": [
    {
     "data": {
      "text/plain": [
       "209"
      ]
     },
     "execution_count": 126,
     "metadata": {},
     "output_type": "execute_result"
    }
   ],
   "source": [
    "len(pilots)"
   ]
  },
  {
   "attachments": {},
   "cell_type": "markdown",
   "metadata": {},
   "source": [
    "#### Problem statement - \n",
    "\n",
    "1. `Pilot` should specifically the profession and not a sub-string in fname/lname\n",
    "2. Extract and count all the senior citizens (age >= 60)\n",
    "\n",
    "Hint - \n",
    "\n",
    "1. Clean the data\n",
    "2. Store the data as a list of list"
   ]
  },
  {
   "cell_type": "markdown",
   "metadata": {},
   "source": [
    "<hr><hr>"
   ]
  },
  {
   "cell_type": "markdown",
   "metadata": {
    "jp-MarkdownHeadingCollapsed": true
   },
   "source": [
    "## Object Oriented Programing"
   ]
  },
  {
   "cell_type": "markdown",
   "metadata": {},
   "source": [
    "**1. Classes**: Blueprints for creating objects that encapsulate data and behavior.\n",
    "\n",
    "**2. Objects**: Instances of classes representing real-world entities with attributes and methods.\n",
    "\n",
    "**3. Attributes**: Variables associated with an object or class that store data/state.\n",
    "\n",
    "**4. Methods**: Functions defined inside a class that describe behaviors or actions of an object.\n",
    "\n",
    "**5. The `__init__` method**: Special constructor method used to initialize new objects with specific values.\n",
    "\n",
    "**6. Encapsulation**: Mechanism to restrict direct access to some attributes/methods using access modifiers (public, protected, private).\n",
    "\n",
    "**7. Inheritance**: Ability of a class (child) to inherit attributes and methods from another class (parent), promoting code reuse.\n",
    "\n",
    "**8. Polymorphism**: Concept where different classes can have methods with the same name but different implementations.\n",
    "\n",
    "**9. Abstraction**: Hiding complex implementation details and showing only essential features through interfaces.\n",
    "\n",
    "**10. Self parameter**: Refers to the instance calling the method, allowing access to instance attributes and other methods within the class."
   ]
  },
  {
   "cell_type": "markdown",
   "metadata": {},
   "source": [
    "#### HTTPS Requests"
   ]
  },
  {
   "cell_type": "code",
   "execution_count": null,
   "metadata": {},
   "outputs": [],
   "source": [
    "!pip install requests"
   ]
  },
  {
   "cell_type": "code",
   "execution_count": null,
   "metadata": {},
   "outputs": [],
   "source": [
    "import requests\n"
   ]
  },
  {
   "cell_type": "markdown",
   "metadata": {},
   "source": [
    "###### Ex. Read file `customers.txt` from github"
   ]
  },
  {
   "cell_type": "code",
   "execution_count": null,
   "metadata": {},
   "outputs": [],
   "source": []
  },
  {
   "cell_type": "markdown",
   "metadata": {},
   "source": [
    "###### Ex. Print numbers of lines in the file"
   ]
  },
  {
   "cell_type": "code",
   "execution_count": null,
   "metadata": {},
   "outputs": [],
   "source": []
  },
  {
   "cell_type": "markdown",
   "metadata": {},
   "source": [
    "###### Ex. Clean data read from the file and extract information about all `Pilots`."
   ]
  },
  {
   "cell_type": "code",
   "execution_count": null,
   "metadata": {},
   "outputs": [],
   "source": []
  },
  {
   "cell_type": "markdown",
   "metadata": {},
   "source": [
    "###### Ex. Create a list of Pilots"
   ]
  },
  {
   "cell_type": "code",
   "execution_count": null,
   "metadata": {},
   "outputs": [],
   "source": []
  },
  {
   "cell_type": "markdown",
   "metadata": {},
   "source": [
    "<hr><hr>"
   ]
  }
 ],
 "metadata": {
  "kernelspec": {
   "display_name": "Python 3 (ipykernel)",
   "language": "python",
   "name": "python3"
  },
  "language_info": {
   "codemirror_mode": {
    "name": "ipython",
    "version": 3
   },
   "file_extension": ".py",
   "mimetype": "text/x-python",
   "name": "python",
   "nbconvert_exporter": "python",
   "pygments_lexer": "ipython3",
   "version": "3.12.0"
  }
 },
 "nbformat": 4,
 "nbformat_minor": 4
}
