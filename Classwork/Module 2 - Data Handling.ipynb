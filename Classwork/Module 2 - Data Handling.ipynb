{
 "cells": [
  {
   "cell_type": "markdown",
   "metadata": {},
   "source": [
    "# Data Handling Using Python"
   ]
  },
  {
   "cell_type": "markdown",
   "metadata": {
    "id": "xOzcD8n0SL0i",
    "jp-MarkdownHeadingCollapsed": true
   },
   "source": [
    "## Array - Datastructure"
   ]
  },
  {
   "cell_type": "markdown",
   "metadata": {
    "id": "LJ7zOREKSL0i",
    "jp-MarkdownHeadingCollapsed": true
   },
   "source": [
    "#### NumPy – Introduction and Installation\n",
    "\n",
    "- NumPy stands for ‘Numeric Python’\n",
    "- Used for mathematical and scientific computations\n",
    "- NumPy array is the most widely used object of the NumPy library"
   ]
  },
  {
   "cell_type": "markdown",
   "metadata": {
    "id": "fSezra2YSL0i",
    "jp-MarkdownHeadingCollapsed": true
   },
   "source": [
    "#### Installing related libraries\n",
    "- one time activity\n",
    "- can be done from terminal"
   ]
  },
  {
   "cell_type": "markdown",
   "metadata": {},
   "source": [
    "**Terminal > New Terminal**"
   ]
  },
  {
   "cell_type": "code",
   "execution_count": null,
   "metadata": {
    "id": "fSezra2YSL0i"
   },
   "outputs": [],
   "source": [
    "pip install numpy\n",
    "pip install pandas\n",
    "pip install matplotlib\n",
    "pip install seaborn"
   ]
  },
  {
   "cell_type": "markdown",
   "metadata": {
    "id": "NcOwNJMxSL0j",
    "jp-MarkdownHeadingCollapsed": true
   },
   "source": [
    "#### Importing libraries"
   ]
  },
  {
   "cell_type": "code",
   "execution_count": null,
   "metadata": {
    "id": "jbeQqcTmSL0j"
   },
   "outputs": [],
   "source": [
    "import numpy as np\n",
    "import pandas as pd\n",
    "import matplotlib.pyplot as plt\n",
    "import seaborn as sns"
   ]
  },
  {
   "cell_type": "markdown",
   "metadata": {
    "id": "ROKFWY3TSL0j"
   },
   "source": [
    "#### Definition - "
   ]
  },
  {
   "cell_type": "markdown",
   "metadata": {
    "id": "ROKFWY3TSL0j"
   },
   "source": [
    "- NumPy arrays are multidimensional, homogeneous data structures used for efficient numerical computations in Python.  \n",
    "- They are similar to Python lists but provide faster processing and require less memory.  \n",
    "- Arrays can have any number of dimensions, such as 1D (vector), 2D (matrix), or higher-dimensional arrays.  \n",
    "- All elements in a NumPy array must be of the same data type, ensuring performance optimization.  \n",
    "- NumPy supports a wide range of data types, including integers, floats, complex numbers, and more.  \n",
    "- Arrays are created using functions like `numpy.array()`, `numpy.zeros()`, `numpy.ones()`, and `numpy.arange()`.  \n",
    "- NumPy arrays support vectorized operations, enabling element-wise arithmetic without explicit loops.  \n",
    "- Slicing, indexing, and broadcasting enable efficient manipulation and computation on arrays.  \n",
    "- NumPy integrates well with other scientific computing libraries, making it essential for data science and machine learning.  \n",
    "- Arrays can be reshaped, transposed, and aggregated using built-in NumPy methods for flexible data handling."
   ]
  },
  {
   "cell_type": "markdown",
   "metadata": {
    "id": "ROKFWY3TSL0j"
   },
   "source": [
    "- **Creating Arrays**\n",
    "    - `np.array()` is used to create a numpy array from a list"
   ]
  },
  {
   "cell_type": "code",
   "execution_count": null,
   "metadata": {},
   "outputs": [],
   "source": [
    "arr = np.array([10, 20, 30, 40])\n",
    "arr"
   ]
  },
  {
   "cell_type": "code",
   "execution_count": null,
   "metadata": {},
   "outputs": [],
   "source": [
    "arr_2d = np.array([[10, 20, 30, 40], [50, 60, 70, 80]])\n",
    "arr_2d"
   ]
  },
  {
   "cell_type": "markdown",
   "metadata": {
    "id": "ROKFWY3TSL0j"
   },
   "source": [
    "- **Array Attributes** are the features/characteristics of an object that describes the object - \n",
    "    - **shape** - Array dimensions\n",
    "    - **size** - Number of array elements\n",
    "    - **dtype** - Data type of array elements\n",
    "    - **ndim** - Number of array dimensions\n",
    "    - **dtype.name** - Name of data type\n",
    "    - **astype** - Convert an array to a different type"
   ]
  },
  {
   "cell_type": "code",
   "execution_count": null,
   "metadata": {},
   "outputs": [],
   "source": [
    "arr_2d.shape"
   ]
  },
  {
   "cell_type": "code",
   "execution_count": null,
   "metadata": {},
   "outputs": [],
   "source": [
    "len(arr_2d)  # returns number of rows"
   ]
  },
  {
   "cell_type": "code",
   "execution_count": null,
   "metadata": {},
   "outputs": [],
   "source": [
    "arr_2d.size"
   ]
  },
  {
   "cell_type": "code",
   "execution_count": null,
   "metadata": {},
   "outputs": [],
   "source": [
    "arr.size"
   ]
  },
  {
   "cell_type": "code",
   "execution_count": null,
   "metadata": {},
   "outputs": [],
   "source": [
    "arr.dtype"
   ]
  },
  {
   "cell_type": "code",
   "execution_count": null,
   "metadata": {},
   "outputs": [],
   "source": [
    "arr.astype(float)"
   ]
  },
  {
   "cell_type": "code",
   "execution_count": null,
   "metadata": {},
   "outputs": [],
   "source": [
    "arr + 5"
   ]
  },
  {
   "cell_type": "markdown",
   "metadata": {},
   "source": [
    "#### Array Operations"
   ]
  },
  {
   "cell_type": "markdown",
   "metadata": {},
   "source": [
    "<table style=\"width: 80%; border-collapse: collapse; border: 1px solid #ccc; margin-left: 0; text-align: left;\"> <thead> <tr style=\"background-color: #050A30; color: white; text-align: left;\"> <th style=\"width: 15%; border: 1px solid #000; text-align: left;\">Operation</th> <th style=\"width: 25%; border: 1px solid #000; text-align: left;\">Syntax/Method</th> <th style=\"border: 1px solid #000; text-align: left;\">Description</th> </tr> </thead> <tbody> <tr> <td style=\"border: 1px solid #000; text-align: left;\">Creation</td> <td style=\"border: 1px solid #000; text-align: left;\">numpy.array(), numpy.zeros(), numpy.ones(), numpy.arange()</td> <td style=\"border: 1px solid #000; text-align: left;\">Create arrays from lists or generate arrays of zeros, ones, or ranges.</td> </tr> <tr> <td style=\"border: 1px solid #000; text-align: left;\">Indexing & Slicing</td> <td style=\"border: 1px solid #000; text-align: left;\">arr[1], arr[1:4], arr[:,2]</td> <td style=\"border: 1px solid #000; text-align: left;\">Access or modify elements, rows, columns, and subarrays efficiently.</td> </tr> <tr> <td style=\"border: 1px solid #000; text-align: left;\">Arithmetic Operations</td> <td style=\"border: 1px solid #000; text-align: left;\">arr + 2, arr1 * arr2</td> <td style=\"border: 1px solid #000; text-align: left;\">Vectorized element-wise addition, subtraction, multiplication, and division.</td> </tr> <tr> <td style=\"border: 1px solid #000; text-align: left;\">Aggregation</td> <td style=\"border: 1px solid #000; text-align: left;\">arr.sum(), arr.mean(), arr.min(), arr.max()</td> <td style=\"border: 1px solid #000; text-align: left;\">Compute sums, means, minima, maxima, and other aggregate statistics over arrays.</td> </tr> <tr> <td style=\"border: 1px solid #000; text-align: left;\">Reshaping</td> <td style=\"border: 1px solid #000; text-align: left;\">arr.reshape(new_shape)</td> <td style=\"border: 1px solid #000; text-align: left;\">Change the dimensions of an array without changing its data.</td> </tr> <tr> <td style=\"border: 1px solid #000; text-align: left;\">Stacking & Splitting</td> <td style=\"border: 1px solid #000; text-align: left;\">numpy.vstack(), numpy.hstack(), numpy.split()</td> <td style=\"border: 1px solid #000; text-align: left;\">Combine multiple arrays vertically or horizontally and split arrays into subarrays.</td> </tr> <tr> <td style=\"border: 1px solid #000; text-align: left;\">Broadcasting</td> <td style=\"border: 1px solid #000; text-align: left;\">arr + scalar, arr1 + arr2(shape mismatch)</td> <td style=\"border: 1px solid #000; text-align: left;\">Perform operations on arrays of different shapes by automatically expanding smaller arrays.</td> </tr> <tr> <td style=\"border: 1px solid #000; text-align: left;\">Sorting</td> <td style=\"border: 1px solid #000; text-align: left;\">arr.sort(), numpy.sort(arr)</td> <td style=\"border: 1px solid #000; text-align: left;\">Sort elements in an array in-place or return a sorted copy.</td> </tr> <tr> <td style=\"border: 1px solid #000; text-align: left;\">Transposing</td> <td style=\"border: 1px solid #000; text-align: left;\">arr.T</td> <td style=\"border: 1px solid #000; text-align: left;\">Swap rows and columns in 2D arrays (matrices).</td> </tr> <tr> <td style=\"border: 1px solid #000; text-align: left;\">Copying</td> <td style=\"border: 1px solid #000; text-align: left;\">arr.copy()</td> <td style=\"border: 1px solid #000; text-align: left;\">Create a deep copy of an array to avoid modifying the original.</td> </tr> </tbody> </table>"
   ]
  },
  {
   "cell_type": "markdown",
   "metadata": {},
   "source": [
    "#### Problem Definition (CityFlow Shuttle Service, Mumbai):\n",
    "\n",
    "CityFlow operates a shuttle service across 10 key Mumbai routes, connecting residential neighborhoods to office hubs. The goal is to analyze shuttle route performance using metrics such as daily passenger counts, satisfaction scores, and shuttle frequency. Specifically, we want to:\n",
    "\n",
    "- Identify underperforming routes (low passenger numbers and/or low satisfaction scores)\n",
    "- Decide which routes may need to be closed due to poor performance\n",
    "- Highlight routes where shuttle frequency should be increased to better meet passenger demand and improve overall service quality"
   ]
  },
  {
   "cell_type": "code",
   "execution_count": null,
   "metadata": {},
   "outputs": [],
   "source": [
    "import numpy as np\n",
    "\n",
    "# Shuttle service route names\n",
    "routes = np.array(['Route A', 'Route B', 'Route C', 'Route D', 'Route E','Route F', 'Route G', 'Route H', 'Route I', 'Route J'])\n",
    "\n",
    "# Daily passenger counts \n",
    "passenger_count = np.array([576, 432, 288, 518, 150, 720, 300, 240, 400, 265])\n",
    "\n",
    "# Target daily passenger counts\n",
    "target_passengers = np.array([500, 420, 225, 405, 200, 650, 320, 280, 450, 250])\n",
    "\n",
    "# Shuttle frequency per route (trips per day)\n",
    "shuttle_frequency = np.array([20, 15, 10, 18, 8, 25, 12, 10, 16, 9])\n",
    "\n",
    "# Passenger satisfaction scores out of 10\n",
    "satisfaction_score = np.array([8.5, 7.0, 5.8, 9.0, 4.5, 9.2, 7.5, 6.0, 8.0, 5.0])\n",
    "\n",
    "# Profit generated from each route\n",
    "profit_generated = np.array([40000, 25000, 19008, 45066, -2000, 48600, 19980, 15192, 24600, 14310])\n",
    "\n",
    "# Target profit for each route\n",
    "target_profit = np.array([30000, 22680, 14850, 35235, 6000, 43875, 21312, 17724, 27675, 13500])"
   ]
  },
  {
   "cell_type": "markdown",
   "metadata": {},
   "source": [
    "###### Ex. How many shuttle routes are covered by cityflow?"
   ]
  },
  {
   "cell_type": "code",
   "execution_count": null,
   "metadata": {},
   "outputs": [],
   "source": [
    "routes.size"
   ]
  },
  {
   "cell_type": "markdown",
   "metadata": {},
   "source": [
    "###### Ex. Which shuttle route has the highest passenger count?"
   ]
  },
  {
   "cell_type": "code",
   "execution_count": null,
   "metadata": {},
   "outputs": [],
   "source": [
    "passenger_count.max()"
   ]
  },
  {
   "cell_type": "code",
   "execution_count": null,
   "metadata": {},
   "outputs": [],
   "source": [
    "passenger_count.argmax() # gives index position of the largest value"
   ]
  },
  {
   "cell_type": "code",
   "execution_count": null,
   "metadata": {},
   "outputs": [],
   "source": [
    "routes[passenger_count.argmax()] # indexing - returns a str object"
   ]
  },
  {
   "cell_type": "code",
   "execution_count": null,
   "metadata": {},
   "outputs": [],
   "source": [
    "passenger_count == passenger_count.max() # returns a bool array"
   ]
  },
  {
   "cell_type": "code",
   "execution_count": null,
   "metadata": {},
   "outputs": [],
   "source": [
    "routes[passenger_count == passenger_count.max()] # bool-indexing/Filtering and returns an array object"
   ]
  },
  {
   "cell_type": "code",
   "execution_count": null,
   "metadata": {},
   "outputs": [],
   "source": [
    "value = routes[passenger_count == passenger_count.max()]\n",
    "value[0] # further indexing/iteration to extract individual value"
   ]
  },
  {
   "cell_type": "code",
   "execution_count": null,
   "metadata": {},
   "outputs": [],
   "source": [
    "routes[0] # first"
   ]
  },
  {
   "cell_type": "code",
   "execution_count": null,
   "metadata": {},
   "outputs": [],
   "source": [
    "routes[-1] # last"
   ]
  },
  {
   "cell_type": "code",
   "execution_count": null,
   "metadata": {},
   "outputs": [],
   "source": [
    "routes[0:3] # slicing"
   ]
  },
  {
   "cell_type": "code",
   "execution_count": null,
   "metadata": {},
   "outputs": [],
   "source": [
    "routes[-3 :] # last 3 - slicing"
   ]
  },
  {
   "cell_type": "code",
   "execution_count": null,
   "metadata": {},
   "outputs": [],
   "source": [
    "routes[[5, 2, 7]] # slicing with index positions"
   ]
  },
  {
   "cell_type": "markdown",
   "metadata": {},
   "source": [
    "###### Ex. Identify routes with passenger satisfaction scores below 6.0."
   ]
  },
  {
   "cell_type": "code",
   "execution_count": null,
   "metadata": {},
   "outputs": [],
   "source": [
    "routes[satisfaction_score < 6.0]"
   ]
  },
  {
   "cell_type": "markdown",
   "metadata": {},
   "source": [
    "###### Ex. Which routes are not meeting their target passenger counts?"
   ]
  },
  {
   "cell_type": "code",
   "execution_count": null,
   "metadata": {},
   "outputs": [],
   "source": [
    "routes[passenger_count < target_passengers]"
   ]
  },
  {
   "cell_type": "markdown",
   "metadata": {},
   "source": [
    "###### Ex. Should any routes be considered for closure due to low passengers and low satisfaction? If yes, which ones?\n",
    "\n",
    "-  low passengers - passengers < 300\n",
    "-  low satisfaction - score < 6.0"
   ]
  },
  {
   "cell_type": "code",
   "execution_count": null,
   "metadata": {},
   "outputs": [],
   "source": [
    "if np.any((passenger_count<300) & (satisfaction_score<6.0)) :\n",
    "    print(f\"Yes - {routes[(passenger_count<300) & (satisfaction_score<6.0)]}\")\n",
    "else:\n",
    "    print(\"No routes to be considered\")"
   ]
  },
  {
   "cell_type": "code",
   "execution_count": null,
   "metadata": {},
   "outputs": [],
   "source": [
    "lst = []\n",
    "if lst :\n",
    "    print(\"yes\")\n",
    "else:\n",
    "    print(\"empty\")"
   ]
  },
  {
   "cell_type": "code",
   "execution_count": null,
   "metadata": {},
   "outputs": [],
   "source": [
    "result = routes[(passenger_count<10) & (satisfaction_score<6.0)]\n",
    "result"
   ]
  },
  {
   "cell_type": "code",
   "execution_count": null,
   "metadata": {},
   "outputs": [],
   "source": [
    "arr = np.array([0, 1, 2, 3])\n",
    "np.all(arr)  # All values in array must be True"
   ]
  },
  {
   "cell_type": "code",
   "execution_count": null,
   "metadata": {},
   "outputs": [],
   "source": [
    "np.any(arr)  # Any one value in the array must be True"
   ]
  },
  {
   "cell_type": "markdown",
   "metadata": {},
   "source": [
    "###### Ex. List routes that are meeting or exceeding their passenger count targets."
   ]
  },
  {
   "cell_type": "code",
   "execution_count": null,
   "metadata": {},
   "outputs": [],
   "source": [
    "routes[passenger_count >= target_passengers]"
   ]
  },
  {
   "cell_type": "markdown",
   "metadata": {},
   "source": [
    "###### Ex. Which routes might benefit from increasing shuttle frequency to meet demand?\n",
    "\n",
    "HINT - \n",
    "1. Calculate passengers per trip for each route\n",
    "2. Calculate average passengers per trip across all routes\n",
    "3. Identify routes where passengers per trip exceed average, indicating a potential need to increase frequency"
   ]
  },
  {
   "cell_type": "code",
   "execution_count": null,
   "metadata": {},
   "outputs": [],
   "source": [
    "passengers_per_trip = passenger_count/shuttle_frequency\n",
    "avg_pass_per_trip = passengers_per_trip.mean()\n",
    "routes[passengers_per_trip >= avg_pass_per_trip]"
   ]
  },
  {
   "cell_type": "markdown",
   "metadata": {},
   "source": [
    "###### Ex. Find the routes where target profit is not achieved and print the percentage target achievement in sorted order"
   ]
  },
  {
   "cell_type": "code",
   "execution_count": null,
   "metadata": {},
   "outputs": [],
   "source": [
    "condition = profit_generated < target_profit\n",
    "routes_off = routes[condition]\n",
    "targets_off = target_profit[condition]\n",
    "profits_off = profit_generated[condition]\n",
    "\n",
    "percentage = np.round(profits_off/targets_off * 100, 2)\n",
    "percentage"
   ]
  },
  {
   "cell_type": "code",
   "execution_count": null,
   "metadata": {},
   "outputs": [],
   "source": [
    "# Identify the negative values in percentage array\n",
    "percentage[percentage < 0]\n",
    "# Replace all negative in percentage array values by 0\n",
    "percentage[percentage < 0] = 0 \n",
    "percentage"
   ]
  },
  {
   "cell_type": "code",
   "execution_count": null,
   "metadata": {},
   "outputs": [],
   "source": [
    "np.sort(percentage)[::-1] # DESC order"
   ]
  },
  {
   "cell_type": "code",
   "execution_count": null,
   "metadata": {},
   "outputs": [],
   "source": [
    "np.argsort(percentage)  # ASC sort - returns the index position of the values in original array"
   ]
  },
  {
   "cell_type": "code",
   "execution_count": null,
   "metadata": {},
   "outputs": [],
   "source": [
    "sort_order = np.argsort(percentage)[::-1]\n",
    "for route, percent in zip(routes_off[sort_order], percentage[sort_order]) :\n",
    "    print(f\"{route} has achieved {percent}% of targets.\")"
   ]
  },
  {
   "cell_type": "markdown",
   "metadata": {},
   "source": [
    "<hr><hr>"
   ]
  },
  {
   "cell_type": "markdown",
   "metadata": {},
   "source": [
    "## Dataframe - Datastructure\n",
    "- Pandas is an open source library in python which is know for its rich applications and utilities for all kinds of mathematical, financial and statistical functions\n",
    "- It is useful in data manipulation and analysis\n",
    "- It provides fast, flexible, and expressive data structures designed to make working with structured (tabular, multidimensional, potentially heterogeneous) and time series data\n",
    "\n"
   ]
  },
  {
   "cell_type": "code",
   "execution_count": 1,
   "metadata": {},
   "outputs": [],
   "source": [
    "import numpy as np\n",
    "import pandas as pd\n",
    "import matplotlib.pyplot as plt\n",
    "import seaborn as sns"
   ]
  },
  {
   "cell_type": "markdown",
   "metadata": {},
   "source": [
    "### Creating Dataframes"
   ]
  },
  {
   "cell_type": "code",
   "execution_count": null,
   "metadata": {},
   "outputs": [],
   "source": [
    "employees = {\"Name\" : [\"Jack\", \"Bill\", \"Lizie\", \"Jane\", \"George\"],\n",
    "            \"Designation\" : [\"HR\", \"Manager\", \"Developer\", \"Intern\", \"Manager\"],\n",
    "            \"Salary\": [40000, 60000, 25000, 12000, 70000]}\n",
    "\n",
    "df = pd.DataFrame(employees)\n",
    "df"
   ]
  },
  {
   "cell_type": "markdown",
   "metadata": {},
   "source": [
    "##### Note - Each column of a dataframe is a Series object"
   ]
  },
  {
   "cell_type": "markdown",
   "metadata": {},
   "source": [
    "### Accessing Dataframes"
   ]
  },
  {
   "cell_type": "markdown",
   "metadata": {},
   "source": [
    "###### Ex. Extract Name column"
   ]
  },
  {
   "cell_type": "code",
   "execution_count": null,
   "metadata": {},
   "outputs": [],
   "source": [
    "df.Name  # Series object"
   ]
  },
  {
   "cell_type": "markdown",
   "metadata": {},
   "source": [
    "###### Ex. Extract first row"
   ]
  },
  {
   "cell_type": "code",
   "execution_count": null,
   "metadata": {},
   "outputs": [],
   "source": [
    "df.iloc[0] # Series object"
   ]
  },
  {
   "cell_type": "markdown",
   "metadata": {},
   "source": [
    "###### Ex. Convert series into a dataframe"
   ]
  },
  {
   "cell_type": "code",
   "execution_count": null,
   "metadata": {},
   "outputs": [],
   "source": [
    "df.Name.to_frame()"
   ]
  },
  {
   "cell_type": "markdown",
   "metadata": {},
   "source": [
    "###### Ex. Extract Name and Salary columns"
   ]
  },
  {
   "cell_type": "code",
   "execution_count": null,
   "metadata": {},
   "outputs": [],
   "source": [
    "df[[\"Name\", \"Salary\"]]"
   ]
  },
  {
   "cell_type": "markdown",
   "metadata": {},
   "source": [
    "### Setting and Re-setting index labels\n",
    "\n",
    "#### `df.set_index(keys, drop=True, inplace=False,)`\n",
    "- Set the DataFrame index (row labels) using one or more existing columns or arrays (of the correct length). The index can replace the existing index or expand on it.\n",
    "#### `df.reset_index(level=None, drop=False, inplace=False,)` \n",
    "- Reset the index of the DataFrame, and use the default one instead. If the DataFrame has a MultiIndex, this method can remove one or more levels."
   ]
  },
  {
   "cell_type": "markdown",
   "metadata": {},
   "source": [
    "###### Ex. Set Name column as row index/label"
   ]
  },
  {
   "cell_type": "code",
   "execution_count": null,
   "metadata": {},
   "outputs": [],
   "source": [
    "df.set_index(\"Name\", inplace=True)"
   ]
  },
  {
   "cell_type": "code",
   "execution_count": null,
   "metadata": {},
   "outputs": [],
   "source": [
    "df"
   ]
  },
  {
   "cell_type": "markdown",
   "metadata": {},
   "source": [
    "### Indexing and Slicing on DataFrames\n",
    "1. Based on labels - loc\n",
    "2. Based on index positions - iloc"
   ]
  },
  {
   "cell_type": "markdown",
   "metadata": {},
   "source": [
    "###### Ex. Extract data for \"Jack\""
   ]
  },
  {
   "cell_type": "code",
   "execution_count": null,
   "metadata": {},
   "outputs": [],
   "source": [
    "df.loc[\"Jack\"]"
   ]
  },
  {
   "cell_type": "markdown",
   "metadata": {},
   "source": [
    "###### Ex. Extract data for Jack and Lizie"
   ]
  },
  {
   "cell_type": "code",
   "execution_count": null,
   "metadata": {},
   "outputs": [],
   "source": [
    "df.loc[\"Jack\" : \"Lizie\"]"
   ]
  },
  {
   "cell_type": "markdown",
   "metadata": {},
   "source": [
    "###### Ex. Extract salary data for Jack and Lizie"
   ]
  },
  {
   "cell_type": "code",
   "execution_count": null,
   "metadata": {},
   "outputs": [],
   "source": [
    "df.loc[[\"Jack\", \"Lizie\"], \"Salary\"]"
   ]
  },
  {
   "cell_type": "markdown",
   "metadata": {},
   "source": [
    "###### Ex. Extract data for row index 2"
   ]
  },
  {
   "cell_type": "code",
   "execution_count": null,
   "metadata": {},
   "outputs": [],
   "source": [
    "df.iloc[2]"
   ]
  },
  {
   "cell_type": "markdown",
   "metadata": {},
   "source": [
    "###### Ex. Extract data for row index 1 to 3"
   ]
  },
  {
   "cell_type": "code",
   "execution_count": null,
   "metadata": {},
   "outputs": [],
   "source": [
    "df.iloc[1:4]"
   ]
  },
  {
   "cell_type": "markdown",
   "metadata": {},
   "source": [
    "###### Ex. Reset index"
   ]
  },
  {
   "cell_type": "code",
   "execution_count": null,
   "metadata": {},
   "outputs": [],
   "source": [
    "df.reset_index(inplace=True)\n",
    "df"
   ]
  },
  {
   "cell_type": "markdown",
   "metadata": {},
   "source": [
    "### Filtering Dataframes"
   ]
  },
  {
   "cell_type": "markdown",
   "metadata": {},
   "source": [
    "###### Ex. Extract salary > 50000"
   ]
  },
  {
   "cell_type": "code",
   "execution_count": null,
   "metadata": {},
   "outputs": [],
   "source": [
    "df[df.Salary > 50000]"
   ]
  },
  {
   "cell_type": "markdown",
   "metadata": {},
   "source": [
    "###### Ex. Extract salary between 20000 to 50000"
   ]
  },
  {
   "cell_type": "code",
   "execution_count": null,
   "metadata": {},
   "outputs": [],
   "source": [
    "df[df.Salary.between(20000, 50000)]"
   ]
  },
  {
   "cell_type": "markdown",
   "metadata": {},
   "source": [
    "###### Ex. Extract designation either as HR or Developer"
   ]
  },
  {
   "cell_type": "code",
   "execution_count": null,
   "metadata": {},
   "outputs": [],
   "source": [
    "df[df.Designation == \"HR\"]"
   ]
  },
  {
   "cell_type": "code",
   "execution_count": null,
   "metadata": {},
   "outputs": [],
   "source": [
    "df[df.Designation.isin((\"HR\", \"Developer\"))]"
   ]
  },
  {
   "cell_type": "markdown",
   "metadata": {},
   "source": [
    "###### Ex. Extract employees who name starts with J"
   ]
  },
  {
   "cell_type": "code",
   "execution_count": null,
   "metadata": {},
   "outputs": [],
   "source": [
    "df[df.Name.str.startswith(\"J\")]"
   ]
  },
  {
   "cell_type": "markdown",
   "metadata": {},
   "source": [
    "###### Ex. Modify the salary of all employees to 80000 whose original salary is > 300000"
   ]
  },
  {
   "cell_type": "code",
   "execution_count": null,
   "metadata": {},
   "outputs": [],
   "source": [
    "df[df.Salary > 30000] = 80000\n",
    "df"
   ]
  },
  {
   "cell_type": "code",
   "execution_count": null,
   "metadata": {},
   "outputs": [],
   "source": [
    "df.Salary[df.Salary > 30000] = 80000\n",
    "df"
   ]
  },
  {
   "cell_type": "code",
   "execution_count": null,
   "metadata": {},
   "outputs": [],
   "source": [
    "df.loc[df.Salary > 30000, \"Salary\"] = 80000\n",
    "df"
   ]
  },
  {
   "cell_type": "code",
   "execution_count": null,
   "metadata": {},
   "outputs": [],
   "source": [
    "employees = {\"Name\" : [\"Jack\", \"Bill\", \"Lizie\", \"Jane\", \"George\"],\n",
    "            \"Designation\" : [\"HR\", \"Manager\", \"Developer\", \"Intern\", \"Manager\"],\n",
    "            \"Salary\": [40000, 60000, 25000, 12000, 70000]}\n",
    "\n",
    "df = pd.DataFrame(employees)\n",
    "df"
   ]
  },
  {
   "cell_type": "markdown",
   "metadata": {},
   "source": [
    "### Operations on dataframes"
   ]
  },
  {
   "cell_type": "markdown",
   "metadata": {},
   "source": [
    "###### Ex. Average Salary"
   ]
  },
  {
   "cell_type": "code",
   "execution_count": null,
   "metadata": {},
   "outputs": [],
   "source": [
    "df.Salary.mean()"
   ]
  },
  {
   "cell_type": "markdown",
   "metadata": {},
   "source": [
    "###### Ex. Average Salary of managers"
   ]
  },
  {
   "cell_type": "code",
   "execution_count": null,
   "metadata": {},
   "outputs": [],
   "source": [
    "df.Salary[df.Designation == \"Manager\"].mean()"
   ]
  },
  {
   "cell_type": "markdown",
   "metadata": {},
   "source": [
    "### Concataneting and Merging Dataframes"
   ]
  },
  {
   "cell_type": "code",
   "execution_count": null,
   "metadata": {},
   "outputs": [],
   "source": [
    "df_jan = pd.DataFrame({\"Order ID\" : range(101, 104), \"Sales\" : np.random.randint(10000, 50000, 3)})\n",
    "df_feb = pd.DataFrame({\"Order ID\" : range(111, 114), \"Sales\" : np.random.randint(10000, 50000, 3)})\n",
    "df_mar = pd.DataFrame({\"Order ID\" : range(121, 124), \"Sales\" : np.random.randint(10000, 50000, 3)})"
   ]
  },
  {
   "cell_type": "markdown",
   "metadata": {},
   "source": [
    "#### Concatenate\n",
    "pd.concat(`tuple of dfs`, `ignore_index = False`, `axis=0`)"
   ]
  },
  {
   "cell_type": "code",
   "execution_count": null,
   "metadata": {},
   "outputs": [],
   "source": [
    "pd.concat((df_jan, df_feb, df_mar), ignore_index=True)"
   ]
  },
  {
   "cell_type": "markdown",
   "metadata": {},
   "source": [
    "#### Merging Dataframes\n",
    "\n",
    "`df1.merge(df2, how=\"\", on = \"\", left_on=\"\", right_on=\"\", left_index= \"\" , right_index=\"\")`"
   ]
  },
  {
   "cell_type": "code",
   "execution_count": null,
   "metadata": {},
   "outputs": [],
   "source": [
    "df_emp = pd.DataFrame({\"Name\" : [\"Jack\", \"Bill\", \"Lizie\", \"Jane\", \"George\"],\n",
    "            \"Designation\" : [\"HR\", \"Manager\", \"Developer\", \"Intern\", \"Manager\"]})\n",
    "df_emp"
   ]
  },
  {
   "cell_type": "code",
   "execution_count": null,
   "metadata": {},
   "outputs": [],
   "source": [
    "base_salaries = pd.DataFrame({\"Designation\" : [\"HR\", \"Developer\", \"Manager\", \"Senior Manager\"],\n",
    "            \"Salary\": [40000, 25000, 70000, 1000000]})\n",
    "base_salaries"
   ]
  },
  {
   "cell_type": "markdown",
   "metadata": {},
   "source": [
    "#### Inner Merge"
   ]
  },
  {
   "cell_type": "code",
   "execution_count": null,
   "metadata": {},
   "outputs": [],
   "source": [
    "df_emp.merge(base_salaries, how=\"inner\", on = \"Designation\")  # returns only common rows"
   ]
  },
  {
   "cell_type": "markdown",
   "metadata": {},
   "source": [
    "#### Left Merge"
   ]
  },
  {
   "cell_type": "code",
   "execution_count": null,
   "metadata": {},
   "outputs": [],
   "source": [
    "df_emp.merge(base_salaries, how=\"left\", on = \"Designation\")  # returns all rows from left table"
   ]
  },
  {
   "cell_type": "markdown",
   "metadata": {},
   "source": [
    "#### Right Merge"
   ]
  },
  {
   "cell_type": "code",
   "execution_count": null,
   "metadata": {},
   "outputs": [],
   "source": [
    "df_emp.merge(base_salaries, how=\"right\", on = \"Designation\")  # returns all rows from right table"
   ]
  },
  {
   "cell_type": "markdown",
   "metadata": {},
   "source": [
    "#### Outer Merge"
   ]
  },
  {
   "cell_type": "code",
   "execution_count": null,
   "metadata": {},
   "outputs": [],
   "source": [
    "df_emp.merge(base_salaries, how=\"outer\", on = \"Designation\")  # returns all rows from both tables"
   ]
  },
  {
   "cell_type": "markdown",
   "metadata": {},
   "source": [
    "<hr><hr>"
   ]
  },
  {
   "cell_type": "markdown",
   "metadata": {},
   "source": [
    "## Data Manipulation using `pandas`"
   ]
  },
  {
   "cell_type": "code",
   "execution_count": 22,
   "metadata": {},
   "outputs": [],
   "source": [
    "import numpy as np\n",
    "import pandas as pd\n",
    "import matplotlib.pyplot as plt\n",
    "import seaborn as sns\n",
    "\n",
    "plt.rcParams[\"figure.figsize\"] = (6, 2)\n",
    "# Title\n",
    "plt.rcParams['axes.titlesize'] = \"medium\"        # Title font size\n",
    "plt.rcParams['axes.titlecolor'] = 'midnightblue' # Title font color\n",
    "\n",
    "# X and Y axis labels\n",
    "plt.rcParams['axes.labelsize'] = \"x-small\"          # Label font size\n",
    "plt.rcParams['axes.labelcolor'] = 'darkslategrey' # Label font color\n",
    "\n",
    "# Tick labels\n",
    "plt.rcParams['xtick.color'] = 'darkslategrey'        # X-axis tick color\n",
    "plt.rcParams['ytick.color'] = 'darkslategrey'        # Y-axis tick color\n",
    "plt.rcParams['xtick.labelsize'] = \"x-small\"          # X-axis tick size\n",
    "plt.rcParams['ytick.labelsize'] = \"x-small\"          # Y-axis tick size\n",
    "\n",
    "# Legend\n",
    "plt.rcParams['legend.fontsize'] = \"x-small\"          # Legend text size\n",
    "plt.rcParams['legend.edgecolor'] = 'black'   # Legend border color\n",
    "plt.rcParams['legend.facecolor'] = 'lightgray' # Legend background color\n",
    "plt.rcParams['legend.labelcolor'] = 'darkslategrey'  # Legend label text color"
   ]
  },
  {
   "cell_type": "markdown",
   "metadata": {},
   "source": [
    "###### Ex. Read data from excel"
   ]
  },
  {
   "cell_type": "code",
   "execution_count": null,
   "metadata": {},
   "outputs": [],
   "source": [
    "pd.read_excel(r\"file.xlsx\", sheet_name=\"Sheet1\")\n",
    "# requires module - openpyxl | for Excel automations - xlwings"
   ]
  },
  {
   "cell_type": "markdown",
   "metadata": {},
   "source": [
    "###### Ex. Read data from coffee_sales.csv"
   ]
  },
  {
   "cell_type": "code",
   "execution_count": 130,
   "metadata": {},
   "outputs": [
    {
     "data": {
      "text/html": [
       "<div>\n",
       "<style scoped>\n",
       "    .dataframe tbody tr th:only-of-type {\n",
       "        vertical-align: middle;\n",
       "    }\n",
       "\n",
       "    .dataframe tbody tr th {\n",
       "        vertical-align: top;\n",
       "    }\n",
       "\n",
       "    .dataframe thead th {\n",
       "        text-align: right;\n",
       "    }\n",
       "</style>\n",
       "<table border=\"1\" class=\"dataframe\">\n",
       "  <thead>\n",
       "    <tr style=\"text-align: right;\">\n",
       "      <th></th>\n",
       "      <th>Unnamed: 0</th>\n",
       "      <th>Area Code</th>\n",
       "      <th>Date</th>\n",
       "      <th>Product</th>\n",
       "      <th>Product Type</th>\n",
       "      <th>State</th>\n",
       "      <th>Target Profit</th>\n",
       "      <th>Target Sales</th>\n",
       "      <th>Profit</th>\n",
       "      <th>Sales</th>\n",
       "    </tr>\n",
       "  </thead>\n",
       "  <tbody>\n",
       "    <tr>\n",
       "      <th>0</th>\n",
       "      <td>NaN</td>\n",
       "      <td>970.0</td>\n",
       "      <td>1/1/2018</td>\n",
       "      <td>Decaf Irish Cream</td>\n",
       "      <td>Coffee</td>\n",
       "      <td>Andhra Pradesh</td>\n",
       "      <td>$110.00</td>\n",
       "      <td>$240.00</td>\n",
       "      <td>$101.00</td>\n",
       "      <td>$234.00</td>\n",
       "    </tr>\n",
       "    <tr>\n",
       "      <th>1</th>\n",
       "      <td>NaN</td>\n",
       "      <td>309.0</td>\n",
       "      <td>1/1/2018</td>\n",
       "      <td>Decaf Irish Cream</td>\n",
       "      <td>Coffee</td>\n",
       "      <td>Tamil Nadu</td>\n",
       "      <td>$100.00</td>\n",
       "      <td>$240.00</td>\n",
       "      <td>$87.00</td>\n",
       "      <td>$234.00</td>\n",
       "    </tr>\n",
       "    <tr>\n",
       "      <th>2</th>\n",
       "      <td>NaN</td>\n",
       "      <td>614.0</td>\n",
       "      <td>1/1/2018</td>\n",
       "      <td>Decaf Irish Cream</td>\n",
       "      <td>Coffee</td>\n",
       "      <td>Manipur</td>\n",
       "      <td>$20.00</td>\n",
       "      <td>$150.00</td>\n",
       "      <td>$0.00</td>\n",
       "      <td>$150.00</td>\n",
       "    </tr>\n",
       "    <tr>\n",
       "      <th>3</th>\n",
       "      <td>NaN</td>\n",
       "      <td>720.0</td>\n",
       "      <td>1/1/2018</td>\n",
       "      <td>Decaf Espresso</td>\n",
       "      <td>Espresso</td>\n",
       "      <td>Andhra Pradesh</td>\n",
       "      <td>$80.00</td>\n",
       "      <td>$210.00</td>\n",
       "      <td>$53.00</td>\n",
       "      <td>$180.00</td>\n",
       "    </tr>\n",
       "    <tr>\n",
       "      <th>4</th>\n",
       "      <td>NaN</td>\n",
       "      <td>630.0</td>\n",
       "      <td>1/1/2018</td>\n",
       "      <td>Decaf Espresso</td>\n",
       "      <td>Espresso</td>\n",
       "      <td>Tamil Nadu</td>\n",
       "      <td>$180.00</td>\n",
       "      <td>$530.00</td>\n",
       "      <td>$140.00</td>\n",
       "      <td>$456.00</td>\n",
       "    </tr>\n",
       "  </tbody>\n",
       "</table>\n",
       "</div>"
      ],
      "text/plain": [
       "  Unnamed: 0  Area Code      Date            Product Product Type  \\\n",
       "0        NaN      970.0  1/1/2018  Decaf Irish Cream       Coffee   \n",
       "1        NaN      309.0  1/1/2018  Decaf Irish Cream       Coffee   \n",
       "2        NaN      614.0  1/1/2018  Decaf Irish Cream       Coffee   \n",
       "3        NaN      720.0  1/1/2018     Decaf Espresso     Espresso   \n",
       "4        NaN      630.0  1/1/2018     Decaf Espresso     Espresso   \n",
       "\n",
       "            State   Target Profit     Target Sales     Profit     Sales    \n",
       "0  Andhra Pradesh          $110.00          $240.00    $101.00   $234.00   \n",
       "1      Tamil Nadu          $100.00          $240.00     $87.00   $234.00   \n",
       "2         Manipur           $20.00          $150.00      $0.00   $150.00   \n",
       "3  Andhra Pradesh           $80.00          $210.00     $53.00   $180.00   \n",
       "4      Tamil Nadu          $180.00          $530.00    $140.00   $456.00   "
      ]
     },
     "execution_count": 130,
     "metadata": {},
     "output_type": "execute_result"
    }
   ],
   "source": [
    "df = pd.read_csv(r\"./dataset/coffee_sales.csv\", header=2)\n",
    "df.head()"
   ]
  },
  {
   "cell_type": "markdown",
   "metadata": {},
   "source": [
    "###### Ex. Rename headers"
   ]
  },
  {
   "cell_type": "code",
   "execution_count": 131,
   "metadata": {},
   "outputs": [],
   "source": [
    "df.columns = df.columns.str.strip()"
   ]
  },
  {
   "cell_type": "code",
   "execution_count": null,
   "metadata": {},
   "outputs": [],
   "source": [
    "df.columns.str.strip()"
   ]
  },
  {
   "cell_type": "code",
   "execution_count": null,
   "metadata": {},
   "outputs": [],
   "source": [
    "df.columns"
   ]
  },
  {
   "cell_type": "code",
   "execution_count": null,
   "metadata": {},
   "outputs": [],
   "source": [
    "df.head()"
   ]
  },
  {
   "cell_type": "code",
   "execution_count": null,
   "metadata": {},
   "outputs": [],
   "source": [
    "df.rename({\"Date\" : \"D\", \"Product\" : \"P\"}, axis=1, inplace=True)  # Renaming single columns"
   ]
  },
  {
   "cell_type": "markdown",
   "metadata": {},
   "source": [
    "#### Attributes of dataframe"
   ]
  },
  {
   "cell_type": "markdown",
   "metadata": {},
   "source": [
    "###### Ex. How many rows are there in the df?"
   ]
  },
  {
   "cell_type": "code",
   "execution_count": null,
   "metadata": {},
   "outputs": [],
   "source": [
    "len(df)"
   ]
  },
  {
   "cell_type": "code",
   "execution_count": null,
   "metadata": {},
   "outputs": [],
   "source": [
    "df.shape"
   ]
  },
  {
   "cell_type": "code",
   "execution_count": 156,
   "metadata": {},
   "outputs": [
    {
     "data": {
      "text/plain": [
       "Area Code        float64\n",
       "Date              object\n",
       "Product           object\n",
       "Product Type      object\n",
       "State             object\n",
       "Target Profit     object\n",
       "Target Sales      object\n",
       "Profit            object\n",
       "Sales             object\n",
       "dtype: object"
      ]
     },
     "execution_count": 156,
     "metadata": {},
     "output_type": "execute_result"
    }
   ],
   "source": [
    "df.dtypes  # datatype of each column"
   ]
  },
  {
   "cell_type": "markdown",
   "metadata": {},
   "source": [
    "**object - refers to str type**"
   ]
  },
  {
   "cell_type": "code",
   "execution_count": null,
   "metadata": {},
   "outputs": [],
   "source": [
    "df.info()"
   ]
  },
  {
   "cell_type": "markdown",
   "metadata": {},
   "source": [
    "#### Check for null values\n",
    "`df.isna()` - Detect missing values. Return a boolean same-sized object indicating if the values are NA."
   ]
  },
  {
   "cell_type": "code",
   "execution_count": 115,
   "metadata": {},
   "outputs": [
    {
     "data": {
      "text/plain": [
       "Unnamed: 0       4248\n",
       "Area Code           3\n",
       "Date                3\n",
       "Product             3\n",
       "Product Type        3\n",
       "State               3\n",
       "Target Profit     191\n",
       "Target Sales        3\n",
       "Profit              3\n",
       "Sales               3\n",
       "dtype: int64"
      ]
     },
     "execution_count": 115,
     "metadata": {},
     "output_type": "execute_result"
    }
   ],
   "source": [
    "df.isna().sum()"
   ]
  },
  {
   "cell_type": "markdown",
   "metadata": {},
   "source": [
    "###### Ex. Are all the rows of first column null?"
   ]
  },
  {
   "cell_type": "code",
   "execution_count": 117,
   "metadata": {},
   "outputs": [
    {
     "data": {
      "text/plain": [
       "4248"
      ]
     },
     "execution_count": 117,
     "metadata": {},
     "output_type": "execute_result"
    }
   ],
   "source": [
    "df[\"Unnamed: 0\"].isna().sum()"
   ]
  },
  {
   "cell_type": "code",
   "execution_count": 118,
   "metadata": {},
   "outputs": [
    {
     "data": {
      "text/plain": [
       "False"
      ]
     },
     "execution_count": 118,
     "metadata": {},
     "output_type": "execute_result"
    }
   ],
   "source": [
    "df[\"Unnamed: 0\"].isna().all()"
   ]
  },
  {
   "cell_type": "code",
   "execution_count": 119,
   "metadata": {},
   "outputs": [
    {
     "data": {
      "text/plain": [
       "Unnamed: 0       True\n",
       "Area Code        True\n",
       "Date             True\n",
       "Product          True\n",
       "Product Type     True\n",
       "State            True\n",
       "Target Profit    True\n",
       "Target Sales     True\n",
       "Profit           True\n",
       "Sales            True\n",
       "dtype: bool"
      ]
     },
     "execution_count": 119,
     "metadata": {},
     "output_type": "execute_result"
    }
   ],
   "source": [
    "df.isna().any()"
   ]
  },
  {
   "cell_type": "markdown",
   "metadata": {},
   "source": [
    "#### Drop Column"
   ]
  },
  {
   "cell_type": "markdown",
   "metadata": {},
   "source": [
    "###### Ex. Drop unnamed 0 column"
   ]
  },
  {
   "cell_type": "code",
   "execution_count": 137,
   "metadata": {},
   "outputs": [
    {
     "data": {
      "text/html": [
       "<div>\n",
       "<style scoped>\n",
       "    .dataframe tbody tr th:only-of-type {\n",
       "        vertical-align: middle;\n",
       "    }\n",
       "\n",
       "    .dataframe tbody tr th {\n",
       "        vertical-align: top;\n",
       "    }\n",
       "\n",
       "    .dataframe thead th {\n",
       "        text-align: right;\n",
       "    }\n",
       "</style>\n",
       "<table border=\"1\" class=\"dataframe\">\n",
       "  <thead>\n",
       "    <tr style=\"text-align: right;\">\n",
       "      <th></th>\n",
       "      <th>Area Code</th>\n",
       "      <th>Date</th>\n",
       "      <th>Product</th>\n",
       "      <th>Product Type</th>\n",
       "      <th>State</th>\n",
       "      <th>Target Profit</th>\n",
       "      <th>Target Sales</th>\n",
       "      <th>Profit</th>\n",
       "      <th>Sales</th>\n",
       "    </tr>\n",
       "  </thead>\n",
       "  <tbody>\n",
       "    <tr>\n",
       "      <th>0</th>\n",
       "      <td>970.0</td>\n",
       "      <td>1/1/2018</td>\n",
       "      <td>Decaf Irish Cream</td>\n",
       "      <td>Coffee</td>\n",
       "      <td>Andhra Pradesh</td>\n",
       "      <td>$110.00</td>\n",
       "      <td>$240.00</td>\n",
       "      <td>$101.00</td>\n",
       "      <td>$234.00</td>\n",
       "    </tr>\n",
       "    <tr>\n",
       "      <th>1</th>\n",
       "      <td>309.0</td>\n",
       "      <td>1/1/2018</td>\n",
       "      <td>Decaf Irish Cream</td>\n",
       "      <td>Coffee</td>\n",
       "      <td>Tamil Nadu</td>\n",
       "      <td>$100.00</td>\n",
       "      <td>$240.00</td>\n",
       "      <td>$87.00</td>\n",
       "      <td>$234.00</td>\n",
       "    </tr>\n",
       "    <tr>\n",
       "      <th>2</th>\n",
       "      <td>614.0</td>\n",
       "      <td>1/1/2018</td>\n",
       "      <td>Decaf Irish Cream</td>\n",
       "      <td>Coffee</td>\n",
       "      <td>Manipur</td>\n",
       "      <td>$20.00</td>\n",
       "      <td>$150.00</td>\n",
       "      <td>$0.00</td>\n",
       "      <td>$150.00</td>\n",
       "    </tr>\n",
       "    <tr>\n",
       "      <th>3</th>\n",
       "      <td>720.0</td>\n",
       "      <td>1/1/2018</td>\n",
       "      <td>Decaf Espresso</td>\n",
       "      <td>Espresso</td>\n",
       "      <td>Andhra Pradesh</td>\n",
       "      <td>$80.00</td>\n",
       "      <td>$210.00</td>\n",
       "      <td>$53.00</td>\n",
       "      <td>$180.00</td>\n",
       "    </tr>\n",
       "    <tr>\n",
       "      <th>4</th>\n",
       "      <td>630.0</td>\n",
       "      <td>1/1/2018</td>\n",
       "      <td>Decaf Espresso</td>\n",
       "      <td>Espresso</td>\n",
       "      <td>Tamil Nadu</td>\n",
       "      <td>$180.00</td>\n",
       "      <td>$530.00</td>\n",
       "      <td>$140.00</td>\n",
       "      <td>$456.00</td>\n",
       "    </tr>\n",
       "  </tbody>\n",
       "</table>\n",
       "</div>"
      ],
      "text/plain": [
       "   Area Code      Date            Product Product Type           State  \\\n",
       "0      970.0  1/1/2018  Decaf Irish Cream       Coffee  Andhra Pradesh   \n",
       "1      309.0  1/1/2018  Decaf Irish Cream       Coffee      Tamil Nadu   \n",
       "2      614.0  1/1/2018  Decaf Irish Cream       Coffee         Manipur   \n",
       "3      720.0  1/1/2018     Decaf Espresso     Espresso  Andhra Pradesh   \n",
       "4      630.0  1/1/2018     Decaf Espresso     Espresso      Tamil Nadu   \n",
       "\n",
       "  Target Profit Target Sales    Profit     Sales  \n",
       "0      $110.00      $240.00   $101.00   $234.00   \n",
       "1      $100.00      $240.00    $87.00   $234.00   \n",
       "2       $20.00      $150.00     $0.00   $150.00   \n",
       "3       $80.00      $210.00    $53.00   $180.00   \n",
       "4      $180.00      $530.00   $140.00   $456.00   "
      ]
     },
     "execution_count": 137,
     "metadata": {},
     "output_type": "execute_result"
    }
   ],
   "source": [
    "df.drop(columns=[\"Unnamed: 0\"], inplace=True)\n",
    "df.head()"
   ]
  },
  {
   "cell_type": "markdown",
   "metadata": {},
   "source": [
    "#### Remove/Replace nulls\n",
    "\n",
    "- `df.fillna(value=None, inplace=False)` - Fill NA/NaN values using the specified method.\n",
    "- `df.dropna(axis = 0, how = \"any\", inplace = False)`\n",
    "    - axis 0 for row or 1 for column\n",
    "    - how - {any or all}"
   ]
  },
  {
   "cell_type": "markdown",
   "metadata": {},
   "source": [
    "###### Ex. Remove null rows and columns"
   ]
  },
  {
   "cell_type": "code",
   "execution_count": null,
   "metadata": {},
   "outputs": [],
   "source": [
    "df.dropna(axis = 0, how = \"any\")"
   ]
  },
  {
   "cell_type": "markdown",
   "metadata": {},
   "source": [
    "###### Ex. After dropping Unnamed 0 column. \n",
    "    1. Check for nulls\n",
    "    2. drop rows with all null values\n",
    "    3. Identify values to replaced with default"
   ]
  },
  {
   "cell_type": "code",
   "execution_count": 138,
   "metadata": {},
   "outputs": [
    {
     "data": {
      "text/plain": [
       "Area Code          3\n",
       "Date               3\n",
       "Product            3\n",
       "Product Type       3\n",
       "State              3\n",
       "Target Profit    191\n",
       "Target Sales       3\n",
       "Profit             3\n",
       "Sales              3\n",
       "dtype: int64"
      ]
     },
     "execution_count": 138,
     "metadata": {},
     "output_type": "execute_result"
    }
   ],
   "source": [
    "df.isna().sum()"
   ]
  },
  {
   "cell_type": "code",
   "execution_count": 141,
   "metadata": {},
   "outputs": [],
   "source": [
    "df.dropna(axis=0, how=\"all\", inplace=True)  # remove null rows"
   ]
  },
  {
   "cell_type": "markdown",
   "metadata": {},
   "source": [
    "###### Ex. Are there any null values in specific rows or columns?"
   ]
  },
  {
   "cell_type": "code",
   "execution_count": 142,
   "metadata": {},
   "outputs": [
    {
     "data": {
      "text/plain": [
       "Area Code          0\n",
       "Date               0\n",
       "Product            0\n",
       "Product Type       0\n",
       "State              0\n",
       "Target Profit    188\n",
       "Target Sales       0\n",
       "Profit             0\n",
       "Sales              0\n",
       "dtype: int64"
      ]
     },
     "execution_count": 142,
     "metadata": {},
     "output_type": "execute_result"
    }
   ],
   "source": [
    "df.isna().sum()"
   ]
  },
  {
   "cell_type": "markdown",
   "metadata": {},
   "source": [
    "###### Ex. Extract the rows with null value to check if the row to be deleted or the NaN to be replaced?"
   ]
  },
  {
   "cell_type": "code",
   "execution_count": 150,
   "metadata": {},
   "outputs": [
    {
     "data": {
      "text/html": [
       "<div>\n",
       "<style scoped>\n",
       "    .dataframe tbody tr th:only-of-type {\n",
       "        vertical-align: middle;\n",
       "    }\n",
       "\n",
       "    .dataframe tbody tr th {\n",
       "        vertical-align: top;\n",
       "    }\n",
       "\n",
       "    .dataframe thead th {\n",
       "        text-align: right;\n",
       "    }\n",
       "</style>\n",
       "<table border=\"1\" class=\"dataframe\">\n",
       "  <thead>\n",
       "    <tr style=\"text-align: right;\">\n",
       "      <th></th>\n",
       "      <th>Area Code</th>\n",
       "      <th>Date</th>\n",
       "      <th>Product</th>\n",
       "      <th>Product Type</th>\n",
       "      <th>State</th>\n",
       "      <th>Target Profit</th>\n",
       "      <th>Target Sales</th>\n",
       "      <th>Profit</th>\n",
       "      <th>Sales</th>\n",
       "    </tr>\n",
       "  </thead>\n",
       "  <tbody>\n",
       "    <tr>\n",
       "      <th>10</th>\n",
       "      <td>650.0</td>\n",
       "      <td>1/1/2018</td>\n",
       "      <td>Decaf Irish Cream</td>\n",
       "      <td>Coffee</td>\n",
       "      <td>Maharashtra</td>\n",
       "      <td>NaN</td>\n",
       "      <td>$140.00</td>\n",
       "      <td>($117.00)</td>\n",
       "      <td>$118.00</td>\n",
       "    </tr>\n",
       "    <tr>\n",
       "      <th>24</th>\n",
       "      <td>781.0</td>\n",
       "      <td>1/1/2018</td>\n",
       "      <td>Caffe Mocha</td>\n",
       "      <td>Espresso</td>\n",
       "      <td>Gujarat</td>\n",
       "      <td>NaN</td>\n",
       "      <td>$120.00</td>\n",
       "      <td>($23.00)</td>\n",
       "      <td>$126.00</td>\n",
       "    </tr>\n",
       "  </tbody>\n",
       "</table>\n",
       "</div>"
      ],
      "text/plain": [
       "    Area Code      Date            Product Product Type        State  \\\n",
       "10      650.0  1/1/2018  Decaf Irish Cream       Coffee  Maharashtra   \n",
       "24      781.0  1/1/2018        Caffe Mocha     Espresso      Gujarat   \n",
       "\n",
       "   Target Profit Target Sales     Profit     Sales  \n",
       "10           NaN     $140.00   ($117.00)  $118.00   \n",
       "24           NaN     $120.00    ($23.00)  $126.00   "
      ]
     },
     "execution_count": 150,
     "metadata": {},
     "output_type": "execute_result"
    }
   ],
   "source": [
    "df[df[\"Target Profit\"].isna()].head(2) # Returns rows which have NaN value in Target Profit column"
   ]
  },
  {
   "cell_type": "code",
   "execution_count": 154,
   "metadata": {},
   "outputs": [
    {
     "data": {
      "text/html": [
       "<div>\n",
       "<style scoped>\n",
       "    .dataframe tbody tr th:only-of-type {\n",
       "        vertical-align: middle;\n",
       "    }\n",
       "\n",
       "    .dataframe tbody tr th {\n",
       "        vertical-align: top;\n",
       "    }\n",
       "\n",
       "    .dataframe thead th {\n",
       "        text-align: right;\n",
       "    }\n",
       "</style>\n",
       "<table border=\"1\" class=\"dataframe\">\n",
       "  <thead>\n",
       "    <tr style=\"text-align: right;\">\n",
       "      <th></th>\n",
       "      <th>Area Code</th>\n",
       "      <th>Date</th>\n",
       "      <th>Product</th>\n",
       "      <th>Product Type</th>\n",
       "      <th>State</th>\n",
       "      <th>Target Profit</th>\n",
       "      <th>Target Sales</th>\n",
       "      <th>Profit</th>\n",
       "      <th>Sales</th>\n",
       "    </tr>\n",
       "  </thead>\n",
       "  <tbody>\n",
       "    <tr>\n",
       "      <th>10</th>\n",
       "      <td>650.0</td>\n",
       "      <td>1/1/2018</td>\n",
       "      <td>Decaf Irish Cream</td>\n",
       "      <td>Coffee</td>\n",
       "      <td>Maharashtra</td>\n",
       "      <td>NaN</td>\n",
       "      <td>$140.00</td>\n",
       "      <td>($117.00)</td>\n",
       "      <td>$118.00</td>\n",
       "    </tr>\n",
       "    <tr>\n",
       "      <th>24</th>\n",
       "      <td>781.0</td>\n",
       "      <td>1/1/2018</td>\n",
       "      <td>Caffe Mocha</td>\n",
       "      <td>Espresso</td>\n",
       "      <td>Gujarat</td>\n",
       "      <td>NaN</td>\n",
       "      <td>$120.00</td>\n",
       "      <td>($23.00)</td>\n",
       "      <td>$126.00</td>\n",
       "    </tr>\n",
       "  </tbody>\n",
       "</table>\n",
       "</div>"
      ],
      "text/plain": [
       "    Area Code      Date            Product Product Type        State  \\\n",
       "10      650.0  1/1/2018  Decaf Irish Cream       Coffee  Maharashtra   \n",
       "24      781.0  1/1/2018        Caffe Mocha     Espresso      Gujarat   \n",
       "\n",
       "   Target Profit Target Sales     Profit     Sales  \n",
       "10           NaN     $140.00   ($117.00)  $118.00   \n",
       "24           NaN     $120.00    ($23.00)  $126.00   "
      ]
     },
     "execution_count": 154,
     "metadata": {},
     "output_type": "execute_result"
    }
   ],
   "source": [
    "df[df.isna().any(axis=1)].head(2) # Returns rows which have NaN value in any column"
   ]
  },
  {
   "cell_type": "code",
   "execution_count": 155,
   "metadata": {},
   "outputs": [
    {
     "data": {
      "text/html": [
       "<div>\n",
       "<style scoped>\n",
       "    .dataframe tbody tr th:only-of-type {\n",
       "        vertical-align: middle;\n",
       "    }\n",
       "\n",
       "    .dataframe tbody tr th {\n",
       "        vertical-align: top;\n",
       "    }\n",
       "\n",
       "    .dataframe thead th {\n",
       "        text-align: right;\n",
       "    }\n",
       "</style>\n",
       "<table border=\"1\" class=\"dataframe\">\n",
       "  <thead>\n",
       "    <tr style=\"text-align: right;\">\n",
       "      <th></th>\n",
       "      <th>Area Code</th>\n",
       "      <th>Date</th>\n",
       "      <th>Product</th>\n",
       "      <th>Product Type</th>\n",
       "      <th>State</th>\n",
       "      <th>Target Profit</th>\n",
       "      <th>Target Sales</th>\n",
       "      <th>Profit</th>\n",
       "      <th>Sales</th>\n",
       "    </tr>\n",
       "  </thead>\n",
       "  <tbody>\n",
       "    <tr>\n",
       "      <th>0</th>\n",
       "      <td>970.0</td>\n",
       "      <td>1/1/2018</td>\n",
       "      <td>Decaf Irish Cream</td>\n",
       "      <td>Coffee</td>\n",
       "      <td>Andhra Pradesh</td>\n",
       "      <td>$110.00</td>\n",
       "      <td>$240.00</td>\n",
       "      <td>$101.00</td>\n",
       "      <td>$234.00</td>\n",
       "    </tr>\n",
       "    <tr>\n",
       "      <th>1</th>\n",
       "      <td>309.0</td>\n",
       "      <td>1/1/2018</td>\n",
       "      <td>Decaf Irish Cream</td>\n",
       "      <td>Coffee</td>\n",
       "      <td>Tamil Nadu</td>\n",
       "      <td>$100.00</td>\n",
       "      <td>$240.00</td>\n",
       "      <td>$87.00</td>\n",
       "      <td>$234.00</td>\n",
       "    </tr>\n",
       "    <tr>\n",
       "      <th>2</th>\n",
       "      <td>614.0</td>\n",
       "      <td>1/1/2018</td>\n",
       "      <td>Decaf Irish Cream</td>\n",
       "      <td>Coffee</td>\n",
       "      <td>Manipur</td>\n",
       "      <td>$20.00</td>\n",
       "      <td>$150.00</td>\n",
       "      <td>$0.00</td>\n",
       "      <td>$150.00</td>\n",
       "    </tr>\n",
       "    <tr>\n",
       "      <th>3</th>\n",
       "      <td>720.0</td>\n",
       "      <td>1/1/2018</td>\n",
       "      <td>Decaf Espresso</td>\n",
       "      <td>Espresso</td>\n",
       "      <td>Andhra Pradesh</td>\n",
       "      <td>$80.00</td>\n",
       "      <td>$210.00</td>\n",
       "      <td>$53.00</td>\n",
       "      <td>$180.00</td>\n",
       "    </tr>\n",
       "    <tr>\n",
       "      <th>4</th>\n",
       "      <td>630.0</td>\n",
       "      <td>1/1/2018</td>\n",
       "      <td>Decaf Espresso</td>\n",
       "      <td>Espresso</td>\n",
       "      <td>Tamil Nadu</td>\n",
       "      <td>$180.00</td>\n",
       "      <td>$530.00</td>\n",
       "      <td>$140.00</td>\n",
       "      <td>$456.00</td>\n",
       "    </tr>\n",
       "    <tr>\n",
       "      <th>...</th>\n",
       "      <td>...</td>\n",
       "      <td>...</td>\n",
       "      <td>...</td>\n",
       "      <td>...</td>\n",
       "      <td>...</td>\n",
       "      <td>...</td>\n",
       "      <td>...</td>\n",
       "      <td>...</td>\n",
       "      <td>...</td>\n",
       "    </tr>\n",
       "    <tr>\n",
       "      <th>4243</th>\n",
       "      <td>253.0</td>\n",
       "      <td>12/1/2019</td>\n",
       "      <td>Earl Grey</td>\n",
       "      <td>Tea</td>\n",
       "      <td>Punjab</td>\n",
       "      <td>$20.00</td>\n",
       "      <td>$70.00</td>\n",
       "      <td>$42.00</td>\n",
       "      <td>$113.00</td>\n",
       "    </tr>\n",
       "    <tr>\n",
       "      <th>4244</th>\n",
       "      <td>775.0</td>\n",
       "      <td>12/1/2019</td>\n",
       "      <td>Green Tea</td>\n",
       "      <td>Tea</td>\n",
       "      <td>Jharkhand</td>\n",
       "      <td>NaN</td>\n",
       "      <td>$0.00</td>\n",
       "      <td>($605.00)</td>\n",
       "      <td>$33.00</td>\n",
       "    </tr>\n",
       "    <tr>\n",
       "      <th>4245</th>\n",
       "      <td>503.0</td>\n",
       "      <td>12/1/2019</td>\n",
       "      <td>Green Tea</td>\n",
       "      <td>Tea</td>\n",
       "      <td>Mizoram</td>\n",
       "      <td>$100.00</td>\n",
       "      <td>$230.00</td>\n",
       "      <td>$180.00</td>\n",
       "      <td>$341.00</td>\n",
       "    </tr>\n",
       "    <tr>\n",
       "      <th>4246</th>\n",
       "      <td>435.0</td>\n",
       "      <td>12/1/2019</td>\n",
       "      <td>Green Tea</td>\n",
       "      <td>Tea</td>\n",
       "      <td>Odisha</td>\n",
       "      <td>$0.00</td>\n",
       "      <td>$30.00</td>\n",
       "      <td>($22.00)</td>\n",
       "      <td>$48.00</td>\n",
       "    </tr>\n",
       "    <tr>\n",
       "      <th>4247</th>\n",
       "      <td>509.0</td>\n",
       "      <td>12/1/2019</td>\n",
       "      <td>Green Tea</td>\n",
       "      <td>Tea</td>\n",
       "      <td>Punjab</td>\n",
       "      <td>NaN</td>\n",
       "      <td>$90.00</td>\n",
       "      <td>($4.00)</td>\n",
       "      <td>$140.00</td>\n",
       "    </tr>\n",
       "  </tbody>\n",
       "</table>\n",
       "<p>4248 rows × 9 columns</p>\n",
       "</div>"
      ],
      "text/plain": [
       "      Area Code       Date            Product Product Type           State  \\\n",
       "0         970.0   1/1/2018  Decaf Irish Cream       Coffee  Andhra Pradesh   \n",
       "1         309.0   1/1/2018  Decaf Irish Cream       Coffee      Tamil Nadu   \n",
       "2         614.0   1/1/2018  Decaf Irish Cream       Coffee         Manipur   \n",
       "3         720.0   1/1/2018     Decaf Espresso     Espresso  Andhra Pradesh   \n",
       "4         630.0   1/1/2018     Decaf Espresso     Espresso      Tamil Nadu   \n",
       "...         ...        ...                ...          ...             ...   \n",
       "4243      253.0  12/1/2019          Earl Grey          Tea          Punjab   \n",
       "4244      775.0  12/1/2019          Green Tea          Tea       Jharkhand   \n",
       "4245      503.0  12/1/2019          Green Tea          Tea         Mizoram   \n",
       "4246      435.0  12/1/2019          Green Tea          Tea          Odisha   \n",
       "4247      509.0  12/1/2019          Green Tea          Tea          Punjab   \n",
       "\n",
       "     Target Profit Target Sales     Profit     Sales  \n",
       "0         $110.00      $240.00    $101.00   $234.00   \n",
       "1         $100.00      $240.00     $87.00   $234.00   \n",
       "2          $20.00      $150.00      $0.00   $150.00   \n",
       "3          $80.00      $210.00     $53.00   $180.00   \n",
       "4         $180.00      $530.00    $140.00   $456.00   \n",
       "...            ...          ...        ...       ...  \n",
       "4243       $20.00       $70.00     $42.00   $113.00   \n",
       "4244           NaN       $0.00   ($605.00)   $33.00   \n",
       "4245      $100.00      $230.00    $180.00   $341.00   \n",
       "4246        $0.00       $30.00    ($22.00)   $48.00   \n",
       "4247           NaN      $90.00     ($4.00)  $140.00   \n",
       "\n",
       "[4248 rows x 9 columns]"
      ]
     },
     "execution_count": 155,
     "metadata": {},
     "output_type": "execute_result"
    }
   ],
   "source": [
    "df"
   ]
  },
  {
   "cell_type": "code",
   "execution_count": null,
   "metadata": {},
   "outputs": [],
   "source": [
    "df.fillna(0) # Replaces all Nan with 0"
   ]
  },
  {
   "cell_type": "code",
   "execution_count": 159,
   "metadata": {},
   "outputs": [],
   "source": [
    "df[\"Target Profit\"] = df[\"Target Profit\"].fillna(0) # Replace Nan in Target Profit by 0"
   ]
  },
  {
   "cell_type": "code",
   "execution_count": 160,
   "metadata": {},
   "outputs": [],
   "source": [
    "df[\"Target Profit\"].fillna(0, inplace=True)  # applicable in older version"
   ]
  },
  {
   "cell_type": "code",
   "execution_count": 161,
   "metadata": {},
   "outputs": [],
   "source": [
    "df.fillna({\"Target Profit\": 0}, inplace=True) # new version of fillna()"
   ]
  },
  {
   "cell_type": "markdown",
   "metadata": {},
   "source": [
    "##### Note - \n",
    "This is older syntax. New syntax to be followed is - `df.method({col: value}, inplace=True)`"
   ]
  },
  {
   "cell_type": "code",
   "execution_count": 3,
   "metadata": {},
   "outputs": [
    {
     "data": {
      "text/html": [
       "<div>\n",
       "<style scoped>\n",
       "    .dataframe tbody tr th:only-of-type {\n",
       "        vertical-align: middle;\n",
       "    }\n",
       "\n",
       "    .dataframe tbody tr th {\n",
       "        vertical-align: top;\n",
       "    }\n",
       "\n",
       "    .dataframe thead th {\n",
       "        text-align: right;\n",
       "    }\n",
       "</style>\n",
       "<table border=\"1\" class=\"dataframe\">\n",
       "  <thead>\n",
       "    <tr style=\"text-align: right;\">\n",
       "      <th></th>\n",
       "      <th>Area Code</th>\n",
       "      <th>Date</th>\n",
       "      <th>Product</th>\n",
       "      <th>Product Type</th>\n",
       "      <th>State</th>\n",
       "      <th>Target Profit</th>\n",
       "      <th>Target Sales</th>\n",
       "      <th>Profit</th>\n",
       "      <th>Sales</th>\n",
       "    </tr>\n",
       "  </thead>\n",
       "  <tbody>\n",
       "    <tr>\n",
       "      <th>0</th>\n",
       "      <td>970.0</td>\n",
       "      <td>1/1/2018</td>\n",
       "      <td>Decaf Irish Cream</td>\n",
       "      <td>Coffee</td>\n",
       "      <td>Andhra Pradesh</td>\n",
       "      <td>110.0</td>\n",
       "      <td>240.0</td>\n",
       "      <td>101.0</td>\n",
       "      <td>234.0</td>\n",
       "    </tr>\n",
       "    <tr>\n",
       "      <th>1</th>\n",
       "      <td>309.0</td>\n",
       "      <td>1/1/2018</td>\n",
       "      <td>Decaf Irish Cream</td>\n",
       "      <td>Coffee</td>\n",
       "      <td>Tamil Nadu</td>\n",
       "      <td>100.0</td>\n",
       "      <td>240.0</td>\n",
       "      <td>87.0</td>\n",
       "      <td>234.0</td>\n",
       "    </tr>\n",
       "    <tr>\n",
       "      <th>2</th>\n",
       "      <td>614.0</td>\n",
       "      <td>1/1/2018</td>\n",
       "      <td>Decaf Irish Cream</td>\n",
       "      <td>Coffee</td>\n",
       "      <td>Manipur</td>\n",
       "      <td>20.0</td>\n",
       "      <td>150.0</td>\n",
       "      <td>0.0</td>\n",
       "      <td>150.0</td>\n",
       "    </tr>\n",
       "    <tr>\n",
       "      <th>3</th>\n",
       "      <td>720.0</td>\n",
       "      <td>1/1/2018</td>\n",
       "      <td>Decaf Espresso</td>\n",
       "      <td>Espresso</td>\n",
       "      <td>Andhra Pradesh</td>\n",
       "      <td>80.0</td>\n",
       "      <td>210.0</td>\n",
       "      <td>53.0</td>\n",
       "      <td>180.0</td>\n",
       "    </tr>\n",
       "    <tr>\n",
       "      <th>4</th>\n",
       "      <td>630.0</td>\n",
       "      <td>1/1/2018</td>\n",
       "      <td>Decaf Espresso</td>\n",
       "      <td>Espresso</td>\n",
       "      <td>Tamil Nadu</td>\n",
       "      <td>180.0</td>\n",
       "      <td>530.0</td>\n",
       "      <td>140.0</td>\n",
       "      <td>456.0</td>\n",
       "    </tr>\n",
       "  </tbody>\n",
       "</table>\n",
       "</div>"
      ],
      "text/plain": [
       "   Area Code      Date            Product Product Type           State  \\\n",
       "0      970.0  1/1/2018  Decaf Irish Cream       Coffee  Andhra Pradesh   \n",
       "1      309.0  1/1/2018  Decaf Irish Cream       Coffee      Tamil Nadu   \n",
       "2      614.0  1/1/2018  Decaf Irish Cream       Coffee         Manipur   \n",
       "3      720.0  1/1/2018     Decaf Espresso     Espresso  Andhra Pradesh   \n",
       "4      630.0  1/1/2018     Decaf Espresso     Espresso      Tamil Nadu   \n",
       "\n",
       "   Target Profit  Target Sales  Profit  Sales  \n",
       "0          110.0         240.0   101.0  234.0  \n",
       "1          100.0         240.0    87.0  234.0  \n",
       "2           20.0         150.0     0.0  150.0  \n",
       "3           80.0         210.0    53.0  180.0  \n",
       "4          180.0         530.0   140.0  456.0  "
      ]
     },
     "execution_count": 3,
     "metadata": {},
     "output_type": "execute_result"
    }
   ],
   "source": [
    "# Final code - \n",
    "df = pd.read_csv(r\"./dataset/coffee_sales.csv\", header=2)\n",
    "df.columns = df.columns.str.strip()\n",
    "df.drop(columns=[\"Unnamed: 0\"], inplace=True)\n",
    "df.dropna(axis=0, how=\"all\", inplace=True)\n",
    "\n",
    "trans_obj = str.maketrans(\"(\", \"-\", \"$),\")\n",
    "df.Sales = df.Sales.str.translate(trans_obj).astype(float)\n",
    "df.Profit = df.Profit.str.translate(trans_obj).astype(float)\n",
    "df[\"Target Profit\"] = df[\"Target Profit\"].str.translate(trans_obj).astype(float)\n",
    "df[\"Target Sales\"] = df[\"Target Sales\"].str.translate(trans_obj).astype(float)\n",
    "\n",
    "df.fillna({\"Target Profit\": 0}, inplace=True)\n",
    "\n",
    "df.head()"
   ]
  },
  {
   "cell_type": "markdown",
   "metadata": {},
   "source": [
    "#### Data Cleaning"
   ]
  },
  {
   "cell_type": "markdown",
   "metadata": {},
   "source": [
    "###### Ex. Convert all numeric column to float"
   ]
  },
  {
   "cell_type": "code",
   "execution_count": 168,
   "metadata": {},
   "outputs": [
    {
     "data": {
      "text/plain": [
       "'-117.00'"
      ]
     },
     "execution_count": 168,
     "metadata": {},
     "output_type": "execute_result"
    }
   ],
   "source": [
    "strg = \"($117.00)\"\n",
    "trans_obj = str.maketrans(\"(\", \"-\", \"$)\")\n",
    "strg.translate(trans_obj)"
   ]
  },
  {
   "cell_type": "code",
   "execution_count": 173,
   "metadata": {},
   "outputs": [],
   "source": [
    "trans_obj = str.maketrans(\"(\", \"-\", \"$),\")\n",
    "df.Sales = df.Sales.str.translate(trans_obj).astype(float)\n",
    "df.Profit = df.Profit.str.translate(trans_obj).astype(float)\n",
    "df[\"Target Profit\"] = df[\"Target Profit\"].str.translate(trans_obj).astype(float)\n",
    "df[\"Target Sales\"] = df[\"Target Sales\"].str.translate(trans_obj).astype(float)"
   ]
  },
  {
   "cell_type": "code",
   "execution_count": 178,
   "metadata": {},
   "outputs": [
    {
     "data": {
      "text/plain": [
       "Area Code        False\n",
       "Date             False\n",
       "Product          False\n",
       "Product Type     False\n",
       "State            False\n",
       "Target Profit    False\n",
       "Target Sales     False\n",
       "Profit           False\n",
       "Sales            False\n",
       "dtype: bool"
      ]
     },
     "execution_count": 178,
     "metadata": {},
     "output_type": "execute_result"
    }
   ],
   "source": [
    "df.isna().any()"
   ]
  },
  {
   "cell_type": "markdown",
   "metadata": {},
   "source": [
    "###### Ex. Display total sales generated by products from product type - Coffee"
   ]
  },
  {
   "cell_type": "code",
   "execution_count": 183,
   "metadata": {},
   "outputs": [
    {
     "data": {
      "text/plain": [
       "216828.0"
      ]
     },
     "execution_count": 183,
     "metadata": {},
     "output_type": "execute_result"
    }
   ],
   "source": [
    "df.Sales[df[\"Product Type\"] == \"Coffee\"].sum()"
   ]
  },
  {
   "cell_type": "markdown",
   "metadata": {},
   "source": [
    "###### Ex. Display total sales generated by Coffee products in Manipur"
   ]
  },
  {
   "cell_type": "code",
   "execution_count": 184,
   "metadata": {},
   "outputs": [
    {
     "data": {
      "text/plain": [
       "8683.0"
      ]
     },
     "execution_count": 184,
     "metadata": {},
     "output_type": "execute_result"
    }
   ],
   "source": [
    "df.Sales[(df[\"Product Type\"] == \"Coffee\") & (df[\"State\"] == \"Manipur\")].sum()"
   ]
  },
  {
   "cell_type": "markdown",
   "metadata": {},
   "source": [
    "###### Ex. Display names of all the products sold."
   ]
  },
  {
   "cell_type": "code",
   "execution_count": 190,
   "metadata": {},
   "outputs": [
    {
     "name": "stdout",
     "output_type": "stream",
     "text": [
      "['Decaf Irish Cream', 'Decaf Espresso', 'Amaretto', 'Colombian', 'Caffe Mocha', 'Regular Espresso', 'Caffe Latte', 'Chamomile', 'Lemon', 'Mint', 'Darjeeling', 'Earl Grey', 'Green Tea']\n"
     ]
    }
   ],
   "source": [
    "print(df.Product.unique().tolist())"
   ]
  },
  {
   "cell_type": "code",
   "execution_count": 4,
   "metadata": {},
   "outputs": [
    {
     "data": {
      "text/html": [
       "<div>\n",
       "<style scoped>\n",
       "    .dataframe tbody tr th:only-of-type {\n",
       "        vertical-align: middle;\n",
       "    }\n",
       "\n",
       "    .dataframe tbody tr th {\n",
       "        vertical-align: top;\n",
       "    }\n",
       "\n",
       "    .dataframe thead th {\n",
       "        text-align: right;\n",
       "    }\n",
       "</style>\n",
       "<table border=\"1\" class=\"dataframe\">\n",
       "  <thead>\n",
       "    <tr style=\"text-align: right;\">\n",
       "      <th></th>\n",
       "      <th>Area Code</th>\n",
       "      <th>Date</th>\n",
       "      <th>Product</th>\n",
       "      <th>Product Type</th>\n",
       "      <th>State</th>\n",
       "      <th>Target Profit</th>\n",
       "      <th>Target Sales</th>\n",
       "      <th>Profit</th>\n",
       "      <th>Sales</th>\n",
       "    </tr>\n",
       "  </thead>\n",
       "  <tbody>\n",
       "    <tr>\n",
       "      <th>0</th>\n",
       "      <td>970.0</td>\n",
       "      <td>1/1/2018</td>\n",
       "      <td>Decaf Irish Cream</td>\n",
       "      <td>Coffee</td>\n",
       "      <td>Andhra Pradesh</td>\n",
       "      <td>110.0</td>\n",
       "      <td>240.0</td>\n",
       "      <td>101.0</td>\n",
       "      <td>234.0</td>\n",
       "    </tr>\n",
       "    <tr>\n",
       "      <th>1</th>\n",
       "      <td>309.0</td>\n",
       "      <td>1/1/2018</td>\n",
       "      <td>Decaf Irish Cream</td>\n",
       "      <td>Coffee</td>\n",
       "      <td>Tamil Nadu</td>\n",
       "      <td>100.0</td>\n",
       "      <td>240.0</td>\n",
       "      <td>87.0</td>\n",
       "      <td>234.0</td>\n",
       "    </tr>\n",
       "    <tr>\n",
       "      <th>2</th>\n",
       "      <td>614.0</td>\n",
       "      <td>1/1/2018</td>\n",
       "      <td>Decaf Irish Cream</td>\n",
       "      <td>Coffee</td>\n",
       "      <td>Manipur</td>\n",
       "      <td>20.0</td>\n",
       "      <td>150.0</td>\n",
       "      <td>0.0</td>\n",
       "      <td>150.0</td>\n",
       "    </tr>\n",
       "    <tr>\n",
       "      <th>3</th>\n",
       "      <td>720.0</td>\n",
       "      <td>1/1/2018</td>\n",
       "      <td>Decaf Espresso</td>\n",
       "      <td>Espresso</td>\n",
       "      <td>Andhra Pradesh</td>\n",
       "      <td>80.0</td>\n",
       "      <td>210.0</td>\n",
       "      <td>53.0</td>\n",
       "      <td>180.0</td>\n",
       "    </tr>\n",
       "    <tr>\n",
       "      <th>4</th>\n",
       "      <td>630.0</td>\n",
       "      <td>1/1/2018</td>\n",
       "      <td>Decaf Espresso</td>\n",
       "      <td>Espresso</td>\n",
       "      <td>Tamil Nadu</td>\n",
       "      <td>180.0</td>\n",
       "      <td>530.0</td>\n",
       "      <td>140.0</td>\n",
       "      <td>456.0</td>\n",
       "    </tr>\n",
       "  </tbody>\n",
       "</table>\n",
       "</div>"
      ],
      "text/plain": [
       "   Area Code      Date            Product Product Type           State  \\\n",
       "0      970.0  1/1/2018  Decaf Irish Cream       Coffee  Andhra Pradesh   \n",
       "1      309.0  1/1/2018  Decaf Irish Cream       Coffee      Tamil Nadu   \n",
       "2      614.0  1/1/2018  Decaf Irish Cream       Coffee         Manipur   \n",
       "3      720.0  1/1/2018     Decaf Espresso     Espresso  Andhra Pradesh   \n",
       "4      630.0  1/1/2018     Decaf Espresso     Espresso      Tamil Nadu   \n",
       "\n",
       "   Target Profit  Target Sales  Profit  Sales  \n",
       "0          110.0         240.0   101.0  234.0  \n",
       "1          100.0         240.0    87.0  234.0  \n",
       "2           20.0         150.0     0.0  150.0  \n",
       "3           80.0         210.0    53.0  180.0  \n",
       "4          180.0         530.0   140.0  456.0  "
      ]
     },
     "execution_count": 4,
     "metadata": {},
     "output_type": "execute_result"
    }
   ],
   "source": [
    "df.head()"
   ]
  },
  {
   "cell_type": "markdown",
   "metadata": {},
   "source": [
    "#### Sorting Dafatrame\n",
    "- df.sort_values(`ascending=True`, `inplace=False`, `na_position = {\"first\",\"last\"}`)\n",
    "- df.sort_index(`ascending=True`, `inplace=False`)"
   ]
  },
  {
   "cell_type": "code",
   "execution_count": 6,
   "metadata": {},
   "outputs": [
    {
     "data": {
      "text/html": [
       "<div>\n",
       "<style scoped>\n",
       "    .dataframe tbody tr th:only-of-type {\n",
       "        vertical-align: middle;\n",
       "    }\n",
       "\n",
       "    .dataframe tbody tr th {\n",
       "        vertical-align: top;\n",
       "    }\n",
       "\n",
       "    .dataframe thead th {\n",
       "        text-align: right;\n",
       "    }\n",
       "</style>\n",
       "<table border=\"1\" class=\"dataframe\">\n",
       "  <thead>\n",
       "    <tr style=\"text-align: right;\">\n",
       "      <th></th>\n",
       "      <th>Area Code</th>\n",
       "      <th>Date</th>\n",
       "      <th>Product</th>\n",
       "      <th>Product Type</th>\n",
       "      <th>State</th>\n",
       "      <th>Target Profit</th>\n",
       "      <th>Target Sales</th>\n",
       "      <th>Profit</th>\n",
       "      <th>Sales</th>\n",
       "    </tr>\n",
       "  </thead>\n",
       "  <tbody>\n",
       "    <tr>\n",
       "      <th>1084</th>\n",
       "      <td>845.0</td>\n",
       "      <td>7/1/2018</td>\n",
       "      <td>Colombian</td>\n",
       "      <td>Coffee</td>\n",
       "      <td>Madhya Pradesh</td>\n",
       "      <td>370.0</td>\n",
       "      <td>860.0</td>\n",
       "      <td>370.0</td>\n",
       "      <td>912.0</td>\n",
       "    </tr>\n",
       "    <tr>\n",
       "      <th>1094</th>\n",
       "      <td>707.0</td>\n",
       "      <td>7/1/2018</td>\n",
       "      <td>Colombian</td>\n",
       "      <td>Coffee</td>\n",
       "      <td>Maharashtra</td>\n",
       "      <td>530.0</td>\n",
       "      <td>1140.0</td>\n",
       "      <td>370.0</td>\n",
       "      <td>912.0</td>\n",
       "    </tr>\n",
       "    <tr>\n",
       "      <th>1261</th>\n",
       "      <td>845.0</td>\n",
       "      <td>8/1/2018</td>\n",
       "      <td>Colombian</td>\n",
       "      <td>Coffee</td>\n",
       "      <td>Madhya Pradesh</td>\n",
       "      <td>370.0</td>\n",
       "      <td>860.0</td>\n",
       "      <td>368.0</td>\n",
       "      <td>910.0</td>\n",
       "    </tr>\n",
       "    <tr>\n",
       "      <th>1271</th>\n",
       "      <td>650.0</td>\n",
       "      <td>8/1/2018</td>\n",
       "      <td>Colombian</td>\n",
       "      <td>Coffee</td>\n",
       "      <td>Maharashtra</td>\n",
       "      <td>520.0</td>\n",
       "      <td>1130.0</td>\n",
       "      <td>368.0</td>\n",
       "      <td>910.0</td>\n",
       "    </tr>\n",
       "    <tr>\n",
       "      <th>3208</th>\n",
       "      <td>716.0</td>\n",
       "      <td>7/1/2019</td>\n",
       "      <td>Colombian</td>\n",
       "      <td>Coffee</td>\n",
       "      <td>Madhya Pradesh</td>\n",
       "      <td>370.0</td>\n",
       "      <td>860.0</td>\n",
       "      <td>511.0</td>\n",
       "      <td>904.0</td>\n",
       "    </tr>\n",
       "    <tr>\n",
       "      <th>...</th>\n",
       "      <td>...</td>\n",
       "      <td>...</td>\n",
       "      <td>...</td>\n",
       "      <td>...</td>\n",
       "      <td>...</td>\n",
       "      <td>...</td>\n",
       "      <td>...</td>\n",
       "      <td>...</td>\n",
       "      <td>...</td>\n",
       "    </tr>\n",
       "    <tr>\n",
       "      <th>1589</th>\n",
       "      <td>775.0</td>\n",
       "      <td>9/1/2018</td>\n",
       "      <td>Green Tea</td>\n",
       "      <td>Tea</td>\n",
       "      <td>Jharkhand</td>\n",
       "      <td>0.0</td>\n",
       "      <td>0.0</td>\n",
       "      <td>-430.0</td>\n",
       "      <td>19.0</td>\n",
       "    </tr>\n",
       "    <tr>\n",
       "      <th>2297</th>\n",
       "      <td>775.0</td>\n",
       "      <td>1/1/2019</td>\n",
       "      <td>Green Tea</td>\n",
       "      <td>Tea</td>\n",
       "      <td>Jharkhand</td>\n",
       "      <td>0.0</td>\n",
       "      <td>0.0</td>\n",
       "      <td>-552.0</td>\n",
       "      <td>19.0</td>\n",
       "    </tr>\n",
       "    <tr>\n",
       "      <th>881</th>\n",
       "      <td>702.0</td>\n",
       "      <td>5/1/2018</td>\n",
       "      <td>Green Tea</td>\n",
       "      <td>Tea</td>\n",
       "      <td>Jharkhand</td>\n",
       "      <td>0.0</td>\n",
       "      <td>0.0</td>\n",
       "      <td>-380.0</td>\n",
       "      <td>18.0</td>\n",
       "    </tr>\n",
       "    <tr>\n",
       "      <th>3005</th>\n",
       "      <td>702.0</td>\n",
       "      <td>5/1/2019</td>\n",
       "      <td>Green Tea</td>\n",
       "      <td>Tea</td>\n",
       "      <td>Jharkhand</td>\n",
       "      <td>0.0</td>\n",
       "      <td>0.0</td>\n",
       "      <td>-524.0</td>\n",
       "      <td>18.0</td>\n",
       "    </tr>\n",
       "    <tr>\n",
       "      <th>173</th>\n",
       "      <td>702.0</td>\n",
       "      <td>1/1/2018</td>\n",
       "      <td>Green Tea</td>\n",
       "      <td>Tea</td>\n",
       "      <td>Jharkhand</td>\n",
       "      <td>0.0</td>\n",
       "      <td>0.0</td>\n",
       "      <td>-354.0</td>\n",
       "      <td>17.0</td>\n",
       "    </tr>\n",
       "  </tbody>\n",
       "</table>\n",
       "<p>4248 rows × 9 columns</p>\n",
       "</div>"
      ],
      "text/plain": [
       "      Area Code      Date    Product Product Type           State  \\\n",
       "1084      845.0  7/1/2018  Colombian       Coffee  Madhya Pradesh   \n",
       "1094      707.0  7/1/2018  Colombian       Coffee     Maharashtra   \n",
       "1261      845.0  8/1/2018  Colombian       Coffee  Madhya Pradesh   \n",
       "1271      650.0  8/1/2018  Colombian       Coffee     Maharashtra   \n",
       "3208      716.0  7/1/2019  Colombian       Coffee  Madhya Pradesh   \n",
       "...         ...       ...        ...          ...             ...   \n",
       "1589      775.0  9/1/2018  Green Tea          Tea       Jharkhand   \n",
       "2297      775.0  1/1/2019  Green Tea          Tea       Jharkhand   \n",
       "881       702.0  5/1/2018  Green Tea          Tea       Jharkhand   \n",
       "3005      702.0  5/1/2019  Green Tea          Tea       Jharkhand   \n",
       "173       702.0  1/1/2018  Green Tea          Tea       Jharkhand   \n",
       "\n",
       "      Target Profit  Target Sales  Profit  Sales  \n",
       "1084          370.0         860.0   370.0  912.0  \n",
       "1094          530.0        1140.0   370.0  912.0  \n",
       "1261          370.0         860.0   368.0  910.0  \n",
       "1271          520.0        1130.0   368.0  910.0  \n",
       "3208          370.0         860.0   511.0  904.0  \n",
       "...             ...           ...     ...    ...  \n",
       "1589            0.0           0.0  -430.0   19.0  \n",
       "2297            0.0           0.0  -552.0   19.0  \n",
       "881             0.0           0.0  -380.0   18.0  \n",
       "3005            0.0           0.0  -524.0   18.0  \n",
       "173             0.0           0.0  -354.0   17.0  \n",
       "\n",
       "[4248 rows x 9 columns]"
      ]
     },
     "execution_count": 6,
     "metadata": {},
     "output_type": "execute_result"
    }
   ],
   "source": [
    "df.sort_values(by = [\"Sales\", \"Area Code\"], ascending=False)"
   ]
  },
  {
   "cell_type": "markdown",
   "metadata": {},
   "source": [
    "#### Add Column by calculation to the dataframe"
   ]
  },
  {
   "cell_type": "markdown",
   "metadata": {},
   "source": [
    "###### Ex. Apply 7% service tax to sales values and add it as a new column"
   ]
  },
  {
   "cell_type": "code",
   "execution_count": 9,
   "metadata": {},
   "outputs": [
    {
     "data": {
      "text/html": [
       "<div>\n",
       "<style scoped>\n",
       "    .dataframe tbody tr th:only-of-type {\n",
       "        vertical-align: middle;\n",
       "    }\n",
       "\n",
       "    .dataframe tbody tr th {\n",
       "        vertical-align: top;\n",
       "    }\n",
       "\n",
       "    .dataframe thead th {\n",
       "        text-align: right;\n",
       "    }\n",
       "</style>\n",
       "<table border=\"1\" class=\"dataframe\">\n",
       "  <thead>\n",
       "    <tr style=\"text-align: right;\">\n",
       "      <th></th>\n",
       "      <th>Area Code</th>\n",
       "      <th>Date</th>\n",
       "      <th>Product</th>\n",
       "      <th>Product Type</th>\n",
       "      <th>State</th>\n",
       "      <th>Target Profit</th>\n",
       "      <th>Target Sales</th>\n",
       "      <th>Profit</th>\n",
       "      <th>Sales</th>\n",
       "      <th>Sales after Tax</th>\n",
       "    </tr>\n",
       "  </thead>\n",
       "  <tbody>\n",
       "    <tr>\n",
       "      <th>0</th>\n",
       "      <td>970.0</td>\n",
       "      <td>1/1/2018</td>\n",
       "      <td>Decaf Irish Cream</td>\n",
       "      <td>Coffee</td>\n",
       "      <td>Andhra Pradesh</td>\n",
       "      <td>110.0</td>\n",
       "      <td>240.0</td>\n",
       "      <td>101.0</td>\n",
       "      <td>234.0</td>\n",
       "      <td>250.38</td>\n",
       "    </tr>\n",
       "    <tr>\n",
       "      <th>1</th>\n",
       "      <td>309.0</td>\n",
       "      <td>1/1/2018</td>\n",
       "      <td>Decaf Irish Cream</td>\n",
       "      <td>Coffee</td>\n",
       "      <td>Tamil Nadu</td>\n",
       "      <td>100.0</td>\n",
       "      <td>240.0</td>\n",
       "      <td>87.0</td>\n",
       "      <td>234.0</td>\n",
       "      <td>250.38</td>\n",
       "    </tr>\n",
       "  </tbody>\n",
       "</table>\n",
       "</div>"
      ],
      "text/plain": [
       "   Area Code      Date            Product Product Type           State  \\\n",
       "0      970.0  1/1/2018  Decaf Irish Cream       Coffee  Andhra Pradesh   \n",
       "1      309.0  1/1/2018  Decaf Irish Cream       Coffee      Tamil Nadu   \n",
       "\n",
       "   Target Profit  Target Sales  Profit  Sales  Sales after Tax  \n",
       "0          110.0         240.0   101.0  234.0           250.38  \n",
       "1          100.0         240.0    87.0  234.0           250.38  "
      ]
     },
     "execution_count": 9,
     "metadata": {},
     "output_type": "execute_result"
    }
   ],
   "source": [
    "df[\"Sales after Tax\"] = df.Sales * 1.07\n",
    "df.head(2)"
   ]
  },
  {
   "cell_type": "markdown",
   "metadata": {},
   "source": [
    "###### Ex. Check the status of target sales and add it to the dataframe as a new column\n",
    "\n",
    "**np.where(`condition`, `true value`, `false value`)** - > array object"
   ]
  },
  {
   "cell_type": "code",
   "execution_count": 15,
   "metadata": {},
   "outputs": [
    {
     "data": {
      "text/html": [
       "<div>\n",
       "<style scoped>\n",
       "    .dataframe tbody tr th:only-of-type {\n",
       "        vertical-align: middle;\n",
       "    }\n",
       "\n",
       "    .dataframe tbody tr th {\n",
       "        vertical-align: top;\n",
       "    }\n",
       "\n",
       "    .dataframe thead th {\n",
       "        text-align: right;\n",
       "    }\n",
       "</style>\n",
       "<table border=\"1\" class=\"dataframe\">\n",
       "  <thead>\n",
       "    <tr style=\"text-align: right;\">\n",
       "      <th></th>\n",
       "      <th>Area Code</th>\n",
       "      <th>Date</th>\n",
       "      <th>Product</th>\n",
       "      <th>Product Type</th>\n",
       "      <th>State</th>\n",
       "      <th>Target Profit</th>\n",
       "      <th>Target Sales</th>\n",
       "      <th>Profit</th>\n",
       "      <th>Sales</th>\n",
       "      <th>Sales after Tax</th>\n",
       "      <th>Sales Target Status</th>\n",
       "    </tr>\n",
       "  </thead>\n",
       "  <tbody>\n",
       "    <tr>\n",
       "      <th>0</th>\n",
       "      <td>970.0</td>\n",
       "      <td>1/1/2018</td>\n",
       "      <td>Decaf Irish Cream</td>\n",
       "      <td>Coffee</td>\n",
       "      <td>Andhra Pradesh</td>\n",
       "      <td>110.0</td>\n",
       "      <td>240.0</td>\n",
       "      <td>101.0</td>\n",
       "      <td>234.0</td>\n",
       "      <td>250.38</td>\n",
       "      <td>Not Achieved</td>\n",
       "    </tr>\n",
       "    <tr>\n",
       "      <th>1</th>\n",
       "      <td>309.0</td>\n",
       "      <td>1/1/2018</td>\n",
       "      <td>Decaf Irish Cream</td>\n",
       "      <td>Coffee</td>\n",
       "      <td>Tamil Nadu</td>\n",
       "      <td>100.0</td>\n",
       "      <td>240.0</td>\n",
       "      <td>87.0</td>\n",
       "      <td>234.0</td>\n",
       "      <td>250.38</td>\n",
       "      <td>Not Achieved</td>\n",
       "    </tr>\n",
       "    <tr>\n",
       "      <th>2</th>\n",
       "      <td>614.0</td>\n",
       "      <td>1/1/2018</td>\n",
       "      <td>Decaf Irish Cream</td>\n",
       "      <td>Coffee</td>\n",
       "      <td>Manipur</td>\n",
       "      <td>20.0</td>\n",
       "      <td>150.0</td>\n",
       "      <td>0.0</td>\n",
       "      <td>150.0</td>\n",
       "      <td>160.50</td>\n",
       "      <td>Achieved</td>\n",
       "    </tr>\n",
       "    <tr>\n",
       "      <th>3</th>\n",
       "      <td>720.0</td>\n",
       "      <td>1/1/2018</td>\n",
       "      <td>Decaf Espresso</td>\n",
       "      <td>Espresso</td>\n",
       "      <td>Andhra Pradesh</td>\n",
       "      <td>80.0</td>\n",
       "      <td>210.0</td>\n",
       "      <td>53.0</td>\n",
       "      <td>180.0</td>\n",
       "      <td>192.60</td>\n",
       "      <td>Not Achieved</td>\n",
       "    </tr>\n",
       "    <tr>\n",
       "      <th>4</th>\n",
       "      <td>630.0</td>\n",
       "      <td>1/1/2018</td>\n",
       "      <td>Decaf Espresso</td>\n",
       "      <td>Espresso</td>\n",
       "      <td>Tamil Nadu</td>\n",
       "      <td>180.0</td>\n",
       "      <td>530.0</td>\n",
       "      <td>140.0</td>\n",
       "      <td>456.0</td>\n",
       "      <td>487.92</td>\n",
       "      <td>Not Achieved</td>\n",
       "    </tr>\n",
       "  </tbody>\n",
       "</table>\n",
       "</div>"
      ],
      "text/plain": [
       "   Area Code      Date            Product Product Type           State  \\\n",
       "0      970.0  1/1/2018  Decaf Irish Cream       Coffee  Andhra Pradesh   \n",
       "1      309.0  1/1/2018  Decaf Irish Cream       Coffee      Tamil Nadu   \n",
       "2      614.0  1/1/2018  Decaf Irish Cream       Coffee         Manipur   \n",
       "3      720.0  1/1/2018     Decaf Espresso     Espresso  Andhra Pradesh   \n",
       "4      630.0  1/1/2018     Decaf Espresso     Espresso      Tamil Nadu   \n",
       "\n",
       "   Target Profit  Target Sales  Profit  Sales  Sales after Tax  \\\n",
       "0          110.0         240.0   101.0  234.0           250.38   \n",
       "1          100.0         240.0    87.0  234.0           250.38   \n",
       "2           20.0         150.0     0.0  150.0           160.50   \n",
       "3           80.0         210.0    53.0  180.0           192.60   \n",
       "4          180.0         530.0   140.0  456.0           487.92   \n",
       "\n",
       "  Sales Target Status  \n",
       "0        Not Achieved  \n",
       "1        Not Achieved  \n",
       "2            Achieved  \n",
       "3        Not Achieved  \n",
       "4        Not Achieved  "
      ]
     },
     "execution_count": 15,
     "metadata": {},
     "output_type": "execute_result"
    }
   ],
   "source": [
    "df[\"Sales Target Status\"] = np.where(df.Sales >= df[\"Target Sales\"], \"Achieved\", \"Not Achieved\")\n",
    "df.head()"
   ]
  },
  {
   "cell_type": "markdown",
   "metadata": {},
   "source": [
    "###### Ex. Count number of transactions achieving the targets. Display it as a bar graph."
   ]
  },
  {
   "cell_type": "code",
   "execution_count": 13,
   "metadata": {},
   "outputs": [
    {
     "data": {
      "text/plain": [
       "Achieved        3215\n",
       "Not Achieved    1033\n",
       "Name: Sales Target Status, dtype: int64"
      ]
     },
     "execution_count": 13,
     "metadata": {},
     "output_type": "execute_result"
    }
   ],
   "source": [
    "df[\"Sales Target Status\"].value_counts()"
   ]
  },
  {
   "cell_type": "code",
   "execution_count": 20,
   "metadata": {},
   "outputs": [
    {
     "data": {
      "text/plain": [
       "Achieved        75.68%\n",
       "Not Achieved    24.32%\n",
       "Name: Sales Target Status, dtype: object"
      ]
     },
     "execution_count": 20,
     "metadata": {},
     "output_type": "execute_result"
    }
   ],
   "source": [
    "np.round(df[\"Sales Target Status\"].value_counts(normalize = True) * 100, 2).astype(str) + \"%\""
   ]
  },
  {
   "cell_type": "markdown",
   "metadata": {},
   "source": [
    "###### using pandas `plot()`"
   ]
  },
  {
   "cell_type": "code",
   "execution_count": 28,
   "metadata": {},
   "outputs": [
    {
     "data": {
      "image/png": "[encoded data removed]",
      "text/plain": [
       "<Figure size 400x200 with 1 Axes>"
      ]
     },
     "metadata": {},
     "output_type": "display_data"
    }
   ],
   "source": [
    "_ = df[\"Sales Target Status\"].value_counts().plot(kind = \"bar\", figsize = (4, 2), title = \"Sales Target Status Frequency Count\")\n",
    "plt.show()"
   ]
  },
  {
   "cell_type": "markdown",
   "metadata": {},
   "source": [
    "###### using seaborn `countplot()`"
   ]
  },
  {
   "cell_type": "code",
   "execution_count": 30,
   "metadata": {},
   "outputs": [
    {
     "data": {
      "image/png": "[encoded data removed]",
      "text/plain": [
       "<Figure size 600x200 with 1 Axes>"
      ]
     },
     "metadata": {},
     "output_type": "display_data"
    }
   ],
   "source": [
    "_ = sns.countplot(data = df, x = \"Sales Target Status\")"
   ]
  },
  {
   "cell_type": "markdown",
   "metadata": {},
   "source": [
    "**np.select(`cond_list`, `result_list`, `default = 0`)**"
   ]
  },
  {
   "cell_type": "code",
   "execution_count": 37,
   "metadata": {},
   "outputs": [
    {
     "name": "stdout",
     "output_type": "stream",
     "text": [
      "[57 29 35 43 25 36 25 29 28 32]\n"
     ]
    },
    {
     "data": {
      "text/plain": [
       "array(['Group C', 'Group A', 'Group A', 'Group B', 'Group A', 'Group B',\n",
       "       'Group A', 'Group A', 'Group A', 'Group A'], dtype='<U7')"
      ]
     },
     "execution_count": 37,
     "metadata": {},
     "output_type": "execute_result"
    }
   ],
   "source": [
    "ages = np.random.randint(25, 60, 10)\n",
    "print(ages)\n",
    "cond_list = [ages <= 35, ages <= 45, ages > 45]\n",
    "result_list = [\"Group A\", \"Group B\", \"Group C\"]\n",
    "# result_list = [1, 2, 3]\n",
    "np.select(cond_list, result_list, default= \"Group Z\")"
   ]
  },
  {
   "cell_type": "code",
   "execution_count": 34,
   "metadata": {},
   "outputs": [
    {
     "name": "stdout",
     "output_type": "stream",
     "text": [
      "Python 3.12.0\n"
     ]
    }
   ],
   "source": [
    "!python --version"
   ]
  },
  {
   "cell_type": "code",
   "execution_count": 35,
   "metadata": {},
   "outputs": [
    {
     "name": "stdout",
     "output_type": "stream",
     "text": [
      "Help on _ArrayFunctionDispatcher in module numpy:\n",
      "\n",
      "select(condlist, choicelist, default=0)\n",
      "    Return an array drawn from elements in choicelist, depending on conditions.\n",
      "\n",
      "    Parameters\n",
      "    ----------\n",
      "    condlist : list of bool ndarrays\n",
      "        The list of conditions which determine from which array in `choicelist`\n",
      "        the output elements are taken. When multiple conditions are satisfied,\n",
      "        the first one encountered in `condlist` is used.\n",
      "    choicelist : list of ndarrays\n",
      "        The list of arrays from which the output elements are taken. It has\n",
      "        to be of the same length as `condlist`.\n",
      "    default : scalar, optional\n",
      "        The element inserted in `output` when all conditions evaluate to False.\n",
      "\n",
      "    Returns\n",
      "    -------\n",
      "    output : ndarray\n",
      "        The output at position m is the m-th element of the array in\n",
      "        `choicelist` where the m-th element of the corresponding array in\n",
      "        `condlist` is True.\n",
      "\n",
      "    See Also\n",
      "    --------\n",
      "    where : Return elements from one of two arrays depending on condition.\n",
      "    take, choose, compress, diag, diagonal\n",
      "\n",
      "    Examples\n",
      "    --------\n",
      "    >>> x = np.arange(6)\n",
      "    >>> condlist = [x<3, x>3]\n",
      "    >>> choicelist = [x, x**2]\n",
      "    >>> np.select(condlist, choicelist, 42)\n",
      "    array([ 0,  1,  2, 42, 16, 25])\n",
      "\n",
      "    >>> condlist = [x<=4, x>3]\n",
      "    >>> choicelist = [x, x**2]\n",
      "    >>> np.select(condlist, choicelist, 55)\n",
      "    array([ 0,  1,  2,  3,  4, 25])\n",
      "\n"
     ]
    }
   ],
   "source": [
    "help(np.select)"
   ]
  },
  {
   "cell_type": "markdown",
   "metadata": {},
   "source": [
    "#### Aggregating Dataframes\n",
    "- `df.groupby(by=None,as_index=True, sort=True)`"
   ]
  },
  {
   "cell_type": "markdown",
   "metadata": {},
   "source": [
    "###### Ex. Total sales generated by all products"
   ]
  },
  {
   "cell_type": "code",
   "execution_count": 41,
   "metadata": {},
   "outputs": [
    {
     "data": {
      "text/plain": [
       "Product\n",
       "Amaretto              26269.0\n",
       "Caffe Latte           35899.0\n",
       "Caffe Mocha           84904.0\n",
       "Chamomile             75578.0\n",
       "Colombian            128311.0\n",
       "Darjeeling            73151.0\n",
       "Decaf Espresso        78162.0\n",
       "Decaf Irish Cream     62248.0\n",
       "Earl Grey             66772.0\n",
       "Green Tea             32850.0\n",
       "Lemon                 95926.0\n",
       "Mint                  35710.0\n",
       "Regular Espresso      24031.0\n",
       "Name: Sales, dtype: float64"
      ]
     },
     "execution_count": 41,
     "metadata": {},
     "output_type": "execute_result"
    }
   ],
   "source": [
    "df.groupby(by = \"Product\")[\"Sales\"].sum()"
   ]
  },
  {
   "cell_type": "code",
   "execution_count": 43,
   "metadata": {},
   "outputs": [
    {
     "data": {
      "image/png": "[encoded data removed]",
      "text/plain": [
       "<Figure size 600x200 with 1 Axes>"
      ]
     },
     "metadata": {},
     "output_type": "display_data"
    }
   ],
   "source": [
    "_ = df.groupby(by = \"Product\")[\"Sales\"].sum().plot(kind = \"bar\")"
   ]
  },
  {
   "cell_type": "code",
   "execution_count": null,
   "metadata": {},
   "outputs": [],
   "source": [
    "df.groupby(by = [\"Product Type\",\"Product\"], as_index=False)[\"Sales\"].sum()"
   ]
  },
  {
   "cell_type": "code",
   "execution_count": 51,
   "metadata": {},
   "outputs": [
    {
     "data": {
      "text/plain": [
       "<Axes: xlabel='Product'>"
      ]
     },
     "execution_count": 51,
     "metadata": {},
     "output_type": "execute_result"
    },
    {
     "data": {
      "image/png": "[encoded data removed]",
      "text/plain": [
       "<Figure size 600x200 with 1 Axes>"
      ]
     },
     "metadata": {},
     "output_type": "display_data"
    }
   ],
   "source": [
    "df.groupby(by = \"Product\")[[\"Sales\", \"Profit\"]].sum().plot(kind = \"bar\", color = [\"Teal\", \"cyan\"])"
   ]
  },
  {
   "cell_type": "code",
   "execution_count": 53,
   "metadata": {},
   "outputs": [
    {
     "data": {
      "text/html": [
       "<div>\n",
       "<style scoped>\n",
       "    .dataframe tbody tr th:only-of-type {\n",
       "        vertical-align: middle;\n",
       "    }\n",
       "\n",
       "    .dataframe tbody tr th {\n",
       "        vertical-align: top;\n",
       "    }\n",
       "\n",
       "    .dataframe thead th {\n",
       "        text-align: right;\n",
       "    }\n",
       "</style>\n",
       "<table border=\"1\" class=\"dataframe\">\n",
       "  <thead>\n",
       "    <tr style=\"text-align: right;\">\n",
       "      <th></th>\n",
       "      <th>Sales</th>\n",
       "      <th>Profit</th>\n",
       "    </tr>\n",
       "    <tr>\n",
       "      <th>Product</th>\n",
       "      <th></th>\n",
       "      <th></th>\n",
       "    </tr>\n",
       "  </thead>\n",
       "  <tbody>\n",
       "    <tr>\n",
       "      <th>Amaretto</th>\n",
       "      <td>26269.0</td>\n",
       "      <td>25.47</td>\n",
       "    </tr>\n",
       "    <tr>\n",
       "      <th>Caffe Latte</th>\n",
       "      <td>35899.0</td>\n",
       "      <td>52.66</td>\n",
       "    </tr>\n",
       "    <tr>\n",
       "      <th>Caffe Mocha</th>\n",
       "      <td>84904.0</td>\n",
       "      <td>36.83</td>\n",
       "    </tr>\n",
       "    <tr>\n",
       "      <th>Chamomile</th>\n",
       "      <td>75578.0</td>\n",
       "      <td>70.91</td>\n",
       "    </tr>\n",
       "    <tr>\n",
       "      <th>Colombian</th>\n",
       "      <td>128311.0</td>\n",
       "      <td>116.26</td>\n",
       "    </tr>\n",
       "    <tr>\n",
       "      <th>Darjeeling</th>\n",
       "      <td>73151.0</td>\n",
       "      <td>75.66</td>\n",
       "    </tr>\n",
       "    <tr>\n",
       "      <th>Decaf Espresso</th>\n",
       "      <td>78162.0</td>\n",
       "      <td>72.31</td>\n",
       "    </tr>\n",
       "    <tr>\n",
       "      <th>Decaf Irish Cream</th>\n",
       "      <td>62248.0</td>\n",
       "      <td>36.43</td>\n",
       "    </tr>\n",
       "    <tr>\n",
       "      <th>Earl Grey</th>\n",
       "      <td>66772.0</td>\n",
       "      <td>83.90</td>\n",
       "    </tr>\n",
       "    <tr>\n",
       "      <th>Green Tea</th>\n",
       "      <td>32850.0</td>\n",
       "      <td>-0.80</td>\n",
       "    </tr>\n",
       "    <tr>\n",
       "      <th>Lemon</th>\n",
       "      <td>95926.0</td>\n",
       "      <td>62.23</td>\n",
       "    </tr>\n",
       "    <tr>\n",
       "      <th>Mint</th>\n",
       "      <td>35710.0</td>\n",
       "      <td>32.05</td>\n",
       "    </tr>\n",
       "    <tr>\n",
       "      <th>Regular Espresso</th>\n",
       "      <td>24031.0</td>\n",
       "      <td>139.79</td>\n",
       "    </tr>\n",
       "  </tbody>\n",
       "</table>\n",
       "</div>"
      ],
      "text/plain": [
       "                      Sales  Profit\n",
       "Product                            \n",
       "Amaretto            26269.0   25.47\n",
       "Caffe Latte         35899.0   52.66\n",
       "Caffe Mocha         84904.0   36.83\n",
       "Chamomile           75578.0   70.91\n",
       "Colombian          128311.0  116.26\n",
       "Darjeeling          73151.0   75.66\n",
       "Decaf Espresso      78162.0   72.31\n",
       "Decaf Irish Cream   62248.0   36.43\n",
       "Earl Grey           66772.0   83.90\n",
       "Green Tea           32850.0   -0.80\n",
       "Lemon               95926.0   62.23\n",
       "Mint                35710.0   32.05\n",
       "Regular Espresso    24031.0  139.79"
      ]
     },
     "execution_count": 53,
     "metadata": {},
     "output_type": "execute_result"
    }
   ],
   "source": [
    "df.groupby(by = \"Product\").agg({\"Sales\" : \"sum\", \"Profit\" : \"mean\"}).round(2)"
   ]
  },
  {
   "cell_type": "markdown",
   "metadata": {},
   "source": [
    "#### Creating Pivot Table\n",
    "-   `df.pivot_table(index, columns, values, aggfunc, fill_value)`"
   ]
  },
  {
   "cell_type": "markdown",
   "metadata": {},
   "source": [
    "###### Ex. Display total sales by product and State - matrix chart"
   ]
  },
  {
   "cell_type": "code",
   "execution_count": 57,
   "metadata": {},
   "outputs": [
    {
     "data": {
      "text/html": [
       "<div>\n",
       "<style scoped>\n",
       "    .dataframe tbody tr th:only-of-type {\n",
       "        vertical-align: middle;\n",
       "    }\n",
       "\n",
       "    .dataframe tbody tr th {\n",
       "        vertical-align: top;\n",
       "    }\n",
       "\n",
       "    .dataframe thead th {\n",
       "        text-align: right;\n",
       "    }\n",
       "</style>\n",
       "<table border=\"1\" class=\"dataframe\">\n",
       "  <thead>\n",
       "    <tr style=\"text-align: right;\">\n",
       "      <th>State</th>\n",
       "      <th>Andhra Pradesh</th>\n",
       "      <th>Arunachal Pradesh</th>\n",
       "      <th>Assam</th>\n",
       "      <th>Chhattisgarh</th>\n",
       "      <th>Goa</th>\n",
       "      <th>Gujarat</th>\n",
       "      <th>Haryana</th>\n",
       "      <th>Jharkhand</th>\n",
       "      <th>Karnataka</th>\n",
       "      <th>Kerala</th>\n",
       "      <th>Madhya Pradesh</th>\n",
       "      <th>Maharashtra</th>\n",
       "      <th>Manipur</th>\n",
       "      <th>Meghalaya</th>\n",
       "      <th>Mizoram</th>\n",
       "      <th>Nagaland</th>\n",
       "      <th>Odisha</th>\n",
       "      <th>Punjab</th>\n",
       "      <th>Rajasthan</th>\n",
       "      <th>Tamil Nadu</th>\n",
       "    </tr>\n",
       "    <tr>\n",
       "      <th>Product</th>\n",
       "      <th></th>\n",
       "      <th></th>\n",
       "      <th></th>\n",
       "      <th></th>\n",
       "      <th></th>\n",
       "      <th></th>\n",
       "      <th></th>\n",
       "      <th></th>\n",
       "      <th></th>\n",
       "      <th></th>\n",
       "      <th></th>\n",
       "      <th></th>\n",
       "      <th></th>\n",
       "      <th></th>\n",
       "      <th></th>\n",
       "      <th></th>\n",
       "      <th></th>\n",
       "      <th></th>\n",
       "      <th></th>\n",
       "      <th></th>\n",
       "    </tr>\n",
       "  </thead>\n",
       "  <tbody>\n",
       "    <tr>\n",
       "      <th>Amaretto</th>\n",
       "      <td>6507.0</td>\n",
       "      <td>NaN</td>\n",
       "      <td>2994.0</td>\n",
       "      <td>1209.0</td>\n",
       "      <td>NaN</td>\n",
       "      <td>NaN</td>\n",
       "      <td>NaN</td>\n",
       "      <td>NaN</td>\n",
       "      <td>NaN</td>\n",
       "      <td>NaN</td>\n",
       "      <td>NaN</td>\n",
       "      <td>2714.0</td>\n",
       "      <td>3102.0</td>\n",
       "      <td>NaN</td>\n",
       "      <td>2935.0</td>\n",
       "      <td>NaN</td>\n",
       "      <td>3614.0</td>\n",
       "      <td>NaN</td>\n",
       "      <td>3194.0</td>\n",
       "      <td>NaN</td>\n",
       "    </tr>\n",
       "    <tr>\n",
       "      <th>Caffe Latte</th>\n",
       "      <td>NaN</td>\n",
       "      <td>NaN</td>\n",
       "      <td>NaN</td>\n",
       "      <td>NaN</td>\n",
       "      <td>4027.0</td>\n",
       "      <td>NaN</td>\n",
       "      <td>NaN</td>\n",
       "      <td>1058.0</td>\n",
       "      <td>NaN</td>\n",
       "      <td>3497.0</td>\n",
       "      <td>NaN</td>\n",
       "      <td>12001.0</td>\n",
       "      <td>NaN</td>\n",
       "      <td>6262.0</td>\n",
       "      <td>2902.0</td>\n",
       "      <td>1657.0</td>\n",
       "      <td>2302.0</td>\n",
       "      <td>2193.0</td>\n",
       "      <td>NaN</td>\n",
       "      <td>NaN</td>\n",
       "    </tr>\n",
       "    <tr>\n",
       "      <th>Caffe Mocha</th>\n",
       "      <td>4640.0</td>\n",
       "      <td>3497.0</td>\n",
       "      <td>2793.0</td>\n",
       "      <td>1255.0</td>\n",
       "      <td>6507.0</td>\n",
       "      <td>2804.0</td>\n",
       "      <td>2696.0</td>\n",
       "      <td>1209.0</td>\n",
       "      <td>5898.0</td>\n",
       "      <td>3478.0</td>\n",
       "      <td>1654.0</td>\n",
       "      <td>7691.0</td>\n",
       "      <td>7798.0</td>\n",
       "      <td>1388.0</td>\n",
       "      <td>3102.0</td>\n",
       "      <td>2793.0</td>\n",
       "      <td>3678.0</td>\n",
       "      <td>3194.0</td>\n",
       "      <td>4222.0</td>\n",
       "      <td>14607.0</td>\n",
       "    </tr>\n",
       "    <tr>\n",
       "      <th>Chamomile</th>\n",
       "      <td>7798.0</td>\n",
       "      <td>NaN</td>\n",
       "      <td>NaN</td>\n",
       "      <td>14607.0</td>\n",
       "      <td>3102.0</td>\n",
       "      <td>NaN</td>\n",
       "      <td>2793.0</td>\n",
       "      <td>7691.0</td>\n",
       "      <td>2193.0</td>\n",
       "      <td>3678.0</td>\n",
       "      <td>NaN</td>\n",
       "      <td>6233.0</td>\n",
       "      <td>1388.0</td>\n",
       "      <td>3194.0</td>\n",
       "      <td>1790.0</td>\n",
       "      <td>1209.0</td>\n",
       "      <td>2994.0</td>\n",
       "      <td>6923.0</td>\n",
       "      <td>3478.0</td>\n",
       "      <td>6507.0</td>\n",
       "    </tr>\n",
       "    <tr>\n",
       "      <th>Colombian</th>\n",
       "      <td>3807.0</td>\n",
       "      <td>6923.0</td>\n",
       "      <td>3204.0</td>\n",
       "      <td>1683.0</td>\n",
       "      <td>12681.0</td>\n",
       "      <td>13301.0</td>\n",
       "      <td>4267.0</td>\n",
       "      <td>1972.0</td>\n",
       "      <td>5712.0</td>\n",
       "      <td>2541.0</td>\n",
       "      <td>18245.0</td>\n",
       "      <td>18245.0</td>\n",
       "      <td>2646.0</td>\n",
       "      <td>3237.0</td>\n",
       "      <td>3127.0</td>\n",
       "      <td>3204.0</td>\n",
       "      <td>2833.0</td>\n",
       "      <td>4175.0</td>\n",
       "      <td>5898.0</td>\n",
       "      <td>10610.0</td>\n",
       "    </tr>\n",
       "    <tr>\n",
       "      <th>Darjeeling</th>\n",
       "      <td>2902.0</td>\n",
       "      <td>2696.0</td>\n",
       "      <td>1209.0</td>\n",
       "      <td>12001.0</td>\n",
       "      <td>NaN</td>\n",
       "      <td>1772.0</td>\n",
       "      <td>2220.0</td>\n",
       "      <td>14607.0</td>\n",
       "      <td>2184.0</td>\n",
       "      <td>NaN</td>\n",
       "      <td>6233.0</td>\n",
       "      <td>6507.0</td>\n",
       "      <td>5712.0</td>\n",
       "      <td>NaN</td>\n",
       "      <td>1388.0</td>\n",
       "      <td>NaN</td>\n",
       "      <td>2793.0</td>\n",
       "      <td>3478.0</td>\n",
       "      <td>2809.0</td>\n",
       "      <td>4640.0</td>\n",
       "    </tr>\n",
       "    <tr>\n",
       "      <th>Decaf Espresso</th>\n",
       "      <td>4027.0</td>\n",
       "      <td>2833.0</td>\n",
       "      <td>NaN</td>\n",
       "      <td>1058.0</td>\n",
       "      <td>4640.0</td>\n",
       "      <td>NaN</td>\n",
       "      <td>2302.0</td>\n",
       "      <td>1255.0</td>\n",
       "      <td>4887.0</td>\n",
       "      <td>2809.0</td>\n",
       "      <td>NaN</td>\n",
       "      <td>14607.0</td>\n",
       "      <td>2902.0</td>\n",
       "      <td>5712.0</td>\n",
       "      <td>7798.0</td>\n",
       "      <td>2220.0</td>\n",
       "      <td>2696.0</td>\n",
       "      <td>4222.0</td>\n",
       "      <td>2193.0</td>\n",
       "      <td>12001.0</td>\n",
       "    </tr>\n",
       "    <tr>\n",
       "      <th>Decaf Irish Cream</th>\n",
       "      <td>6233.0</td>\n",
       "      <td>NaN</td>\n",
       "      <td>NaN</td>\n",
       "      <td>1037.0</td>\n",
       "      <td>3807.0</td>\n",
       "      <td>NaN</td>\n",
       "      <td>3614.0</td>\n",
       "      <td>1683.0</td>\n",
       "      <td>6262.0</td>\n",
       "      <td>2891.0</td>\n",
       "      <td>NaN</td>\n",
       "      <td>3739.0</td>\n",
       "      <td>2935.0</td>\n",
       "      <td>1772.0</td>\n",
       "      <td>2646.0</td>\n",
       "      <td>3126.0</td>\n",
       "      <td>4267.0</td>\n",
       "      <td>5898.0</td>\n",
       "      <td>4887.0</td>\n",
       "      <td>7451.0</td>\n",
       "    </tr>\n",
       "    <tr>\n",
       "      <th>Earl Grey</th>\n",
       "      <td>2991.0</td>\n",
       "      <td>NaN</td>\n",
       "      <td>NaN</td>\n",
       "      <td>14449.0</td>\n",
       "      <td>NaN</td>\n",
       "      <td>NaN</td>\n",
       "      <td>1657.0</td>\n",
       "      <td>12001.0</td>\n",
       "      <td>NaN</td>\n",
       "      <td>NaN</td>\n",
       "      <td>6507.0</td>\n",
       "      <td>4640.0</td>\n",
       "      <td>6262.0</td>\n",
       "      <td>NaN</td>\n",
       "      <td>5712.0</td>\n",
       "      <td>NaN</td>\n",
       "      <td>2220.0</td>\n",
       "      <td>2809.0</td>\n",
       "      <td>3497.0</td>\n",
       "      <td>4027.0</td>\n",
       "    </tr>\n",
       "    <tr>\n",
       "      <th>Green Tea</th>\n",
       "      <td>3237.0</td>\n",
       "      <td>1599.0</td>\n",
       "      <td>1058.0</td>\n",
       "      <td>NaN</td>\n",
       "      <td>NaN</td>\n",
       "      <td>1388.0</td>\n",
       "      <td>1972.0</td>\n",
       "      <td>622.0</td>\n",
       "      <td>2891.0</td>\n",
       "      <td>NaN</td>\n",
       "      <td>4640.0</td>\n",
       "      <td>4027.0</td>\n",
       "      <td>NaN</td>\n",
       "      <td>NaN</td>\n",
       "      <td>6262.0</td>\n",
       "      <td>NaN</td>\n",
       "      <td>1657.0</td>\n",
       "      <td>3497.0</td>\n",
       "      <td>NaN</td>\n",
       "      <td>NaN</td>\n",
       "    </tr>\n",
       "    <tr>\n",
       "      <th>Lemon</th>\n",
       "      <td>2935.0</td>\n",
       "      <td>4267.0</td>\n",
       "      <td>1972.0</td>\n",
       "      <td>7451.0</td>\n",
       "      <td>2646.0</td>\n",
       "      <td>2902.0</td>\n",
       "      <td>3126.0</td>\n",
       "      <td>10610.0</td>\n",
       "      <td>3194.0</td>\n",
       "      <td>4267.0</td>\n",
       "      <td>14842.0</td>\n",
       "      <td>12681.0</td>\n",
       "      <td>1772.0</td>\n",
       "      <td>5898.0</td>\n",
       "      <td>3237.0</td>\n",
       "      <td>1683.0</td>\n",
       "      <td>3204.0</td>\n",
       "      <td>2541.0</td>\n",
       "      <td>2891.0</td>\n",
       "      <td>3807.0</td>\n",
       "    </tr>\n",
       "    <tr>\n",
       "      <th>Mint</th>\n",
       "      <td>3102.0</td>\n",
       "      <td>3614.0</td>\n",
       "      <td>NaN</td>\n",
       "      <td>NaN</td>\n",
       "      <td>NaN</td>\n",
       "      <td>NaN</td>\n",
       "      <td>NaN</td>\n",
       "      <td>7451.0</td>\n",
       "      <td>4222.0</td>\n",
       "      <td>NaN</td>\n",
       "      <td>4155.0</td>\n",
       "      <td>3807.0</td>\n",
       "      <td>NaN</td>\n",
       "      <td>NaN</td>\n",
       "      <td>NaN</td>\n",
       "      <td>NaN</td>\n",
       "      <td>3126.0</td>\n",
       "      <td>NaN</td>\n",
       "      <td>NaN</td>\n",
       "      <td>6233.0</td>\n",
       "    </tr>\n",
       "    <tr>\n",
       "      <th>Regular Espresso</th>\n",
       "      <td>NaN</td>\n",
       "      <td>NaN</td>\n",
       "      <td>1657.0</td>\n",
       "      <td>NaN</td>\n",
       "      <td>NaN</td>\n",
       "      <td>7798.0</td>\n",
       "      <td>NaN</td>\n",
       "      <td>NaN</td>\n",
       "      <td>NaN</td>\n",
       "      <td>NaN</td>\n",
       "      <td>14576.0</td>\n",
       "      <td>NaN</td>\n",
       "      <td>NaN</td>\n",
       "      <td>NaN</td>\n",
       "      <td>NaN</td>\n",
       "      <td>NaN</td>\n",
       "      <td>NaN</td>\n",
       "      <td>NaN</td>\n",
       "      <td>NaN</td>\n",
       "      <td>NaN</td>\n",
       "    </tr>\n",
       "  </tbody>\n",
       "</table>\n",
       "</div>"
      ],
      "text/plain": [
       "State              Andhra Pradesh  Arunachal Pradesh   Assam  Chhattisgarh  \\\n",
       "Product                                                                      \n",
       "Amaretto                   6507.0                NaN  2994.0        1209.0   \n",
       "Caffe Latte                   NaN                NaN     NaN           NaN   \n",
       "Caffe Mocha                4640.0             3497.0  2793.0        1255.0   \n",
       "Chamomile                  7798.0                NaN     NaN       14607.0   \n",
       "Colombian                  3807.0             6923.0  3204.0        1683.0   \n",
       "Darjeeling                 2902.0             2696.0  1209.0       12001.0   \n",
       "Decaf Espresso             4027.0             2833.0     NaN        1058.0   \n",
       "Decaf Irish Cream          6233.0                NaN     NaN        1037.0   \n",
       "Earl Grey                  2991.0                NaN     NaN       14449.0   \n",
       "Green Tea                  3237.0             1599.0  1058.0           NaN   \n",
       "Lemon                      2935.0             4267.0  1972.0        7451.0   \n",
       "Mint                       3102.0             3614.0     NaN           NaN   \n",
       "Regular Espresso              NaN                NaN  1657.0           NaN   \n",
       "\n",
       "State                  Goa  Gujarat  Haryana  Jharkhand  Karnataka  Kerala  \\\n",
       "Product                                                                      \n",
       "Amaretto               NaN      NaN      NaN        NaN        NaN     NaN   \n",
       "Caffe Latte         4027.0      NaN      NaN     1058.0        NaN  3497.0   \n",
       "Caffe Mocha         6507.0   2804.0   2696.0     1209.0     5898.0  3478.0   \n",
       "Chamomile           3102.0      NaN   2793.0     7691.0     2193.0  3678.0   \n",
       "Colombian          12681.0  13301.0   4267.0     1972.0     5712.0  2541.0   \n",
       "Darjeeling             NaN   1772.0   2220.0    14607.0     2184.0     NaN   \n",
       "Decaf Espresso      4640.0      NaN   2302.0     1255.0     4887.0  2809.0   \n",
       "Decaf Irish Cream   3807.0      NaN   3614.0     1683.0     6262.0  2891.0   \n",
       "Earl Grey              NaN      NaN   1657.0    12001.0        NaN     NaN   \n",
       "Green Tea              NaN   1388.0   1972.0      622.0     2891.0     NaN   \n",
       "Lemon               2646.0   2902.0   3126.0    10610.0     3194.0  4267.0   \n",
       "Mint                   NaN      NaN      NaN     7451.0     4222.0     NaN   \n",
       "Regular Espresso       NaN   7798.0      NaN        NaN        NaN     NaN   \n",
       "\n",
       "State              Madhya Pradesh  Maharashtra  Manipur  Meghalaya  Mizoram  \\\n",
       "Product                                                                       \n",
       "Amaretto                      NaN       2714.0   3102.0        NaN   2935.0   \n",
       "Caffe Latte                   NaN      12001.0      NaN     6262.0   2902.0   \n",
       "Caffe Mocha                1654.0       7691.0   7798.0     1388.0   3102.0   \n",
       "Chamomile                     NaN       6233.0   1388.0     3194.0   1790.0   \n",
       "Colombian                 18245.0      18245.0   2646.0     3237.0   3127.0   \n",
       "Darjeeling                 6233.0       6507.0   5712.0        NaN   1388.0   \n",
       "Decaf Espresso                NaN      14607.0   2902.0     5712.0   7798.0   \n",
       "Decaf Irish Cream             NaN       3739.0   2935.0     1772.0   2646.0   \n",
       "Earl Grey                  6507.0       4640.0   6262.0        NaN   5712.0   \n",
       "Green Tea                  4640.0       4027.0      NaN        NaN   6262.0   \n",
       "Lemon                     14842.0      12681.0   1772.0     5898.0   3237.0   \n",
       "Mint                       4155.0       3807.0      NaN        NaN      NaN   \n",
       "Regular Espresso          14576.0          NaN      NaN        NaN      NaN   \n",
       "\n",
       "State              Nagaland  Odisha  Punjab  Rajasthan  Tamil Nadu  \n",
       "Product                                                             \n",
       "Amaretto                NaN  3614.0     NaN     3194.0         NaN  \n",
       "Caffe Latte          1657.0  2302.0  2193.0        NaN         NaN  \n",
       "Caffe Mocha          2793.0  3678.0  3194.0     4222.0     14607.0  \n",
       "Chamomile            1209.0  2994.0  6923.0     3478.0      6507.0  \n",
       "Colombian            3204.0  2833.0  4175.0     5898.0     10610.0  \n",
       "Darjeeling              NaN  2793.0  3478.0     2809.0      4640.0  \n",
       "Decaf Espresso       2220.0  2696.0  4222.0     2193.0     12001.0  \n",
       "Decaf Irish Cream    3126.0  4267.0  5898.0     4887.0      7451.0  \n",
       "Earl Grey               NaN  2220.0  2809.0     3497.0      4027.0  \n",
       "Green Tea               NaN  1657.0  3497.0        NaN         NaN  \n",
       "Lemon                1683.0  3204.0  2541.0     2891.0      3807.0  \n",
       "Mint                    NaN  3126.0     NaN        NaN      6233.0  \n",
       "Regular Espresso        NaN     NaN     NaN        NaN         NaN  "
      ]
     },
     "execution_count": 57,
     "metadata": {},
     "output_type": "execute_result"
    }
   ],
   "source": [
    "df.pivot_table(index=\"Product\", columns=\"State\", values=\"Sales\", aggfunc=sum)"
   ]
  },
  {
   "cell_type": "markdown",
   "metadata": {},
   "source": [
    "###### Ex. How many franchises in each city are selling each product?"
   ]
  },
  {
   "cell_type": "code",
   "execution_count": 58,
   "metadata": {},
   "outputs": [
    {
     "data": {
      "text/html": [
       "<div>\n",
       "<style scoped>\n",
       "    .dataframe tbody tr th:only-of-type {\n",
       "        vertical-align: middle;\n",
       "    }\n",
       "\n",
       "    .dataframe tbody tr th {\n",
       "        vertical-align: top;\n",
       "    }\n",
       "\n",
       "    .dataframe thead th {\n",
       "        text-align: right;\n",
       "    }\n",
       "</style>\n",
       "<table border=\"1\" class=\"dataframe\">\n",
       "  <thead>\n",
       "    <tr style=\"text-align: right;\">\n",
       "      <th></th>\n",
       "      <th>Franchise</th>\n",
       "      <th>Date</th>\n",
       "      <th>Product</th>\n",
       "      <th>Product Type</th>\n",
       "      <th>State</th>\n",
       "      <th>Target Profit</th>\n",
       "      <th>Target Sales</th>\n",
       "      <th>Profit</th>\n",
       "      <th>Sales</th>\n",
       "      <th>Sales after Tax</th>\n",
       "      <th>Sales Target Status</th>\n",
       "    </tr>\n",
       "  </thead>\n",
       "  <tbody>\n",
       "    <tr>\n",
       "      <th>0</th>\n",
       "      <td>970</td>\n",
       "      <td>1/1/2018</td>\n",
       "      <td>Decaf Irish Cream</td>\n",
       "      <td>Coffee</td>\n",
       "      <td>Andhra Pradesh</td>\n",
       "      <td>110.0</td>\n",
       "      <td>240.0</td>\n",
       "      <td>101.0</td>\n",
       "      <td>234.0</td>\n",
       "      <td>250.38</td>\n",
       "      <td>Not Achieved</td>\n",
       "    </tr>\n",
       "    <tr>\n",
       "      <th>1</th>\n",
       "      <td>309</td>\n",
       "      <td>1/1/2018</td>\n",
       "      <td>Decaf Irish Cream</td>\n",
       "      <td>Coffee</td>\n",
       "      <td>Tamil Nadu</td>\n",
       "      <td>100.0</td>\n",
       "      <td>240.0</td>\n",
       "      <td>87.0</td>\n",
       "      <td>234.0</td>\n",
       "      <td>250.38</td>\n",
       "      <td>Not Achieved</td>\n",
       "    </tr>\n",
       "    <tr>\n",
       "      <th>2</th>\n",
       "      <td>614</td>\n",
       "      <td>1/1/2018</td>\n",
       "      <td>Decaf Irish Cream</td>\n",
       "      <td>Coffee</td>\n",
       "      <td>Manipur</td>\n",
       "      <td>20.0</td>\n",
       "      <td>150.0</td>\n",
       "      <td>0.0</td>\n",
       "      <td>150.0</td>\n",
       "      <td>160.50</td>\n",
       "      <td>Achieved</td>\n",
       "    </tr>\n",
       "    <tr>\n",
       "      <th>3</th>\n",
       "      <td>720</td>\n",
       "      <td>1/1/2018</td>\n",
       "      <td>Decaf Espresso</td>\n",
       "      <td>Espresso</td>\n",
       "      <td>Andhra Pradesh</td>\n",
       "      <td>80.0</td>\n",
       "      <td>210.0</td>\n",
       "      <td>53.0</td>\n",
       "      <td>180.0</td>\n",
       "      <td>192.60</td>\n",
       "      <td>Not Achieved</td>\n",
       "    </tr>\n",
       "    <tr>\n",
       "      <th>4</th>\n",
       "      <td>630</td>\n",
       "      <td>1/1/2018</td>\n",
       "      <td>Decaf Espresso</td>\n",
       "      <td>Espresso</td>\n",
       "      <td>Tamil Nadu</td>\n",
       "      <td>180.0</td>\n",
       "      <td>530.0</td>\n",
       "      <td>140.0</td>\n",
       "      <td>456.0</td>\n",
       "      <td>487.92</td>\n",
       "      <td>Not Achieved</td>\n",
       "    </tr>\n",
       "  </tbody>\n",
       "</table>\n",
       "</div>"
      ],
      "text/plain": [
       "   Franchise      Date            Product Product Type           State  \\\n",
       "0        970  1/1/2018  Decaf Irish Cream       Coffee  Andhra Pradesh   \n",
       "1        309  1/1/2018  Decaf Irish Cream       Coffee      Tamil Nadu   \n",
       "2        614  1/1/2018  Decaf Irish Cream       Coffee         Manipur   \n",
       "3        720  1/1/2018     Decaf Espresso     Espresso  Andhra Pradesh   \n",
       "4        630  1/1/2018     Decaf Espresso     Espresso      Tamil Nadu   \n",
       "\n",
       "   Target Profit  Target Sales  Profit  Sales  Sales after Tax  \\\n",
       "0          110.0         240.0   101.0  234.0           250.38   \n",
       "1          100.0         240.0    87.0  234.0           250.38   \n",
       "2           20.0         150.0     0.0  150.0           160.50   \n",
       "3           80.0         210.0    53.0  180.0           192.60   \n",
       "4          180.0         530.0   140.0  456.0           487.92   \n",
       "\n",
       "  Sales Target Status  \n",
       "0        Not Achieved  \n",
       "1        Not Achieved  \n",
       "2            Achieved  \n",
       "3        Not Achieved  \n",
       "4        Not Achieved  "
      ]
     },
     "execution_count": 58,
     "metadata": {},
     "output_type": "execute_result"
    }
   ],
   "source": [
    "df.rename({\"Area Code\" : \"Franchise\"}, axis=1, inplace=True)\n",
    "df[\"Franchise\"] = df[\"Franchise\"].astype(int)\n",
    "df.head()"
   ]
  },
  {
   "cell_type": "code",
   "execution_count": 60,
   "metadata": {},
   "outputs": [
    {
     "data": {
      "text/html": [
       "<div>\n",
       "<style scoped>\n",
       "    .dataframe tbody tr th:only-of-type {\n",
       "        vertical-align: middle;\n",
       "    }\n",
       "\n",
       "    .dataframe tbody tr th {\n",
       "        vertical-align: top;\n",
       "    }\n",
       "\n",
       "    .dataframe thead th {\n",
       "        text-align: right;\n",
       "    }\n",
       "</style>\n",
       "<table border=\"1\" class=\"dataframe\">\n",
       "  <thead>\n",
       "    <tr style=\"text-align: right;\">\n",
       "      <th>State</th>\n",
       "      <th>Andhra Pradesh</th>\n",
       "      <th>Arunachal Pradesh</th>\n",
       "      <th>Assam</th>\n",
       "      <th>Chhattisgarh</th>\n",
       "      <th>Goa</th>\n",
       "      <th>Gujarat</th>\n",
       "      <th>Haryana</th>\n",
       "      <th>Jharkhand</th>\n",
       "      <th>Karnataka</th>\n",
       "      <th>Kerala</th>\n",
       "      <th>Madhya Pradesh</th>\n",
       "      <th>Maharashtra</th>\n",
       "      <th>Manipur</th>\n",
       "      <th>Meghalaya</th>\n",
       "      <th>Mizoram</th>\n",
       "      <th>Nagaland</th>\n",
       "      <th>Odisha</th>\n",
       "      <th>Punjab</th>\n",
       "      <th>Rajasthan</th>\n",
       "      <th>Tamil Nadu</th>\n",
       "    </tr>\n",
       "    <tr>\n",
       "      <th>Product</th>\n",
       "      <th></th>\n",
       "      <th></th>\n",
       "      <th></th>\n",
       "      <th></th>\n",
       "      <th></th>\n",
       "      <th></th>\n",
       "      <th></th>\n",
       "      <th></th>\n",
       "      <th></th>\n",
       "      <th></th>\n",
       "      <th></th>\n",
       "      <th></th>\n",
       "      <th></th>\n",
       "      <th></th>\n",
       "      <th></th>\n",
       "      <th></th>\n",
       "      <th></th>\n",
       "      <th></th>\n",
       "      <th></th>\n",
       "      <th></th>\n",
       "    </tr>\n",
       "  </thead>\n",
       "  <tbody>\n",
       "    <tr>\n",
       "      <th>Amaretto</th>\n",
       "      <td>4</td>\n",
       "      <td>0</td>\n",
       "      <td>1</td>\n",
       "      <td>5</td>\n",
       "      <td>0</td>\n",
       "      <td>0</td>\n",
       "      <td>0</td>\n",
       "      <td>0</td>\n",
       "      <td>0</td>\n",
       "      <td>0</td>\n",
       "      <td>0</td>\n",
       "      <td>15</td>\n",
       "      <td>10</td>\n",
       "      <td>0</td>\n",
       "      <td>3</td>\n",
       "      <td>0</td>\n",
       "      <td>2</td>\n",
       "      <td>0</td>\n",
       "      <td>5</td>\n",
       "      <td>0</td>\n",
       "    </tr>\n",
       "    <tr>\n",
       "      <th>Caffe Latte</th>\n",
       "      <td>0</td>\n",
       "      <td>0</td>\n",
       "      <td>0</td>\n",
       "      <td>0</td>\n",
       "      <td>16</td>\n",
       "      <td>0</td>\n",
       "      <td>0</td>\n",
       "      <td>2</td>\n",
       "      <td>0</td>\n",
       "      <td>5</td>\n",
       "      <td>0</td>\n",
       "      <td>19</td>\n",
       "      <td>0</td>\n",
       "      <td>3</td>\n",
       "      <td>3</td>\n",
       "      <td>1</td>\n",
       "      <td>2</td>\n",
       "      <td>5</td>\n",
       "      <td>0</td>\n",
       "      <td>0</td>\n",
       "    </tr>\n",
       "    <tr>\n",
       "      <th>Caffe Mocha</th>\n",
       "      <td>4</td>\n",
       "      <td>4</td>\n",
       "      <td>1</td>\n",
       "      <td>5</td>\n",
       "      <td>17</td>\n",
       "      <td>9</td>\n",
       "      <td>5</td>\n",
       "      <td>2</td>\n",
       "      <td>12</td>\n",
       "      <td>5</td>\n",
       "      <td>10</td>\n",
       "      <td>13</td>\n",
       "      <td>9</td>\n",
       "      <td>3</td>\n",
       "      <td>3</td>\n",
       "      <td>1</td>\n",
       "      <td>2</td>\n",
       "      <td>5</td>\n",
       "      <td>5</td>\n",
       "      <td>9</td>\n",
       "    </tr>\n",
       "    <tr>\n",
       "      <th>Chamomile</th>\n",
       "      <td>4</td>\n",
       "      <td>0</td>\n",
       "      <td>0</td>\n",
       "      <td>5</td>\n",
       "      <td>15</td>\n",
       "      <td>0</td>\n",
       "      <td>6</td>\n",
       "      <td>2</td>\n",
       "      <td>15</td>\n",
       "      <td>5</td>\n",
       "      <td>0</td>\n",
       "      <td>16</td>\n",
       "      <td>10</td>\n",
       "      <td>3</td>\n",
       "      <td>3</td>\n",
       "      <td>1</td>\n",
       "      <td>2</td>\n",
       "      <td>5</td>\n",
       "      <td>5</td>\n",
       "      <td>9</td>\n",
       "    </tr>\n",
       "    <tr>\n",
       "      <th>Colombian</th>\n",
       "      <td>4</td>\n",
       "      <td>4</td>\n",
       "      <td>1</td>\n",
       "      <td>5</td>\n",
       "      <td>17</td>\n",
       "      <td>8</td>\n",
       "      <td>6</td>\n",
       "      <td>2</td>\n",
       "      <td>12</td>\n",
       "      <td>5</td>\n",
       "      <td>13</td>\n",
       "      <td>14</td>\n",
       "      <td>7</td>\n",
       "      <td>3</td>\n",
       "      <td>3</td>\n",
       "      <td>1</td>\n",
       "      <td>2</td>\n",
       "      <td>5</td>\n",
       "      <td>5</td>\n",
       "      <td>9</td>\n",
       "    </tr>\n",
       "    <tr>\n",
       "      <th>Darjeeling</th>\n",
       "      <td>4</td>\n",
       "      <td>4</td>\n",
       "      <td>1</td>\n",
       "      <td>5</td>\n",
       "      <td>0</td>\n",
       "      <td>9</td>\n",
       "      <td>5</td>\n",
       "      <td>2</td>\n",
       "      <td>14</td>\n",
       "      <td>0</td>\n",
       "      <td>13</td>\n",
       "      <td>15</td>\n",
       "      <td>9</td>\n",
       "      <td>0</td>\n",
       "      <td>3</td>\n",
       "      <td>0</td>\n",
       "      <td>2</td>\n",
       "      <td>5</td>\n",
       "      <td>5</td>\n",
       "      <td>8</td>\n",
       "    </tr>\n",
       "    <tr>\n",
       "      <th>Decaf Espresso</th>\n",
       "      <td>4</td>\n",
       "      <td>4</td>\n",
       "      <td>0</td>\n",
       "      <td>5</td>\n",
       "      <td>15</td>\n",
       "      <td>0</td>\n",
       "      <td>6</td>\n",
       "      <td>2</td>\n",
       "      <td>15</td>\n",
       "      <td>5</td>\n",
       "      <td>0</td>\n",
       "      <td>16</td>\n",
       "      <td>9</td>\n",
       "      <td>3</td>\n",
       "      <td>3</td>\n",
       "      <td>1</td>\n",
       "      <td>2</td>\n",
       "      <td>5</td>\n",
       "      <td>5</td>\n",
       "      <td>7</td>\n",
       "    </tr>\n",
       "    <tr>\n",
       "      <th>Decaf Irish Cream</th>\n",
       "      <td>4</td>\n",
       "      <td>0</td>\n",
       "      <td>0</td>\n",
       "      <td>5</td>\n",
       "      <td>14</td>\n",
       "      <td>0</td>\n",
       "      <td>6</td>\n",
       "      <td>2</td>\n",
       "      <td>13</td>\n",
       "      <td>5</td>\n",
       "      <td>0</td>\n",
       "      <td>13</td>\n",
       "      <td>9</td>\n",
       "      <td>3</td>\n",
       "      <td>3</td>\n",
       "      <td>1</td>\n",
       "      <td>2</td>\n",
       "      <td>5</td>\n",
       "      <td>4</td>\n",
       "      <td>9</td>\n",
       "    </tr>\n",
       "    <tr>\n",
       "      <th>Earl Grey</th>\n",
       "      <td>4</td>\n",
       "      <td>0</td>\n",
       "      <td>0</td>\n",
       "      <td>5</td>\n",
       "      <td>0</td>\n",
       "      <td>0</td>\n",
       "      <td>6</td>\n",
       "      <td>2</td>\n",
       "      <td>0</td>\n",
       "      <td>0</td>\n",
       "      <td>10</td>\n",
       "      <td>17</td>\n",
       "      <td>9</td>\n",
       "      <td>0</td>\n",
       "      <td>3</td>\n",
       "      <td>0</td>\n",
       "      <td>2</td>\n",
       "      <td>5</td>\n",
       "      <td>5</td>\n",
       "      <td>8</td>\n",
       "    </tr>\n",
       "    <tr>\n",
       "      <th>Green Tea</th>\n",
       "      <td>4</td>\n",
       "      <td>4</td>\n",
       "      <td>1</td>\n",
       "      <td>0</td>\n",
       "      <td>0</td>\n",
       "      <td>9</td>\n",
       "      <td>6</td>\n",
       "      <td>2</td>\n",
       "      <td>12</td>\n",
       "      <td>0</td>\n",
       "      <td>12</td>\n",
       "      <td>14</td>\n",
       "      <td>0</td>\n",
       "      <td>0</td>\n",
       "      <td>3</td>\n",
       "      <td>0</td>\n",
       "      <td>2</td>\n",
       "      <td>5</td>\n",
       "      <td>0</td>\n",
       "      <td>0</td>\n",
       "    </tr>\n",
       "    <tr>\n",
       "      <th>Lemon</th>\n",
       "      <td>4</td>\n",
       "      <td>4</td>\n",
       "      <td>1</td>\n",
       "      <td>5</td>\n",
       "      <td>15</td>\n",
       "      <td>8</td>\n",
       "      <td>6</td>\n",
       "      <td>2</td>\n",
       "      <td>12</td>\n",
       "      <td>5</td>\n",
       "      <td>12</td>\n",
       "      <td>17</td>\n",
       "      <td>8</td>\n",
       "      <td>3</td>\n",
       "      <td>3</td>\n",
       "      <td>1</td>\n",
       "      <td>2</td>\n",
       "      <td>5</td>\n",
       "      <td>5</td>\n",
       "      <td>7</td>\n",
       "    </tr>\n",
       "    <tr>\n",
       "      <th>Mint</th>\n",
       "      <td>4</td>\n",
       "      <td>4</td>\n",
       "      <td>0</td>\n",
       "      <td>0</td>\n",
       "      <td>0</td>\n",
       "      <td>0</td>\n",
       "      <td>0</td>\n",
       "      <td>2</td>\n",
       "      <td>14</td>\n",
       "      <td>0</td>\n",
       "      <td>11</td>\n",
       "      <td>15</td>\n",
       "      <td>0</td>\n",
       "      <td>0</td>\n",
       "      <td>0</td>\n",
       "      <td>0</td>\n",
       "      <td>2</td>\n",
       "      <td>0</td>\n",
       "      <td>0</td>\n",
       "      <td>9</td>\n",
       "    </tr>\n",
       "    <tr>\n",
       "      <th>Regular Espresso</th>\n",
       "      <td>0</td>\n",
       "      <td>0</td>\n",
       "      <td>1</td>\n",
       "      <td>0</td>\n",
       "      <td>0</td>\n",
       "      <td>9</td>\n",
       "      <td>0</td>\n",
       "      <td>0</td>\n",
       "      <td>0</td>\n",
       "      <td>0</td>\n",
       "      <td>11</td>\n",
       "      <td>0</td>\n",
       "      <td>0</td>\n",
       "      <td>0</td>\n",
       "      <td>0</td>\n",
       "      <td>0</td>\n",
       "      <td>0</td>\n",
       "      <td>0</td>\n",
       "      <td>0</td>\n",
       "      <td>0</td>\n",
       "    </tr>\n",
       "  </tbody>\n",
       "</table>\n",
       "</div>"
      ],
      "text/plain": [
       "State              Andhra Pradesh  Arunachal Pradesh  Assam  Chhattisgarh  \\\n",
       "Product                                                                     \n",
       "Amaretto                        4                  0      1             5   \n",
       "Caffe Latte                     0                  0      0             0   \n",
       "Caffe Mocha                     4                  4      1             5   \n",
       "Chamomile                       4                  0      0             5   \n",
       "Colombian                       4                  4      1             5   \n",
       "Darjeeling                      4                  4      1             5   \n",
       "Decaf Espresso                  4                  4      0             5   \n",
       "Decaf Irish Cream               4                  0      0             5   \n",
       "Earl Grey                       4                  0      0             5   \n",
       "Green Tea                       4                  4      1             0   \n",
       "Lemon                           4                  4      1             5   \n",
       "Mint                            4                  4      0             0   \n",
       "Regular Espresso                0                  0      1             0   \n",
       "\n",
       "State              Goa  Gujarat  Haryana  Jharkhand  Karnataka  Kerala  \\\n",
       "Product                                                                  \n",
       "Amaretto             0        0        0          0          0       0   \n",
       "Caffe Latte         16        0        0          2          0       5   \n",
       "Caffe Mocha         17        9        5          2         12       5   \n",
       "Chamomile           15        0        6          2         15       5   \n",
       "Colombian           17        8        6          2         12       5   \n",
       "Darjeeling           0        9        5          2         14       0   \n",
       "Decaf Espresso      15        0        6          2         15       5   \n",
       "Decaf Irish Cream   14        0        6          2         13       5   \n",
       "Earl Grey            0        0        6          2          0       0   \n",
       "Green Tea            0        9        6          2         12       0   \n",
       "Lemon               15        8        6          2         12       5   \n",
       "Mint                 0        0        0          2         14       0   \n",
       "Regular Espresso     0        9        0          0          0       0   \n",
       "\n",
       "State              Madhya Pradesh  Maharashtra  Manipur  Meghalaya  Mizoram  \\\n",
       "Product                                                                       \n",
       "Amaretto                        0           15       10          0        3   \n",
       "Caffe Latte                     0           19        0          3        3   \n",
       "Caffe Mocha                    10           13        9          3        3   \n",
       "Chamomile                       0           16       10          3        3   \n",
       "Colombian                      13           14        7          3        3   \n",
       "Darjeeling                     13           15        9          0        3   \n",
       "Decaf Espresso                  0           16        9          3        3   \n",
       "Decaf Irish Cream               0           13        9          3        3   \n",
       "Earl Grey                      10           17        9          0        3   \n",
       "Green Tea                      12           14        0          0        3   \n",
       "Lemon                          12           17        8          3        3   \n",
       "Mint                           11           15        0          0        0   \n",
       "Regular Espresso               11            0        0          0        0   \n",
       "\n",
       "State              Nagaland  Odisha  Punjab  Rajasthan  Tamil Nadu  \n",
       "Product                                                             \n",
       "Amaretto                  0       2       0          5           0  \n",
       "Caffe Latte               1       2       5          0           0  \n",
       "Caffe Mocha               1       2       5          5           9  \n",
       "Chamomile                 1       2       5          5           9  \n",
       "Colombian                 1       2       5          5           9  \n",
       "Darjeeling                0       2       5          5           8  \n",
       "Decaf Espresso            1       2       5          5           7  \n",
       "Decaf Irish Cream         1       2       5          4           9  \n",
       "Earl Grey                 0       2       5          5           8  \n",
       "Green Tea                 0       2       5          0           0  \n",
       "Lemon                     1       2       5          5           7  \n",
       "Mint                      0       2       0          0           9  \n",
       "Regular Espresso          0       0       0          0           0  "
      ]
     },
     "execution_count": 60,
     "metadata": {},
     "output_type": "execute_result"
    }
   ],
   "source": [
    "df.pivot_table(index=\"Product\", columns=\"State\", values=\"Franchise\", aggfunc=\"nunique\", fill_value=0)"
   ]
  },
  {
   "cell_type": "markdown",
   "metadata": {},
   "source": [
    "#### Working with date column"
   ]
  },
  {
   "cell_type": "markdown",
   "metadata": {},
   "source": [
    "###### Ex. Convert date column to date type"
   ]
  },
  {
   "cell_type": "code",
   "execution_count": 71,
   "metadata": {},
   "outputs": [
    {
     "data": {
      "text/html": [
       "<div>\n",
       "<style scoped>\n",
       "    .dataframe tbody tr th:only-of-type {\n",
       "        vertical-align: middle;\n",
       "    }\n",
       "\n",
       "    .dataframe tbody tr th {\n",
       "        vertical-align: top;\n",
       "    }\n",
       "\n",
       "    .dataframe thead th {\n",
       "        text-align: right;\n",
       "    }\n",
       "</style>\n",
       "<table border=\"1\" class=\"dataframe\">\n",
       "  <thead>\n",
       "    <tr style=\"text-align: right;\">\n",
       "      <th></th>\n",
       "      <th>Franchise</th>\n",
       "      <th>Date</th>\n",
       "      <th>Year</th>\n",
       "      <th>Product</th>\n",
       "      <th>Product Type</th>\n",
       "      <th>State</th>\n",
       "      <th>Target Profit</th>\n",
       "      <th>Target Sales</th>\n",
       "      <th>Profit</th>\n",
       "      <th>Sales</th>\n",
       "      <th>Sales after Tax</th>\n",
       "      <th>Sales Target Status</th>\n",
       "    </tr>\n",
       "  </thead>\n",
       "  <tbody>\n",
       "    <tr>\n",
       "      <th>0</th>\n",
       "      <td>970</td>\n",
       "      <td>2018-01-01</td>\n",
       "      <td>2018</td>\n",
       "      <td>Decaf Irish Cream</td>\n",
       "      <td>Coffee</td>\n",
       "      <td>Andhra Pradesh</td>\n",
       "      <td>110.0</td>\n",
       "      <td>240.0</td>\n",
       "      <td>101.0</td>\n",
       "      <td>234.0</td>\n",
       "      <td>250.38</td>\n",
       "      <td>Not Achieved</td>\n",
       "    </tr>\n",
       "    <tr>\n",
       "      <th>1</th>\n",
       "      <td>309</td>\n",
       "      <td>2018-01-01</td>\n",
       "      <td>2018</td>\n",
       "      <td>Decaf Irish Cream</td>\n",
       "      <td>Coffee</td>\n",
       "      <td>Tamil Nadu</td>\n",
       "      <td>100.0</td>\n",
       "      <td>240.0</td>\n",
       "      <td>87.0</td>\n",
       "      <td>234.0</td>\n",
       "      <td>250.38</td>\n",
       "      <td>Not Achieved</td>\n",
       "    </tr>\n",
       "    <tr>\n",
       "      <th>2</th>\n",
       "      <td>614</td>\n",
       "      <td>2018-01-01</td>\n",
       "      <td>2018</td>\n",
       "      <td>Decaf Irish Cream</td>\n",
       "      <td>Coffee</td>\n",
       "      <td>Manipur</td>\n",
       "      <td>20.0</td>\n",
       "      <td>150.0</td>\n",
       "      <td>0.0</td>\n",
       "      <td>150.0</td>\n",
       "      <td>160.50</td>\n",
       "      <td>Achieved</td>\n",
       "    </tr>\n",
       "    <tr>\n",
       "      <th>3</th>\n",
       "      <td>720</td>\n",
       "      <td>2018-01-01</td>\n",
       "      <td>2018</td>\n",
       "      <td>Decaf Espresso</td>\n",
       "      <td>Espresso</td>\n",
       "      <td>Andhra Pradesh</td>\n",
       "      <td>80.0</td>\n",
       "      <td>210.0</td>\n",
       "      <td>53.0</td>\n",
       "      <td>180.0</td>\n",
       "      <td>192.60</td>\n",
       "      <td>Not Achieved</td>\n",
       "    </tr>\n",
       "    <tr>\n",
       "      <th>4</th>\n",
       "      <td>630</td>\n",
       "      <td>2018-01-01</td>\n",
       "      <td>2018</td>\n",
       "      <td>Decaf Espresso</td>\n",
       "      <td>Espresso</td>\n",
       "      <td>Tamil Nadu</td>\n",
       "      <td>180.0</td>\n",
       "      <td>530.0</td>\n",
       "      <td>140.0</td>\n",
       "      <td>456.0</td>\n",
       "      <td>487.92</td>\n",
       "      <td>Not Achieved</td>\n",
       "    </tr>\n",
       "  </tbody>\n",
       "</table>\n",
       "</div>"
      ],
      "text/plain": [
       "   Franchise       Date  Year            Product Product Type           State  \\\n",
       "0        970 2018-01-01  2018  Decaf Irish Cream       Coffee  Andhra Pradesh   \n",
       "1        309 2018-01-01  2018  Decaf Irish Cream       Coffee      Tamil Nadu   \n",
       "2        614 2018-01-01  2018  Decaf Irish Cream       Coffee         Manipur   \n",
       "3        720 2018-01-01  2018     Decaf Espresso     Espresso  Andhra Pradesh   \n",
       "4        630 2018-01-01  2018     Decaf Espresso     Espresso      Tamil Nadu   \n",
       "\n",
       "   Target Profit  Target Sales  Profit  Sales  Sales after Tax  \\\n",
       "0          110.0         240.0   101.0  234.0           250.38   \n",
       "1          100.0         240.0    87.0  234.0           250.38   \n",
       "2           20.0         150.0     0.0  150.0           160.50   \n",
       "3           80.0         210.0    53.0  180.0           192.60   \n",
       "4          180.0         530.0   140.0  456.0           487.92   \n",
       "\n",
       "  Sales Target Status  \n",
       "0        Not Achieved  \n",
       "1        Not Achieved  \n",
       "2            Achieved  \n",
       "3        Not Achieved  \n",
       "4        Not Achieved  "
      ]
     },
     "execution_count": 71,
     "metadata": {},
     "output_type": "execute_result"
    }
   ],
   "source": [
    "df[\"Date\"] = pd.to_datetime(df[\"Date\"])\n",
    "df.insert(2, \"Year\", df.Date.dt.year)\n",
    "df.head()"
   ]
  },
  {
   "cell_type": "code",
   "execution_count": 72,
   "metadata": {},
   "outputs": [
    {
     "data": {
      "text/html": [
       "<div>\n",
       "<style scoped>\n",
       "    .dataframe tbody tr th:only-of-type {\n",
       "        vertical-align: middle;\n",
       "    }\n",
       "\n",
       "    .dataframe tbody tr th {\n",
       "        vertical-align: top;\n",
       "    }\n",
       "\n",
       "    .dataframe thead th {\n",
       "        text-align: right;\n",
       "    }\n",
       "</style>\n",
       "<table border=\"1\" class=\"dataframe\">\n",
       "  <thead>\n",
       "    <tr style=\"text-align: right;\">\n",
       "      <th></th>\n",
       "      <th>Franchise</th>\n",
       "      <th>Date</th>\n",
       "      <th>Year</th>\n",
       "      <th>Month#</th>\n",
       "      <th>Month</th>\n",
       "      <th>Product</th>\n",
       "      <th>Product Type</th>\n",
       "      <th>State</th>\n",
       "      <th>Target Profit</th>\n",
       "      <th>Target Sales</th>\n",
       "      <th>Profit</th>\n",
       "      <th>Sales</th>\n",
       "      <th>Sales after Tax</th>\n",
       "      <th>Sales Target Status</th>\n",
       "    </tr>\n",
       "  </thead>\n",
       "  <tbody>\n",
       "    <tr>\n",
       "      <th>0</th>\n",
       "      <td>970</td>\n",
       "      <td>2018-01-01</td>\n",
       "      <td>2018</td>\n",
       "      <td>1</td>\n",
       "      <td>January</td>\n",
       "      <td>Decaf Irish Cream</td>\n",
       "      <td>Coffee</td>\n",
       "      <td>Andhra Pradesh</td>\n",
       "      <td>110.0</td>\n",
       "      <td>240.0</td>\n",
       "      <td>101.0</td>\n",
       "      <td>234.0</td>\n",
       "      <td>250.38</td>\n",
       "      <td>Not Achieved</td>\n",
       "    </tr>\n",
       "    <tr>\n",
       "      <th>1</th>\n",
       "      <td>309</td>\n",
       "      <td>2018-01-01</td>\n",
       "      <td>2018</td>\n",
       "      <td>1</td>\n",
       "      <td>January</td>\n",
       "      <td>Decaf Irish Cream</td>\n",
       "      <td>Coffee</td>\n",
       "      <td>Tamil Nadu</td>\n",
       "      <td>100.0</td>\n",
       "      <td>240.0</td>\n",
       "      <td>87.0</td>\n",
       "      <td>234.0</td>\n",
       "      <td>250.38</td>\n",
       "      <td>Not Achieved</td>\n",
       "    </tr>\n",
       "    <tr>\n",
       "      <th>2</th>\n",
       "      <td>614</td>\n",
       "      <td>2018-01-01</td>\n",
       "      <td>2018</td>\n",
       "      <td>1</td>\n",
       "      <td>January</td>\n",
       "      <td>Decaf Irish Cream</td>\n",
       "      <td>Coffee</td>\n",
       "      <td>Manipur</td>\n",
       "      <td>20.0</td>\n",
       "      <td>150.0</td>\n",
       "      <td>0.0</td>\n",
       "      <td>150.0</td>\n",
       "      <td>160.50</td>\n",
       "      <td>Achieved</td>\n",
       "    </tr>\n",
       "    <tr>\n",
       "      <th>3</th>\n",
       "      <td>720</td>\n",
       "      <td>2018-01-01</td>\n",
       "      <td>2018</td>\n",
       "      <td>1</td>\n",
       "      <td>January</td>\n",
       "      <td>Decaf Espresso</td>\n",
       "      <td>Espresso</td>\n",
       "      <td>Andhra Pradesh</td>\n",
       "      <td>80.0</td>\n",
       "      <td>210.0</td>\n",
       "      <td>53.0</td>\n",
       "      <td>180.0</td>\n",
       "      <td>192.60</td>\n",
       "      <td>Not Achieved</td>\n",
       "    </tr>\n",
       "    <tr>\n",
       "      <th>4</th>\n",
       "      <td>630</td>\n",
       "      <td>2018-01-01</td>\n",
       "      <td>2018</td>\n",
       "      <td>1</td>\n",
       "      <td>January</td>\n",
       "      <td>Decaf Espresso</td>\n",
       "      <td>Espresso</td>\n",
       "      <td>Tamil Nadu</td>\n",
       "      <td>180.0</td>\n",
       "      <td>530.0</td>\n",
       "      <td>140.0</td>\n",
       "      <td>456.0</td>\n",
       "      <td>487.92</td>\n",
       "      <td>Not Achieved</td>\n",
       "    </tr>\n",
       "  </tbody>\n",
       "</table>\n",
       "</div>"
      ],
      "text/plain": [
       "   Franchise       Date  Year  Month#    Month            Product  \\\n",
       "0        970 2018-01-01  2018       1  January  Decaf Irish Cream   \n",
       "1        309 2018-01-01  2018       1  January  Decaf Irish Cream   \n",
       "2        614 2018-01-01  2018       1  January  Decaf Irish Cream   \n",
       "3        720 2018-01-01  2018       1  January     Decaf Espresso   \n",
       "4        630 2018-01-01  2018       1  January     Decaf Espresso   \n",
       "\n",
       "  Product Type           State  Target Profit  Target Sales  Profit  Sales  \\\n",
       "0       Coffee  Andhra Pradesh          110.0         240.0   101.0  234.0   \n",
       "1       Coffee      Tamil Nadu          100.0         240.0    87.0  234.0   \n",
       "2       Coffee         Manipur           20.0         150.0     0.0  150.0   \n",
       "3     Espresso  Andhra Pradesh           80.0         210.0    53.0  180.0   \n",
       "4     Espresso      Tamil Nadu          180.0         530.0   140.0  456.0   \n",
       "\n",
       "   Sales after Tax Sales Target Status  \n",
       "0           250.38        Not Achieved  \n",
       "1           250.38        Not Achieved  \n",
       "2           160.50            Achieved  \n",
       "3           192.60        Not Achieved  \n",
       "4           487.92        Not Achieved  "
      ]
     },
     "execution_count": 72,
     "metadata": {},
     "output_type": "execute_result"
    }
   ],
   "source": [
    "df.insert(3, \"Month#\", df.Date.dt.month)\n",
    "df.insert(4, \"Month\", df.Date.dt.month_name())\n",
    "df.head()"
   ]
  },
  {
   "cell_type": "markdown",
   "metadata": {},
   "source": [
    "###### Ex. Create a table representing total sales over years and month"
   ]
  },
  {
   "cell_type": "code",
   "execution_count": 76,
   "metadata": {},
   "outputs": [
    {
     "data": {
      "image/png": "[encoded data removed]",
      "text/plain": [
       "<Figure size 1200x200 with 1 Axes>"
      ]
     },
     "metadata": {},
     "output_type": "display_data"
    }
   ],
   "source": [
    "plt.figure(figsize=(12, 2))\n",
    "_ = df.groupby([\"Month#\", \"Month\"])[\"Sales\"].sum().plot()"
   ]
  },
  {
   "cell_type": "markdown",
   "metadata": {},
   "source": [
    "###### Ex. Create a line chart using seaborn visualising sales on months and years - Trend"
   ]
  },
  {
   "cell_type": "code",
   "execution_count": 68,
   "metadata": {},
   "outputs": [
    {
     "data": {
      "image/png": "[encoded data removed]",
      "text/plain": [
       "<Figure size 1200x200 with 1 Axes>"
      ]
     },
     "metadata": {},
     "output_type": "display_data"
    }
   ],
   "source": [
    "plt.figure(figsize=(12, 2))\n",
    "_ = sns.lineplot(data = df, x = \"Date\", y = \"Sales\", errorbar=None, estimator=sum)"
   ]
  },
  {
   "cell_type": "markdown",
   "metadata": {},
   "source": [
    "###### Ex. Create a line chart using seaborn visualising sales agg on months - Sesonality"
   ]
  },
  {
   "cell_type": "code",
   "execution_count": 78,
   "metadata": {},
   "outputs": [
    {
     "data": {
      "image/png": "[encoded data removed]",
      "text/plain": [
       "<Figure size 1200x200 with 1 Axes>"
      ]
     },
     "metadata": {},
     "output_type": "display_data"
    }
   ],
   "source": [
    "plt.figure(figsize=(12, 2))\n",
    "_ = sns.lineplot(data = df, x = \"Month\", y = \"Sales\", estimator=sum, errorbar=None)"
   ]
  },
  {
   "cell_type": "markdown",
   "metadata": {},
   "source": [
    "###### Ex. Bar - chart"
   ]
  },
  {
   "cell_type": "code",
   "execution_count": 83,
   "metadata": {},
   "outputs": [
    {
     "data": {
      "image/png": "[encoded data removed]",
      "text/plain": [
       "<Figure size 1000x200 with 1 Axes>"
      ]
     },
     "metadata": {},
     "output_type": "display_data"
    }
   ],
   "source": [
    "plt.figure(figsize=(10, 2))\n",
    "_ = sns.barplot(data = df, x = \"Product\", y = \"Sales\", estimator=sum, errorbar=None)\n",
    "_ = plt.xticks(rotation = 20)"
   ]
  },
  {
   "cell_type": "code",
   "execution_count": 88,
   "metadata": {},
   "outputs": [
    {
     "data": {
      "text/plain": [
       "Month\n",
       "January      66871.0\n",
       "February     66284.0\n",
       "March        66600.0\n",
       "April        68055.0\n",
       "May          67086.0\n",
       "June         69932.0\n",
       "July         71991.0\n",
       "August       71736.0\n",
       "September    68361.0\n",
       "October      67836.0\n",
       "November     66106.0\n",
       "December     68953.0\n",
       "Name: Sales, dtype: float64"
      ]
     },
     "execution_count": 88,
     "metadata": {},
     "output_type": "execute_result"
    }
   ],
   "source": [
    "df.sort_values(\"Date\", inplace=True)\n",
    "df.groupby(\"Month\", sort=False)[\"Sales\"].sum()"
   ]
  },
  {
   "cell_type": "code",
   "execution_count": 95,
   "metadata": {},
   "outputs": [
    {
     "data": {
      "image/png": "[encoded data removed]",
      "text/plain": [
       "<Figure size 600x200 with 1 Axes>"
      ]
     },
     "metadata": {},
     "output_type": "display_data"
    }
   ],
   "source": [
    "_ = df.groupby(\"Product\")[\"Sales\"].sum().plot(kind = \"bar\", color = [\"red\", \"green\", \"teal\", \"blue\", \"orange\"])\n",
    "_ = plt.axhline(y = 40000, color = \"red\") # constant at y = 40000"
   ]
  },
  {
   "cell_type": "markdown",
   "metadata": {},
   "source": [
    "###### Ex. Switch the line to constant value = avg(sales)"
   ]
  },
  {
   "cell_type": "code",
   "execution_count": null,
   "metadata": {},
   "outputs": [],
   "source": []
  },
  {
   "cell_type": "markdown",
   "metadata": {},
   "source": [
    "###### Ex. Assign teal to bar with sales above average and orange to sales below average"
   ]
  },
  {
   "cell_type": "code",
   "execution_count": null,
   "metadata": {},
   "outputs": [],
   "source": []
  },
  {
   "cell_type": "code",
   "execution_count": null,
   "metadata": {},
   "outputs": [],
   "source": []
  },
  {
   "cell_type": "markdown",
   "metadata": {},
   "source": [
    "### Examples Based on Housing dataset"
   ]
  },
  {
   "cell_type": "markdown",
   "metadata": {},
   "source": [
    "###### Ex. Read and clean data from housing.csv file"
   ]
  },
  {
   "cell_type": "code",
   "execution_count": null,
   "metadata": {},
   "outputs": [],
   "source": []
  },
  {
   "cell_type": "markdown",
   "metadata": {},
   "source": [
    "#### Histogram"
   ]
  },
  {
   "cell_type": "code",
   "execution_count": null,
   "metadata": {},
   "outputs": [],
   "source": []
  },
  {
   "cell_type": "markdown",
   "metadata": {},
   "source": [
    "#### Boxplot"
   ]
  },
  {
   "cell_type": "code",
   "execution_count": null,
   "metadata": {},
   "outputs": [],
   "source": []
  },
  {
   "cell_type": "markdown",
   "metadata": {},
   "source": [
    "#### Correlation"
   ]
  },
  {
   "cell_type": "markdown",
   "metadata": {},
   "source": [
    "###### Ex. Heatmap - correlation - housing prices example"
   ]
  },
  {
   "cell_type": "code",
   "execution_count": null,
   "metadata": {},
   "outputs": [],
   "source": []
  }
 ],
 "metadata": {
  "colab": {
   "provenance": []
  },
  "kernelspec": {
   "display_name": "Python 3 (ipykernel)",
   "language": "python",
   "name": "python3"
  },
  "language_info": {
   "codemirror_mode": {
    "name": "ipython",
    "version": 3
   },
   "file_extension": ".py",
   "mimetype": "text/x-python",
   "name": "python",
   "nbconvert_exporter": "python",
   "pygments_lexer": "ipython3",
   "version": "3.12.0"
  }
 },
 "nbformat": 4,
 "nbformat_minor": 4
}
